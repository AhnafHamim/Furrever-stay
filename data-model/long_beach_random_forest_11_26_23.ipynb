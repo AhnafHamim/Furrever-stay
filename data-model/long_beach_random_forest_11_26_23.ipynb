{
 "cells": [
  {
   "cell_type": "code",
   "execution_count": 1,
   "metadata": {},
   "outputs": [],
   "source": [
    "# Import our libraries \n",
    "\n",
    "# Pandas and numpy for data wrangling\n",
    "import pandas as pd\n",
    "import numpy as np\n",
    "\n",
    "# Seaborn / matplotlib for visualization \n",
    "import seaborn as sns\n",
    "sns.set()\n",
    "\n",
    "import matplotlib.pyplot as plt\n",
    "%matplotlib inline\n",
    "\n",
    "# Helper function to split our data\n",
    "from sklearn.model_selection import train_test_split\n",
    "\n",
    "# Helper fuctions to evaluate our model.\n",
    "from sklearn.metrics import accuracy_score, precision_score, recall_score, confusion_matrix, classification_report, roc_auc_score, f1_score\n",
    "\n",
    "# Import our Decision Tree\n",
    "from sklearn.tree import DecisionTreeClassifier \n",
    "\n",
    "# Import our Random Forest \n",
    "from sklearn.ensemble import RandomForestClassifier\n",
    "\n",
    "# Import the trees from sklearn\n",
    "from sklearn import tree\n",
    "\n",
    "# Helper functions to visualize our trees\n",
    "from sklearn.tree import plot_tree, export_text\n",
    "\n",
    "#tree regression\n",
    "from sklearn.ensemble import RandomForestRegressor\n",
    "\n",
    "# imbalanced-learn library\n",
    "from imblearn.over_sampling import RandomOverSampler\n",
    "from imblearn.under_sampling import RandomUnderSampler"
   ]
  },
  {
   "cell_type": "code",
   "execution_count": 2,
   "metadata": {},
   "outputs": [
    {
     "data": {
      "text/html": [
       "<div>\n",
       "<style scoped>\n",
       "    .dataframe tbody tr th:only-of-type {\n",
       "        vertical-align: middle;\n",
       "    }\n",
       "\n",
       "    .dataframe tbody tr th {\n",
       "        vertical-align: top;\n",
       "    }\n",
       "\n",
       "    .dataframe thead th {\n",
       "        text-align: right;\n",
       "    }\n",
       "</style>\n",
       "<table border=\"1\" class=\"dataframe\">\n",
       "  <thead>\n",
       "    <tr style=\"text-align: right;\">\n",
       "      <th></th>\n",
       "      <th>simplified_color</th>\n",
       "      <th>simplified_sex</th>\n",
       "      <th>age</th>\n",
       "      <th>simplified_condition</th>\n",
       "      <th>simplified_type</th>\n",
       "      <th>days_stayed</th>\n",
       "      <th>simplified_color_encoded</th>\n",
       "      <th>simplified_sex_encoded</th>\n",
       "      <th>simplified_condition_encoded</th>\n",
       "      <th>simplified_type_encoded</th>\n",
       "    </tr>\n",
       "  </thead>\n",
       "  <tbody>\n",
       "    <tr>\n",
       "      <th>0</th>\n",
       "      <td>OTHER</td>\n",
       "      <td>MALE</td>\n",
       "      <td>13</td>\n",
       "      <td>NORMAL</td>\n",
       "      <td>STRAY</td>\n",
       "      <td>98</td>\n",
       "      <td>2</td>\n",
       "      <td>1</td>\n",
       "      <td>3</td>\n",
       "      <td>2</td>\n",
       "    </tr>\n",
       "    <tr>\n",
       "      <th>1</th>\n",
       "      <td>OTHER</td>\n",
       "      <td>FEMALE</td>\n",
       "      <td>13</td>\n",
       "      <td>NORMAL</td>\n",
       "      <td>OWNER SURRENDER</td>\n",
       "      <td>94</td>\n",
       "      <td>2</td>\n",
       "      <td>0</td>\n",
       "      <td>3</td>\n",
       "      <td>1</td>\n",
       "    </tr>\n",
       "    <tr>\n",
       "      <th>2</th>\n",
       "      <td>OTHER</td>\n",
       "      <td>FEMALE</td>\n",
       "      <td>11</td>\n",
       "      <td>NORMAL</td>\n",
       "      <td>OWNER SURRENDER</td>\n",
       "      <td>17</td>\n",
       "      <td>2</td>\n",
       "      <td>0</td>\n",
       "      <td>3</td>\n",
       "      <td>1</td>\n",
       "    </tr>\n",
       "    <tr>\n",
       "      <th>3</th>\n",
       "      <td>BLACK</td>\n",
       "      <td>FEMALE</td>\n",
       "      <td>10</td>\n",
       "      <td>OTHER</td>\n",
       "      <td>OWNER SURRENDER</td>\n",
       "      <td>32</td>\n",
       "      <td>0</td>\n",
       "      <td>0</td>\n",
       "      <td>4</td>\n",
       "      <td>1</td>\n",
       "    </tr>\n",
       "    <tr>\n",
       "      <th>4</th>\n",
       "      <td>OTHER</td>\n",
       "      <td>MALE</td>\n",
       "      <td>9</td>\n",
       "      <td>NORMAL</td>\n",
       "      <td>OWNER SURRENDER</td>\n",
       "      <td>48</td>\n",
       "      <td>2</td>\n",
       "      <td>1</td>\n",
       "      <td>3</td>\n",
       "      <td>1</td>\n",
       "    </tr>\n",
       "  </tbody>\n",
       "</table>\n",
       "</div>"
      ],
      "text/plain": [
       "  simplified_color simplified_sex  age simplified_condition  simplified_type  \\\n",
       "0            OTHER           MALE   13               NORMAL            STRAY   \n",
       "1            OTHER         FEMALE   13               NORMAL  OWNER SURRENDER   \n",
       "2            OTHER         FEMALE   11               NORMAL  OWNER SURRENDER   \n",
       "3            BLACK         FEMALE   10                OTHER  OWNER SURRENDER   \n",
       "4            OTHER           MALE    9               NORMAL  OWNER SURRENDER   \n",
       "\n",
       "   days_stayed  simplified_color_encoded  simplified_sex_encoded  \\\n",
       "0           98                         2                       1   \n",
       "1           94                         2                       0   \n",
       "2           17                         2                       0   \n",
       "3           32                         0                       0   \n",
       "4           48                         2                       1   \n",
       "\n",
       "   simplified_condition_encoded  simplified_type_encoded  \n",
       "0                             3                        2  \n",
       "1                             3                        1  \n",
       "2                             3                        1  \n",
       "3                             4                        1  \n",
       "4                             3                        1  "
      ]
     },
     "execution_count": 2,
     "metadata": {},
     "output_type": "execute_result"
    }
   ],
   "source": [
    "df = pd.read_csv('../dataset/long_beach_level_encoded_numeric_value_nov_26.csv')\n",
    "df.head()"
   ]
  },
  {
   "cell_type": "markdown",
   "metadata": {},
   "source": [
    "## We are predicting if a cat will stay more than a month in the shelter (yes = 1, no =0) ☟"
   ]
  },
  {
   "cell_type": "code",
   "execution_count": 3,
   "metadata": {
    "scrolled": true
   },
   "outputs": [
    {
     "data": {
      "text/plain": [
       "1468"
      ]
     },
     "execution_count": 3,
     "metadata": {},
     "output_type": "execute_result"
    }
   ],
   "source": [
    "(df['days_stayed']>30).sum()"
   ]
  },
  {
   "cell_type": "code",
   "execution_count": 4,
   "metadata": {},
   "outputs": [
    {
     "data": {
      "text/plain": [
       "1264"
      ]
     },
     "execution_count": 4,
     "metadata": {},
     "output_type": "execute_result"
    }
   ],
   "source": [
    "(df['days_stayed']<30).sum()"
   ]
  },
  {
   "cell_type": "code",
   "execution_count": 5,
   "metadata": {},
   "outputs": [
    {
     "data": {
      "text/html": [
       "<div>\n",
       "<style scoped>\n",
       "    .dataframe tbody tr th:only-of-type {\n",
       "        vertical-align: middle;\n",
       "    }\n",
       "\n",
       "    .dataframe tbody tr th {\n",
       "        vertical-align: top;\n",
       "    }\n",
       "\n",
       "    .dataframe thead th {\n",
       "        text-align: right;\n",
       "    }\n",
       "</style>\n",
       "<table border=\"1\" class=\"dataframe\">\n",
       "  <thead>\n",
       "    <tr style=\"text-align: right;\">\n",
       "      <th></th>\n",
       "      <th>simplified_color</th>\n",
       "      <th>simplified_sex</th>\n",
       "      <th>age</th>\n",
       "      <th>simplified_condition</th>\n",
       "      <th>simplified_type</th>\n",
       "      <th>days_stayed</th>\n",
       "      <th>simplified_color_encoded</th>\n",
       "      <th>simplified_sex_encoded</th>\n",
       "      <th>simplified_condition_encoded</th>\n",
       "      <th>simplified_type_encoded</th>\n",
       "      <th>stay</th>\n",
       "    </tr>\n",
       "  </thead>\n",
       "  <tbody>\n",
       "    <tr>\n",
       "      <th>2761</th>\n",
       "      <td>OTHER</td>\n",
       "      <td>MALE</td>\n",
       "      <td>0</td>\n",
       "      <td>ILL MILD</td>\n",
       "      <td>STRAY</td>\n",
       "      <td>73</td>\n",
       "      <td>2</td>\n",
       "      <td>1</td>\n",
       "      <td>0</td>\n",
       "      <td>2</td>\n",
       "      <td>1</td>\n",
       "    </tr>\n",
       "    <tr>\n",
       "      <th>2762</th>\n",
       "      <td>TABBY</td>\n",
       "      <td>MALE</td>\n",
       "      <td>1</td>\n",
       "      <td>OTHER</td>\n",
       "      <td>STRAY</td>\n",
       "      <td>67</td>\n",
       "      <td>3</td>\n",
       "      <td>1</td>\n",
       "      <td>4</td>\n",
       "      <td>2</td>\n",
       "      <td>1</td>\n",
       "    </tr>\n",
       "    <tr>\n",
       "      <th>2763</th>\n",
       "      <td>TABBY</td>\n",
       "      <td>FEMALE</td>\n",
       "      <td>6</td>\n",
       "      <td>INJURED</td>\n",
       "      <td>STRAY</td>\n",
       "      <td>68</td>\n",
       "      <td>3</td>\n",
       "      <td>0</td>\n",
       "      <td>2</td>\n",
       "      <td>2</td>\n",
       "      <td>1</td>\n",
       "    </tr>\n",
       "    <tr>\n",
       "      <th>2764</th>\n",
       "      <td>OTHER</td>\n",
       "      <td>FEMALE</td>\n",
       "      <td>0</td>\n",
       "      <td>UNDER WEIGHT</td>\n",
       "      <td>STRAY</td>\n",
       "      <td>84</td>\n",
       "      <td>2</td>\n",
       "      <td>0</td>\n",
       "      <td>5</td>\n",
       "      <td>2</td>\n",
       "      <td>1</td>\n",
       "    </tr>\n",
       "    <tr>\n",
       "      <th>2765</th>\n",
       "      <td>BLACK</td>\n",
       "      <td>MALE</td>\n",
       "      <td>0</td>\n",
       "      <td>UNDER WEIGHT</td>\n",
       "      <td>STRAY</td>\n",
       "      <td>73</td>\n",
       "      <td>0</td>\n",
       "      <td>1</td>\n",
       "      <td>5</td>\n",
       "      <td>2</td>\n",
       "      <td>1</td>\n",
       "    </tr>\n",
       "  </tbody>\n",
       "</table>\n",
       "</div>"
      ],
      "text/plain": [
       "     simplified_color simplified_sex  age simplified_condition  \\\n",
       "2761            OTHER           MALE    0             ILL MILD   \n",
       "2762            TABBY           MALE    1                OTHER   \n",
       "2763            TABBY         FEMALE    6              INJURED   \n",
       "2764            OTHER         FEMALE    0         UNDER WEIGHT   \n",
       "2765            BLACK           MALE    0         UNDER WEIGHT   \n",
       "\n",
       "     simplified_type  days_stayed  simplified_color_encoded  \\\n",
       "2761           STRAY           73                         2   \n",
       "2762           STRAY           67                         3   \n",
       "2763           STRAY           68                         3   \n",
       "2764           STRAY           84                         2   \n",
       "2765           STRAY           73                         0   \n",
       "\n",
       "      simplified_sex_encoded  simplified_condition_encoded  \\\n",
       "2761                       1                             0   \n",
       "2762                       1                             4   \n",
       "2763                       0                             2   \n",
       "2764                       0                             5   \n",
       "2765                       1                             5   \n",
       "\n",
       "      simplified_type_encoded  stay  \n",
       "2761                        2     1  \n",
       "2762                        2     1  \n",
       "2763                        2     1  \n",
       "2764                        2     1  \n",
       "2765                        2     1  "
      ]
     },
     "execution_count": 5,
     "metadata": {},
     "output_type": "execute_result"
    }
   ],
   "source": [
    "# this part is to predict long or short stay (0,1)\n",
    "import pandas as pd\n",
    "\n",
    "def categorize_stay(days_stayed):\n",
    "    if days_stayed <= 30:\n",
    "        return 0\n",
    "    else:\n",
    "        return 1\n",
    "\n",
    "# Example usage:\n",
    "# Assuming df is your DataFrame and \"days_stayed\" is the column you want to categorize\n",
    "df['stay'] = df['days_stayed'].apply(categorize_stay)\n",
    "df.tail()"
   ]
  },
  {
   "cell_type": "code",
   "execution_count": 6,
   "metadata": {},
   "outputs": [
    {
     "data": {
      "text/html": [
       "<div>\n",
       "<style scoped>\n",
       "    .dataframe tbody tr th:only-of-type {\n",
       "        vertical-align: middle;\n",
       "    }\n",
       "\n",
       "    .dataframe tbody tr th {\n",
       "        vertical-align: top;\n",
       "    }\n",
       "\n",
       "    .dataframe thead th {\n",
       "        text-align: right;\n",
       "    }\n",
       "</style>\n",
       "<table border=\"1\" class=\"dataframe\">\n",
       "  <thead>\n",
       "    <tr style=\"text-align: right;\">\n",
       "      <th></th>\n",
       "      <th>simplified_color</th>\n",
       "      <th>simplified_sex</th>\n",
       "      <th>age</th>\n",
       "      <th>simplified_condition</th>\n",
       "      <th>simplified_type</th>\n",
       "      <th>days_stayed</th>\n",
       "      <th>simplified_color_encoded</th>\n",
       "      <th>simplified_sex_encoded</th>\n",
       "      <th>simplified_condition_encoded</th>\n",
       "      <th>simplified_type_encoded</th>\n",
       "      <th>stay</th>\n",
       "    </tr>\n",
       "  </thead>\n",
       "  <tbody>\n",
       "    <tr>\n",
       "      <th>0</th>\n",
       "      <td>OTHER</td>\n",
       "      <td>MALE</td>\n",
       "      <td>13</td>\n",
       "      <td>NORMAL</td>\n",
       "      <td>STRAY</td>\n",
       "      <td>98</td>\n",
       "      <td>2</td>\n",
       "      <td>1</td>\n",
       "      <td>3</td>\n",
       "      <td>2</td>\n",
       "      <td>1</td>\n",
       "    </tr>\n",
       "    <tr>\n",
       "      <th>1</th>\n",
       "      <td>OTHER</td>\n",
       "      <td>FEMALE</td>\n",
       "      <td>13</td>\n",
       "      <td>NORMAL</td>\n",
       "      <td>OWNER SURRENDER</td>\n",
       "      <td>94</td>\n",
       "      <td>2</td>\n",
       "      <td>0</td>\n",
       "      <td>3</td>\n",
       "      <td>1</td>\n",
       "      <td>1</td>\n",
       "    </tr>\n",
       "    <tr>\n",
       "      <th>2</th>\n",
       "      <td>OTHER</td>\n",
       "      <td>FEMALE</td>\n",
       "      <td>11</td>\n",
       "      <td>NORMAL</td>\n",
       "      <td>OWNER SURRENDER</td>\n",
       "      <td>17</td>\n",
       "      <td>2</td>\n",
       "      <td>0</td>\n",
       "      <td>3</td>\n",
       "      <td>1</td>\n",
       "      <td>0</td>\n",
       "    </tr>\n",
       "    <tr>\n",
       "      <th>3</th>\n",
       "      <td>BLACK</td>\n",
       "      <td>FEMALE</td>\n",
       "      <td>10</td>\n",
       "      <td>OTHER</td>\n",
       "      <td>OWNER SURRENDER</td>\n",
       "      <td>32</td>\n",
       "      <td>0</td>\n",
       "      <td>0</td>\n",
       "      <td>4</td>\n",
       "      <td>1</td>\n",
       "      <td>1</td>\n",
       "    </tr>\n",
       "    <tr>\n",
       "      <th>4</th>\n",
       "      <td>OTHER</td>\n",
       "      <td>MALE</td>\n",
       "      <td>9</td>\n",
       "      <td>NORMAL</td>\n",
       "      <td>OWNER SURRENDER</td>\n",
       "      <td>48</td>\n",
       "      <td>2</td>\n",
       "      <td>1</td>\n",
       "      <td>3</td>\n",
       "      <td>1</td>\n",
       "      <td>1</td>\n",
       "    </tr>\n",
       "  </tbody>\n",
       "</table>\n",
       "</div>"
      ],
      "text/plain": [
       "  simplified_color simplified_sex  age simplified_condition  simplified_type  \\\n",
       "0            OTHER           MALE   13               NORMAL            STRAY   \n",
       "1            OTHER         FEMALE   13               NORMAL  OWNER SURRENDER   \n",
       "2            OTHER         FEMALE   11               NORMAL  OWNER SURRENDER   \n",
       "3            BLACK         FEMALE   10                OTHER  OWNER SURRENDER   \n",
       "4            OTHER           MALE    9               NORMAL  OWNER SURRENDER   \n",
       "\n",
       "   days_stayed  simplified_color_encoded  simplified_sex_encoded  \\\n",
       "0           98                         2                       1   \n",
       "1           94                         2                       0   \n",
       "2           17                         2                       0   \n",
       "3           32                         0                       0   \n",
       "4           48                         2                       1   \n",
       "\n",
       "   simplified_condition_encoded  simplified_type_encoded  stay  \n",
       "0                             3                        2     1  \n",
       "1                             3                        1     1  \n",
       "2                             3                        1     0  \n",
       "3                             4                        1     1  \n",
       "4                             3                        1     1  "
      ]
     },
     "execution_count": 6,
     "metadata": {},
     "output_type": "execute_result"
    }
   ],
   "source": [
    "df.head()"
   ]
  },
  {
   "cell_type": "code",
   "execution_count": 7,
   "metadata": {},
   "outputs": [
    {
     "name": "stdout",
     "output_type": "stream",
     "text": [
      "Number of occurrences of 1: 1468\n",
      "Number of occurrences of 0: 1298\n"
     ]
    }
   ],
   "source": [
    "count_ones = df['stay'].value_counts().get(1)\n",
    "print(f\"Number of occurrences of 1: {count_ones}\")\n",
    "\n",
    "count_zeros = df['stay'].value_counts().get(0)\n",
    "print(f\"Number of occurrences of 0: {count_zeros}\")\n"
   ]
  },
  {
   "cell_type": "code",
   "execution_count": 8,
   "metadata": {},
   "outputs": [],
   "source": [
    "# independent_variables = ['simplified_color_encoded', 'simplified_sex_encoded',  \n",
    "#                      'simplified_condition_encoded', 'simplified_type_encoded', 'age']\n",
    "\n",
    "# dependent_variable = 'stay'"
   ]
  },
  {
   "cell_type": "code",
   "execution_count": 9,
   "metadata": {},
   "outputs": [],
   "source": [
    "independent_variables = ['simplified_color_encoded', 'simplified_condition_encoded', 'age']\n",
    "\n",
    "dependent_variable = 'stay'"
   ]
  },
  {
   "cell_type": "code",
   "execution_count": 10,
   "metadata": {},
   "outputs": [
    {
     "data": {
      "text/plain": [
       "((2212, 3), (554, 3))"
      ]
     },
     "execution_count": 10,
     "metadata": {},
     "output_type": "execute_result"
    }
   ],
   "source": [
    "X= df[independent_variables]\n",
    "y= df[dependent_variable]\n",
    "X_train, X_test,y_train, y_test = train_test_split(X, y, test_size=0.20, random_state=42) \n",
    "X_train.shape, X_test.shape"
   ]
  },
  {
   "cell_type": "code",
   "execution_count": 11,
   "metadata": {},
   "outputs": [
    {
     "data": {
      "text/plain": [
       "296"
      ]
     },
     "execution_count": 11,
     "metadata": {},
     "output_type": "execute_result"
    }
   ],
   "source": [
    "(y_test==1).sum()"
   ]
  },
  {
   "cell_type": "code",
   "execution_count": 12,
   "metadata": {},
   "outputs": [
    {
     "data": {
      "text/plain": [
       "258"
      ]
     },
     "execution_count": 12,
     "metadata": {},
     "output_type": "execute_result"
    }
   ],
   "source": [
    "(y_test==0).sum()"
   ]
  },
  {
   "cell_type": "code",
   "execution_count": 13,
   "metadata": {},
   "outputs": [
    {
     "name": "stdout",
     "output_type": "stream",
     "text": [
      "Fitting 5 folds for each of 162 candidates, totalling 810 fits\n",
      "RandomForestClassifier(max_depth=5, max_leaf_nodes=10, min_samples_split=5,\n",
      "                       n_estimators=50)\n"
     ]
    }
   ],
   "source": [
    "from sklearn.model_selection import GridSearchCV,RandomizedSearchCV\n",
    "params = { \n",
    "    'n_estimators': [50, 100, 150],\n",
    "    'max_features': ['sqrt', 'log2', None],\n",
    "    'max_depth': [None, 5, 10],\n",
    "    'min_samples_split': [2, 5, 10],\n",
    "    'max_leaf_nodes': [5, 10]\n",
    "}\n",
    "grid_search_cv = GridSearchCV(\n",
    "    estimator=RandomForestClassifier(),\n",
    "    param_grid=params,\n",
    "    scoring='accuracy',\n",
    "    cv=5, \n",
    "    verbose=1\n",
    ")\n",
    "\n",
    "# 1. Fit your GridSearchCV with your training data. \n",
    "grid_search_cv.fit(X_train, y_train)\n",
    "\n",
    "# Print the best parameters it found\n",
    "print(grid_search_cv.best_estimator_) "
   ]
  },
  {
   "cell_type": "code",
   "execution_count": 15,
   "metadata": {
    "scrolled": true
   },
   "outputs": [
    {
     "name": "stdout",
     "output_type": "stream",
     "text": [
      "Accuracy Score: 0.599278\n",
      "Precision Score: 0.603352\n",
      "Recall Score: 0.729730\n",
      "F1 Score: 0.660550\n",
      "AUC Score: 0.609568\n"
     ]
    }
   ],
   "source": [
    "good_model = grid_search_cv.best_estimator_\n",
    "\n",
    "\n",
    "# Now lets evaluate our model\n",
    "y_pred = good_model.predict(X_test)\n",
    "\n",
    "accuracy = accuracy_score(y_true=y_test, y_pred=y_pred)\n",
    "print(\"Accuracy Score: %f\" % accuracy)\n",
    "\n",
    "precision = precision_score(y_true=y_test, y_pred= y_pred)\n",
    "print(\"Precision Score: %f\" % precision)\n",
    "\n",
    "recall = recall_score(y_true=y_test, y_pred= y_pred)\n",
    "print(\"Recall Score: %f\" % recall)\n",
    "\n",
    "f1 = f1_score(y_true=y_test, y_pred= y_pred)\n",
    "print('F1 Score: %f' % f1)\n",
    "\n",
    "# Calculate predicted probabilities, keep only probability for when class = 1\n",
    "y_pred_proba = good_model.predict_proba(X_test)[:,1]\n",
    "\n",
    "auc = roc_auc_score(y_true=y_test, y_score=y_pred_proba)\n",
    "print('AUC Score: %f' % auc)"
   ]
  },
  {
   "cell_type": "code",
   "execution_count": 16,
   "metadata": {
    "scrolled": true
   },
   "outputs": [
    {
     "data": {
      "text/plain": [
       "0.5342960288808665"
      ]
     },
     "execution_count": 16,
     "metadata": {},
     "output_type": "execute_result"
    }
   ],
   "source": [
    "ratio = (y_test == 1).sum() / ((y_test == 0) | (y_test == 1)).sum()\n",
    "ratio"
   ]
  },
  {
   "cell_type": "code",
   "execution_count": 17,
   "metadata": {},
   "outputs": [
    {
     "data": {
      "image/png": "[encoded data removed]",
      "text/plain": [
       "<Figure size 800x500 with 1 Axes>"
      ]
     },
     "metadata": {},
     "output_type": "display_data"
    }
   ],
   "source": [
    "from sklearn.metrics import confusion_matrix\n",
    "import seaborn as sns\n",
    "import matplotlib.pyplot as plt\n",
    "\n",
    "# Assuming y_test and y_pred are already defined\n",
    "\n",
    "# Compute confusion matrix\n",
    "cm = confusion_matrix(y_test, y_pred)\n",
    "cm = cm.round(2)\n",
    "\n",
    "# Extract individual elements from the confusion matrix\n",
    "tn, fp, fn, tp = confusion_matrix(y_test, y_pred).ravel()\n",
    "\n",
    "# Create a figure and axis\n",
    "fig, ax = plt.subplots(figsize=(8, 5))\n",
    "\n",
    "# Plot the heatmap\n",
    "sns.heatmap(cm, annot=True, cmap='Greens', fmt='g', cbar=False, ax=ax)\n",
    "\n",
    "# Label the heatmap with TN, FP, FN, and TP values\n",
    "ax.text(0, 0, f'TN: {tn}', ha='center', va='center', color='blue', fontsize=12)\n",
    "ax.text(0, 1, f'FP: {fp}', ha='center', va='center', color='red', fontsize=12)\n",
    "ax.text(1, 0, f'FN: {fn}', ha='center', va='center', color='red', fontsize=12)\n",
    "ax.text(1, 1, f'TP: {tp}', ha='center', va='center', color='blue', fontsize=12)\n",
    "\n",
    "# Set labels for x and y axes\n",
    "plt.xlabel('Predicted')\n",
    "plt.ylabel('Actual')\n",
    "\n",
    "# Display the plot\n",
    "plt.show()\n"
   ]
  },
  {
   "cell_type": "code",
   "execution_count": 16,
   "metadata": {},
   "outputs": [],
   "source": [
    "# print(y_test.tolist())"
   ]
  },
  {
   "cell_type": "markdown",
   "metadata": {},
   "source": [
    "# ⬆︎⬆︎-----------  F1 Score: 0.660550 -------- ⬆︎⬆︎ (best so far)"
   ]
  },
  {
   "cell_type": "code",
   "execution_count": null,
   "metadata": {},
   "outputs": [],
   "source": []
  },
  {
   "cell_type": "markdown",
   "metadata": {},
   "source": [
    "## in order to solve the imbalance in calss we use the below code ☟"
   ]
  },
  {
   "cell_type": "code",
   "execution_count": 18,
   "metadata": {},
   "outputs": [
    {
     "name": "stdout",
     "output_type": "stream",
     "text": [
      "Fitting 5 folds for each of 162 candidates, totalling 810 fits\n",
      "RandomForestClassifier(max_leaf_nodes=10, n_estimators=50)\n",
      "Accuracy Score: 0.595376\n",
      "Precision Score: 0.633238\n",
      "Recall Score: 0.592493\n",
      "F1 Score: 0.612188\n",
      "AUC Score: 0.613306\n"
     ]
    }
   ],
   "source": [
    "import pandas as pd\n",
    "from sklearn.model_selection import train_test_split\n",
    "from sklearn.ensemble import RandomForestClassifier\n",
    "from sklearn.metrics import accuracy_score, precision_score, recall_score, f1_score, roc_auc_score\n",
    "from imblearn.over_sampling import RandomOverSampler\n",
    "from imblearn.under_sampling import RandomUnderSampler\n",
    "\n",
    "# Load your dataset\n",
    "df2 = pd.read_csv('../dataset/long_beach_level_encoded_numeric_value_nov_26.csv')\n",
    "\n",
    "# Define the function to categorize stay\n",
    "def categorize_stay(days_stayed):\n",
    "    if days_stayed <= 30:\n",
    "        return 0\n",
    "    else:\n",
    "        return 1\n",
    "\n",
    "# Apply the categorization\n",
    "df2['stay'] = df2['days_stayed'].apply(categorize_stay)\n",
    "\n",
    "independent_variables = ['simplified_color_encoded', 'simplified_condition_encoded', 'age']\n",
    "\n",
    "dependent_variable = 'stay'\n",
    "\n",
    "X = df2[independent_variables]\n",
    "y = df2['stay']\n",
    "\n",
    "# Split the data into training and testing sets\n",
    "X_train, X_test, y_train, y_test = train_test_split(X, y, test_size=0.25, random_state=42) \n",
    "\n",
    "# Use imbalanced-learn to resample the training data\n",
    "ros = RandomOverSampler(sampling_strategy='auto', random_state=42)  # You can adjust the sampling_strategy as needed\n",
    "X_resampled, y_resampled = ros.fit_resample(X_train, y_train)\n",
    "\n",
    "# # Alternatively, you can use RandomUnderSampler for undersampling\n",
    "# rus = RandomUnderSampler(sampling_strategy='auto', random_state=42)\n",
    "# X_resampled, y_resampled = rus.fit_resample(X_train, y_train)\n",
    "\n",
    "# Define the hyperparameter grid for GridSearchCV\n",
    "params = { \n",
    "    'n_estimators': [50, 100, 150],\n",
    "    'max_features': ['sqrt', 'log2', None],\n",
    "    'max_depth': [None, 5, 10],\n",
    "    'min_samples_split': [2, 5, 10],\n",
    "    'max_leaf_nodes': [5, 10]\n",
    "}\n",
    "\n",
    "# Use GridSearchCV with RandomForestClassifier\n",
    "grid_search_cv = GridSearchCV(\n",
    "    estimator=RandomForestClassifier(),\n",
    "    param_grid=params,\n",
    "    scoring='accuracy',\n",
    "    cv=5, \n",
    "    verbose=1\n",
    ")\n",
    "\n",
    "# Fit the model on the resampled data\n",
    "grid_search_cv.fit(X_resampled, y_resampled)\n",
    "\n",
    "# Print the best parameters it found\n",
    "print(grid_search_cv.best_estimator_) \n",
    "\n",
    "# Extract the best model from GridSearchCV\n",
    "use_model = grid_search_cv.best_estimator_\n",
    "\n",
    "# Evaluate the model on the original test set\n",
    "y_pred = use_model.predict(X_test)\n",
    "\n",
    "accuracy = accuracy_score(y_true=y_test, y_pred=y_pred)\n",
    "print(\"Accuracy Score: %f\" % accuracy)\n",
    "\n",
    "precision = precision_score(y_true=y_test, y_pred=y_pred)\n",
    "print(\"Precision Score: %f\" % precision)\n",
    "\n",
    "recall = recall_score(y_true=y_test, y_pred=y_pred)\n",
    "print(\"Recall Score: %f\" % recall)\n",
    "\n",
    "f1 = f1_score(y_true=y_test, y_pred=y_pred)\n",
    "print('F1 Score: %f' % f1)\n",
    "\n",
    "# Calculate predicted probabilities, keep only probability for when class = 1\n",
    "y_pred_proba = use_model.predict_proba(X_test)[:, 1]\n",
    "\n",
    "auc = roc_auc_score(y_true=y_test, y_score=y_pred_proba)\n",
    "print('AUC Score: %f' % auc)\n"
   ]
  },
  {
   "cell_type": "code",
   "execution_count": 19,
   "metadata": {},
   "outputs": [
    {
     "data": {
      "text/plain": [
       "0.5390173410404624"
      ]
     },
     "execution_count": 19,
     "metadata": {},
     "output_type": "execute_result"
    }
   ],
   "source": [
    "ratio = (y_test == 1).sum() / ((y_test == 0) | (y_test == 1)).sum()\n",
    "ratio"
   ]
  },
  {
   "cell_type": "code",
   "execution_count": 20,
   "metadata": {},
   "outputs": [
    {
     "data": {
      "text/plain": [
       "373"
      ]
     },
     "execution_count": 20,
     "metadata": {},
     "output_type": "execute_result"
    }
   ],
   "source": [
    "(y_test == 1).sum()"
   ]
  },
  {
   "cell_type": "code",
   "execution_count": 21,
   "metadata": {},
   "outputs": [
    {
     "data": {
      "text/plain": [
       "319"
      ]
     },
     "execution_count": 21,
     "metadata": {},
     "output_type": "execute_result"
    }
   ],
   "source": [
    "(y_test == 0).sum()"
   ]
  },
  {
   "cell_type": "code",
   "execution_count": 22,
   "metadata": {
    "scrolled": false
   },
   "outputs": [
    {
     "data": {
      "image/png": "[encoded data removed]",
      "text/plain": [
       "<Figure size 800x500 with 1 Axes>"
      ]
     },
     "metadata": {},
     "output_type": "display_data"
    }
   ],
   "source": [
    "\n",
    "# Compute confusion matrix\n",
    "cm = confusion_matrix(y_test, y_pred)\n",
    "cm = cm.round(2)\n",
    "\n",
    "# Extract individual elements from the confusion matrix\n",
    "tn, fp, fn, tp = confusion_matrix(y_test, y_pred).ravel()\n",
    "\n",
    "# Create a figure and axis\n",
    "fig, ax = plt.subplots(figsize=(8, 5))\n",
    "\n",
    "# Plot the heatmap\n",
    "sns.heatmap(cm, annot=True, cmap='Greens', fmt='g', cbar=False, ax=ax)\n",
    "\n",
    "# Label the heatmap with TN, FP, FN, and TP values\n",
    "ax.text(0, 0, f'TN: {tn}', ha='center', va='center', color='blue', fontsize=12)\n",
    "ax.text(0, 1, f'FP: {fp}', ha='center', va='center', color='red', fontsize=12)\n",
    "ax.text(1, 0, f'FN: {fn}', ha='center', va='center', color='red', fontsize=12)\n",
    "ax.text(1, 1, f'TP: {tp}', ha='center', va='center', color='blue', fontsize=12)\n",
    "\n",
    "# Set labels for x and y axes\n",
    "plt.xlabel('Predicted')\n",
    "plt.ylabel('Actual')\n",
    "\n",
    "# Display the plot\n",
    "plt.show()\n"
   ]
  },
  {
   "cell_type": "markdown",
   "metadata": {},
   "source": [
    "# ⬆︎⬆︎-------  F1 Score: 0.612188 ------- ⬆︎⬆︎"
   ]
  },
  {
   "cell_type": "markdown",
   "metadata": {},
   "source": [
    "### Now we will try to predict how many month a cat will stay using regression ☟"
   ]
  },
  {
   "cell_type": "code",
   "execution_count": 128,
   "metadata": {},
   "outputs": [
    {
     "data": {
      "text/html": [
       "<div>\n",
       "<style scoped>\n",
       "    .dataframe tbody tr th:only-of-type {\n",
       "        vertical-align: middle;\n",
       "    }\n",
       "\n",
       "    .dataframe tbody tr th {\n",
       "        vertical-align: top;\n",
       "    }\n",
       "\n",
       "    .dataframe thead th {\n",
       "        text-align: right;\n",
       "    }\n",
       "</style>\n",
       "<table border=\"1\" class=\"dataframe\">\n",
       "  <thead>\n",
       "    <tr style=\"text-align: right;\">\n",
       "      <th></th>\n",
       "      <th>simplified_color</th>\n",
       "      <th>simplified_sex</th>\n",
       "      <th>age</th>\n",
       "      <th>simplified_condition</th>\n",
       "      <th>simplified_type</th>\n",
       "      <th>days_stayed</th>\n",
       "      <th>simplified_color_encoded</th>\n",
       "      <th>simplified_sex_encoded</th>\n",
       "      <th>simplified_condition_encoded</th>\n",
       "      <th>simplified_type_encoded</th>\n",
       "    </tr>\n",
       "  </thead>\n",
       "  <tbody>\n",
       "    <tr>\n",
       "      <th>0</th>\n",
       "      <td>OTHER</td>\n",
       "      <td>MALE</td>\n",
       "      <td>13</td>\n",
       "      <td>NORMAL</td>\n",
       "      <td>STRAY</td>\n",
       "      <td>98</td>\n",
       "      <td>2</td>\n",
       "      <td>1</td>\n",
       "      <td>3</td>\n",
       "      <td>2</td>\n",
       "    </tr>\n",
       "    <tr>\n",
       "      <th>1</th>\n",
       "      <td>OTHER</td>\n",
       "      <td>FEMALE</td>\n",
       "      <td>13</td>\n",
       "      <td>NORMAL</td>\n",
       "      <td>OWNER SURRENDER</td>\n",
       "      <td>94</td>\n",
       "      <td>2</td>\n",
       "      <td>0</td>\n",
       "      <td>3</td>\n",
       "      <td>1</td>\n",
       "    </tr>\n",
       "    <tr>\n",
       "      <th>2</th>\n",
       "      <td>OTHER</td>\n",
       "      <td>FEMALE</td>\n",
       "      <td>11</td>\n",
       "      <td>NORMAL</td>\n",
       "      <td>OWNER SURRENDER</td>\n",
       "      <td>17</td>\n",
       "      <td>2</td>\n",
       "      <td>0</td>\n",
       "      <td>3</td>\n",
       "      <td>1</td>\n",
       "    </tr>\n",
       "    <tr>\n",
       "      <th>3</th>\n",
       "      <td>BLACK</td>\n",
       "      <td>FEMALE</td>\n",
       "      <td>10</td>\n",
       "      <td>OTHER</td>\n",
       "      <td>OWNER SURRENDER</td>\n",
       "      <td>32</td>\n",
       "      <td>0</td>\n",
       "      <td>0</td>\n",
       "      <td>4</td>\n",
       "      <td>1</td>\n",
       "    </tr>\n",
       "    <tr>\n",
       "      <th>4</th>\n",
       "      <td>OTHER</td>\n",
       "      <td>MALE</td>\n",
       "      <td>9</td>\n",
       "      <td>NORMAL</td>\n",
       "      <td>OWNER SURRENDER</td>\n",
       "      <td>48</td>\n",
       "      <td>2</td>\n",
       "      <td>1</td>\n",
       "      <td>3</td>\n",
       "      <td>1</td>\n",
       "    </tr>\n",
       "  </tbody>\n",
       "</table>\n",
       "</div>"
      ],
      "text/plain": [
       "  simplified_color simplified_sex  age simplified_condition  simplified_type  \\\n",
       "0            OTHER           MALE   13               NORMAL            STRAY   \n",
       "1            OTHER         FEMALE   13               NORMAL  OWNER SURRENDER   \n",
       "2            OTHER         FEMALE   11               NORMAL  OWNER SURRENDER   \n",
       "3            BLACK         FEMALE   10                OTHER  OWNER SURRENDER   \n",
       "4            OTHER           MALE    9               NORMAL  OWNER SURRENDER   \n",
       "\n",
       "   days_stayed  simplified_color_encoded  simplified_sex_encoded  \\\n",
       "0           98                         2                       1   \n",
       "1           94                         2                       0   \n",
       "2           17                         2                       0   \n",
       "3           32                         0                       0   \n",
       "4           48                         2                       1   \n",
       "\n",
       "   simplified_condition_encoded  simplified_type_encoded  \n",
       "0                             3                        2  \n",
       "1                             3                        1  \n",
       "2                             3                        1  \n",
       "3                             4                        1  \n",
       "4                             3                        1  "
      ]
     },
     "execution_count": 128,
     "metadata": {},
     "output_type": "execute_result"
    }
   ],
   "source": [
    "df_month = pd.read_csv('../dataset/long_beach_level_encoded_numeric_value_nov_26.csv')\n",
    "df_month.head()"
   ]
  },
  {
   "cell_type": "code",
   "execution_count": 129,
   "metadata": {},
   "outputs": [
    {
     "data": {
      "text/html": [
       "<div>\n",
       "<style scoped>\n",
       "    .dataframe tbody tr th:only-of-type {\n",
       "        vertical-align: middle;\n",
       "    }\n",
       "\n",
       "    .dataframe tbody tr th {\n",
       "        vertical-align: top;\n",
       "    }\n",
       "\n",
       "    .dataframe thead th {\n",
       "        text-align: right;\n",
       "    }\n",
       "</style>\n",
       "<table border=\"1\" class=\"dataframe\">\n",
       "  <thead>\n",
       "    <tr style=\"text-align: right;\">\n",
       "      <th></th>\n",
       "      <th>simplified_color</th>\n",
       "      <th>simplified_sex</th>\n",
       "      <th>age</th>\n",
       "      <th>simplified_condition</th>\n",
       "      <th>simplified_type</th>\n",
       "      <th>days_stayed</th>\n",
       "      <th>simplified_color_encoded</th>\n",
       "      <th>simplified_sex_encoded</th>\n",
       "      <th>simplified_condition_encoded</th>\n",
       "      <th>simplified_type_encoded</th>\n",
       "      <th>months_stayed</th>\n",
       "    </tr>\n",
       "  </thead>\n",
       "  <tbody>\n",
       "    <tr>\n",
       "      <th>0</th>\n",
       "      <td>OTHER</td>\n",
       "      <td>MALE</td>\n",
       "      <td>13</td>\n",
       "      <td>NORMAL</td>\n",
       "      <td>STRAY</td>\n",
       "      <td>98</td>\n",
       "      <td>2</td>\n",
       "      <td>1</td>\n",
       "      <td>3</td>\n",
       "      <td>2</td>\n",
       "      <td>3</td>\n",
       "    </tr>\n",
       "    <tr>\n",
       "      <th>1</th>\n",
       "      <td>OTHER</td>\n",
       "      <td>FEMALE</td>\n",
       "      <td>13</td>\n",
       "      <td>NORMAL</td>\n",
       "      <td>OWNER SURRENDER</td>\n",
       "      <td>94</td>\n",
       "      <td>2</td>\n",
       "      <td>0</td>\n",
       "      <td>3</td>\n",
       "      <td>1</td>\n",
       "      <td>3</td>\n",
       "    </tr>\n",
       "    <tr>\n",
       "      <th>2</th>\n",
       "      <td>OTHER</td>\n",
       "      <td>FEMALE</td>\n",
       "      <td>11</td>\n",
       "      <td>NORMAL</td>\n",
       "      <td>OWNER SURRENDER</td>\n",
       "      <td>17</td>\n",
       "      <td>2</td>\n",
       "      <td>0</td>\n",
       "      <td>3</td>\n",
       "      <td>1</td>\n",
       "      <td>1</td>\n",
       "    </tr>\n",
       "    <tr>\n",
       "      <th>3</th>\n",
       "      <td>BLACK</td>\n",
       "      <td>FEMALE</td>\n",
       "      <td>10</td>\n",
       "      <td>OTHER</td>\n",
       "      <td>OWNER SURRENDER</td>\n",
       "      <td>32</td>\n",
       "      <td>0</td>\n",
       "      <td>0</td>\n",
       "      <td>4</td>\n",
       "      <td>1</td>\n",
       "      <td>1</td>\n",
       "    </tr>\n",
       "    <tr>\n",
       "      <th>4</th>\n",
       "      <td>OTHER</td>\n",
       "      <td>MALE</td>\n",
       "      <td>9</td>\n",
       "      <td>NORMAL</td>\n",
       "      <td>OWNER SURRENDER</td>\n",
       "      <td>48</td>\n",
       "      <td>2</td>\n",
       "      <td>1</td>\n",
       "      <td>3</td>\n",
       "      <td>1</td>\n",
       "      <td>2</td>\n",
       "    </tr>\n",
       "  </tbody>\n",
       "</table>\n",
       "</div>"
      ],
      "text/plain": [
       "  simplified_color simplified_sex  age simplified_condition  simplified_type  \\\n",
       "0            OTHER           MALE   13               NORMAL            STRAY   \n",
       "1            OTHER         FEMALE   13               NORMAL  OWNER SURRENDER   \n",
       "2            OTHER         FEMALE   11               NORMAL  OWNER SURRENDER   \n",
       "3            BLACK         FEMALE   10                OTHER  OWNER SURRENDER   \n",
       "4            OTHER           MALE    9               NORMAL  OWNER SURRENDER   \n",
       "\n",
       "   days_stayed  simplified_color_encoded  simplified_sex_encoded  \\\n",
       "0           98                         2                       1   \n",
       "1           94                         2                       0   \n",
       "2           17                         2                       0   \n",
       "3           32                         0                       0   \n",
       "4           48                         2                       1   \n",
       "\n",
       "   simplified_condition_encoded  simplified_type_encoded  months_stayed  \n",
       "0                             3                        2              3  \n",
       "1                             3                        1              3  \n",
       "2                             3                        1              1  \n",
       "3                             4                        1              1  \n",
       "4                             3                        1              2  "
      ]
     },
     "execution_count": 129,
     "metadata": {},
     "output_type": "execute_result"
    }
   ],
   "source": [
    "# this part is to predict month stay\n",
    "import pandas as pd\n",
    "\n",
    "def categorize_days(days_stayed):\n",
    "    if days_stayed <= 400:\n",
    "        return np.ceil((days_stayed-15 )/30).astype(int)\n",
    "    \n",
    "# def categorize_days(days_stayed):\n",
    "#     if days_stayed <= 15:\n",
    "#         return 0\n",
    "#     elif days_stayed <= 45:\n",
    "#         return 1\n",
    "#     elif days_stayed <= 75:\n",
    "#         return 2\n",
    "#     elif days_stayed <= 105:\n",
    "#         return 3\n",
    "#     # Add more conditions as needed up to 1200 days\n",
    "#     elif days_stayed <= 1200:\n",
    "#         # Calculate the month based on the provided conditions\n",
    "#         return (days_stayed - 105) // 30 + 3\n",
    "#     else:\n",
    "#         # Handle cases beyond 1200 days if needed\n",
    "#         return 100  # or any other value to indicate an outlier\n",
    "\n",
    "# Example usage:\n",
    "# Assuming df is your DataFrame and \"days_stayed\" is the column you want to categorize\n",
    "df_month['months_stayed'] = df_month['days_stayed'].apply(categorize_days)\n",
    "df_month.head()\n"
   ]
  },
  {
   "cell_type": "code",
   "execution_count": 130,
   "metadata": {},
   "outputs": [],
   "source": [
    "selected_features = ['simplified_color_encoded', 'simplified_condition_encoded', 'age']\n",
    "\n",
    "# dependent_variable = 'days_stayed'\n",
    "X= df_month[selected_features]\n",
    "y= df_month['months_stayed']\n",
    "X_train, X_test, y_train, y_test = train_test_split(X, y, test_size=0.2, random_state=42)\n",
    "X_train.shape, X_test.shape\n",
    "\n",
    "# Using RandomOverSampler to handle imbalanced data\n",
    "ros = RandomOverSampler(random_state=42)\n",
    "X_resampled, y_resampled = ros.fit_resample(X_train, y_train)"
   ]
  },
  {
   "cell_type": "code",
   "execution_count": 131,
   "metadata": {},
   "outputs": [
    {
     "name": "stdout",
     "output_type": "stream",
     "text": [
      "Fitting 5 folds for each of 162 candidates, totalling 810 fits\n"
     ]
    }
   ],
   "source": [
    "from sklearn.ensemble import RandomForestRegressor\n",
    "from sklearn.model_selection import GridSearchCV\n",
    "\n",
    "params = { \n",
    "    'n_estimators': [50, 100, 150],\n",
    "    'max_features': ['sqrt', 'log2', None],\n",
    "    'max_depth': [None, 5, 10],\n",
    "    'min_samples_split': [2, 5, 10],\n",
    "    'max_leaf_nodes': [5, 10]\n",
    "}\n",
    "\n",
    "# Initialize your GridSearchCV with a RandomForestRegressor, your param_grid, and what you are optimizing for (MSE).\n",
    "grid_search_cv = GridSearchCV(\n",
    "    estimator=RandomForestRegressor(),\n",
    "    param_grid=params,\n",
    "    scoring='neg_mean_squared_error',  # For regression, use neg_mean_squared_error as the scoring metric.\n",
    "    cv=5, \n",
    "    verbose=1\n",
    ")\n",
    "\n",
    "# Fit your GridSearchCV with your training data.\n",
    "grid_search_cv.fit(X_resampled, y_resampled)\n",
    "\n",
    "# Get the best estimator based on the mean squared error.\n",
    "best_model = grid_search_cv.best_estimator_\n"
   ]
  },
  {
   "cell_type": "code",
   "execution_count": 132,
   "metadata": {
    "scrolled": true
   },
   "outputs": [
    {
     "name": "stdout",
     "output_type": "stream",
     "text": [
      "Mean Squared Error: 11.014440\n",
      "R-squared Score: -2.728426\n",
      "Accuracy Score: 0.036101\n"
     ]
    }
   ],
   "source": [
    "from sklearn.metrics import mean_squared_error, r2_score  # Import r2_score\n",
    "\n",
    "# # Map 'class' to binary labels (0 for <=50K and 1 for >50K)\n",
    "# y_binary = (y == ' >50K').astype(int)\n",
    "\n",
    "# Split the data into training and testing sets\n",
    "# X_train, X_test, y_train, y_test = train_test_split(X, y, test_size=0.2, random_state=42)\n",
    "\n",
    "# # Initialize the Decision Tree classifier\n",
    "# model = RandomForestRegressor(random_state=42)\n",
    "\n",
    "# Fit the model\n",
    "best_model.fit(X_resampled, y_resampled)\n",
    "\n",
    "# Make predictions\n",
    "\n",
    "y_pred = np.round(best_model.predict(X_test))\n",
    "\n",
    "# Specify the positive label\n",
    "\n",
    "# Evaluate the model\n",
    "mse = mean_squared_error(y_true=y_test, y_pred=y_pred)\n",
    "print(\"Mean Squared Error: %f\" % mse)\n",
    "\n",
    "r2 = r2_score(y_true=y_test, y_pred=y_pred)\n",
    "print(\"R-squared Score: %f\" % r2)\n",
    "\n",
    "\n",
    "## Eval Model \n",
    "accuracy = accuracy_score(y_true=y_test, y_pred=y_pred)\n",
    "print(\"Accuracy Score: %f\" % accuracy)"
   ]
  },
  {
   "cell_type": "code",
   "execution_count": 133,
   "metadata": {
    "scrolled": false
   },
   "outputs": [
    {
     "data": {
      "text/plain": [
       "554"
      ]
     },
     "execution_count": 133,
     "metadata": {},
     "output_type": "execute_result"
    }
   ],
   "source": [
    "len(y_pred)\n",
    "# max(y_pred)"
   ]
  },
  {
   "cell_type": "code",
   "execution_count": 134,
   "metadata": {},
   "outputs": [
    {
     "data": {
      "text/plain": [
       "array([4., 4., 4., 4., 5., 3., 4., 4., 8., 6., 4., 5., 4., 5., 4., 4., 4.,\n",
       "       4., 4., 5., 5., 5., 5., 4., 4., 4., 4., 4., 4., 4., 4., 4., 4., 4.,\n",
       "       4., 4., 4., 5., 5., 5., 4., 4., 5., 4., 4., 4., 4., 4., 5., 4., 5.,\n",
       "       4., 4., 4., 6., 4., 5., 4., 5., 4., 3., 4., 4., 4., 4., 5., 4., 4.,\n",
       "       2., 4., 4., 4., 4., 5., 5., 4., 4., 4., 4., 4., 5., 5., 6., 4., 5.,\n",
       "       4., 4., 4., 4., 4., 4., 5., 5., 5., 5., 4., 5., 4., 4., 4., 4., 4.,\n",
       "       4., 4., 5., 4., 4., 4., 5., 4., 5., 5., 5., 4., 4., 5., 5., 4., 5.,\n",
       "       5., 3., 4., 4., 5., 5., 4., 4., 4., 5., 4., 4., 4., 4., 4., 4., 5.,\n",
       "       4., 4., 4., 4., 5., 4., 4., 4., 4., 4., 4., 4., 5., 5., 5., 5., 4.,\n",
       "       5., 5., 4., 5., 4., 4., 4., 4., 4., 4., 5., 6., 4., 6., 4., 4., 4.,\n",
       "       5., 6., 4., 5., 4., 5., 4., 6., 6., 4., 5., 4., 4., 4., 5., 5., 4.,\n",
       "       5., 4., 5., 4., 4., 4., 4., 5., 5., 4., 4., 4., 5., 5., 5., 4., 4.,\n",
       "       5., 5., 4., 4., 4., 4., 4., 4., 5., 4., 4., 7., 4., 6., 4., 4., 4.,\n",
       "       3., 4., 4., 4., 2., 4., 4., 4., 5., 5., 5., 4., 4., 3., 4., 4., 5.,\n",
       "       4., 4., 6., 5., 5., 4., 5., 4., 6., 4., 4., 5., 4., 5., 4., 5., 4.,\n",
       "       5., 5., 5., 5., 6., 5., 6., 4., 4., 4., 5., 5., 5., 5., 6., 5., 5.,\n",
       "       4., 5., 5., 5., 4., 5., 4., 4., 4., 4., 4., 4., 4., 5., 4., 5., 5.,\n",
       "       4., 4., 4., 5., 5., 6., 4., 4., 4., 4., 5., 4., 5., 5., 5., 4., 4.,\n",
       "       4., 5., 5., 4., 6., 5., 5., 4., 4., 4., 4., 4., 5., 4., 5., 4., 5.,\n",
       "       4., 4., 6., 5., 4., 4., 4., 4., 5., 4., 5., 5., 4., 4., 4., 4., 4.,\n",
       "       4., 4., 4., 5., 5., 6., 5., 5., 4., 4., 6., 4., 4., 4., 4., 5., 5.,\n",
       "       5., 4., 5., 4., 4., 5., 5., 5., 4., 4., 5., 4., 4., 4., 4., 4., 5.,\n",
       "       6., 6., 4., 6., 4., 4., 5., 4., 5., 4., 4., 4., 4., 4., 5., 5., 5.,\n",
       "       6., 4., 4., 4., 4., 4., 4., 5., 4., 5., 4., 4., 5., 5., 5., 4., 4.,\n",
       "       6., 4., 3., 4., 4., 5., 4., 5., 5., 4., 4., 4., 4., 4., 5., 4., 4.,\n",
       "       4., 4., 5., 4., 5., 4., 4., 4., 4., 5., 4., 4., 5., 5., 4., 4., 4.,\n",
       "       4., 4., 4., 4., 5., 4., 4., 4., 4., 6., 4., 5., 4., 4., 5., 5., 4.,\n",
       "       4., 5., 5., 4., 5., 4., 5., 4., 4., 4., 4., 5., 4., 4., 5., 4., 4.,\n",
       "       4., 4., 9., 4., 4., 6., 4., 5., 4., 4., 4., 4., 4., 5., 4., 4., 4.,\n",
       "       4., 4., 6., 4., 4., 4., 5., 4., 6., 4., 4., 4., 6., 6., 5., 4., 4.,\n",
       "       5., 5., 5., 4., 4., 6., 5., 4., 5., 5., 4., 4., 5., 4., 4., 4., 4.,\n",
       "       5., 6., 4., 4., 4., 4., 5., 4., 4., 4., 6., 5., 4., 5., 4., 4., 4.,\n",
       "       4., 4., 4., 6., 5., 4., 4., 4., 4., 4.])"
      ]
     },
     "execution_count": 134,
     "metadata": {},
     "output_type": "execute_result"
    }
   ],
   "source": [
    "y_pred"
   ]
  },
  {
   "cell_type": "code",
   "execution_count": 135,
   "metadata": {},
   "outputs": [
    {
     "name": "stdout",
     "output_type": "stream",
     "text": [
      "Sorted Value Counts:\n",
      "2.0      2\n",
      "3.0      6\n",
      "4.0    342\n",
      "5.0    167\n",
      "6.0     34\n",
      "7.0      1\n",
      "8.0      1\n",
      "9.0      1\n",
      "dtype: int64\n"
     ]
    }
   ],
   "source": [
    "# y_pred_series is our Pandas Series\n",
    "y_pred_series = pd.Series(y_pred)\n",
    "\n",
    "# Count occurrences of each unique value\n",
    "value_counts = y_pred_series.value_counts()\n",
    "\n",
    "# Sort the values based on unique values\n",
    "sorted_value_counts = value_counts.sort_index()\n",
    "\n",
    "# Display the sorted result\n",
    "print(\"Sorted Value Counts:\")\n",
    "print(sorted_value_counts)\n"
   ]
  },
  {
   "cell_type": "code",
   "execution_count": 136,
   "metadata": {},
   "outputs": [
    {
     "data": {
      "text/plain": [
       "554"
      ]
     },
     "execution_count": 136,
     "metadata": {},
     "output_type": "execute_result"
    }
   ],
   "source": [
    "len(y_test)"
   ]
  },
  {
   "cell_type": "code",
   "execution_count": 137,
   "metadata": {},
   "outputs": [
    {
     "name": "stdout",
     "output_type": "stream",
     "text": [
      "Sorted Value Counts:\n",
      "0     148\n",
      "1     185\n",
      "2      90\n",
      "3      67\n",
      "4      32\n",
      "5       9\n",
      "6       8\n",
      "7       7\n",
      "8       4\n",
      "9       3\n",
      "10      1\n",
      "Name: months_stayed, dtype: int64\n"
     ]
    }
   ],
   "source": [
    "\n",
    "# y_test_series is our Pandas Series\n",
    "y_test_series = pd.Series(y_test)\n",
    "\n",
    "# Count occurrences of each unique value\n",
    "value_counts = y_test_series.value_counts()\n",
    "\n",
    "# Sort the values based on unique values\n",
    "sorted_value_counts = value_counts.sort_index()\n",
    "\n",
    "# Display the sorted result\n",
    "print(\"Sorted Value Counts:\")\n",
    "print(sorted_value_counts)\n"
   ]
  },
  {
   "cell_type": "code",
   "execution_count": 42,
   "metadata": {
    "scrolled": false
   },
   "outputs": [
    {
     "name": "stdout",
     "output_type": "stream",
     "text": [
      "[0, 2, 1, 1, 3, 0, 2, 2, 1, 1, 2, 0, 1, 1, 1, 5, 1, 1, 2, 0, 1, 4, 2, 1, 3, 4, 1, 2, 0, 0, 1, 0, 0, 1, 1, 3, 1, 3, 0, 2, 1, 0, 5, 1, 1, 0, 0, 3, 0, 4, 6, 3, 2, 2, 3, 2, 1, 3, 3, 7, 6, 0, 1, 1, 1, 0, 3, 0, 3, 3, 1, 0, 1, 0, 1, 2, 0, 3, 2, 4, 4, 3, 3, 2, 1, 0, 1, 0, 5, 1, 0, 0, 3, 1, 0, 1, 2, 1, 2, 1, 2, 2, 0, 1, 1, 5, 2, 1, 0, 3, 8, 4, 1, 1, 4, 0, 0, 2, 8, 1, 0, 1, 1, 3, 1, 2, 3, 1, 1, 1, 3, 2, 3, 0, 1, 10, 0, 2, 1, 1, 3, 1, 2, 0, 1, 0, 1, 2, 1, 1, 2, 0, 0, 2, 0, 0, 3, 0, 3, 1, 0, 4, 0, 3, 8, 2, 4, 7, 2, 0, 6, 1, 3, 3, 2, 2, 3, 1, 0, 0, 1, 2, 1, 1, 0, 6, 1, 2, 2, 1, 2, 2, 3, 2, 0, 0, 0, 0, 0, 3, 2, 0, 1, 4, 0, 1, 3, 1, 1, 5, 6, 3, 3, 3, 1, 2, 2, 1, 4, 0, 1, 1, 1, 1, 0, 3, 0, 0, 6, 1, 2, 0, 1, 0, 1, 4, 0, 1, 1, 0, 0, 1, 3, 0, 1, 0, 4, 2, 0, 0, 1, 0, 4, 1, 2, 1, 1, 3, 1, 0, 4, 0, 0, 1, 2, 2, 3, 1, 0, 1, 0, 1, 4, 0, 9, 1, 3, 2, 0, 0, 0, 1, 0, 2, 1, 4, 0, 0, 7, 1, 1, 1, 0, 7, 0, 3, 0, 2, 1, 0, 1, 1, 0, 0, 2, 0, 0, 3, 2, 1, 5, 1, 3, 0, 0, 1, 4, 2, 2, 0, 1, 1, 4, 1, 1, 4, 1, 2, 0, 1, 5, 1, 4, 1, 2, 7, 0, 0, 1, 1, 0, 0, 2, 2, 0, 1, 1, 1, 1, 0, 2, 0, 1, 3, 0, 0, 0, 2, 0, 1, 1, 1, 8, 0, 5, 6, 0, 2, 2, 0, 2, 0, 2, 1, 1, 2, 1, 0, 2, 1, 1, 1, 2, 0, 3, 6, 2, 0, 0, 1, 2, 0, 2, 0, 2, 3, 1, 1, 4, 0, 2, 1, 1, 3, 0, 0, 1, 0, 3, 3, 1, 2, 0, 1, 0, 2, 1, 4, 1, 1, 3, 1, 0, 0, 0, 1, 1, 1, 1, 1, 0, 4, 1, 0, 1, 2, 2, 2, 3, 0, 0, 1, 3, 3, 2, 0, 1, 4, 2, 2, 1, 2, 1, 1, 3, 3, 7, 4, 1, 1, 4, 2, 1, 1, 3, 1, 0, 0, 3, 2, 4, 0, 0, 3, 0, 1, 0, 1, 0, 0, 3, 7, 3, 2, 2, 0, 1, 2, 3, 1, 3, 9, 0, 1, 3, 1, 1, 1, 0, 0, 4, 3, 1, 1, 0, 0, 1, 1, 1, 0, 1, 1, 2, 3, 2, 5, 0, 1, 2, 0, 1, 0, 1, 0, 1, 1, 4, 1, 9, 2, 1, 0, 0, 4, 1, 1, 1, 1, 3, 1, 1, 2, 0, 4, 0, 1, 1, 3, 1, 0, 3, 1, 2, 1]\n"
     ]
    }
   ],
   "source": [
    "print(y_test.tolist())\n"
   ]
  },
  {
   "cell_type": "markdown",
   "metadata": {},
   "source": [
    "# ⬆︎----(over sampling) Accuracy Score: 0.036101, R2: -2.728426 ----- ⬆︎"
   ]
  },
  {
   "cell_type": "code",
   "execution_count": null,
   "metadata": {},
   "outputs": [],
   "source": []
  },
  {
   "cell_type": "markdown",
   "metadata": {},
   "source": [
    "# Trying with Randomclassifier"
   ]
  },
  {
   "cell_type": "code",
   "execution_count": 138,
   "metadata": {},
   "outputs": [
    {
     "data": {
      "text/html": [
       "<div>\n",
       "<style scoped>\n",
       "    .dataframe tbody tr th:only-of-type {\n",
       "        vertical-align: middle;\n",
       "    }\n",
       "\n",
       "    .dataframe tbody tr th {\n",
       "        vertical-align: top;\n",
       "    }\n",
       "\n",
       "    .dataframe thead th {\n",
       "        text-align: right;\n",
       "    }\n",
       "</style>\n",
       "<table border=\"1\" class=\"dataframe\">\n",
       "  <thead>\n",
       "    <tr style=\"text-align: right;\">\n",
       "      <th></th>\n",
       "      <th>simplified_color</th>\n",
       "      <th>simplified_sex</th>\n",
       "      <th>age</th>\n",
       "      <th>simplified_condition</th>\n",
       "      <th>simplified_type</th>\n",
       "      <th>days_stayed</th>\n",
       "      <th>simplified_color_encoded</th>\n",
       "      <th>simplified_sex_encoded</th>\n",
       "      <th>simplified_condition_encoded</th>\n",
       "      <th>simplified_type_encoded</th>\n",
       "    </tr>\n",
       "  </thead>\n",
       "  <tbody>\n",
       "    <tr>\n",
       "      <th>0</th>\n",
       "      <td>OTHER</td>\n",
       "      <td>MALE</td>\n",
       "      <td>13</td>\n",
       "      <td>NORMAL</td>\n",
       "      <td>STRAY</td>\n",
       "      <td>98</td>\n",
       "      <td>2</td>\n",
       "      <td>1</td>\n",
       "      <td>3</td>\n",
       "      <td>2</td>\n",
       "    </tr>\n",
       "    <tr>\n",
       "      <th>1</th>\n",
       "      <td>OTHER</td>\n",
       "      <td>FEMALE</td>\n",
       "      <td>13</td>\n",
       "      <td>NORMAL</td>\n",
       "      <td>OWNER SURRENDER</td>\n",
       "      <td>94</td>\n",
       "      <td>2</td>\n",
       "      <td>0</td>\n",
       "      <td>3</td>\n",
       "      <td>1</td>\n",
       "    </tr>\n",
       "    <tr>\n",
       "      <th>2</th>\n",
       "      <td>OTHER</td>\n",
       "      <td>FEMALE</td>\n",
       "      <td>11</td>\n",
       "      <td>NORMAL</td>\n",
       "      <td>OWNER SURRENDER</td>\n",
       "      <td>17</td>\n",
       "      <td>2</td>\n",
       "      <td>0</td>\n",
       "      <td>3</td>\n",
       "      <td>1</td>\n",
       "    </tr>\n",
       "    <tr>\n",
       "      <th>3</th>\n",
       "      <td>BLACK</td>\n",
       "      <td>FEMALE</td>\n",
       "      <td>10</td>\n",
       "      <td>OTHER</td>\n",
       "      <td>OWNER SURRENDER</td>\n",
       "      <td>32</td>\n",
       "      <td>0</td>\n",
       "      <td>0</td>\n",
       "      <td>4</td>\n",
       "      <td>1</td>\n",
       "    </tr>\n",
       "    <tr>\n",
       "      <th>4</th>\n",
       "      <td>OTHER</td>\n",
       "      <td>MALE</td>\n",
       "      <td>9</td>\n",
       "      <td>NORMAL</td>\n",
       "      <td>OWNER SURRENDER</td>\n",
       "      <td>48</td>\n",
       "      <td>2</td>\n",
       "      <td>1</td>\n",
       "      <td>3</td>\n",
       "      <td>1</td>\n",
       "    </tr>\n",
       "  </tbody>\n",
       "</table>\n",
       "</div>"
      ],
      "text/plain": [
       "  simplified_color simplified_sex  age simplified_condition  simplified_type  \\\n",
       "0            OTHER           MALE   13               NORMAL            STRAY   \n",
       "1            OTHER         FEMALE   13               NORMAL  OWNER SURRENDER   \n",
       "2            OTHER         FEMALE   11               NORMAL  OWNER SURRENDER   \n",
       "3            BLACK         FEMALE   10                OTHER  OWNER SURRENDER   \n",
       "4            OTHER           MALE    9               NORMAL  OWNER SURRENDER   \n",
       "\n",
       "   days_stayed  simplified_color_encoded  simplified_sex_encoded  \\\n",
       "0           98                         2                       1   \n",
       "1           94                         2                       0   \n",
       "2           17                         2                       0   \n",
       "3           32                         0                       0   \n",
       "4           48                         2                       1   \n",
       "\n",
       "   simplified_condition_encoded  simplified_type_encoded  \n",
       "0                             3                        2  \n",
       "1                             3                        1  \n",
       "2                             3                        1  \n",
       "3                             4                        1  \n",
       "4                             3                        1  "
      ]
     },
     "execution_count": 138,
     "metadata": {},
     "output_type": "execute_result"
    }
   ],
   "source": [
    "df_month_class = pd.read_csv('../dataset/long_beach_level_encoded_numeric_value_nov_26.csv')\n",
    "df_month_class.head()"
   ]
  },
  {
   "cell_type": "code",
   "execution_count": 139,
   "metadata": {},
   "outputs": [
    {
     "data": {
      "text/html": [
       "<div>\n",
       "<style scoped>\n",
       "    .dataframe tbody tr th:only-of-type {\n",
       "        vertical-align: middle;\n",
       "    }\n",
       "\n",
       "    .dataframe tbody tr th {\n",
       "        vertical-align: top;\n",
       "    }\n",
       "\n",
       "    .dataframe thead th {\n",
       "        text-align: right;\n",
       "    }\n",
       "</style>\n",
       "<table border=\"1\" class=\"dataframe\">\n",
       "  <thead>\n",
       "    <tr style=\"text-align: right;\">\n",
       "      <th></th>\n",
       "      <th>simplified_color</th>\n",
       "      <th>simplified_sex</th>\n",
       "      <th>age</th>\n",
       "      <th>simplified_condition</th>\n",
       "      <th>simplified_type</th>\n",
       "      <th>days_stayed</th>\n",
       "      <th>simplified_color_encoded</th>\n",
       "      <th>simplified_sex_encoded</th>\n",
       "      <th>simplified_condition_encoded</th>\n",
       "      <th>simplified_type_encoded</th>\n",
       "      <th>months_stayed</th>\n",
       "    </tr>\n",
       "  </thead>\n",
       "  <tbody>\n",
       "    <tr>\n",
       "      <th>0</th>\n",
       "      <td>OTHER</td>\n",
       "      <td>MALE</td>\n",
       "      <td>13</td>\n",
       "      <td>NORMAL</td>\n",
       "      <td>STRAY</td>\n",
       "      <td>98</td>\n",
       "      <td>2</td>\n",
       "      <td>1</td>\n",
       "      <td>3</td>\n",
       "      <td>2</td>\n",
       "      <td>3</td>\n",
       "    </tr>\n",
       "    <tr>\n",
       "      <th>1</th>\n",
       "      <td>OTHER</td>\n",
       "      <td>FEMALE</td>\n",
       "      <td>13</td>\n",
       "      <td>NORMAL</td>\n",
       "      <td>OWNER SURRENDER</td>\n",
       "      <td>94</td>\n",
       "      <td>2</td>\n",
       "      <td>0</td>\n",
       "      <td>3</td>\n",
       "      <td>1</td>\n",
       "      <td>3</td>\n",
       "    </tr>\n",
       "    <tr>\n",
       "      <th>2</th>\n",
       "      <td>OTHER</td>\n",
       "      <td>FEMALE</td>\n",
       "      <td>11</td>\n",
       "      <td>NORMAL</td>\n",
       "      <td>OWNER SURRENDER</td>\n",
       "      <td>17</td>\n",
       "      <td>2</td>\n",
       "      <td>0</td>\n",
       "      <td>3</td>\n",
       "      <td>1</td>\n",
       "      <td>1</td>\n",
       "    </tr>\n",
       "    <tr>\n",
       "      <th>3</th>\n",
       "      <td>BLACK</td>\n",
       "      <td>FEMALE</td>\n",
       "      <td>10</td>\n",
       "      <td>OTHER</td>\n",
       "      <td>OWNER SURRENDER</td>\n",
       "      <td>32</td>\n",
       "      <td>0</td>\n",
       "      <td>0</td>\n",
       "      <td>4</td>\n",
       "      <td>1</td>\n",
       "      <td>1</td>\n",
       "    </tr>\n",
       "    <tr>\n",
       "      <th>4</th>\n",
       "      <td>OTHER</td>\n",
       "      <td>MALE</td>\n",
       "      <td>9</td>\n",
       "      <td>NORMAL</td>\n",
       "      <td>OWNER SURRENDER</td>\n",
       "      <td>48</td>\n",
       "      <td>2</td>\n",
       "      <td>1</td>\n",
       "      <td>3</td>\n",
       "      <td>1</td>\n",
       "      <td>2</td>\n",
       "    </tr>\n",
       "  </tbody>\n",
       "</table>\n",
       "</div>"
      ],
      "text/plain": [
       "  simplified_color simplified_sex  age simplified_condition  simplified_type  \\\n",
       "0            OTHER           MALE   13               NORMAL            STRAY   \n",
       "1            OTHER         FEMALE   13               NORMAL  OWNER SURRENDER   \n",
       "2            OTHER         FEMALE   11               NORMAL  OWNER SURRENDER   \n",
       "3            BLACK         FEMALE   10                OTHER  OWNER SURRENDER   \n",
       "4            OTHER           MALE    9               NORMAL  OWNER SURRENDER   \n",
       "\n",
       "   days_stayed  simplified_color_encoded  simplified_sex_encoded  \\\n",
       "0           98                         2                       1   \n",
       "1           94                         2                       0   \n",
       "2           17                         2                       0   \n",
       "3           32                         0                       0   \n",
       "4           48                         2                       1   \n",
       "\n",
       "   simplified_condition_encoded  simplified_type_encoded  months_stayed  \n",
       "0                             3                        2              3  \n",
       "1                             3                        1              3  \n",
       "2                             3                        1              1  \n",
       "3                             4                        1              1  \n",
       "4                             3                        1              2  "
      ]
     },
     "execution_count": 139,
     "metadata": {},
     "output_type": "execute_result"
    }
   ],
   "source": [
    "# this part is to predict month stay\n",
    "import pandas as pd\n",
    "\n",
    "def categorize_days(days_stayed):\n",
    "    if days_stayed <= 300:\n",
    "        return np.ceil((days_stayed-15 )/30).astype(int)\n",
    "    else:\n",
    "        # Handle cases beyond 1200 days if needed\n",
    "        return 99  # or any other value to indicate an outlier\n",
    "\n",
    "# Example usage:\n",
    "# Assuming df is your DataFrame and \"days_stayed\" is the column you want to categorize\n",
    "df_month_class['months_stayed'] = df_month_class['days_stayed'].apply(categorize_days)\n",
    "df_month_class.head()\n"
   ]
  },
  {
   "cell_type": "code",
   "execution_count": 140,
   "metadata": {},
   "outputs": [
    {
     "name": "stdout",
     "output_type": "stream",
     "text": [
      "0     788\n",
      "1     866\n",
      "2     440\n",
      "3     297\n",
      "4     167\n",
      "5      69\n",
      "6      54\n",
      "7      36\n",
      "8      25\n",
      "9      20\n",
      "10      4\n",
      "Name: months_stayed, dtype: int64\n"
     ]
    }
   ],
   "source": [
    "# counting each groups frequency\n",
    "grouped_data = df_month_class['months_stayed'].value_counts().sort_index()\n",
    "grouped_data.columns = ['months_stayed', 'Count']\n",
    "print(grouped_data)"
   ]
  },
  {
   "cell_type": "code",
   "execution_count": 141,
   "metadata": {},
   "outputs": [],
   "source": [
    "from sklearn.utils import class_weight\n",
    "from sklearn.utils.class_weight import compute_sample_weight"
   ]
  },
  {
   "cell_type": "code",
   "execution_count": 142,
   "metadata": {},
   "outputs": [
    {
     "data": {
      "text/plain": [
       "((2212, 3), (554, 3))"
      ]
     },
     "execution_count": 142,
     "metadata": {},
     "output_type": "execute_result"
    }
   ],
   "source": [
    "selected_features = ['simplified_color_encoded', 'simplified_condition_encoded', 'age']\n",
    "\n",
    "# dependent_variable = 'days_stayed'\n",
    "X= df_month_class[selected_features]\n",
    "y= df_month_class['months_stayed']\n",
    "X_train, X_test, y_train, y_test = train_test_split(X, y, test_size=0.2, random_state=42)\n",
    "\n",
    "# Using RandomOverSampler to handle imbalanced data\n",
    "ros = RandomOverSampler(random_state=42)\n",
    "X_resampled, y_resampled = ros.fit_resample(X_train, y_train)\n",
    "\n",
    "X_train.shape, X_test.shape"
   ]
  },
  {
   "cell_type": "code",
   "execution_count": 143,
   "metadata": {},
   "outputs": [
    {
     "name": "stdout",
     "output_type": "stream",
     "text": [
      "Fitting 5 folds for each of 162 candidates, totalling 810 fits\n"
     ]
    }
   ],
   "source": [
    "from sklearn.ensemble import RandomForestClassifier\n",
    "from sklearn.model_selection import GridSearchCV\n",
    "\n",
    "params = { \n",
    "    'n_estimators': [50, 100, 150],\n",
    "    'max_features': ['sqrt', 'log2', None],\n",
    "    'max_depth': [None, 5, 10],\n",
    "    'min_samples_split': [2, 5, 10],\n",
    "    'max_leaf_nodes': [5, 10]\n",
    "}\n",
    "\n",
    "# Initialize your GridSearchCV with a RandomForestRegressor, your param_grid, and what you are optimizing for (MSE).\n",
    "grid_search_cv = GridSearchCV(\n",
    "    estimator=RandomForestClassifier(),\n",
    "    param_grid=params,\n",
    "    scoring='neg_mean_squared_error',  # For regression, use neg_mean_squared_error as the scoring metric.\n",
    "    cv=5, \n",
    "    verbose=1\n",
    ")\n",
    "\n",
    "# Fit your GridSearchCV with your training data.\n",
    "grid_search_cv.fit(X_resampled, y_resampled)\n",
    "\n",
    "# Get the best estimator based on the mean squared error.\n",
    "best_model = grid_search_cv.best_estimator_\n"
   ]
  },
  {
   "cell_type": "code",
   "execution_count": 58,
   "metadata": {
    "scrolled": false
   },
   "outputs": [
    {
     "name": "stdout",
     "output_type": "stream",
     "text": [
      "Precision Score: 0.023027\n",
      "Recall Score: 0.034296\n",
      "F1 Score: 0.013658\n"
     ]
    },
    {
     "name": "stderr",
     "output_type": "stream",
     "text": [
      "/Users/ubaydulsami/anaconda3/lib/python3.11/site-packages/sklearn/metrics/_classification.py:1344: UndefinedMetricWarning: Precision is ill-defined and being set to 0.0 in labels with no predicted samples. Use `zero_division` parameter to control this behavior.\n",
      "  _warn_prf(average, modifier, msg_start, len(result))\n",
      "/Users/ubaydulsami/anaconda3/lib/python3.11/site-packages/sklearn/base.py:439: UserWarning: X does not have valid feature names, but RandomForestClassifier was fitted with feature names\n",
      "  warnings.warn(\n"
     ]
    }
   ],
   "source": [
    "from sklearn.metrics import mean_squared_error, r2_score  # Import r2_score\n",
    "from sklearn.metrics import precision_score, recall_score, f1_score, roc_auc_score\n",
    "\n",
    "from sklearn.preprocessing import StandardScaler\n",
    "\n",
    "scaler = StandardScaler()\n",
    "X_train_scaled = scaler.fit_transform(X_train)\n",
    "X_test_scaled = scaler.transform(X_test)\n",
    "\n",
    "# Fit the model\n",
    "best_model.fit(X_resampled, y_resampled)\n",
    "\n",
    "# Make predictions\n",
    "\n",
    "y_pred = best_model.predict(X_test)\n",
    "\n",
    "# Calculate precision, recall, and F1 score\n",
    "\n",
    "precision = precision_score(y_true=y_test, y_pred=y_pred, average='weighted')  # Adjust average if needed\n",
    "print(\"Precision Score: %f\" % precision)\n",
    "\n",
    "recall = recall_score(y_true=y_test, y_pred=y_pred, average='weighted')  # Adjust average if needed\n",
    "print(\"Recall Score: %f\" % recall)\n",
    "\n",
    "f1 = f1_score(y_true=y_test, y_pred=y_pred, average='weighted')  # Adjust average if needed\n",
    "print('F1 Score: %f' % f1)\n",
    "\n",
    "# Calculate predicted probabilities, keep only probability for when class = 1\n",
    "y_pred_proba = best_model.predict_proba(X_test_scaled)[:, 1]\n"
   ]
  },
  {
   "cell_type": "code",
   "execution_count": 144,
   "metadata": {},
   "outputs": [
    {
     "name": "stdout",
     "output_type": "stream",
     "text": [
      "Sorted Value Counts:\n",
      "2.0      2\n",
      "3.0      6\n",
      "4.0    342\n",
      "5.0    167\n",
      "6.0     34\n",
      "7.0      1\n",
      "8.0      1\n",
      "9.0      1\n",
      "dtype: int64\n"
     ]
    }
   ],
   "source": [
    "# y_pred_series is our Pandas Series\n",
    "y_pred_series = pd.Series(y_pred)\n",
    "\n",
    "# Count occurrences of each unique value\n",
    "value_counts = y_pred_series.value_counts()\n",
    "\n",
    "# Sort the values based on unique values\n",
    "sorted_value_counts = value_counts.sort_index()\n",
    "\n",
    "# Display the sorted result\n",
    "print(\"Sorted Value Counts:\")\n",
    "print(sorted_value_counts)\n"
   ]
  },
  {
   "cell_type": "code",
   "execution_count": 61,
   "metadata": {},
   "outputs": [
    {
     "name": "stdout",
     "output_type": "stream",
     "text": [
      "Sorted Value Counts:\n",
      "0     148\n",
      "1     185\n",
      "2      90\n",
      "3      67\n",
      "4      32\n",
      "5       9\n",
      "6       8\n",
      "7       7\n",
      "8       4\n",
      "9       3\n",
      "10      1\n",
      "Name: months_stayed, dtype: int64\n"
     ]
    }
   ],
   "source": [
    "# y_pred_series is our Pandas Series\n",
    "y_test_series = pd.Series(y_test)\n",
    "\n",
    "# Count occurrences of each unique value\n",
    "value_counts = y_test_series.value_counts()\n",
    "\n",
    "# Sort the values based on unique values\n",
    "sorted_value_counts = value_counts.sort_index()\n",
    "\n",
    "# Display the sorted result\n",
    "print(\"Sorted Value Counts:\")\n",
    "print(sorted_value_counts)\n"
   ]
  },
  {
   "cell_type": "markdown",
   "metadata": {},
   "source": [
    "# --------- F1 Score: 0.013658 ------------"
   ]
  },
  {
   "cell_type": "code",
   "execution_count": null,
   "metadata": {},
   "outputs": [],
   "source": []
  },
  {
   "cell_type": "markdown",
   "metadata": {},
   "source": [
    "# 2nd approch (all code together) RandomForestRegression"
   ]
  },
  {
   "cell_type": "code",
   "execution_count": 108,
   "metadata": {
    "scrolled": false
   },
   "outputs": [
    {
     "name": "stdout",
     "output_type": "stream",
     "text": [
      "Fitting 5 folds for each of 162 candidates, totalling 810 fits\n",
      "Accuracy Score: 0.124549\n",
      "F1 Score: 0.129868\n"
     ]
    }
   ],
   "source": [
    "import pandas as pd\n",
    "import numpy as np\n",
    "from sklearn.model_selection import train_test_split, GridSearchCV\n",
    "from sklearn.ensemble import RandomForestClassifier\n",
    "from sklearn.metrics import accuracy_score, f1_score\n",
    "from imblearn.under_sampling import RandomUnderSampler\n",
    "# Load the dataset\n",
    "df_month_short = pd.read_csv('../dataset/long_beach_level_encoded_numeric_value_nov_26.csv')\n",
    "\n",
    "# Define a function to categorize days\n",
    "def categorize_days(days_stayed):\n",
    "    if days_stayed <= 300:\n",
    "        return np.ceil((days_stayed - 15) / 30).astype(int)\n",
    "    else:\n",
    "        return 99  # or any other value to indicate an outlier\n",
    "\n",
    "# Apply the categorization to create a new column 'months_stayed'\n",
    "df_month_short['months_stayed'] = df_month_short['days_stayed'].apply(categorize_days)\n",
    "\n",
    "# Define selected features\n",
    "selected_features = ['simplified_color_encoded',  \n",
    "                     'simplified_condition_encoded', 'age']\n",
    "\n",
    "# Set up X and y\n",
    "X = df_month_short[selected_features]\n",
    "y = df_month_short['months_stayed']\n",
    "\n",
    "# Split the data into training and testing sets\n",
    "X_train, X_test, y_train, y_test = train_test_split(X, y, test_size=0.2, random_state=42)\n",
    "\n",
    "# Handle class imbalance using RandomUnderSampler\n",
    "rus = RandomOverSampler(random_state=42)\n",
    "X_resampled, y_resampled = rus.fit_resample(X_train, y_train)\n",
    "\n",
    "# Define the parameter grid for GridSearchCV\n",
    "params = {\n",
    "    'n_estimators': [50, 100, 150],\n",
    "    'max_features': ['sqrt', 'log2', None],\n",
    "    'max_depth': [None, 5, 10],\n",
    "    'min_samples_split': [2, 5, 10],\n",
    "    'max_leaf_nodes': [5, 10]\n",
    "}\n",
    "\n",
    "# Initialize RandomForestClassifier\n",
    "rf_classifier = RandomForestClassifier(class_weight='balanced', random_state=42)\n",
    "\n",
    "# Initialize GridSearchCV\n",
    "grid_search_cv = GridSearchCV(\n",
    "    estimator=rf_classifier,\n",
    "    param_grid=params,\n",
    "    scoring='f1_weighted',  # Use F1 score for classification and consider class imbalance\n",
    "    cv=5,\n",
    "    verbose=1\n",
    ")\n",
    "\n",
    "# Fit GridSearchCV with resampled training data\n",
    "grid_search_cv.fit(X_resampled, y_resampled)\n",
    "\n",
    "# Get the best estimator based on F1 score\n",
    "best_model = grid_search_cv.best_estimator_\n",
    "\n",
    "# Fit the best model with the original training data\n",
    "best_model.fit(X_train, y_train)\n",
    "\n",
    "# Make predictions on the test set\n",
    "y_pred = best_model.predict(X_test)\n",
    "\n",
    "# Evaluate the model\n",
    "accuracy = accuracy_score(y_true=y_test, y_pred=y_pred)\n",
    "f1 = f1_score(y_true=y_test, y_pred=y_pred, average='weighted')\n",
    "print(\"Accuracy Score: %f\" % accuracy)\n",
    "print(\"F1 Score: %f\" % f1)"
   ]
  },
  {
   "cell_type": "code",
   "execution_count": 109,
   "metadata": {},
   "outputs": [
    {
     "name": "stdout",
     "output_type": "stream",
     "text": [
      "age                             0.421687\n",
      "simplified_color_encoded        0.321384\n",
      "simplified_condition_encoded    0.256929\n",
      "dtype: float64\n"
     ]
    }
   ],
   "source": [
    "feature_importance = pd.Series(best_model.feature_importances_, index=X.columns)\n",
    "feature_importance.sort_values(ascending=False, inplace=True)\n",
    "print(feature_importance)"
   ]
  },
  {
   "cell_type": "code",
   "execution_count": 110,
   "metadata": {},
   "outputs": [
    {
     "name": "stdout",
     "output_type": "stream",
     "text": [
      "MAE: 3.9657039711191335, MSE: 23.73826714801444, RMSE: 4.872193258483744\n"
     ]
    }
   ],
   "source": [
    "from sklearn.metrics import mean_absolute_error, mean_squared_error\n",
    "mae = mean_absolute_error(y_test, y_pred)\n",
    "mse = mean_squared_error(y_test, y_pred)\n",
    "rmse = np.sqrt(mse)\n",
    "print(f\"MAE: {mae}, MSE: {mse}, RMSE: {rmse}\")"
   ]
  },
  {
   "cell_type": "code",
   "execution_count": 111,
   "metadata": {
    "scrolled": false
   },
   "outputs": [
    {
     "data": {
      "text/plain": [
       "554"
      ]
     },
     "execution_count": 111,
     "metadata": {},
     "output_type": "execute_result"
    }
   ],
   "source": [
    "len(y_pred)\n",
    "# max(y_pred)"
   ]
  },
  {
   "cell_type": "code",
   "execution_count": 112,
   "metadata": {},
   "outputs": [
    {
     "name": "stdout",
     "output_type": "stream",
     "text": [
      "Sorted by Residuals (Ascending):\n",
      "      True Values  Predicted Values  Residuals\n",
      "2357            0                10        -10\n",
      "1005            0                10        -10\n",
      "1196            0                 8         -9\n",
      "1366            0                 9         -9\n",
      "1830            0                 9         -9\n",
      "45              0                 8         -9\n",
      "1905            0                 9         -9\n",
      "1898            0                 6         -9\n",
      "2628            0                 9         -9\n",
      "819             0                 9         -9\n",
      "2575            0                 9         -9\n",
      "432             0                 8         -9\n",
      "495             0                 9         -9\n",
      "2446            0                 6         -9\n",
      "2380            0                 6         -9\n",
      "1265            0                 9         -9\n",
      "1351            0                 0         -9\n",
      "2402            0                10         -9\n",
      "1213            0                 9         -9\n",
      "1385            0                 0         -9\n",
      "1920            0                 9         -9\n",
      "1756            1                10         -9\n",
      "1449            0                 0         -8\n",
      "679             1                 9         -8\n",
      "1192            1                 9         -8\n",
      "532             2                10         -8\n",
      "1204            1                 9         -8\n",
      "869             1                 9         -8\n",
      "1804            1                 8         -8\n",
      "1220            0                 8         -8\n",
      "1234            0                 8         -8\n",
      "554             1                 9         -8\n",
      "2369            0                 8         -8\n",
      "1972            1                 9         -8\n",
      "1494            0                 6         -8\n",
      "1967            0                 6         -8\n",
      "2521            0                 8         -8\n",
      "926             0                 8         -8\n",
      "2607            1                10         -8\n",
      "727             1                 9         -8\n",
      "941             0                 8         -8\n",
      "32              0                 8         -8\n",
      "1507            1                 9         -8\n",
      "2401            0                 6         -8\n",
      "1740            1                 9         -8\n",
      "1047            2                 9         -8\n",
      "1675            0                 8         -8\n",
      "651             1                 9         -8\n",
      "759             1                 9         -8\n",
      "1656            1                 8         -8\n",
      "Sorted by Residuals (Descending):\n",
      "      True Values  Predicted Values  Residuals\n",
      "2251            7                 0          7\n",
      "1989            7                 1          6\n",
      "443             6                 0          6\n",
      "568             5                 0          5\n",
      "1591            5                 0          5\n",
      "1600            4                 6          4\n",
      "506             4                 0          4\n",
      "744             4                 0          4\n",
      "788             4                 0          4\n",
      "1298            4                 0          4\n",
      "109             4                 6          4\n",
      "2755            4                 5          4\n",
      "2075            4                 0          4\n",
      "1690            4                 0          4\n",
      "1602            3                 0          3\n",
      "748             3                 0          3\n",
      "2263            3                 0          3\n",
      "2601            6                 3          3\n",
      "1073            9                 6          3\n",
      "471             6                 3          3\n",
      "2054            3                 6          3\n",
      "1244            3                 0          3\n",
      "1225            3                 0          3\n",
      "741             3                 0          3\n",
      "1391            2                 0          2\n",
      "2157            2                 9          2\n",
      "289             2                 6          2\n",
      "368             2                 6          2\n",
      "2219            2                 0          2\n",
      "700             2                 0          2\n",
      "798             8                10          2\n",
      "2268            2                 0          2\n",
      "2183            2                 0          2\n",
      "907             3                 4          2\n",
      "2206            2                 0          2\n",
      "2722            2                 0          2\n",
      "2581            3                 1          2\n",
      "430             2                 0          2\n",
      "1925            2                 0          2\n",
      "1419            2                 0          2\n",
      "1554           10                 8          2\n",
      "2099            1                 5          1\n",
      "1563            2                 1          1\n",
      "2221            1                 6          1\n",
      "817             1                 0          1\n",
      "422             1                 0          1\n",
      "1412            1                 5          1\n",
      "772             1                 6          1\n",
      "1208            1                 0          1\n",
      "2694            4                 3          1\n"
     ]
    }
   ],
   "source": [
    "# Create a DataFrame with residuals\n",
    "residuals_df = pd.DataFrame({'True Values': y_test, 'Predicted Values': y_pred, 'Residuals': residuals})\n",
    "\n",
    "# Sort the DataFrame by residuals in ascending order\n",
    "residuals_df_sorted = residuals_df.sort_values(by='Residuals', ascending=True)\n",
    "\n",
    "# Display the sorted DataFrame\n",
    "print(\"Sorted by Residuals (Ascending):\")\n",
    "print(residuals_df_sorted.head(50))\n",
    "\n",
    "# Sort the DataFrame by residuals in descending order\n",
    "residuals_df_sorted_desc = residuals_df.sort_values(by='Residuals', ascending=False)\n",
    "\n",
    "# Display the sorted DataFrame\n",
    "print(\"Sorted by Residuals (Descending):\")\n",
    "print(residuals_df_sorted_desc.head(50))"
   ]
  },
  {
   "cell_type": "code",
   "execution_count": 113,
   "metadata": {
    "scrolled": false
   },
   "outputs": [
    {
     "name": "stdout",
     "output_type": "stream",
     "text": [
      "      True Values  Predicted Values  Residuals\n",
      "199             0                 0          0\n",
      "1850            0                 0          0\n",
      "457             3                 3          0\n",
      "2684            1                 1          0\n",
      "1596            7                 7          0\n",
      "1771            0                 0          0\n",
      "2548            0                 0          0\n",
      "1307            0                 0          0\n",
      "834             0                 0          0\n",
      "1309            0                 5          0\n",
      "533             3                 3          0\n",
      "2394            8                 8          0\n",
      "1293            3                 3          0\n",
      "2539            0                 0          0\n",
      "2171            0                 0          0\n",
      "1222            0                 0          0\n",
      "1861            3                 3          0\n",
      "463             3                 3          0\n",
      "2702            3                 3          0\n",
      "567             3                 3          0\n",
      "581             0                 0          0\n",
      "1936            0                 6          0\n",
      "2172            1                 1          0\n",
      "2144            3                 3          0\n",
      "324             7                 7          0\n",
      "695             0                 0          0\n",
      "1652            0                 0          0\n",
      "309             1                 1          0\n",
      "1376            0                 0          0\n",
      "2347            0                 0          0\n",
      "2600            1                 1          0\n",
      "2561            3                 3          0\n",
      "63              0                 0          0\n",
      "2579            0                 0          0\n",
      "1336            0                 0          0\n",
      "1378            0                 9          0\n",
      "802             3                 3          0\n",
      "803             1                 1          0\n",
      "874             0                 0          0\n",
      "163             9                 6          0\n",
      "402             0                 0          0\n",
      "461             0                 9          0\n",
      "891             0                 0          0\n",
      "456             3                 3          0\n",
      "67              0                 0          0\n",
      "602             0                 9          0\n",
      "2508            0                 6          0\n",
      "1395            0                 0          0\n",
      "2291            3                 3          0\n"
     ]
    }
   ],
   "source": [
    "print(residuals_df_sorted_desc[residuals_df_sorted_desc['Residuals']==0].head(50))"
   ]
  },
  {
   "cell_type": "code",
   "execution_count": 114,
   "metadata": {},
   "outputs": [
    {
     "data": {
      "image/png": "[encoded data removed]",
      "text/plain": [
       "<Figure size 640x480 with 1 Axes>"
      ]
     },
     "metadata": {},
     "output_type": "display_data"
    }
   ],
   "source": [
    "# Plot histogram of residuals\n",
    "plt.hist(residuals_df['Residuals'], bins=20, edgecolor='black')\n",
    "plt.xlabel('Residuals')\n",
    "plt.ylabel('Frequency')\n",
    "plt.title('Histogram of Residuals')\n",
    "plt.show()"
   ]
  },
  {
   "cell_type": "code",
   "execution_count": 90,
   "metadata": {},
   "outputs": [
    {
     "name": "stdout",
     "output_type": "stream",
     "text": [
      "Sorted Value Counts:\n",
      "0      87\n",
      "1      17\n",
      "3      75\n",
      "4      11\n",
      "5      44\n",
      "6      64\n",
      "7      61\n",
      "8     117\n",
      "9      68\n",
      "10     10\n",
      "dtype: int64\n"
     ]
    }
   ],
   "source": [
    "# y_pred_series is our Pandas Series\n",
    "y_pred_series = pd.Series(y_pred)\n",
    "\n",
    "# Count occurrences of each unique value\n",
    "value_counts = y_pred_series.value_counts()\n",
    "\n",
    "# Sort the values based on unique values\n",
    "sorted_value_counts = value_counts.sort_index()\n",
    "\n",
    "# Display the sorted result\n",
    "print(\"Sorted Value Counts:\")\n",
    "print(sorted_value_counts)\n"
   ]
  },
  {
   "cell_type": "code",
   "execution_count": 91,
   "metadata": {},
   "outputs": [
    {
     "data": {
      "text/plain": [
       "554"
      ]
     },
     "execution_count": 91,
     "metadata": {},
     "output_type": "execute_result"
    }
   ],
   "source": [
    "len(y_test)"
   ]
  },
  {
   "cell_type": "code",
   "execution_count": 92,
   "metadata": {},
   "outputs": [
    {
     "name": "stdout",
     "output_type": "stream",
     "text": [
      "Sorted Value Counts:\n",
      "0     148\n",
      "1     185\n",
      "2      90\n",
      "3      67\n",
      "4      32\n",
      "5       9\n",
      "6       8\n",
      "7       7\n",
      "8       4\n",
      "9       3\n",
      "10      1\n",
      "Name: months_stayed, dtype: int64\n"
     ]
    }
   ],
   "source": [
    "\n",
    "# y_test_series is our Pandas Series\n",
    "y_test_series = pd.Series(y_test)\n",
    "\n",
    "# Count occurrences of each unique value\n",
    "value_counts = y_test_series.value_counts()\n",
    "\n",
    "# Sort the values based on unique values\n",
    "sorted_value_counts = value_counts.sort_index()\n",
    "\n",
    "# Display the sorted result\n",
    "print(\"Sorted Value Counts:\")\n",
    "print(sorted_value_counts)\n"
   ]
  },
  {
   "cell_type": "markdown",
   "metadata": {},
   "source": [
    "# ⬆︎⬆︎---------(Over sampling) F1 Score: 0.129868 -----⬆︎⬆︎"
   ]
  },
  {
   "cell_type": "code",
   "execution_count": null,
   "metadata": {},
   "outputs": [],
   "source": []
  },
  {
   "cell_type": "markdown",
   "metadata": {},
   "source": [
    "# The below part has error ☟"
   ]
  },
  {
   "cell_type": "markdown",
   "metadata": {},
   "source": [
    "## ----------------------ignore the below part for now -------------------------"
   ]
  },
  {
   "cell_type": "markdown",
   "metadata": {},
   "source": [
    "## Sami trying here"
   ]
  },
  {
   "cell_type": "code",
   "execution_count": 150,
   "metadata": {},
   "outputs": [
    {
     "name": "stdout",
     "output_type": "stream",
     "text": [
      "Fitting 5 folds for each of 162 candidates, totalling 810 fits\n",
      "Mean Squared Error: 2469.326715\n",
      "R-squared Score: 0.024761\n",
      "Accuracy Score: 0.003610\n"
     ]
    }
   ],
   "source": [
    "from sklearn.model_selection import GridSearchCV, train_test_split\n",
    "from sklearn.ensemble import RandomForestRegressor\n",
    "from sklearn.metrics import mean_squared_error, r2_score\n",
    "\n",
    "# Your feature and target variable definitions\n",
    "selected_features = ['simplified_color_encoded',  \n",
    "                     'simplified_condition_encoded', 'age']\n",
    "X = df[selected_features]\n",
    "y = df['days_stayed']\n",
    "\n",
    "# Split the data into training and testing sets\n",
    "X_train, X_test, y_train, y_test = train_test_split(X, y, test_size=0.2, random_state=42)\n",
    "\n",
    "# Define hyperparameter grid\n",
    "params = {\n",
    "    'n_estimators': [50, 100, 150],\n",
    "    'max_features': ['sqrt', 'log2', None],\n",
    "    'max_depth': [None, 5, 10],\n",
    "    'min_samples_split': [2, 5, 10],\n",
    "    'max_leaf_nodes': [5, 10]\n",
    "}\n",
    "\n",
    "# Initialize GridSearchCV with RandomForestRegressor\n",
    "grid_search_cv = GridSearchCV(\n",
    "    estimator=RandomForestRegressor(),\n",
    "    param_grid=params,\n",
    "    scoring='neg_mean_squared_error',\n",
    "    cv=5,\n",
    "    verbose=1\n",
    ")\n",
    "\n",
    "# Fit GridSearchCV with training data\n",
    "grid_search_cv.fit(X_train, y_train)\n",
    "\n",
    "# Get the best estimator based on mean squared error\n",
    "best_model = grid_search_cv.best_estimator_\n",
    "\n",
    "# Make predictions using the best model\n",
    "y_pred = np.round(best_model.predict(X_test))\n",
    "\n",
    "# Evaluate the model\n",
    "mse = mean_squared_error(y_true=y_test, y_pred=y_pred)\n",
    "print(\"Mean Squared Error: %f\" % mse)\n",
    "\n",
    "r2 = r2_score(y_true=y_test, y_pred=y_pred)\n",
    "print(\"R-squared Score: %f\" % r2)\n",
    "\n",
    "# Additional evaluation metrics if needed\n",
    "accuracy = accuracy_score(y_true=y_test, y_pred=y_pred)\n",
    "print(\"Accuracy Score: %f\" % accuracy)\n"
   ]
  },
  {
   "cell_type": "code",
   "execution_count": null,
   "metadata": {
    "scrolled": false
   },
   "outputs": [
    {
     "name": "stdout",
     "output_type": "stream",
     "text": [
      "Fitting 5 folds for each of 432 candidates, totalling 2160 fits\n"
     ]
    }
   ],
   "source": [
    "from sklearn.ensemble import GradientBoostingRegressor\n",
    "from sklearn.linear_model import LinearRegression\n",
    "from sklearn.svm import SVR\n",
    "\n",
    "# ... (your data loading and preprocessing code)\n",
    "# Your feature and target variable definitions\n",
    "selected_features = ['simplified_color_encoded',  \n",
    "                     'simplified_condition_encoded', 'age']\n",
    "X = df[selected_features]\n",
    "y = df['days_stayed']\n",
    "\n",
    "# Split the data into training and testing sets\n",
    "X_train, X_test, y_train, y_test = train_test_split(X, y, test_size=0.2, random_state=42)\n",
    "\n",
    "# New hyperparameter grid\n",
    "params = {\n",
    "    'n_estimators': [50, 100, 150, 200],\n",
    "    'max_features': ['sqrt', 'log2', None],\n",
    "    'max_depth': [None, 5, 10, 15],\n",
    "    'min_samples_split': [2, 5, 10],\n",
    "    'max_leaf_nodes': [5, 10, 15]\n",
    "}\n",
    "\n",
    "# GridSearchCV with RandomForestRegressor\n",
    "grid_search_cv_rf = GridSearchCV(\n",
    "    estimator=RandomForestRegressor(),\n",
    "    param_grid=params,\n",
    "    scoring='neg_mean_squared_error',\n",
    "    cv=5,\n",
    "    verbose=1\n",
    ")\n",
    "\n",
    "# GridSearchCV with GradientBoostingRegressor\n",
    "grid_search_cv_gb = GridSearchCV(\n",
    "    estimator=GradientBoostingRegressor(),\n",
    "    param_grid=params,\n",
    "    scoring='neg_mean_squared_error',\n",
    "    cv=5,\n",
    "    verbose=1\n",
    ")\n",
    "\n",
    "# GridSearchCV with LinearRegression\n",
    "grid_search_cv_lr = GridSearchCV(\n",
    "    estimator=LinearRegression(),\n",
    "    param_grid={},\n",
    "    scoring='neg_mean_squared_error',\n",
    "    cv=5,\n",
    "    verbose=1\n",
    ")\n",
    "\n",
    "# GridSearchCV with SVR\n",
    "grid_search_cv_svr = GridSearchCV(\n",
    "    estimator=SVR(),\n",
    "    param_grid={'C': [0.1, 1, 10], 'kernel': ['linear', 'rbf']},\n",
    "    scoring='neg_mean_squared_error',\n",
    "    cv=5,\n",
    "    verbose=1\n",
    ")\n",
    "\n",
    "# Fit models\n",
    "grid_search_cv_rf.fit(X_train, y_train)\n",
    "grid_search_cv_gb.fit(X_train, y_train)\n",
    "grid_search_cv_lr.fit(X_train, y_train)\n",
    "grid_search_cv_svr.fit(X_train, y_train)\n",
    "\n",
    "# Get best models\n",
    "best_rf_model = grid_search_cv_rf.best_estimator_\n",
    "best_gb_model = grid_search_cv_gb.best_estimator_\n",
    "best_lr_model = grid_search_cv_lr.best_estimator_\n",
    "best_svr_model = grid_search_cv_svr.best_estimator_\n",
    "\n",
    "# Evaluate models\n",
    "models = [best_rf_model, best_gb_model, best_lr_model, best_svr_model]\n",
    "model_names = ['RandomForestRegressor', 'GradientBoostingRegressor', 'LinearRegression', 'SVR']\n",
    "\n",
    "for model, name in zip(models, model_names):\n",
    "    y_pred = np.round(model.predict(X_test))\n",
    "    mse = mean_squared_error(y_true=y_test, y_pred=y_pred)\n",
    "    r2 = r2_score(y_true=y_test, y_pred=y_pred)\n",
    "    print(f\"{name} - Mean Squared Error: {mse}, R-squared Score: {r2}\")\n"
   ]
  },
  {
   "cell_type": "code",
   "execution_count": null,
   "metadata": {},
   "outputs": [],
   "source": []
  }
 ],
 "metadata": {
  "kernelspec": {
   "display_name": "Python 3 (ipykernel)",
   "language": "python",
   "name": "python3"
  },
  "language_info": {
   "codemirror_mode": {
    "name": "ipython",
    "version": 3
   },
   "file_extension": ".py",
   "mimetype": "text/x-python",
   "name": "python",
   "nbconvert_exporter": "python",
   "pygments_lexer": "ipython3",
   "version": "3.11.5"
  }
 },
 "nbformat": 4,
 "nbformat_minor": 2
}
