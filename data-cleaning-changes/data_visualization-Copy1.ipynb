{
 "cells": [
  {
   "cell_type": "code",
   "execution_count": 1,
   "id": "558a783c",
   "metadata": {},
   "outputs": [],
   "source": [
    "# Our data management libraries\n",
    "import pandas as pd\n",
    "import numpy as np\n",
    "\n",
    "# A basic visualization library\n",
    "import matplotlib.pyplot as plt\n",
    "\n",
    "# A great visualization library\n",
    "import seaborn as sns\n",
    "\n",
    "# Very important, this will make your charts appear in your notebook instead of in a new window.\n",
    "%matplotlib inline"
   ]
  },
  {
   "cell_type": "code",
   "execution_count": 2,
   "id": "90aa2ce6",
   "metadata": {
    "scrolled": true
   },
   "outputs": [
    {
     "data": {
      "text/html": [
       "<div>\n",
       "<style scoped>\n",
       "    .dataframe tbody tr th:only-of-type {\n",
       "        vertical-align: middle;\n",
       "    }\n",
       "\n",
       "    .dataframe tbody tr th {\n",
       "        vertical-align: top;\n",
       "    }\n",
       "\n",
       "    .dataframe thead th {\n",
       "        text-align: right;\n",
       "    }\n",
       "</style>\n",
       "<table border=\"1\" class=\"dataframe\">\n",
       "  <thead>\n",
       "    <tr style=\"text-align: right;\">\n",
       "      <th></th>\n",
       "      <th>Primary_Color</th>\n",
       "      <th>Sex</th>\n",
       "      <th>Age</th>\n",
       "      <th>Intake_Date</th>\n",
       "      <th>Intake_Condition</th>\n",
       "      <th>Intake_Type</th>\n",
       "      <th>days_stayed</th>\n",
       "    </tr>\n",
       "  </thead>\n",
       "  <tbody>\n",
       "    <tr>\n",
       "      <th>0</th>\n",
       "      <td>BLACK</td>\n",
       "      <td>Unknown</td>\n",
       "      <td>4</td>\n",
       "      <td>9/11/19</td>\n",
       "      <td>UNDER AGE/WEIGHT</td>\n",
       "      <td>STRAY</td>\n",
       "      <td>1092</td>\n",
       "    </tr>\n",
       "    <tr>\n",
       "      <th>1</th>\n",
       "      <td>BRN TABBY</td>\n",
       "      <td>Spayed</td>\n",
       "      <td>6</td>\n",
       "      <td>12/19/18</td>\n",
       "      <td>NORMAL</td>\n",
       "      <td>STRAY</td>\n",
       "      <td>799</td>\n",
       "    </tr>\n",
       "    <tr>\n",
       "      <th>2</th>\n",
       "      <td>BRN TABBY</td>\n",
       "      <td>Spayed</td>\n",
       "      <td>9</td>\n",
       "      <td>10/4/19</td>\n",
       "      <td>NORMAL</td>\n",
       "      <td>OWNER SURRENDER</td>\n",
       "      <td>760</td>\n",
       "    </tr>\n",
       "    <tr>\n",
       "      <th>3</th>\n",
       "      <td>ORG TABBY</td>\n",
       "      <td>Neutered</td>\n",
       "      <td>12</td>\n",
       "      <td>6/24/17</td>\n",
       "      <td>ILL MILD</td>\n",
       "      <td>STRAY</td>\n",
       "      <td>685</td>\n",
       "    </tr>\n",
       "    <tr>\n",
       "      <th>4</th>\n",
       "      <td>BRN TABBY</td>\n",
       "      <td>Neutered</td>\n",
       "      <td>8</td>\n",
       "      <td>7/13/17</td>\n",
       "      <td>NORMAL</td>\n",
       "      <td>STRAY</td>\n",
       "      <td>666</td>\n",
       "    </tr>\n",
       "  </tbody>\n",
       "</table>\n",
       "</div>"
      ],
      "text/plain": [
       "  Primary_Color       Sex  Age Intake_Date  Intake_Condition      Intake_Type  \\\n",
       "0         BLACK   Unknown    4     9/11/19  UNDER AGE/WEIGHT            STRAY   \n",
       "1     BRN TABBY    Spayed    6    12/19/18            NORMAL            STRAY   \n",
       "2     BRN TABBY    Spayed    9     10/4/19            NORMAL  OWNER SURRENDER   \n",
       "3     ORG TABBY  Neutered   12     6/24/17          ILL MILD            STRAY   \n",
       "4     BRN TABBY  Neutered    8     7/13/17            NORMAL            STRAY   \n",
       "\n",
       "   days_stayed  \n",
       "0         1092  \n",
       "1          799  \n",
       "2          760  \n",
       "3          685  \n",
       "4          666  "
      ]
     },
     "execution_count": 2,
     "metadata": {},
     "output_type": "execute_result"
    }
   ],
   "source": [
    "df = pd.read_csv('../dataset/df_only_adoption_nov_03.csv')\n",
    "df.head()"
   ]
  },
  {
   "cell_type": "markdown",
   "id": "37482bea",
   "metadata": {},
   "source": [
    "# Minimal Data cleaning begins"
   ]
  },
  {
   "cell_type": "code",
   "execution_count": 4,
   "id": "c8e07bc5",
   "metadata": {
    "scrolled": true
   },
   "outputs": [],
   "source": [
    "df['was_outcome_alive'].min()"
   ]
  },
  {
   "cell_type": "markdown",
   "id": "cbd7d0d9",
   "metadata": {},
   "source": [
    "## check for duplicate values"
   ]
  },
  {
   "cell_type": "code",
   "execution_count": null,
   "id": "df085d77",
   "metadata": {},
   "outputs": [],
   "source": [
    "# 1. Print the number of duplicate rows we have in our dataframe.\n",
    "print(df.duplicated().sum())"
   ]
  },
  {
   "cell_type": "markdown",
   "id": "59728ec4",
   "metadata": {},
   "source": [
    "## check null values"
   ]
  },
  {
   "cell_type": "code",
   "execution_count": null,
   "id": "a32b45de",
   "metadata": {
    "scrolled": false
   },
   "outputs": [],
   "source": [
    "# 1. Print the number of null rows we have in our dataframe.\n",
    "print(df.isnull().sum())"
   ]
  },
  {
   "cell_type": "markdown",
   "id": "60de3f00",
   "metadata": {},
   "source": [
    "## Observation: Animal_Name, Secondary_Color, DOB, Age, Intake_Subtype, Reason_for_Intake, Outcome_Date, Crossing, Outcome_Type and Outcome_Subtype are the columns which has null values"
   ]
  },
  {
   "cell_type": "markdown",
   "id": "a26a8b6c",
   "metadata": {},
   "source": [
    "**Among these columns Age is the only feature or column that will be essential for our project so we will have to work around with the null values of this columns**"
   ]
  },
  {
   "cell_type": "code",
   "execution_count": null,
   "id": "dfed33e1",
   "metadata": {},
   "outputs": [],
   "source": [
    "# rechecking for null values\n",
    "print(df.isnull().sum())"
   ]
  },
  {
   "cell_type": "markdown",
   "id": "4f6ed486",
   "metadata": {},
   "source": [
    "# Data ploting and visualization begins here"
   ]
  },
  {
   "cell_type": "markdown",
   "id": "f3b2e527",
   "metadata": {},
   "source": [
    "### Graphing individual columns"
   ]
  },
  {
   "cell_type": "code",
   "execution_count": 5,
   "id": "b4e8605f",
   "metadata": {},
   "outputs": [
    {
     "data": {
      "text/html": [
       "<div>\n",
       "<style scoped>\n",
       "    .dataframe tbody tr th:only-of-type {\n",
       "        vertical-align: middle;\n",
       "    }\n",
       "\n",
       "    .dataframe tbody tr th {\n",
       "        vertical-align: top;\n",
       "    }\n",
       "\n",
       "    .dataframe thead th {\n",
       "        text-align: right;\n",
       "    }\n",
       "</style>\n",
       "<table border=\"1\" class=\"dataframe\">\n",
       "  <thead>\n",
       "    <tr style=\"text-align: right;\">\n",
       "      <th></th>\n",
       "      <th>Primary_Color</th>\n",
       "      <th>Sex</th>\n",
       "      <th>Age</th>\n",
       "      <th>Intake_Date</th>\n",
       "      <th>Intake_Condition</th>\n",
       "      <th>Intake_Type</th>\n",
       "      <th>days_stayed</th>\n",
       "    </tr>\n",
       "  </thead>\n",
       "  <tbody>\n",
       "    <tr>\n",
       "      <th>0</th>\n",
       "      <td>BLACK</td>\n",
       "      <td>Unknown</td>\n",
       "      <td>4</td>\n",
       "      <td>9/11/19</td>\n",
       "      <td>UNDER AGE/WEIGHT</td>\n",
       "      <td>STRAY</td>\n",
       "      <td>1092</td>\n",
       "    </tr>\n",
       "    <tr>\n",
       "      <th>1</th>\n",
       "      <td>BRN TABBY</td>\n",
       "      <td>Spayed</td>\n",
       "      <td>6</td>\n",
       "      <td>12/19/18</td>\n",
       "      <td>NORMAL</td>\n",
       "      <td>STRAY</td>\n",
       "      <td>799</td>\n",
       "    </tr>\n",
       "    <tr>\n",
       "      <th>2</th>\n",
       "      <td>BRN TABBY</td>\n",
       "      <td>Spayed</td>\n",
       "      <td>9</td>\n",
       "      <td>10/4/19</td>\n",
       "      <td>NORMAL</td>\n",
       "      <td>OWNER SURRENDER</td>\n",
       "      <td>760</td>\n",
       "    </tr>\n",
       "    <tr>\n",
       "      <th>3</th>\n",
       "      <td>ORG TABBY</td>\n",
       "      <td>Neutered</td>\n",
       "      <td>12</td>\n",
       "      <td>6/24/17</td>\n",
       "      <td>ILL MILD</td>\n",
       "      <td>STRAY</td>\n",
       "      <td>685</td>\n",
       "    </tr>\n",
       "    <tr>\n",
       "      <th>4</th>\n",
       "      <td>BRN TABBY</td>\n",
       "      <td>Neutered</td>\n",
       "      <td>8</td>\n",
       "      <td>7/13/17</td>\n",
       "      <td>NORMAL</td>\n",
       "      <td>STRAY</td>\n",
       "      <td>666</td>\n",
       "    </tr>\n",
       "    <tr>\n",
       "      <th>...</th>\n",
       "      <td>...</td>\n",
       "      <td>...</td>\n",
       "      <td>...</td>\n",
       "      <td>...</td>\n",
       "      <td>...</td>\n",
       "      <td>...</td>\n",
       "      <td>...</td>\n",
       "    </tr>\n",
       "    <tr>\n",
       "      <th>3014</th>\n",
       "      <td>ORANGE</td>\n",
       "      <td>Spayed</td>\n",
       "      <td>2</td>\n",
       "      <td>8/21/21</td>\n",
       "      <td>NORMAL</td>\n",
       "      <td>STRAY</td>\n",
       "      <td>0</td>\n",
       "    </tr>\n",
       "    <tr>\n",
       "      <th>3015</th>\n",
       "      <td>ORG TABBY</td>\n",
       "      <td>Neutered</td>\n",
       "      <td>2</td>\n",
       "      <td>12/18/21</td>\n",
       "      <td>NORMAL</td>\n",
       "      <td>STRAY</td>\n",
       "      <td>0</td>\n",
       "    </tr>\n",
       "    <tr>\n",
       "      <th>3016</th>\n",
       "      <td>BRN TABBY</td>\n",
       "      <td>Spayed</td>\n",
       "      <td>1</td>\n",
       "      <td>5/18/22</td>\n",
       "      <td>UNDER AGE/WEIGHT</td>\n",
       "      <td>STRAY</td>\n",
       "      <td>0</td>\n",
       "    </tr>\n",
       "    <tr>\n",
       "      <th>3017</th>\n",
       "      <td>BLK TABBY</td>\n",
       "      <td>Spayed</td>\n",
       "      <td>1</td>\n",
       "      <td>11/10/22</td>\n",
       "      <td>NORMAL</td>\n",
       "      <td>RETURN</td>\n",
       "      <td>0</td>\n",
       "    </tr>\n",
       "    <tr>\n",
       "      <th>3018</th>\n",
       "      <td>GRAY</td>\n",
       "      <td>Neutered</td>\n",
       "      <td>0</td>\n",
       "      <td>12/21/22</td>\n",
       "      <td>FRACTIOUS</td>\n",
       "      <td>STRAY</td>\n",
       "      <td>0</td>\n",
       "    </tr>\n",
       "  </tbody>\n",
       "</table>\n",
       "<p>3019 rows × 7 columns</p>\n",
       "</div>"
      ],
      "text/plain": [
       "     Primary_Color       Sex  Age Intake_Date  Intake_Condition  \\\n",
       "0            BLACK   Unknown    4     9/11/19  UNDER AGE/WEIGHT   \n",
       "1        BRN TABBY    Spayed    6    12/19/18            NORMAL   \n",
       "2        BRN TABBY    Spayed    9     10/4/19            NORMAL   \n",
       "3        ORG TABBY  Neutered   12     6/24/17          ILL MILD   \n",
       "4        BRN TABBY  Neutered    8     7/13/17            NORMAL   \n",
       "...            ...       ...  ...         ...               ...   \n",
       "3014        ORANGE    Spayed    2     8/21/21            NORMAL   \n",
       "3015     ORG TABBY  Neutered    2    12/18/21            NORMAL   \n",
       "3016     BRN TABBY    Spayed    1     5/18/22  UNDER AGE/WEIGHT   \n",
       "3017     BLK TABBY    Spayed    1    11/10/22            NORMAL   \n",
       "3018          GRAY  Neutered    0    12/21/22         FRACTIOUS   \n",
       "\n",
       "          Intake_Type  days_stayed  \n",
       "0               STRAY         1092  \n",
       "1               STRAY          799  \n",
       "2     OWNER SURRENDER          760  \n",
       "3               STRAY          685  \n",
       "4               STRAY          666  \n",
       "...               ...          ...  \n",
       "3014            STRAY            0  \n",
       "3015            STRAY            0  \n",
       "3016            STRAY            0  \n",
       "3017           RETURN            0  \n",
       "3018            STRAY            0  \n",
       "\n",
       "[3019 rows x 7 columns]"
      ]
     },
     "execution_count": 5,
     "metadata": {},
     "output_type": "execute_result"
    }
   ],
   "source": [
    "# selecting rows that may matter for our prediction\n",
    "new_df = df[['Primary_Color', 'Sex', 'Age','Intake_Date', 'Intake_Condition', 'Intake_Type','days_stayed']]\n",
    "new_df"
   ]
  },
  {
   "cell_type": "code",
   "execution_count": null,
   "id": "5ef7c361",
   "metadata": {},
   "outputs": [],
   "source": [
    "# exporting csv file\n",
    "new_df.to_csv(\"../dataset/df_only_adoption_nov_03.csv\", index = False)"
   ]
  },
  {
   "cell_type": "code",
   "execution_count": 6,
   "id": "9d867a97",
   "metadata": {
    "scrolled": false
   },
   "outputs": [
    {
     "name": "stdout",
     "output_type": "stream",
     "text": [
      "(3019, 7)\n"
     ]
    }
   ],
   "source": [
    "# checking the shape of our new dataset\n",
    "print(new_df.shape)"
   ]
  },
  {
   "cell_type": "markdown",
   "id": "b2b9159f",
   "metadata": {},
   "source": [
    "## We will drop from Primary_Color"
   ]
  },
  {
   "cell_type": "code",
   "execution_count": 7,
   "id": "f03994f7",
   "metadata": {},
   "outputs": [
    {
     "data": {
      "text/html": [
       "<div>\n",
       "<style scoped>\n",
       "    .dataframe tbody tr th:only-of-type {\n",
       "        vertical-align: middle;\n",
       "    }\n",
       "\n",
       "    .dataframe tbody tr th {\n",
       "        vertical-align: top;\n",
       "    }\n",
       "\n",
       "    .dataframe thead th {\n",
       "        text-align: right;\n",
       "    }\n",
       "</style>\n",
       "<table border=\"1\" class=\"dataframe\">\n",
       "  <thead>\n",
       "    <tr style=\"text-align: right;\">\n",
       "      <th></th>\n",
       "      <th>Primary_Color</th>\n",
       "      <th>Sex</th>\n",
       "      <th>Age</th>\n",
       "      <th>Intake_Date</th>\n",
       "      <th>Intake_Condition</th>\n",
       "      <th>Intake_Type</th>\n",
       "      <th>days_stayed</th>\n",
       "    </tr>\n",
       "  </thead>\n",
       "  <tbody>\n",
       "    <tr>\n",
       "      <th>0</th>\n",
       "      <td>BLACK</td>\n",
       "      <td>Unknown</td>\n",
       "      <td>4</td>\n",
       "      <td>9/11/19</td>\n",
       "      <td>UNDER AGE/WEIGHT</td>\n",
       "      <td>STRAY</td>\n",
       "      <td>1092</td>\n",
       "    </tr>\n",
       "    <tr>\n",
       "      <th>1</th>\n",
       "      <td>BRN TABBY</td>\n",
       "      <td>Spayed</td>\n",
       "      <td>6</td>\n",
       "      <td>12/19/18</td>\n",
       "      <td>NORMAL</td>\n",
       "      <td>STRAY</td>\n",
       "      <td>799</td>\n",
       "    </tr>\n",
       "    <tr>\n",
       "      <th>2</th>\n",
       "      <td>BRN TABBY</td>\n",
       "      <td>Spayed</td>\n",
       "      <td>9</td>\n",
       "      <td>10/4/19</td>\n",
       "      <td>NORMAL</td>\n",
       "      <td>OWNER SURRENDER</td>\n",
       "      <td>760</td>\n",
       "    </tr>\n",
       "    <tr>\n",
       "      <th>3</th>\n",
       "      <td>ORG TABBY</td>\n",
       "      <td>Neutered</td>\n",
       "      <td>12</td>\n",
       "      <td>6/24/17</td>\n",
       "      <td>ILL MILD</td>\n",
       "      <td>STRAY</td>\n",
       "      <td>685</td>\n",
       "    </tr>\n",
       "    <tr>\n",
       "      <th>4</th>\n",
       "      <td>BRN TABBY</td>\n",
       "      <td>Neutered</td>\n",
       "      <td>8</td>\n",
       "      <td>7/13/17</td>\n",
       "      <td>NORMAL</td>\n",
       "      <td>STRAY</td>\n",
       "      <td>666</td>\n",
       "    </tr>\n",
       "  </tbody>\n",
       "</table>\n",
       "</div>"
      ],
      "text/plain": [
       "  Primary_Color       Sex  Age Intake_Date  Intake_Condition      Intake_Type  \\\n",
       "0         BLACK   Unknown    4     9/11/19  UNDER AGE/WEIGHT            STRAY   \n",
       "1     BRN TABBY    Spayed    6    12/19/18            NORMAL            STRAY   \n",
       "2     BRN TABBY    Spayed    9     10/4/19            NORMAL  OWNER SURRENDER   \n",
       "3     ORG TABBY  Neutered   12     6/24/17          ILL MILD            STRAY   \n",
       "4     BRN TABBY  Neutered    8     7/13/17            NORMAL            STRAY   \n",
       "\n",
       "   days_stayed  \n",
       "0         1092  \n",
       "1          799  \n",
       "2          760  \n",
       "3          685  \n",
       "4          666  "
      ]
     },
     "execution_count": 7,
     "metadata": {},
     "output_type": "execute_result"
    }
   ],
   "source": [
    "# Define the values to be dropped\n",
    "values_to_drop = ['SEAL', 'SILVER', 'CREAM PT', 'LILAC PT', 'YELLOW', 'L-C PT', 'BUFF', 'BR BRINDLE', 'ORG TIGER', 'TORTIE PT', 'CHOCOLATE', 'PINK', 'CRM TIGER', 'UNKNOWN']  \n",
    "\n",
    "# Use boolean indexing to filter the DataFrame\n",
    "new_df = new_df[~new_df['Primary_Color'].isin(values_to_drop)]\n",
    "new_df.head()"
   ]
  },
  {
   "cell_type": "code",
   "execution_count": 8,
   "id": "3f1d5e81",
   "metadata": {
    "scrolled": false
   },
   "outputs": [
    {
     "data": {
      "image/png": "[encoded data removed]",
      "text/plain": [
       "<Figure size 3000x2500 with 1 Axes>"
      ]
     },
     "metadata": {},
     "output_type": "display_data"
    }
   ],
   "source": [
    "# ploting bar plot for Primary_Color column\n",
    "\n",
    "category_counts = new_df['Primary_Color'].value_counts()\n",
    "category_counts.plot(kind='bar', color='yellow', edgecolor='black', figsize= (30,25))\n",
    "\n",
    "# Adding labels and title\n",
    "plt.xlabel('Primary Color')\n",
    "plt.ylabel('Frequency')\n",
    "plt.title('Primary Color Data Distribution')\n",
    "\n",
    "# Display the plot\n",
    "plt.show()"
   ]
  },
  {
   "cell_type": "markdown",
   "id": "b4ae5316",
   "metadata": {},
   "source": [
    "# dropping 'Unknown' from sex"
   ]
  },
  {
   "cell_type": "code",
   "execution_count": 9,
   "id": "7408e48d",
   "metadata": {},
   "outputs": [
    {
     "data": {
      "text/html": [
       "<div>\n",
       "<style scoped>\n",
       "    .dataframe tbody tr th:only-of-type {\n",
       "        vertical-align: middle;\n",
       "    }\n",
       "\n",
       "    .dataframe tbody tr th {\n",
       "        vertical-align: top;\n",
       "    }\n",
       "\n",
       "    .dataframe thead th {\n",
       "        text-align: right;\n",
       "    }\n",
       "</style>\n",
       "<table border=\"1\" class=\"dataframe\">\n",
       "  <thead>\n",
       "    <tr style=\"text-align: right;\">\n",
       "      <th></th>\n",
       "      <th>Primary_Color</th>\n",
       "      <th>Sex</th>\n",
       "      <th>Age</th>\n",
       "      <th>Intake_Date</th>\n",
       "      <th>Intake_Condition</th>\n",
       "      <th>Intake_Type</th>\n",
       "      <th>days_stayed</th>\n",
       "    </tr>\n",
       "  </thead>\n",
       "  <tbody>\n",
       "    <tr>\n",
       "      <th>1</th>\n",
       "      <td>BRN TABBY</td>\n",
       "      <td>Spayed</td>\n",
       "      <td>6</td>\n",
       "      <td>12/19/18</td>\n",
       "      <td>NORMAL</td>\n",
       "      <td>STRAY</td>\n",
       "      <td>799</td>\n",
       "    </tr>\n",
       "    <tr>\n",
       "      <th>2</th>\n",
       "      <td>BRN TABBY</td>\n",
       "      <td>Spayed</td>\n",
       "      <td>9</td>\n",
       "      <td>10/4/19</td>\n",
       "      <td>NORMAL</td>\n",
       "      <td>OWNER SURRENDER</td>\n",
       "      <td>760</td>\n",
       "    </tr>\n",
       "    <tr>\n",
       "      <th>3</th>\n",
       "      <td>ORG TABBY</td>\n",
       "      <td>Neutered</td>\n",
       "      <td>12</td>\n",
       "      <td>6/24/17</td>\n",
       "      <td>ILL MILD</td>\n",
       "      <td>STRAY</td>\n",
       "      <td>685</td>\n",
       "    </tr>\n",
       "    <tr>\n",
       "      <th>4</th>\n",
       "      <td>BRN TABBY</td>\n",
       "      <td>Neutered</td>\n",
       "      <td>8</td>\n",
       "      <td>7/13/17</td>\n",
       "      <td>NORMAL</td>\n",
       "      <td>STRAY</td>\n",
       "      <td>666</td>\n",
       "    </tr>\n",
       "    <tr>\n",
       "      <th>5</th>\n",
       "      <td>GRAY TABBY</td>\n",
       "      <td>Spayed</td>\n",
       "      <td>8</td>\n",
       "      <td>5/10/17</td>\n",
       "      <td>NORMAL</td>\n",
       "      <td>STRAY</td>\n",
       "      <td>661</td>\n",
       "    </tr>\n",
       "  </tbody>\n",
       "</table>\n",
       "</div>"
      ],
      "text/plain": [
       "  Primary_Color       Sex  Age Intake_Date Intake_Condition      Intake_Type  \\\n",
       "1     BRN TABBY    Spayed    6    12/19/18           NORMAL            STRAY   \n",
       "2     BRN TABBY    Spayed    9     10/4/19           NORMAL  OWNER SURRENDER   \n",
       "3     ORG TABBY  Neutered   12     6/24/17         ILL MILD            STRAY   \n",
       "4     BRN TABBY  Neutered    8     7/13/17           NORMAL            STRAY   \n",
       "5    GRAY TABBY    Spayed    8     5/10/17           NORMAL            STRAY   \n",
       "\n",
       "   days_stayed  \n",
       "1          799  \n",
       "2          760  \n",
       "3          685  \n",
       "4          666  \n",
       "5          661  "
      ]
     },
     "execution_count": 9,
     "metadata": {},
     "output_type": "execute_result"
    }
   ],
   "source": [
    "# Define the values to be dropped\n",
    "values_to_drop = ['Unknown']  \n",
    "\n",
    "# Use boolean indexing to filter the DataFrame\n",
    "new_df = new_df[~new_df['Sex'].isin(values_to_drop)]\n",
    "new_df.head()"
   ]
  },
  {
   "cell_type": "code",
   "execution_count": 10,
   "id": "59d754c5",
   "metadata": {
    "scrolled": false
   },
   "outputs": [
    {
     "data": {
      "image/png": "[encoded data removed]",
      "text/plain": [
       "<Figure size 640x480 with 1 Axes>"
      ]
     },
     "metadata": {},
     "output_type": "display_data"
    }
   ],
   "source": [
    "# ploting bar plot for sex column\n",
    "\n",
    "category_counts = new_df['Sex'].value_counts()\n",
    "category_counts.plot(kind='bar', color='blue', edgecolor='black')\n",
    "\n",
    "# Adding labels and title\n",
    "plt.xlabel('Sex')\n",
    "plt.ylabel('Frequency')\n",
    "plt.title('Sex Data Distribution')\n",
    "\n",
    "# Display the plot\n",
    "plt.show()"
   ]
  },
  {
   "cell_type": "markdown",
   "id": "e08eb769",
   "metadata": {},
   "source": [
    "# not dropping from age"
   ]
  },
  {
   "cell_type": "code",
   "execution_count": 11,
   "id": "a4386e99",
   "metadata": {
    "scrolled": false
   },
   "outputs": [
    {
     "data": {
      "image/png": "[encoded data removed]",
      "text/plain": [
       "<Figure size 640x480 with 1 Axes>"
      ]
     },
     "metadata": {},
     "output_type": "display_data"
    }
   ],
   "source": [
    "# ploting bar plot for age column\n",
    "new_df['Age'].plot(bins=27, kind='hist', edgecolor='black')\n",
    "\n",
    "# category_counts = new_df['Sex'].value_counts()\n",
    "# category_counts.plot(kind='bar', color='blue', edgecolor='black')\n",
    "\n",
    "# Adding labels and title\n",
    "plt.xlabel('Age')\n",
    "plt.ylabel('Frequency')\n",
    "plt.title('Age Data Distribution')\n",
    "\n",
    "# # Display the plot\n",
    "plt.show()"
   ]
  },
  {
   "cell_type": "markdown",
   "id": "91044975",
   "metadata": {},
   "source": [
    "**Here we see histogram has outliers on both end and we need to remove these outliers for the sake of accurate prediction**"
   ]
  },
  {
   "cell_type": "markdown",
   "id": "5430123d",
   "metadata": {},
   "source": [
    "# not dropping from Intake_Condition"
   ]
  },
  {
   "cell_type": "code",
   "execution_count": null,
   "id": "b0566474",
   "metadata": {
    "scrolled": false
   },
   "outputs": [],
   "source": [
    "# ploting bar plot for Intake_Condition column\n",
    "category_counts = new_df['Intake_Condition'].value_counts()\n",
    "category_counts.plot(kind='bar', color='orange', edgecolor='black', figsize= (30,25))\n",
    "\n",
    "# Adding labels and title\n",
    "plt.xlabel('Intake Condition')\n",
    "plt.ylabel('Frequency')\n",
    "plt.title('Intake Condition Data Distribution')\n",
    "\n",
    "# Display the plot\n",
    "plt.show()"
   ]
  },
  {
   "cell_type": "markdown",
   "id": "53718026",
   "metadata": {},
   "source": [
    "## We will drop from Intake Type"
   ]
  },
  {
   "cell_type": "code",
   "execution_count": null,
   "id": "fc3da28a",
   "metadata": {},
   "outputs": [],
   "source": [
    "# Define the values to be dropped\n",
    "values_to_drop = ['QUARANTINE', 'SAFE KEEP', 'TRAP, NEUTER, RETURN']\n",
    "\n",
    "# Use boolean indexing to filter the DataFrame\n",
    "new_df = new_df[~new_df['Intake_Type'].isin(values_to_drop)]\n",
    "new_df.head()"
   ]
  },
  {
   "cell_type": "code",
   "execution_count": null,
   "id": "1a05f28c",
   "metadata": {
    "scrolled": false
   },
   "outputs": [],
   "source": [
    "# ploting bar plot for Intake Type column\n",
    "\n",
    "category_counts = new_df['Intake_Type'].value_counts()\n",
    "category_counts.plot(kind='bar', color='red', edgecolor='black', figsize= (20,20))\n",
    "\n",
    "# Adding labels and title\n",
    "plt.xlabel('Intake Type')\n",
    "plt.ylabel('Frequency')\n",
    "plt.title('Intake Type Data Distribution')\n",
    "\n",
    "# Display the plot\n",
    "plt.show()"
   ]
  },
  {
   "cell_type": "markdown",
   "id": "749f19bf",
   "metadata": {},
   "source": [
    "## We are not droping day_stayed"
   ]
  },
  {
   "cell_type": "code",
   "execution_count": null,
   "id": "0fb60a7e",
   "metadata": {
    "scrolled": true
   },
   "outputs": [],
   "source": [
    "# ploting bar plot for days stayed column\n",
    "# Calculate bin edges programmatically\n",
    "bin_width = 30  # Adjust this based on your preference\n",
    "min_value = int(np.floor(min(new_df['days_stayed']) / bin_width) * bin_width)\n",
    "max_value = int(np.ceil(max(new_df['days_stayed']) / bin_width) * bin_width)\n",
    "bins = range(min_value, max_value + bin_width, bin_width)\n",
    "\n",
    "new_df['days_stayed'].plot(bins= bins, kind='hist', edgecolor='black', figsize= (30,20))\n",
    "\n",
    "# category_counts = new_df['Sex'].value_counts()\n",
    "# category_counts.plot(kind='bar', color='blue', edgecolor='black')\n",
    "\n",
    "# Adding labels and title\n",
    "plt.xlabel('days_stayed')\n",
    "plt.ylabel('Frequency')\n",
    "plt.title('Days stayed Data Distribution')\n",
    "\n",
    "# # Display the plot\n",
    "plt.show()"
   ]
  },
  {
   "cell_type": "code",
   "execution_count": null,
   "id": "19d3d3b9",
   "metadata": {},
   "outputs": [],
   "source": [
    "# exporting outlier free csv file\n",
    "new_df.to_csv(\"../dataset/df_outlier_free_nov_03.csv\", index = False)"
   ]
  },
  {
   "cell_type": "code",
   "execution_count": null,
   "id": "e5562baa",
   "metadata": {},
   "outputs": [],
   "source": [
    "print(new_df.shape)"
   ]
  },
  {
   "cell_type": "code",
   "execution_count": null,
   "id": "b3ce2bd6",
   "metadata": {},
   "outputs": [],
   "source": []
  }
 ],
 "metadata": {
  "kernelspec": {
   "display_name": "Python 3 (ipykernel)",
   "language": "python",
   "name": "python3"
  },
  "language_info": {
   "codemirror_mode": {
    "name": "ipython",
    "version": 3
   },
   "file_extension": ".py",
   "mimetype": "text/x-python",
   "name": "python",
   "nbconvert_exporter": "python",
   "pygments_lexer": "ipython3",
   "version": "3.8.18"
  }
 },
 "nbformat": 4,
 "nbformat_minor": 5
}
