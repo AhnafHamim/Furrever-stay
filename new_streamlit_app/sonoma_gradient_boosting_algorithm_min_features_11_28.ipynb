{
 "cells": [
  {
   "cell_type": "markdown",
   "metadata": {},
   "source": [
    "# Trying gradient boosting algorithm"
   ]
  },
  {
   "cell_type": "code",
   "execution_count": 1,
   "metadata": {},
   "outputs": [],
   "source": [
    "# Import our libraries \n",
    "\n",
    "# Pandas and numpy for data wrangling\n",
    "import pandas as pd\n",
    "import numpy as np\n",
    "\n",
    "# Seaborn / matplotlib for visualization \n",
    "import seaborn as sns\n",
    "sns.set()\n",
    "\n",
    "import matplotlib.pyplot as plt\n",
    "%matplotlib inline\n",
    "\n",
    "# Helper function to split our data\n",
    "from sklearn.model_selection import train_test_split, GridSearchCV\n",
    "\n",
    "# Helper fuctions to evaluate our model.\n",
    "from sklearn.metrics import mean_squared_error, accuracy_score, precision_score, recall_score, confusion_matrix, classification_report, roc_auc_score, f1_score\n",
    "\n",
    "# Helper function to split our data\n",
    "from sklearn.model_selection import train_test_split\n",
    "\n",
    "# Helper fuctions to evaluate our model.\n",
    "from sklearn.metrics import accuracy_score, precision_score, recall_score, confusion_matrix, classification_report, roc_auc_score, f1_score\n",
    "\n",
    "# Import our Decision Tree\n",
    "from sklearn.tree import DecisionTreeClassifier \n",
    "\n",
    "# Import our Random Forest \n",
    "from sklearn.ensemble import RandomForestClassifier\n",
    "\n",
    "# Import the trees from sklearn\n",
    "from sklearn import tree\n",
    "\n",
    "# Helper functions to visualize our trees\n",
    "from sklearn.tree import plot_tree, export_text\n",
    "\n",
    "#tree regression\n",
    "from sklearn.ensemble import RandomForestRegressor\n",
    "# imbalanced-learn library\n",
    "from imblearn.over_sampling import RandomOverSampler\n",
    "\n",
    "from sklearn.tree import plot_tree, export_text\n",
    "from sklearn.datasets import make_regression\n",
    "from sklearn.metrics import mean_squared_error, r2_score\n",
    "\n",
    "from sklearn.ensemble import GradientBoostingRegressor\n",
    "from sklearn.model_selection import train_test_split\n",
    "from sklearn.model_selection import GridSearchCV\n",
    "from sklearn.preprocessing import StandardScaler"
   ]
  },
  {
   "cell_type": "code",
   "execution_count": 2,
   "metadata": {},
   "outputs": [
    {
     "data": {
      "text/html": [
       "<div>\n",
       "<style scoped>\n",
       "    .dataframe tbody tr th:only-of-type {\n",
       "        vertical-align: middle;\n",
       "    }\n",
       "\n",
       "    .dataframe tbody tr th {\n",
       "        vertical-align: top;\n",
       "    }\n",
       "\n",
       "    .dataframe thead th {\n",
       "        text-align: right;\n",
       "    }\n",
       "</style>\n",
       "<table border=\"1\" class=\"dataframe\">\n",
       "  <thead>\n",
       "    <tr style=\"text-align: right;\">\n",
       "      <th></th>\n",
       "      <th>simplified_color</th>\n",
       "      <th>simplified_sex</th>\n",
       "      <th>intake_age</th>\n",
       "      <th>simplified_condition</th>\n",
       "      <th>simplified_type</th>\n",
       "      <th>simplified_breed</th>\n",
       "      <th>simplified_size</th>\n",
       "      <th>days_in_shelter</th>\n",
       "      <th>simplified_color_encoded</th>\n",
       "      <th>simplified_sex_encoded</th>\n",
       "      <th>simplified_condition_encoded</th>\n",
       "      <th>simplified_type_encoded</th>\n",
       "      <th>simplified_breed_encoded</th>\n",
       "      <th>simplified_size_encoded</th>\n",
       "    </tr>\n",
       "  </thead>\n",
       "  <tbody>\n",
       "    <tr>\n",
       "      <th>0</th>\n",
       "      <td>TABBY</td>\n",
       "      <td>FEMALE</td>\n",
       "      <td>0</td>\n",
       "      <td>OTHER</td>\n",
       "      <td>STRAY</td>\n",
       "      <td>DOMESTIC BREED</td>\n",
       "      <td>KITTN</td>\n",
       "      <td>81</td>\n",
       "      <td>2</td>\n",
       "      <td>0</td>\n",
       "      <td>2</td>\n",
       "      <td>2</td>\n",
       "      <td>0</td>\n",
       "      <td>0</td>\n",
       "    </tr>\n",
       "    <tr>\n",
       "      <th>1</th>\n",
       "      <td>TABBY</td>\n",
       "      <td>FEMALE</td>\n",
       "      <td>0</td>\n",
       "      <td>HEALTHY</td>\n",
       "      <td>OWNER SURRENDER</td>\n",
       "      <td>DOMESTIC BREED</td>\n",
       "      <td>KITTN</td>\n",
       "      <td>32</td>\n",
       "      <td>2</td>\n",
       "      <td>0</td>\n",
       "      <td>0</td>\n",
       "      <td>1</td>\n",
       "      <td>0</td>\n",
       "      <td>0</td>\n",
       "    </tr>\n",
       "    <tr>\n",
       "      <th>2</th>\n",
       "      <td>TABBY</td>\n",
       "      <td>FEMALE</td>\n",
       "      <td>0</td>\n",
       "      <td>HEALTHY</td>\n",
       "      <td>STRAY</td>\n",
       "      <td>DOMESTIC BREED</td>\n",
       "      <td>SMALL</td>\n",
       "      <td>94</td>\n",
       "      <td>2</td>\n",
       "      <td>0</td>\n",
       "      <td>0</td>\n",
       "      <td>2</td>\n",
       "      <td>0</td>\n",
       "      <td>2</td>\n",
       "    </tr>\n",
       "    <tr>\n",
       "      <th>3</th>\n",
       "      <td>TABBY</td>\n",
       "      <td>MALE</td>\n",
       "      <td>0</td>\n",
       "      <td>OTHER</td>\n",
       "      <td>STRAY</td>\n",
       "      <td>DOMESTIC BREED</td>\n",
       "      <td>KITTN</td>\n",
       "      <td>80</td>\n",
       "      <td>2</td>\n",
       "      <td>1</td>\n",
       "      <td>2</td>\n",
       "      <td>2</td>\n",
       "      <td>0</td>\n",
       "      <td>0</td>\n",
       "    </tr>\n",
       "    <tr>\n",
       "      <th>4</th>\n",
       "      <td>TABBY</td>\n",
       "      <td>FEMALE</td>\n",
       "      <td>0</td>\n",
       "      <td>OTHER</td>\n",
       "      <td>STRAY</td>\n",
       "      <td>DOMESTIC BREED</td>\n",
       "      <td>KITTN</td>\n",
       "      <td>70</td>\n",
       "      <td>2</td>\n",
       "      <td>0</td>\n",
       "      <td>2</td>\n",
       "      <td>2</td>\n",
       "      <td>0</td>\n",
       "      <td>0</td>\n",
       "    </tr>\n",
       "  </tbody>\n",
       "</table>\n",
       "</div>"
      ],
      "text/plain": [
       "  simplified_color simplified_sex  intake_age simplified_condition  \\\n",
       "0            TABBY         FEMALE           0                OTHER   \n",
       "1            TABBY         FEMALE           0              HEALTHY   \n",
       "2            TABBY         FEMALE           0              HEALTHY   \n",
       "3            TABBY           MALE           0                OTHER   \n",
       "4            TABBY         FEMALE           0                OTHER   \n",
       "\n",
       "   simplified_type simplified_breed simplified_size  days_in_shelter  \\\n",
       "0            STRAY   DOMESTIC BREED           KITTN               81   \n",
       "1  OWNER SURRENDER   DOMESTIC BREED           KITTN               32   \n",
       "2            STRAY   DOMESTIC BREED           SMALL               94   \n",
       "3            STRAY   DOMESTIC BREED           KITTN               80   \n",
       "4            STRAY   DOMESTIC BREED           KITTN               70   \n",
       "\n",
       "   simplified_color_encoded  simplified_sex_encoded  \\\n",
       "0                         2                       0   \n",
       "1                         2                       0   \n",
       "2                         2                       0   \n",
       "3                         2                       1   \n",
       "4                         2                       0   \n",
       "\n",
       "   simplified_condition_encoded  simplified_type_encoded  \\\n",
       "0                             2                        2   \n",
       "1                             0                        1   \n",
       "2                             0                        2   \n",
       "3                             2                        2   \n",
       "4                             2                        2   \n",
       "\n",
       "   simplified_breed_encoded  simplified_size_encoded  \n",
       "0                         0                        0  \n",
       "1                         0                        0  \n",
       "2                         0                        2  \n",
       "3                         0                        0  \n",
       "4                         0                        0  "
      ]
     },
     "execution_count": 2,
     "metadata": {},
     "output_type": "execute_result"
    }
   ],
   "source": [
    "df = pd.read_csv('../dataset/sonoma_county_level_encoded_numeric_value_nov_28.csv')\n",
    "\n",
    "df.head(5)"
   ]
  },
  {
   "cell_type": "code",
   "execution_count": 3,
   "metadata": {},
   "outputs": [],
   "source": [
    "# print(df.duplicated().sum())"
   ]
  },
  {
   "cell_type": "code",
   "execution_count": 4,
   "metadata": {},
   "outputs": [],
   "source": [
    "# df= df.drop_duplicates(keep='first')"
   ]
  },
  {
   "cell_type": "code",
   "execution_count": 5,
   "metadata": {},
   "outputs": [],
   "source": [
    "# print(df.duplicated().sum())"
   ]
  },
  {
   "cell_type": "code",
   "execution_count": 6,
   "metadata": {},
   "outputs": [
    {
     "data": {
      "text/plain": [
       "(3294, 14)"
      ]
     },
     "execution_count": 6,
     "metadata": {},
     "output_type": "execute_result"
    }
   ],
   "source": [
    "df.shape"
   ]
  },
  {
   "cell_type": "markdown",
   "metadata": {},
   "source": [
    "## ⬇︎⬇︎ GradientBoostingRegressor simple  ⬇︎⬇︎"
   ]
  },
  {
   "cell_type": "code",
   "execution_count": 7,
   "metadata": {},
   "outputs": [
    {
     "name": "stdout",
     "output_type": "stream",
     "text": [
      "Mean Squared Error: 381.6176024279211\n",
      "Root Mean Squared Error: 19.535035255353932\n",
      "Average Days Staying: 29.845220030349015\n",
      "RMSE is less than Average Days Staying.\n",
      "Mean Absolute Error: 14.96813353566009\n",
      "R-squared Score: 0.210544\n"
     ]
    }
   ],
   "source": [
    "from sklearn.ensemble import GradientBoostingRegressor\n",
    "from sklearn.metrics import mean_squared_error, mean_absolute_error\n",
    "\n",
    "# Select relevant columns\n",
    "selected_columns = [ 'intake_age', \n",
    "                    'simplified_condition_encoded', 'simplified_type_encoded', \n",
    "                     'days_in_shelter', 'simplified_color_encoded']\n",
    "\n",
    "df_selected = df[selected_columns]\n",
    "\n",
    "# Drop rows with missing values\n",
    "df_selected = df_selected.dropna()\n",
    "\n",
    "# Split the data into features (X) and target variable (y)\n",
    "X = df_selected.drop('days_in_shelter', axis=1)\n",
    "y = df_selected['days_in_shelter']\n",
    "\n",
    "# Split the data into training and testing sets\n",
    "X_train, X_test, y_train, y_test = train_test_split(X, y, test_size=0.2, random_state=42)\n",
    "\n",
    "# Initialize the Gradient Boosting Regressor\n",
    "gb_model = GradientBoostingRegressor(n_estimators=100, learning_rate=0.1, max_depth=3, random_state=42)\n",
    "\n",
    "# Fit the model to the training data\n",
    "gb_model.fit(X_train, y_train)\n",
    "\n",
    "# Make y_pred on the test set\n",
    "y_pred = np.round(gb_model.predict(X_test))\n",
    "\n",
    "mse = mean_squared_error(y_test, y_pred)\n",
    "print(f'Mean Squared Error: {mse}')\n",
    "\n",
    "rmse = np.sqrt(mse)  # Calculate RMSE\n",
    "print(f'Root Mean Squared Error: {rmse}')\n",
    "\n",
    "average_days_staying = y_test.mean()\n",
    "print(f'Average Days Staying: {average_days_staying}')\n",
    "\n",
    "if rmse < average_days_staying:\n",
    "    print(\"RMSE is less than Average Days Staying.\")\n",
    "else:\n",
    "    print(\"RMSE is greater than or equal to Average Days Staying.\")\n",
    "    \n",
    "# Calculate Mean Absolute Error (MAE)\n",
    "mae = mean_absolute_error(y_test, y_pred)\n",
    "print(f'Mean Absolute Error: {mae}')\n",
    "\n",
    "r2 = r2_score(y_true=y_test, y_pred=y_pred)\n",
    "print(\"R-squared Score: %f\" % r2)"
   ]
  },
  {
   "cell_type": "code",
   "execution_count": 8,
   "metadata": {},
   "outputs": [
    {
     "name": "stdout",
     "output_type": "stream",
     "text": [
      "['intake_age', 'simplified_condition_encoded', 'simplified_type_encoded', 'simplified_color_encoded']\n"
     ]
    },
    {
     "data": {
      "text/plain": [
       "['gb_model.joblib']"
      ]
     },
     "execution_count": 8,
     "metadata": {},
     "output_type": "execute_result"
    }
   ],
   "source": [
    "#Dump the model into a trained file\n",
    "feature_names = X_train.columns.tolist()\n",
    "print(feature_names)\n",
    "from joblib import dump\n",
    "dump(gb_model, 'gb_model.joblib')\n"
   ]
  },
  {
   "cell_type": "code",
   "execution_count": 9,
   "metadata": {},
   "outputs": [
    {
     "name": "stdout",
     "output_type": "stream",
     "text": [
      "simplified_condition_encoded    0.633414\n",
      "simplified_type_encoded         0.208124\n",
      "intake_age                      0.138052\n",
      "simplified_color_encoded        0.020410\n",
      "dtype: float64\n"
     ]
    }
   ],
   "source": [
    "feature_importance = pd.Series(gb_model.feature_importances_, index=X.columns)\n",
    "feature_importance.sort_values(ascending=False, inplace=True)\n",
    "print(feature_importance)"
   ]
  },
  {
   "cell_type": "code",
   "execution_count": 10,
   "metadata": {},
   "outputs": [
    {
     "name": "stdout",
     "output_type": "stream",
     "text": [
      "Rows with Residuals = 0:\n",
      "      Actual  Predicted  Residuals\n",
      "1907      18       18.0        0.0\n",
      "1213      28       28.0        0.0\n",
      "2020      36       36.0        0.0\n",
      "416       31       31.0        0.0\n",
      "2536      28       28.0        0.0\n",
      "2287      39       39.0        0.0\n",
      "2609      18       18.0        0.0\n",
      "2860      26       26.0        0.0\n",
      "2752      44       44.0        0.0\n",
      "2574      17       17.0        0.0\n"
     ]
    }
   ],
   "source": [
    "# Calculate residuals\n",
    "residuals = y_test - y_pred\n",
    "\n",
    "# Add residuals to the DataFrame for further analysis if needed\n",
    "df_residuals = pd.DataFrame({'Actual': y_test, 'Predicted': y_pred, 'Residuals': residuals})\n",
    "\n",
    "# Display the DataFrame with residuals\n",
    "# print(df_residuals)\n",
    "\n",
    "# Find rows where residuals are exactly 0\n",
    "zero_residuals_df = df_residuals[df_residuals['Residuals'] == 0]\n",
    "\n",
    "# Display rows where residuals are exactly 0\n",
    "print('Rows with Residuals = 0:')\n",
    "print(zero_residuals_df)"
   ]
  },
  {
   "cell_type": "code",
   "execution_count": 11,
   "metadata": {},
   "outputs": [
    {
     "data": {
      "image/png": "[encoded data removed]",
      "text/plain": [
       "<Figure size 640x480 with 1 Axes>"
      ]
     },
     "metadata": {},
     "output_type": "display_data"
    },
    {
     "name": "stdout",
     "output_type": "stream",
     "text": [
      "Average of Residuals: -0.11229135053110774\n",
      "Average of Absolute Residuals: 14.96813353566009\n"
     ]
    }
   ],
   "source": [
    "import matplotlib.pyplot as plt\n",
    "\n",
    "# ... (previous code)\n",
    "\n",
    "# Calculate residuals\n",
    "residuals = y_test - y_pred\n",
    "\n",
    "# Plot histogram of residuals\n",
    "plt.hist(residuals, bins=30, edgecolor='black')\n",
    "plt.title('Histogram of Residuals')\n",
    "plt.xlabel('Residuals')\n",
    "plt.ylabel('Frequency')\n",
    "plt.show()\n",
    "\n",
    "# Calculate and print the average of residuals\n",
    "average_residuals = residuals.mean()\n",
    "print(f'Average of Residuals: {average_residuals}')\n",
    "\n",
    "\n",
    "# Calculate absolute residuals\n",
    "absolute_residuals = np.abs(residuals)\n",
    "\n",
    "# Calculate and print the average of absolute residuals\n",
    "average_absolute_residuals = absolute_residuals.mean()\n",
    "print(f'Average of Absolute Residuals: {average_absolute_residuals}')\n"
   ]
  },
  {
   "cell_type": "code",
   "execution_count": 12,
   "metadata": {},
   "outputs": [
    {
     "data": {
      "text/html": [
       "<div>\n",
       "<style scoped>\n",
       "    .dataframe tbody tr th:only-of-type {\n",
       "        vertical-align: middle;\n",
       "    }\n",
       "\n",
       "    .dataframe tbody tr th {\n",
       "        vertical-align: top;\n",
       "    }\n",
       "\n",
       "    .dataframe thead th {\n",
       "        text-align: right;\n",
       "    }\n",
       "</style>\n",
       "<table border=\"1\" class=\"dataframe\">\n",
       "  <thead>\n",
       "    <tr style=\"text-align: right;\">\n",
       "      <th></th>\n",
       "      <th>Actual</th>\n",
       "      <th>Predicted</th>\n",
       "      <th>Residuals</th>\n",
       "    </tr>\n",
       "  </thead>\n",
       "  <tbody>\n",
       "    <tr>\n",
       "      <th>3100</th>\n",
       "      <td>16</td>\n",
       "      <td>29.0</td>\n",
       "      <td>-13.0</td>\n",
       "    </tr>\n",
       "    <tr>\n",
       "      <th>3163</th>\n",
       "      <td>48</td>\n",
       "      <td>28.0</td>\n",
       "      <td>20.0</td>\n",
       "    </tr>\n",
       "    <tr>\n",
       "      <th>3101</th>\n",
       "      <td>14</td>\n",
       "      <td>43.0</td>\n",
       "      <td>-29.0</td>\n",
       "    </tr>\n",
       "    <tr>\n",
       "      <th>1947</th>\n",
       "      <td>2</td>\n",
       "      <td>26.0</td>\n",
       "      <td>-24.0</td>\n",
       "    </tr>\n",
       "    <tr>\n",
       "      <th>2400</th>\n",
       "      <td>20</td>\n",
       "      <td>29.0</td>\n",
       "      <td>-9.0</td>\n",
       "    </tr>\n",
       "  </tbody>\n",
       "</table>\n",
       "</div>"
      ],
      "text/plain": [
       "      Actual  Predicted  Residuals\n",
       "3100      16       29.0      -13.0\n",
       "3163      48       28.0       20.0\n",
       "3101      14       43.0      -29.0\n",
       "1947       2       26.0      -24.0\n",
       "2400      20       29.0       -9.0"
      ]
     },
     "execution_count": 12,
     "metadata": {},
     "output_type": "execute_result"
    }
   ],
   "source": [
    "df_residuals.head()"
   ]
  },
  {
   "cell_type": "code",
   "execution_count": 13,
   "metadata": {},
   "outputs": [
    {
     "data": {
      "text/html": [
       "<div>\n",
       "<style scoped>\n",
       "    .dataframe tbody tr th:only-of-type {\n",
       "        vertical-align: middle;\n",
       "    }\n",
       "\n",
       "    .dataframe tbody tr th {\n",
       "        vertical-align: top;\n",
       "    }\n",
       "\n",
       "    .dataframe thead th {\n",
       "        text-align: right;\n",
       "    }\n",
       "</style>\n",
       "<table border=\"1\" class=\"dataframe\">\n",
       "  <thead>\n",
       "    <tr style=\"text-align: right;\">\n",
       "      <th></th>\n",
       "      <th>Actual</th>\n",
       "      <th>Predicted</th>\n",
       "      <th>Residuals</th>\n",
       "    </tr>\n",
       "  </thead>\n",
       "  <tbody>\n",
       "    <tr>\n",
       "      <th>1907</th>\n",
       "      <td>18</td>\n",
       "      <td>18.0</td>\n",
       "      <td>0.0</td>\n",
       "    </tr>\n",
       "    <tr>\n",
       "      <th>1213</th>\n",
       "      <td>28</td>\n",
       "      <td>28.0</td>\n",
       "      <td>0.0</td>\n",
       "    </tr>\n",
       "    <tr>\n",
       "      <th>2020</th>\n",
       "      <td>36</td>\n",
       "      <td>36.0</td>\n",
       "      <td>0.0</td>\n",
       "    </tr>\n",
       "    <tr>\n",
       "      <th>416</th>\n",
       "      <td>31</td>\n",
       "      <td>31.0</td>\n",
       "      <td>0.0</td>\n",
       "    </tr>\n",
       "    <tr>\n",
       "      <th>2536</th>\n",
       "      <td>28</td>\n",
       "      <td>28.0</td>\n",
       "      <td>0.0</td>\n",
       "    </tr>\n",
       "    <tr>\n",
       "      <th>2287</th>\n",
       "      <td>39</td>\n",
       "      <td>39.0</td>\n",
       "      <td>0.0</td>\n",
       "    </tr>\n",
       "    <tr>\n",
       "      <th>2609</th>\n",
       "      <td>18</td>\n",
       "      <td>18.0</td>\n",
       "      <td>0.0</td>\n",
       "    </tr>\n",
       "    <tr>\n",
       "      <th>2860</th>\n",
       "      <td>26</td>\n",
       "      <td>26.0</td>\n",
       "      <td>0.0</td>\n",
       "    </tr>\n",
       "    <tr>\n",
       "      <th>2752</th>\n",
       "      <td>44</td>\n",
       "      <td>44.0</td>\n",
       "      <td>0.0</td>\n",
       "    </tr>\n",
       "    <tr>\n",
       "      <th>2574</th>\n",
       "      <td>17</td>\n",
       "      <td>17.0</td>\n",
       "      <td>0.0</td>\n",
       "    </tr>\n",
       "  </tbody>\n",
       "</table>\n",
       "</div>"
      ],
      "text/plain": [
       "      Actual  Predicted  Residuals\n",
       "1907      18       18.0        0.0\n",
       "1213      28       28.0        0.0\n",
       "2020      36       36.0        0.0\n",
       "416       31       31.0        0.0\n",
       "2536      28       28.0        0.0\n",
       "2287      39       39.0        0.0\n",
       "2609      18       18.0        0.0\n",
       "2860      26       26.0        0.0\n",
       "2752      44       44.0        0.0\n",
       "2574      17       17.0        0.0"
      ]
     },
     "execution_count": 13,
     "metadata": {},
     "output_type": "execute_result"
    }
   ],
   "source": [
    "# Assuming df_residuals_sorted is your sorted DataFrame with 'Residuals' column\n",
    "zero_residuals = df_residuals[df_residuals['Residuals'] == 0]\n",
    "\n",
    "# Display the rows where residuals are exactly 0\n",
    "zero_residuals.head(50)"
   ]
  },
  {
   "cell_type": "markdown",
   "metadata": {},
   "source": [
    "## ⬆︎⬆︎ GradientBoostingRegressor simple Mean Absolute Error: 14.97875569044006 & R-squared Score: 0.205676 ⬆︎⬆︎"
   ]
  },
  {
   "cell_type": "markdown",
   "metadata": {},
   "source": [
    "## ⬇︎⬇︎ GradientBoostingRegressor with GridSearchCV  ⬇︎⬇︎"
   ]
  },
  {
   "cell_type": "code",
   "execution_count": null,
   "metadata": {},
   "outputs": [],
   "source": [
    "from imblearn.over_sampling import RandomOverSampler\n",
    "from imblearn.under_sampling import RandomUnderSampler\n",
    "\n",
    "# Assuming df is your dataframe\n",
    "selected_columns = [ 'simplified_color_encoded','intake_age', \n",
    "                    'simplified_condition_encoded', 'simplified_type_encoded', \n",
    "                     'days_in_shelter']\n",
    "df_selected = df[selected_columns]\n",
    "\n",
    "# Drop rows with missing values\n",
    "df_selected = df_selected.dropna()\n",
    "\n",
    "# Split the data into features (X) and target variable (y)\n",
    "X = df_selected.drop('days_in_shelter', axis=1)\n",
    "y = df_selected['days_in_shelter']\n",
    "\n",
    "# Split the data into training and testing sets\n",
    "X_train, X_test, y_train, y_test = train_test_split(X, y, test_size=0.2, random_state=42)\n",
    "\n",
    "# # # Use RandomOverSampler to handle imbalanced data\n",
    "# ros = RandomUnderSampler(random_state=42)\n",
    "# X_resampled, y_resampled = ros.fit_resample(X_train, y_train)\n",
    "\n",
    "# Hyperparameter tuning using GridSearchCV\n",
    "param_grid = {\n",
    "    'n_estimators': [50, 100, 200],\n",
    "    'max_depth': [None, 10, 20],\n",
    "    'min_samples_split': [2, 5, 10],\n",
    "    'min_samples_leaf': [1, 2, 4]\n",
    "}\n",
    "\n",
    "grid_search = GridSearchCV(GradientBoostingRegressor(), param_grid, cv=5)\n",
    "grid_search.fit(X_train, y_train)\n",
    "\n",
    "best_params = grid_search.best_params_\n",
    "print(\"Best Hyperparameters:\", best_params)\n",
    "\n",
    "# Use the best model\n",
    "gb_model = grid_search.best_estimator_\n",
    "\n",
    "# Now let's evaluate our model on the test set\n",
    "y_pred = np.round(gb_model.predict(X_test))\n",
    "\n",
    "mse = mean_squared_error(y_test, y_pred)\n",
    "print(f'Mean Squared Error: {mse}')\n",
    "\n",
    "rmse = np.sqrt(mse)  # Calculate RMSE\n",
    "print(f'Root Mean Squared Error: {rmse}')\n",
    "\n",
    "average_days_staying = y_test.mean()\n",
    "print(f'Average Days Staying: {average_days_staying}')\n",
    "\n",
    "if rmse < average_days_staying:\n",
    "    print(\"RMSE is less than Average Days Staying.\")\n",
    "else:\n",
    "    print(\"RMSE is greater than or equal to Average Days Staying.\")\n",
    "    \n",
    "# Calculate Mean Absolute Error (MAE)\n",
    "mae = mean_absolute_error(y_test, y_pred)\n",
    "print(f'Mean Absolute Error: {mae}')\n",
    "r2 = r2_score(y_true=y_test, y_pred=y_pred)\n",
    "print(\"R-squared Score: %f\" % r2)"
   ]
  },
  {
   "cell_type": "code",
   "execution_count": null,
   "metadata": {},
   "outputs": [],
   "source": [
    "feature_importance = pd.Series(gb_model.feature_importances_, index=X.columns)\n",
    "feature_importance.sort_values(ascending=False, inplace=True)\n",
    "print(feature_importance)"
   ]
  },
  {
   "cell_type": "code",
   "execution_count": null,
   "metadata": {},
   "outputs": [],
   "source": [
    "# Calculate residuals\n",
    "residuals = y_test - y_pred\n",
    "\n",
    "# Add residuals to the DataFrame for further analysis if needed\n",
    "df_residuals = pd.DataFrame({'Actual': y_test, 'Predicted': y_pred, 'Residuals': residuals})\n",
    "\n",
    "# Display the DataFrame with residuals\n",
    "# print(df_residuals)\n",
    "\n",
    "df_residuals.head(50)"
   ]
  },
  {
   "cell_type": "code",
   "execution_count": null,
   "metadata": {},
   "outputs": [],
   "source": [
    "import matplotlib.pyplot as plt\n",
    "\n",
    "# ... (previous code)\n",
    "\n",
    "# Calculate residuals\n",
    "residuals = y_test - y_pred\n",
    "\n",
    "# Plot histogram of residuals\n",
    "plt.hist(residuals, bins=30, edgecolor='black')\n",
    "plt.title('Histogram of Residuals')\n",
    "plt.xlabel('Residuals')\n",
    "plt.ylabel('Frequency')\n",
    "plt.show()\n",
    "\n",
    "# Calculate and print the average of residuals\n",
    "average_residuals = residuals.mean()\n",
    "print(f'Average of Residuals: {average_residuals}')\n",
    "\n",
    "\n",
    "# Calculate absolute residuals\n",
    "absolute_residuals = np.abs(residuals)\n",
    "\n",
    "# Calculate and print the average of absolute residuals\n",
    "average_absolute_residuals = absolute_residuals.mean()\n",
    "print(f'Average of Absolute Residuals: {average_absolute_residuals}')\n"
   ]
  },
  {
   "cell_type": "code",
   "execution_count": null,
   "metadata": {},
   "outputs": [],
   "source": [
    "#  df_residuals\n",
    "zero_residuals = df_residuals[df_residuals['Residuals'] == 0]\n",
    "\n",
    "# Display the rows where residuals are exactly 0\n",
    "zero_residuals.head(50)"
   ]
  },
  {
   "cell_type": "markdown",
   "metadata": {},
   "source": [
    "## ⬆︎⬆︎ GradientBoostingRegressor w GridSearchCV Mean Absolute Error: 15.35660091047041 & R-squared Score: 0.153738  ⬆︎⬆︎"
   ]
  },
  {
   "cell_type": "markdown",
   "metadata": {},
   "source": [
    "## ⬇︎⬇︎ RandomForestRegressor no-sampling  ⬇︎⬇︎"
   ]
  },
  {
   "cell_type": "code",
   "execution_count": null,
   "metadata": {},
   "outputs": [],
   "source": [
    "independent_variables = [ 'simplified_color_encoded', 'simplified_sex_encoded','intake_age', \n",
    "                    'simplified_condition_encoded', 'simplified_type_encoded', \n",
    "                    'simplified_breed_encoded', 'simplified_size_encoded']\n",
    "dependent_variable = 'days_in_shelter'"
   ]
  },
  {
   "cell_type": "code",
   "execution_count": null,
   "metadata": {},
   "outputs": [],
   "source": [
    "\n",
    "# Specify the column containing the values you want to check for uniqueness\n",
    "\n",
    "X = df[independent_variables]\n",
    "y = df[dependent_variable]\n",
    "\n",
    "# Split the data into training and testing sets\n",
    "X_train, X_test, y_train, y_test = train_test_split(X, y, test_size=0.2, random_state=100)\n",
    "\n",
    "# Hyperparameter tuning using GridSearchCV\n",
    "param_grid = {\n",
    "    'n_estimators': [50, 100, 200],\n",
    "    'max_depth': [None, 10, 20],\n",
    "    'min_samples_split': [2, 5, 10],\n",
    "    'min_samples_leaf': [1, 2, 4]\n",
    "}\n",
    "\n",
    "grid_search = GridSearchCV(RandomForestRegressor(), param_grid, cv=5)\n",
    "grid_search.fit(X_train, y_train)\n",
    "\n",
    "best_params = grid_search.best_params_\n",
    "print(\"Best Hyperparameters:\", best_params)\n",
    "\n",
    "# Use the best model\n",
    "best_model = grid_search.best_estimator_\n",
    "\n",
    "# Now let's evaluate our model on the test set\n",
    "y_pred = np.round(best_model.predict(X_test)) # 80, 80.2 (80) 81\n",
    "\n",
    "# Evaluate the regression model\n",
    "mse = mean_squared_error(y_true=y_test, y_pred=y_pred)\n",
    "print(\"Mean Squared Error: %f\" % mse)\n",
    "\n",
    "r2 = r2_score(y_true=y_test, y_pred=y_pred)\n",
    "print(\"R-squared Score: %f\" % r2)"
   ]
  },
  {
   "cell_type": "code",
   "execution_count": null,
   "metadata": {},
   "outputs": [],
   "source": [
    "feature_importance = pd.Series(best_model.feature_importances_, index=X.columns)\n",
    "feature_importance.sort_values(ascending=False, inplace=True)\n",
    "print(feature_importance)"
   ]
  },
  {
   "cell_type": "markdown",
   "metadata": {},
   "source": [
    "## ⬆︎⬆︎ RandomForestRegressor w GridSearchCV (R2 : 0.175475 )  ⬆︎⬆︎"
   ]
  },
  {
   "cell_type": "code",
   "execution_count": null,
   "metadata": {},
   "outputs": [],
   "source": [
    "plt.figure(figsize=(20, 10))\n",
    "plot_tree(regression_forest_model.estimators_[0], feature_names=independent_variables, filled=True)\n",
    "plt.title('Tree 1')\n",
    "plt.show()"
   ]
  },
  {
   "cell_type": "code",
   "execution_count": null,
   "metadata": {
    "scrolled": true
   },
   "outputs": [],
   "source": [
    "y_pred"
   ]
  },
  {
   "cell_type": "code",
   "execution_count": null,
   "metadata": {},
   "outputs": [],
   "source": [
    "print(y_test.tolist())"
   ]
  },
  {
   "cell_type": "code",
   "execution_count": null,
   "metadata": {},
   "outputs": [],
   "source": [
    "# Create a DataFrame with actual and predicted values\n",
    "comparison_df = pd.DataFrame({'Actual': y_test, 'Predicted': y_pred})\n",
    "\n",
    "# Display the DataFrame\n",
    "print(comparison_df)\n",
    "\n",
    "# # You can also save the DataFrame to a CSV file if you want to analyze it further\n",
    "# comparison_df.to_csv('comparison_results.csv', index=False)"
   ]
  },
  {
   "cell_type": "code",
   "execution_count": null,
   "metadata": {},
   "outputs": [],
   "source": [
    "pd.set_option('display.max_rows', None)\n",
    "pd.set_option('display.max_columns', None)\n",
    "\n",
    "# Print the entire DataFrame\n",
    "print(comparison_df)\n"
   ]
  }
 ],
 "metadata": {
  "kernelspec": {
   "display_name": "Python 3 (ipykernel)",
   "language": "python",
   "name": "python3"
  },
  "language_info": {
   "codemirror_mode": {
    "name": "ipython",
    "version": 3
   },
   "file_extension": ".py",
   "mimetype": "text/x-python",
   "name": "python",
   "nbconvert_exporter": "python",
   "pygments_lexer": "ipython3",
   "version": "3.11.4"
  }
 },
 "nbformat": 4,
 "nbformat_minor": 4
}
