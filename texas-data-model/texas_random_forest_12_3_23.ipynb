{
 "cells": [
  {
   "cell_type": "code",
   "execution_count": 41,
   "metadata": {},
   "outputs": [],
   "source": [
    "# Import our libraries \n",
    "\n",
    "# Pandas and numpy for data wrangling\n",
    "import pandas as pd\n",
    "import numpy as np\n",
    "\n",
    "# Seaborn / matplotlib for visualization \n",
    "import seaborn as sns\n",
    "sns.set()\n",
    "\n",
    "import matplotlib.pyplot as plt\n",
    "%matplotlib inline\n",
    "\n",
    "# Helper function to split our data\n",
    "from sklearn.model_selection import train_test_split\n",
    "\n",
    "# Helper fuctions to evaluate our model.\n",
    "from sklearn.metrics import accuracy_score, precision_score, recall_score, confusion_matrix, classification_report, roc_auc_score, f1_score\n",
    "\n",
    "# Import our Decision Tree\n",
    "from sklearn.tree import DecisionTreeClassifier \n",
    "\n",
    "# Import our Random Forest \n",
    "from sklearn.ensemble import RandomForestClassifier\n",
    "\n",
    "# Import the trees from sklearn\n",
    "from sklearn import tree\n",
    "\n",
    "# Helper functions to visualize our trees\n",
    "from sklearn.tree import plot_tree, export_text\n",
    "\n",
    "#tree regression\n",
    "from sklearn.ensemble import RandomForestRegressor\n",
    "\n",
    "# imbalanced-learn library\n",
    "from imblearn.over_sampling import RandomOverSampler\n",
    "from imblearn.under_sampling import RandomUnderSampler"
   ]
  },
  {
   "cell_type": "code",
   "execution_count": 42,
   "metadata": {},
   "outputs": [
    {
     "data": {
      "text/html": [
       "<div>\n",
       "<style scoped>\n",
       "    .dataframe tbody tr th:only-of-type {\n",
       "        vertical-align: middle;\n",
       "    }\n",
       "\n",
       "    .dataframe tbody tr th {\n",
       "        vertical-align: top;\n",
       "    }\n",
       "\n",
       "    .dataframe thead th {\n",
       "        text-align: right;\n",
       "    }\n",
       "</style>\n",
       "<table border=\"1\" class=\"dataframe\">\n",
       "  <thead>\n",
       "    <tr style=\"text-align: right;\">\n",
       "      <th></th>\n",
       "      <th>intake_type</th>\n",
       "      <th>intake_condition</th>\n",
       "      <th>sex_intake</th>\n",
       "      <th>breed</th>\n",
       "      <th>CoatColor</th>\n",
       "      <th>CoatPattern</th>\n",
       "      <th>age_intake_months</th>\n",
       "      <th>stay_length</th>\n",
       "      <th>intake_type_encoded</th>\n",
       "      <th>intake_condition_encoded</th>\n",
       "      <th>sex_intake_encoded</th>\n",
       "      <th>breed_encoded</th>\n",
       "      <th>CoatColor_encoded</th>\n",
       "      <th>CoatPattern_encoded</th>\n",
       "    </tr>\n",
       "  </thead>\n",
       "  <tbody>\n",
       "    <tr>\n",
       "      <th>0</th>\n",
       "      <td>Stray</td>\n",
       "      <td>Normal</td>\n",
       "      <td>Female</td>\n",
       "      <td>Domestic_Shorthair_Mix</td>\n",
       "      <td>Black</td>\n",
       "      <td>Solid</td>\n",
       "      <td>1</td>\n",
       "      <td>31</td>\n",
       "      <td>2</td>\n",
       "      <td>3</td>\n",
       "      <td>0</td>\n",
       "      <td>1</td>\n",
       "      <td>0</td>\n",
       "      <td>1</td>\n",
       "    </tr>\n",
       "    <tr>\n",
       "      <th>1</th>\n",
       "      <td>Stray</td>\n",
       "      <td>Normal</td>\n",
       "      <td>Male</td>\n",
       "      <td>Other</td>\n",
       "      <td>Brown</td>\n",
       "      <td>Other</td>\n",
       "      <td>36</td>\n",
       "      <td>3</td>\n",
       "      <td>2</td>\n",
       "      <td>3</td>\n",
       "      <td>1</td>\n",
       "      <td>2</td>\n",
       "      <td>3</td>\n",
       "      <td>0</td>\n",
       "    </tr>\n",
       "    <tr>\n",
       "      <th>2</th>\n",
       "      <td>Stray</td>\n",
       "      <td>Normal</td>\n",
       "      <td>Male</td>\n",
       "      <td>Other</td>\n",
       "      <td>Brown</td>\n",
       "      <td>Tabby</td>\n",
       "      <td>1</td>\n",
       "      <td>68</td>\n",
       "      <td>2</td>\n",
       "      <td>3</td>\n",
       "      <td>1</td>\n",
       "      <td>2</td>\n",
       "      <td>3</td>\n",
       "      <td>2</td>\n",
       "    </tr>\n",
       "    <tr>\n",
       "      <th>3</th>\n",
       "      <td>Owner_Surrender</td>\n",
       "      <td>Normal</td>\n",
       "      <td>Female</td>\n",
       "      <td>Domestic_Shorthair_Mix</td>\n",
       "      <td>White_Mix</td>\n",
       "      <td>Solid</td>\n",
       "      <td>1</td>\n",
       "      <td>24</td>\n",
       "      <td>1</td>\n",
       "      <td>3</td>\n",
       "      <td>0</td>\n",
       "      <td>1</td>\n",
       "      <td>9</td>\n",
       "      <td>1</td>\n",
       "    </tr>\n",
       "    <tr>\n",
       "      <th>4</th>\n",
       "      <td>Stray</td>\n",
       "      <td>Normal</td>\n",
       "      <td>Male</td>\n",
       "      <td>Domestic_Shorthair_Mix</td>\n",
       "      <td>Black</td>\n",
       "      <td>Solid</td>\n",
       "      <td>1</td>\n",
       "      <td>30</td>\n",
       "      <td>2</td>\n",
       "      <td>3</td>\n",
       "      <td>1</td>\n",
       "      <td>1</td>\n",
       "      <td>0</td>\n",
       "      <td>1</td>\n",
       "    </tr>\n",
       "  </tbody>\n",
       "</table>\n",
       "</div>"
      ],
      "text/plain": [
       "       intake_type intake_condition sex_intake                   breed  \\\n",
       "0            Stray           Normal     Female  Domestic_Shorthair_Mix   \n",
       "1            Stray           Normal       Male                   Other   \n",
       "2            Stray           Normal       Male                   Other   \n",
       "3  Owner_Surrender           Normal     Female  Domestic_Shorthair_Mix   \n",
       "4            Stray           Normal       Male  Domestic_Shorthair_Mix   \n",
       "\n",
       "   CoatColor CoatPattern  age_intake_months  stay_length  intake_type_encoded  \\\n",
       "0      Black       Solid                  1           31                    2   \n",
       "1      Brown       Other                 36            3                    2   \n",
       "2      Brown       Tabby                  1           68                    2   \n",
       "3  White_Mix       Solid                  1           24                    1   \n",
       "4      Black       Solid                  1           30                    2   \n",
       "\n",
       "   intake_condition_encoded  sex_intake_encoded  breed_encoded  \\\n",
       "0                         3                   0              1   \n",
       "1                         3                   1              2   \n",
       "2                         3                   1              2   \n",
       "3                         3                   0              1   \n",
       "4                         3                   1              1   \n",
       "\n",
       "   CoatColor_encoded  CoatPattern_encoded  \n",
       "0                  0                    1  \n",
       "1                  3                    0  \n",
       "2                  3                    2  \n",
       "3                  9                    1  \n",
       "4                  0                    1  "
      ]
     },
     "execution_count": 42,
     "metadata": {},
     "output_type": "execute_result"
    }
   ],
   "source": [
    "df = pd.read_csv('../texas_dataset/texas_level_encoded_numeric_value_dec_3.csv')\n",
    "df.head()"
   ]
  },
  {
   "cell_type": "code",
   "execution_count": 43,
   "metadata": {},
   "outputs": [
    {
     "data": {
      "text/plain": [
       "8994"
      ]
     },
     "execution_count": 43,
     "metadata": {},
     "output_type": "execute_result"
    }
   ],
   "source": [
    "df.duplicated().sum()"
   ]
  },
  {
   "cell_type": "code",
   "execution_count": 44,
   "metadata": {},
   "outputs": [
    {
     "name": "stdout",
     "output_type": "stream",
     "text": [
      "0\n"
     ]
    }
   ],
   "source": [
    "df= df.drop_duplicates(keep='first')\n",
    "print(df.duplicated().sum())"
   ]
  },
  {
   "cell_type": "markdown",
   "metadata": {},
   "source": [
    "## We are predicting if a cat will stay more than a month in the shelter (yes = 1, no =0) ☟"
   ]
  },
  {
   "cell_type": "code",
   "execution_count": 45,
   "metadata": {
    "scrolled": false
   },
   "outputs": [
    {
     "data": {
      "text/plain": [
       "8576"
      ]
     },
     "execution_count": 45,
     "metadata": {},
     "output_type": "execute_result"
    }
   ],
   "source": [
    "(df['stay_length']>24).sum()"
   ]
  },
  {
   "cell_type": "code",
   "execution_count": 46,
   "metadata": {},
   "outputs": [
    {
     "data": {
      "text/plain": [
       "8509"
      ]
     },
     "execution_count": 46,
     "metadata": {},
     "output_type": "execute_result"
    }
   ],
   "source": [
    "(df['stay_length']<=24).sum()"
   ]
  },
  {
   "cell_type": "code",
   "execution_count": 47,
   "metadata": {},
   "outputs": [
    {
     "data": {
      "text/html": [
       "<div>\n",
       "<style scoped>\n",
       "    .dataframe tbody tr th:only-of-type {\n",
       "        vertical-align: middle;\n",
       "    }\n",
       "\n",
       "    .dataframe tbody tr th {\n",
       "        vertical-align: top;\n",
       "    }\n",
       "\n",
       "    .dataframe thead th {\n",
       "        text-align: right;\n",
       "    }\n",
       "</style>\n",
       "<table border=\"1\" class=\"dataframe\">\n",
       "  <thead>\n",
       "    <tr style=\"text-align: right;\">\n",
       "      <th></th>\n",
       "      <th>intake_type</th>\n",
       "      <th>intake_condition</th>\n",
       "      <th>sex_intake</th>\n",
       "      <th>breed</th>\n",
       "      <th>CoatColor</th>\n",
       "      <th>CoatPattern</th>\n",
       "      <th>age_intake_months</th>\n",
       "      <th>stay_length</th>\n",
       "      <th>intake_type_encoded</th>\n",
       "      <th>intake_condition_encoded</th>\n",
       "      <th>sex_intake_encoded</th>\n",
       "      <th>breed_encoded</th>\n",
       "      <th>CoatColor_encoded</th>\n",
       "      <th>CoatPattern_encoded</th>\n",
       "      <th>stay</th>\n",
       "    </tr>\n",
       "  </thead>\n",
       "  <tbody>\n",
       "    <tr>\n",
       "      <th>26072</th>\n",
       "      <td>Owner_Surrender</td>\n",
       "      <td>Normal</td>\n",
       "      <td>Male</td>\n",
       "      <td>Domestic_Shorthair</td>\n",
       "      <td>Black_N_White</td>\n",
       "      <td>Solid</td>\n",
       "      <td>1</td>\n",
       "      <td>38</td>\n",
       "      <td>1</td>\n",
       "      <td>3</td>\n",
       "      <td>1</td>\n",
       "      <td>0</td>\n",
       "      <td>1</td>\n",
       "      <td>1</td>\n",
       "      <td>1</td>\n",
       "    </tr>\n",
       "    <tr>\n",
       "      <th>26073</th>\n",
       "      <td>Owner_Surrender</td>\n",
       "      <td>Normal</td>\n",
       "      <td>Male</td>\n",
       "      <td>Domestic_Shorthair</td>\n",
       "      <td>Blue</td>\n",
       "      <td>Tabby</td>\n",
       "      <td>4</td>\n",
       "      <td>7</td>\n",
       "      <td>1</td>\n",
       "      <td>3</td>\n",
       "      <td>1</td>\n",
       "      <td>0</td>\n",
       "      <td>2</td>\n",
       "      <td>2</td>\n",
       "      <td>0</td>\n",
       "    </tr>\n",
       "    <tr>\n",
       "      <th>26075</th>\n",
       "      <td>Stray</td>\n",
       "      <td>Normal</td>\n",
       "      <td>Male</td>\n",
       "      <td>Domestic_Shorthair</td>\n",
       "      <td>White_Mix</td>\n",
       "      <td>Solid</td>\n",
       "      <td>11</td>\n",
       "      <td>16</td>\n",
       "      <td>2</td>\n",
       "      <td>3</td>\n",
       "      <td>1</td>\n",
       "      <td>0</td>\n",
       "      <td>9</td>\n",
       "      <td>1</td>\n",
       "      <td>0</td>\n",
       "    </tr>\n",
       "    <tr>\n",
       "      <th>26076</th>\n",
       "      <td>Stray</td>\n",
       "      <td>Neonatal</td>\n",
       "      <td>Male</td>\n",
       "      <td>Domestic_Shorthair</td>\n",
       "      <td>Brown</td>\n",
       "      <td>Tabby</td>\n",
       "      <td>0</td>\n",
       "      <td>75</td>\n",
       "      <td>2</td>\n",
       "      <td>2</td>\n",
       "      <td>1</td>\n",
       "      <td>0</td>\n",
       "      <td>3</td>\n",
       "      <td>2</td>\n",
       "      <td>1</td>\n",
       "    </tr>\n",
       "    <tr>\n",
       "      <th>26077</th>\n",
       "      <td>Owner_Surrender</td>\n",
       "      <td>Normal</td>\n",
       "      <td>Female</td>\n",
       "      <td>Domestic_Shorthair</td>\n",
       "      <td>Calico_or_Calico_mix</td>\n",
       "      <td>Solid</td>\n",
       "      <td>36</td>\n",
       "      <td>7</td>\n",
       "      <td>1</td>\n",
       "      <td>3</td>\n",
       "      <td>0</td>\n",
       "      <td>0</td>\n",
       "      <td>4</td>\n",
       "      <td>1</td>\n",
       "      <td>0</td>\n",
       "    </tr>\n",
       "  </tbody>\n",
       "</table>\n",
       "</div>"
      ],
      "text/plain": [
       "           intake_type intake_condition sex_intake               breed  \\\n",
       "26072  Owner_Surrender           Normal       Male  Domestic_Shorthair   \n",
       "26073  Owner_Surrender           Normal       Male  Domestic_Shorthair   \n",
       "26075            Stray           Normal       Male  Domestic_Shorthair   \n",
       "26076            Stray         Neonatal       Male  Domestic_Shorthair   \n",
       "26077  Owner_Surrender           Normal     Female  Domestic_Shorthair   \n",
       "\n",
       "                  CoatColor CoatPattern  age_intake_months  stay_length  \\\n",
       "26072         Black_N_White       Solid                  1           38   \n",
       "26073                  Blue       Tabby                  4            7   \n",
       "26075             White_Mix       Solid                 11           16   \n",
       "26076                 Brown       Tabby                  0           75   \n",
       "26077  Calico_or_Calico_mix       Solid                 36            7   \n",
       "\n",
       "       intake_type_encoded  intake_condition_encoded  sex_intake_encoded  \\\n",
       "26072                    1                         3                   1   \n",
       "26073                    1                         3                   1   \n",
       "26075                    2                         3                   1   \n",
       "26076                    2                         2                   1   \n",
       "26077                    1                         3                   0   \n",
       "\n",
       "       breed_encoded  CoatColor_encoded  CoatPattern_encoded  stay  \n",
       "26072              0                  1                    1     1  \n",
       "26073              0                  2                    2     0  \n",
       "26075              0                  9                    1     0  \n",
       "26076              0                  3                    2     1  \n",
       "26077              0                  4                    1     0  "
      ]
     },
     "execution_count": 47,
     "metadata": {},
     "output_type": "execute_result"
    }
   ],
   "source": [
    "# this part is to predict long or short stay (0,1)\n",
    "import pandas as pd\n",
    "\n",
    "def categorize_stay(days_stayed):\n",
    "    if days_stayed <= 24:\n",
    "        return 0\n",
    "    else:\n",
    "        return 1\n",
    "\n",
    "# Example usage:\n",
    "# Assuming df is your DataFrame and \"days_stayed\" is the column you want to categorize\n",
    "df['stay'] = df['stay_length'].apply(categorize_stay)\n",
    "df.tail()"
   ]
  },
  {
   "cell_type": "code",
   "execution_count": 48,
   "metadata": {},
   "outputs": [
    {
     "data": {
      "text/html": [
       "<div>\n",
       "<style scoped>\n",
       "    .dataframe tbody tr th:only-of-type {\n",
       "        vertical-align: middle;\n",
       "    }\n",
       "\n",
       "    .dataframe tbody tr th {\n",
       "        vertical-align: top;\n",
       "    }\n",
       "\n",
       "    .dataframe thead th {\n",
       "        text-align: right;\n",
       "    }\n",
       "</style>\n",
       "<table border=\"1\" class=\"dataframe\">\n",
       "  <thead>\n",
       "    <tr style=\"text-align: right;\">\n",
       "      <th></th>\n",
       "      <th>intake_type</th>\n",
       "      <th>intake_condition</th>\n",
       "      <th>sex_intake</th>\n",
       "      <th>breed</th>\n",
       "      <th>CoatColor</th>\n",
       "      <th>CoatPattern</th>\n",
       "      <th>age_intake_months</th>\n",
       "      <th>stay_length</th>\n",
       "      <th>intake_type_encoded</th>\n",
       "      <th>intake_condition_encoded</th>\n",
       "      <th>sex_intake_encoded</th>\n",
       "      <th>breed_encoded</th>\n",
       "      <th>CoatColor_encoded</th>\n",
       "      <th>CoatPattern_encoded</th>\n",
       "      <th>stay</th>\n",
       "    </tr>\n",
       "  </thead>\n",
       "  <tbody>\n",
       "    <tr>\n",
       "      <th>0</th>\n",
       "      <td>Stray</td>\n",
       "      <td>Normal</td>\n",
       "      <td>Female</td>\n",
       "      <td>Domestic_Shorthair_Mix</td>\n",
       "      <td>Black</td>\n",
       "      <td>Solid</td>\n",
       "      <td>1</td>\n",
       "      <td>31</td>\n",
       "      <td>2</td>\n",
       "      <td>3</td>\n",
       "      <td>0</td>\n",
       "      <td>1</td>\n",
       "      <td>0</td>\n",
       "      <td>1</td>\n",
       "      <td>1</td>\n",
       "    </tr>\n",
       "    <tr>\n",
       "      <th>1</th>\n",
       "      <td>Stray</td>\n",
       "      <td>Normal</td>\n",
       "      <td>Male</td>\n",
       "      <td>Other</td>\n",
       "      <td>Brown</td>\n",
       "      <td>Other</td>\n",
       "      <td>36</td>\n",
       "      <td>3</td>\n",
       "      <td>2</td>\n",
       "      <td>3</td>\n",
       "      <td>1</td>\n",
       "      <td>2</td>\n",
       "      <td>3</td>\n",
       "      <td>0</td>\n",
       "      <td>0</td>\n",
       "    </tr>\n",
       "    <tr>\n",
       "      <th>2</th>\n",
       "      <td>Stray</td>\n",
       "      <td>Normal</td>\n",
       "      <td>Male</td>\n",
       "      <td>Other</td>\n",
       "      <td>Brown</td>\n",
       "      <td>Tabby</td>\n",
       "      <td>1</td>\n",
       "      <td>68</td>\n",
       "      <td>2</td>\n",
       "      <td>3</td>\n",
       "      <td>1</td>\n",
       "      <td>2</td>\n",
       "      <td>3</td>\n",
       "      <td>2</td>\n",
       "      <td>1</td>\n",
       "    </tr>\n",
       "    <tr>\n",
       "      <th>3</th>\n",
       "      <td>Owner_Surrender</td>\n",
       "      <td>Normal</td>\n",
       "      <td>Female</td>\n",
       "      <td>Domestic_Shorthair_Mix</td>\n",
       "      <td>White_Mix</td>\n",
       "      <td>Solid</td>\n",
       "      <td>1</td>\n",
       "      <td>24</td>\n",
       "      <td>1</td>\n",
       "      <td>3</td>\n",
       "      <td>0</td>\n",
       "      <td>1</td>\n",
       "      <td>9</td>\n",
       "      <td>1</td>\n",
       "      <td>0</td>\n",
       "    </tr>\n",
       "    <tr>\n",
       "      <th>4</th>\n",
       "      <td>Stray</td>\n",
       "      <td>Normal</td>\n",
       "      <td>Male</td>\n",
       "      <td>Domestic_Shorthair_Mix</td>\n",
       "      <td>Black</td>\n",
       "      <td>Solid</td>\n",
       "      <td>1</td>\n",
       "      <td>30</td>\n",
       "      <td>2</td>\n",
       "      <td>3</td>\n",
       "      <td>1</td>\n",
       "      <td>1</td>\n",
       "      <td>0</td>\n",
       "      <td>1</td>\n",
       "      <td>1</td>\n",
       "    </tr>\n",
       "  </tbody>\n",
       "</table>\n",
       "</div>"
      ],
      "text/plain": [
       "       intake_type intake_condition sex_intake                   breed  \\\n",
       "0            Stray           Normal     Female  Domestic_Shorthair_Mix   \n",
       "1            Stray           Normal       Male                   Other   \n",
       "2            Stray           Normal       Male                   Other   \n",
       "3  Owner_Surrender           Normal     Female  Domestic_Shorthair_Mix   \n",
       "4            Stray           Normal       Male  Domestic_Shorthair_Mix   \n",
       "\n",
       "   CoatColor CoatPattern  age_intake_months  stay_length  intake_type_encoded  \\\n",
       "0      Black       Solid                  1           31                    2   \n",
       "1      Brown       Other                 36            3                    2   \n",
       "2      Brown       Tabby                  1           68                    2   \n",
       "3  White_Mix       Solid                  1           24                    1   \n",
       "4      Black       Solid                  1           30                    2   \n",
       "\n",
       "   intake_condition_encoded  sex_intake_encoded  breed_encoded  \\\n",
       "0                         3                   0              1   \n",
       "1                         3                   1              2   \n",
       "2                         3                   1              2   \n",
       "3                         3                   0              1   \n",
       "4                         3                   1              1   \n",
       "\n",
       "   CoatColor_encoded  CoatPattern_encoded  stay  \n",
       "0                  0                    1     1  \n",
       "1                  3                    0     0  \n",
       "2                  3                    2     1  \n",
       "3                  9                    1     0  \n",
       "4                  0                    1     1  "
      ]
     },
     "execution_count": 48,
     "metadata": {},
     "output_type": "execute_result"
    }
   ],
   "source": [
    "df.head()"
   ]
  },
  {
   "cell_type": "code",
   "execution_count": 49,
   "metadata": {},
   "outputs": [
    {
     "name": "stdout",
     "output_type": "stream",
     "text": [
      "Number of occurrences of 1: 8576\n",
      "Number of occurrences of 0: 8509\n"
     ]
    }
   ],
   "source": [
    "count_ones = df['stay'].value_counts().get(1)\n",
    "print(f\"Number of occurrences of 1: {count_ones}\")\n",
    "\n",
    "count_zeros = df['stay'].value_counts().get(0)\n",
    "print(f\"Number of occurrences of 0: {count_zeros}\")\n"
   ]
  },
  {
   "cell_type": "code",
   "execution_count": 10,
   "metadata": {},
   "outputs": [],
   "source": [
    "# independent_variables = ['simplified_color_encoded', 'simplified_sex_encoded',  \n",
    "#                      'simplified_condition_encoded', 'simplified_type_encoded', 'intake_age']\n",
    "\n",
    "# dependent_variable = 'stay'"
   ]
  },
  {
   "cell_type": "code",
   "execution_count": 50,
   "metadata": {},
   "outputs": [],
   "source": [
    "independent_variables = ['age_intake_months', \n",
    "                     'intake_type_encoded', 'intake_condition_encoded',\n",
    "                     'CoatColor_encoded', 'sex_intake_encoded', 'CoatPattern_encoded',\n",
    "                      'breed_encoded']\n",
    "\n",
    "dependent_variable = 'stay'"
   ]
  },
  {
   "cell_type": "code",
   "execution_count": 51,
   "metadata": {},
   "outputs": [
    {
     "data": {
      "text/html": [
       "<div>\n",
       "<style scoped>\n",
       "    .dataframe tbody tr th:only-of-type {\n",
       "        vertical-align: middle;\n",
       "    }\n",
       "\n",
       "    .dataframe tbody tr th {\n",
       "        vertical-align: top;\n",
       "    }\n",
       "\n",
       "    .dataframe thead th {\n",
       "        text-align: right;\n",
       "    }\n",
       "</style>\n",
       "<table border=\"1\" class=\"dataframe\">\n",
       "  <thead>\n",
       "    <tr style=\"text-align: right;\">\n",
       "      <th></th>\n",
       "      <th>age_intake_months</th>\n",
       "      <th>intake_type_encoded</th>\n",
       "      <th>intake_condition_encoded</th>\n",
       "      <th>CoatColor_encoded</th>\n",
       "      <th>sex_intake_encoded</th>\n",
       "      <th>CoatPattern_encoded</th>\n",
       "      <th>breed_encoded</th>\n",
       "    </tr>\n",
       "  </thead>\n",
       "  <tbody>\n",
       "    <tr>\n",
       "      <th>0</th>\n",
       "      <td>1</td>\n",
       "      <td>2</td>\n",
       "      <td>3</td>\n",
       "      <td>0</td>\n",
       "      <td>0</td>\n",
       "      <td>1</td>\n",
       "      <td>1</td>\n",
       "    </tr>\n",
       "    <tr>\n",
       "      <th>1</th>\n",
       "      <td>36</td>\n",
       "      <td>2</td>\n",
       "      <td>3</td>\n",
       "      <td>3</td>\n",
       "      <td>1</td>\n",
       "      <td>0</td>\n",
       "      <td>2</td>\n",
       "    </tr>\n",
       "    <tr>\n",
       "      <th>2</th>\n",
       "      <td>1</td>\n",
       "      <td>2</td>\n",
       "      <td>3</td>\n",
       "      <td>3</td>\n",
       "      <td>1</td>\n",
       "      <td>2</td>\n",
       "      <td>2</td>\n",
       "    </tr>\n",
       "    <tr>\n",
       "      <th>3</th>\n",
       "      <td>1</td>\n",
       "      <td>1</td>\n",
       "      <td>3</td>\n",
       "      <td>9</td>\n",
       "      <td>0</td>\n",
       "      <td>1</td>\n",
       "      <td>1</td>\n",
       "    </tr>\n",
       "    <tr>\n",
       "      <th>4</th>\n",
       "      <td>1</td>\n",
       "      <td>2</td>\n",
       "      <td>3</td>\n",
       "      <td>0</td>\n",
       "      <td>1</td>\n",
       "      <td>1</td>\n",
       "      <td>1</td>\n",
       "    </tr>\n",
       "    <tr>\n",
       "      <th>...</th>\n",
       "      <td>...</td>\n",
       "      <td>...</td>\n",
       "      <td>...</td>\n",
       "      <td>...</td>\n",
       "      <td>...</td>\n",
       "      <td>...</td>\n",
       "      <td>...</td>\n",
       "    </tr>\n",
       "    <tr>\n",
       "      <th>26072</th>\n",
       "      <td>1</td>\n",
       "      <td>1</td>\n",
       "      <td>3</td>\n",
       "      <td>1</td>\n",
       "      <td>1</td>\n",
       "      <td>1</td>\n",
       "      <td>0</td>\n",
       "    </tr>\n",
       "    <tr>\n",
       "      <th>26073</th>\n",
       "      <td>4</td>\n",
       "      <td>1</td>\n",
       "      <td>3</td>\n",
       "      <td>2</td>\n",
       "      <td>1</td>\n",
       "      <td>2</td>\n",
       "      <td>0</td>\n",
       "    </tr>\n",
       "    <tr>\n",
       "      <th>26075</th>\n",
       "      <td>11</td>\n",
       "      <td>2</td>\n",
       "      <td>3</td>\n",
       "      <td>9</td>\n",
       "      <td>1</td>\n",
       "      <td>1</td>\n",
       "      <td>0</td>\n",
       "    </tr>\n",
       "    <tr>\n",
       "      <th>26076</th>\n",
       "      <td>0</td>\n",
       "      <td>2</td>\n",
       "      <td>2</td>\n",
       "      <td>3</td>\n",
       "      <td>1</td>\n",
       "      <td>2</td>\n",
       "      <td>0</td>\n",
       "    </tr>\n",
       "    <tr>\n",
       "      <th>26077</th>\n",
       "      <td>36</td>\n",
       "      <td>1</td>\n",
       "      <td>3</td>\n",
       "      <td>4</td>\n",
       "      <td>0</td>\n",
       "      <td>1</td>\n",
       "      <td>0</td>\n",
       "    </tr>\n",
       "  </tbody>\n",
       "</table>\n",
       "<p>17085 rows × 7 columns</p>\n",
       "</div>"
      ],
      "text/plain": [
       "       age_intake_months  intake_type_encoded  intake_condition_encoded  \\\n",
       "0                      1                    2                         3   \n",
       "1                     36                    2                         3   \n",
       "2                      1                    2                         3   \n",
       "3                      1                    1                         3   \n",
       "4                      1                    2                         3   \n",
       "...                  ...                  ...                       ...   \n",
       "26072                  1                    1                         3   \n",
       "26073                  4                    1                         3   \n",
       "26075                 11                    2                         3   \n",
       "26076                  0                    2                         2   \n",
       "26077                 36                    1                         3   \n",
       "\n",
       "       CoatColor_encoded  sex_intake_encoded  CoatPattern_encoded  \\\n",
       "0                      0                   0                    1   \n",
       "1                      3                   1                    0   \n",
       "2                      3                   1                    2   \n",
       "3                      9                   0                    1   \n",
       "4                      0                   1                    1   \n",
       "...                  ...                 ...                  ...   \n",
       "26072                  1                   1                    1   \n",
       "26073                  2                   1                    2   \n",
       "26075                  9                   1                    1   \n",
       "26076                  3                   1                    2   \n",
       "26077                  4                   0                    1   \n",
       "\n",
       "       breed_encoded  \n",
       "0                  1  \n",
       "1                  2  \n",
       "2                  2  \n",
       "3                  1  \n",
       "4                  1  \n",
       "...              ...  \n",
       "26072              0  \n",
       "26073              0  \n",
       "26075              0  \n",
       "26076              0  \n",
       "26077              0  \n",
       "\n",
       "[17085 rows x 7 columns]"
      ]
     },
     "execution_count": 51,
     "metadata": {},
     "output_type": "execute_result"
    }
   ],
   "source": [
    "df[independent_variables]"
   ]
  },
  {
   "cell_type": "code",
   "execution_count": 52,
   "metadata": {},
   "outputs": [
    {
     "data": {
      "text/plain": [
       "((13668, 7), (3417, 7))"
      ]
     },
     "execution_count": 52,
     "metadata": {},
     "output_type": "execute_result"
    }
   ],
   "source": [
    "X= df[independent_variables]\n",
    "y= df[dependent_variable]\n",
    "X_train, X_test,y_train, y_test = train_test_split(X, y, test_size=0.2, random_state=42) \n",
    "X_train.shape, X_test.shape\n",
    "\n",
    "# # Use imbalanced-learn to resample the training data\n",
    "# ros = RandomUnderSampler(sampling_strategy='auto', random_state=42)  # we can adjust the sampling_strategy as needed\n",
    "# X_resampled, y_resampled = ros.fit_resample(X_train, y_train)\n"
   ]
  },
  {
   "cell_type": "code",
   "execution_count": null,
   "metadata": {},
   "outputs": [],
   "source": []
  },
  {
   "cell_type": "code",
   "execution_count": 53,
   "metadata": {},
   "outputs": [
    {
     "data": {
      "text/plain": [
       "1760"
      ]
     },
     "execution_count": 53,
     "metadata": {},
     "output_type": "execute_result"
    }
   ],
   "source": [
    "(y_test==1).sum()"
   ]
  },
  {
   "cell_type": "code",
   "execution_count": 54,
   "metadata": {},
   "outputs": [
    {
     "data": {
      "text/plain": [
       "1657"
      ]
     },
     "execution_count": 54,
     "metadata": {},
     "output_type": "execute_result"
    }
   ],
   "source": [
    "(y_test==0).sum()"
   ]
  },
  {
   "cell_type": "code",
   "execution_count": 55,
   "metadata": {
    "scrolled": true
   },
   "outputs": [
    {
     "name": "stdout",
     "output_type": "stream",
     "text": [
      "Fitting 5 folds for each of 162 candidates, totalling 810 fits\n",
      "RandomForestClassifier(max_depth=10, max_leaf_nodes=10)\n",
      "Accuracy Score: 0.694469\n",
      "Precision Score: 0.747238\n",
      "Recall Score: 0.614773\n",
      "F1 Score: 0.674564\n",
      "AUC Score: 0.757235\n"
     ]
    }
   ],
   "source": [
    "from sklearn.model_selection import GridSearchCV,RandomizedSearchCV\n",
    "params = { \n",
    "    'n_estimators': [50, 100, 150],\n",
    "    'max_features': ['sqrt', 'log2', None],\n",
    "    'max_depth': [None, 5, 10],\n",
    "    'min_samples_split': [2, 5, 10],\n",
    "    'max_leaf_nodes': [5, 10]\n",
    "}\n",
    "grid_search_cv = GridSearchCV(\n",
    "    estimator=RandomForestClassifier(),\n",
    "    param_grid=params,\n",
    "    scoring='accuracy',\n",
    "    cv=5, \n",
    "    verbose=1\n",
    ")\n",
    "\n",
    "# 1. Fit your GridSearchCV with your training data. \n",
    "# grid_search_cv.fit(X_resampled, y_resampled)\n",
    "\n",
    "grid_search_cv.fit(X_train, y_train)\n",
    "\n",
    "# Print the best parameters it found\n",
    "print(grid_search_cv.best_estimator_) \n",
    "\n",
    "good_model = grid_search_cv.best_estimator_\n",
    "\n",
    "\n",
    "# ----------------------- Now lets evaluate our model------------\n",
    "y_pred = good_model.predict(X_test)\n",
    "\n",
    "\n",
    "accuracy = accuracy_score(y_true=y_test, y_pred=y_pred)\n",
    "print(\"Accuracy Score: %f\" % accuracy)\n",
    "\n",
    "precision = precision_score(y_true=y_test, y_pred= y_pred)\n",
    "print(\"Precision Score: %f\" % precision)\n",
    "\n",
    "recall = recall_score(y_true=y_test, y_pred= y_pred)\n",
    "print(\"Recall Score: %f\" % recall)\n",
    "\n",
    "f1 = f1_score(y_true=y_test, y_pred= y_pred)\n",
    "print('F1 Score: %f' % f1)\n",
    "\n",
    "# Calculate predicted probabilities, keep only probability for when class = 1\n",
    "y_pred_proba = good_model.predict_proba(X_test)[:,1]\n",
    "\n",
    "auc = roc_auc_score(y_true=y_test, y_score=y_pred_proba)\n",
    "print('AUC Score: %f' % auc)"
   ]
  },
  {
   "cell_type": "code",
   "execution_count": 56,
   "metadata": {},
   "outputs": [
    {
     "name": "stdout",
     "output_type": "stream",
     "text": [
      "age_intake_months           0.641191\n",
      "intake_type_encoded         0.194632\n",
      "intake_condition_encoded    0.132636\n",
      "CoatColor_encoded           0.014417\n",
      "breed_encoded               0.013733\n",
      "CoatPattern_encoded         0.002542\n",
      "sex_intake_encoded          0.000849\n",
      "dtype: float64\n"
     ]
    }
   ],
   "source": [
    "feature_importance = pd.Series(good_model.feature_importances_, index=X.columns)\n",
    "feature_importance.sort_values(ascending=False, inplace=True)\n",
    "print(feature_importance)"
   ]
  },
  {
   "cell_type": "code",
   "execution_count": 57,
   "metadata": {
    "scrolled": true
   },
   "outputs": [
    {
     "data": {
      "text/plain": [
       "0.5150717003219198"
      ]
     },
     "execution_count": 57,
     "metadata": {},
     "output_type": "execute_result"
    }
   ],
   "source": [
    "ratio = (y_test == 1).sum() / ((y_test == 0) | (y_test == 1)).sum()\n",
    "ratio"
   ]
  },
  {
   "cell_type": "code",
   "execution_count": 58,
   "metadata": {
    "scrolled": false
   },
   "outputs": [
    {
     "data": {
      "image/png": "[encoded data removed]",
      "text/plain": [
       "<Figure size 800x500 with 1 Axes>"
      ]
     },
     "metadata": {},
     "output_type": "display_data"
    }
   ],
   "source": [
    "from sklearn.metrics import confusion_matrix\n",
    "import seaborn as sns\n",
    "import matplotlib.pyplot as plt\n",
    "\n",
    "# Assuming y_test and y_pred are already defined\n",
    "\n",
    "# Compute confusion matrix\n",
    "cm = confusion_matrix(y_test, y_pred)\n",
    "cm = cm.round(2)\n",
    "\n",
    "# Extract individual elements from the confusion matrix\n",
    "tn, fp, fn, tp = confusion_matrix(y_test, y_pred).ravel()\n",
    "\n",
    "# Create a figure and axis\n",
    "fig, ax = plt.subplots(figsize=(8, 5))\n",
    "\n",
    "# Plot the heatmap\n",
    "sns.heatmap(cm, annot=True, cmap='Greens', fmt='g', cbar=False, ax=ax)\n",
    "\n",
    "# Label the heatmap with TN, FP, FN, and TP values\n",
    "ax.text(0, 0, f'TN: {tn}', ha='center', va='center', color='blue', fontsize=12)\n",
    "ax.text(1, 0, f'FP: {fp}', ha='center', va='center', color='red', fontsize=12)\n",
    "ax.text(0, 1, f'FN: {fn}', ha='center', va='center', color='red', fontsize=12)\n",
    "ax.text(1, 1, f'TP: {tp}', ha='center', va='center', color='blue', fontsize=12)\n",
    "\n",
    "# Set labels for x and y axes\n",
    "plt.xlabel('Predicted')\n",
    "plt.ylabel('Actual')\n",
    "\n",
    "# Display the plot\n",
    "plt.show()\n"
   ]
  },
  {
   "cell_type": "markdown",
   "metadata": {},
   "source": [
    "0 means staying **less than one month** & 1 means **staying more than one month**\n",
    "### which means\n",
    "#### row 1 -> predicts the cat who will stay less\n",
    "#### and row 2 -> predicts the cat who will stay more"
   ]
  },
  {
   "cell_type": "code",
   "execution_count": null,
   "metadata": {},
   "outputs": [],
   "source": []
  },
  {
   "cell_type": "markdown",
   "metadata": {},
   "source": [
    "# ⬆︎⬆︎----------- Accuracy Score: 0.691713,  F1 Score: 0.662394, AUC Score: 0.759893 -------- ⬆︎⬆︎"
   ]
  },
  {
   "cell_type": "markdown",
   "metadata": {},
   "source": [
    "## in order to solve the imbalance in calss we use the below code ☟"
   ]
  },
  {
   "cell_type": "code",
   "execution_count": 35,
   "metadata": {
    "scrolled": true
   },
   "outputs": [
    {
     "name": "stdout",
     "output_type": "stream",
     "text": [
      "Fitting 5 folds for each of 162 candidates, totalling 810 fits\n",
      "RandomForestClassifier(max_depth=10, max_features='log2', max_leaf_nodes=10)\n",
      "Accuracy Score: 0.728988\n",
      "Precision Score: 0.725073\n",
      "Recall Score: 0.710626\n",
      "F1 Score: 0.717777\n",
      "AUC Score: 0.795007\n"
     ]
    },
    {
     "data": {
      "text/plain": [
       "['../texas_strealit_app/use_model.joblib']"
      ]
     },
     "execution_count": 35,
     "metadata": {},
     "output_type": "execute_result"
    }
   ],
   "source": [
    "import pandas as pd\n",
    "from sklearn.model_selection import train_test_split\n",
    "from sklearn.ensemble import RandomForestClassifier\n",
    "from sklearn.metrics import accuracy_score, precision_score, recall_score, f1_score, roc_auc_score\n",
    "from imblearn.over_sampling import RandomOverSampler\n",
    "from imblearn.under_sampling import RandomUnderSampler\n",
    "\n",
    "# Load your dataset\n",
    "df2 = pd.read_csv('../texas_dataset/texas_level_encoded_numeric_value_dec_3.csv')\n",
    "# df= df.drop_duplicates(keep='first')\n",
    "\n",
    "# Define the function to categorize stay\n",
    "def categorize_stay(days_stayed):\n",
    "    if days_stayed <= 24:\n",
    "        return 0\n",
    "    else:\n",
    "        return 1\n",
    "\n",
    "# Apply the categorization\n",
    "df2['stay'] = df2['stay_length'].apply(categorize_stay)\n",
    "\n",
    "independent_variables = ['age_intake_months', \n",
    "                     'intake_type_encoded', 'intake_condition_encoded',\n",
    "                     'CoatColor_encoded', 'sex_intake_encoded', 'CoatPattern_encoded',\n",
    "                      'breed_encoded']\n",
    "\n",
    "dependent_variable = 'stay'\n",
    "\n",
    "X = df2[independent_variables]\n",
    "y = df2['stay']\n",
    "\n",
    "# Split the data into training and testing sets\n",
    "X_train, X_test, y_train, y_test = train_test_split(X, y, test_size=0.25, random_state=42) \n",
    "\n",
    "# Use imbalanced-learn to resample the training data\n",
    "ros = RandomOverSampler(sampling_strategy='auto', random_state=42)  # You can adjust the sampling_strategy as needed\n",
    "X_resampled, y_resampled = ros.fit_resample(X_train, y_train)\n",
    "\n",
    "# # Alternatively, you can use RandomUnderSampler for undersampling\n",
    "# rus = RandomUnderSampler(sampling_strategy='auto', random_state=42)\n",
    "# X_resampled, y_resampled = rus.fit_resample(X_train, y_train)\n",
    "\n",
    "# Define the hyperparameter grid for GridSearchCV\n",
    "params = { \n",
    "    'n_estimators': [50, 100, 150],\n",
    "    'max_features': ['sqrt', 'log2', None],\n",
    "    'max_depth': [None, 5, 10],\n",
    "    'min_samples_split': [2, 5, 10],\n",
    "    'max_leaf_nodes': [5, 10]\n",
    "}\n",
    "\n",
    "# Use GridSearchCV with RandomForestClassifier\n",
    "grid_search_cv = GridSearchCV(\n",
    "    estimator=RandomForestClassifier(),\n",
    "    param_grid=params,\n",
    "    scoring='accuracy',\n",
    "    cv=5, \n",
    "    verbose=1\n",
    ")\n",
    "\n",
    "# Fit the model on the resampled data\n",
    "grid_search_cv.fit(X_resampled, y_resampled)\n",
    "\n",
    "# Print the best parameters it found\n",
    "print(grid_search_cv.best_estimator_) \n",
    "\n",
    "# Extract the best model from GridSearchCV\n",
    "use_model = grid_search_cv.best_estimator_\n",
    "\n",
    "# Evaluate the model on the original test set\n",
    "y_pred = use_model.predict(X_test)\n",
    "\n",
    "accuracy = accuracy_score(y_true=y_test, y_pred=y_pred)\n",
    "print(\"Accuracy Score: %f\" % accuracy)\n",
    "\n",
    "precision = precision_score(y_true=y_test, y_pred=y_pred)\n",
    "print(\"Precision Score: %f\" % precision)\n",
    "\n",
    "recall = recall_score(y_true=y_test, y_pred=y_pred)\n",
    "print(\"Recall Score: %f\" % recall)\n",
    "\n",
    "f1 = f1_score(y_true=y_test, y_pred=y_pred)\n",
    "print('F1 Score: %f' % f1)\n",
    "\n",
    "# Calculate predicted probabilities, keep only probability for when class = 1\n",
    "y_pred_proba = use_model.predict_proba(X_test)[:, 1]\n",
    "\n",
    "auc = roc_auc_score(y_true=y_test, y_score=y_pred_proba)\n",
    "print('AUC Score: %f' % auc)\n",
    "\n",
    "from joblib import dump\n",
    "dump(use_model, '../texas_strealit_app/use_model.joblib')\n"
   ]
  },
  {
   "cell_type": "code",
   "execution_count": 36,
   "metadata": {},
   "outputs": [
    {
     "name": "stdout",
     "output_type": "stream",
     "text": [
      "age_intake_months           0.763327\n",
      "intake_type_encoded         0.127747\n",
      "intake_condition_encoded    0.081020\n",
      "breed_encoded               0.013022\n",
      "CoatColor_encoded           0.011543\n",
      "CoatPattern_encoded         0.001895\n",
      "sex_intake_encoded          0.001447\n",
      "dtype: float64\n"
     ]
    }
   ],
   "source": [
    "feature_importance = pd.Series(use_model.feature_importances_, index=X.columns)\n",
    "feature_importance.sort_values(ascending=False, inplace=True)\n",
    "print(feature_importance)"
   ]
  },
  {
   "cell_type": "code",
   "execution_count": 37,
   "metadata": {},
   "outputs": [
    {
     "data": {
      "text/plain": [
       "0.4849693251533742"
      ]
     },
     "execution_count": 37,
     "metadata": {},
     "output_type": "execute_result"
    }
   ],
   "source": [
    "ratio = (y_test == 1).sum() / ((y_test == 0) | (y_test == 1)).sum()\n",
    "ratio"
   ]
  },
  {
   "cell_type": "code",
   "execution_count": 38,
   "metadata": {},
   "outputs": [
    {
     "data": {
      "text/plain": [
       "3162"
      ]
     },
     "execution_count": 38,
     "metadata": {},
     "output_type": "execute_result"
    }
   ],
   "source": [
    "(y_test == 1).sum()"
   ]
  },
  {
   "cell_type": "code",
   "execution_count": 39,
   "metadata": {},
   "outputs": [
    {
     "data": {
      "text/plain": [
       "3358"
      ]
     },
     "execution_count": 39,
     "metadata": {},
     "output_type": "execute_result"
    }
   ],
   "source": [
    "(y_test == 0).sum()"
   ]
  },
  {
   "cell_type": "code",
   "execution_count": 40,
   "metadata": {
    "scrolled": false
   },
   "outputs": [
    {
     "data": {
      "image/png": "[encoded data removed]",
      "text/plain": [
       "<Figure size 800x500 with 1 Axes>"
      ]
     },
     "metadata": {},
     "output_type": "display_data"
    }
   ],
   "source": [
    "\n",
    "# Compute confusion matrix\n",
    "cm = confusion_matrix(y_test, y_pred)\n",
    "cm = cm.round(2)\n",
    "\n",
    "# Extract individual elements from the confusion matrix\n",
    "tn, fp, fn, tp = confusion_matrix(y_test, y_pred).ravel()\n",
    "\n",
    "# Create a figure and axis\n",
    "fig, ax = plt.subplots(figsize=(8, 5))\n",
    "\n",
    "# Plot the heatmap\n",
    "sns.heatmap(cm, annot=True, cmap='Greens', fmt='g', cbar=False, ax=ax)\n",
    "\n",
    "# Label the heatmap with TN, FP, FN, and TP values\n",
    "ax.text(0, 0, f'TN: {tn}', ha='center', va='center', color='blue', fontsize=12)\n",
    "ax.text(0, 1, f'FP: {fp}', ha='center', va='center', color='red', fontsize=12)\n",
    "ax.text(1, 0, f'FN: {fn}', ha='center', va='center', color='red', fontsize=12)\n",
    "ax.text(1, 1, f'TP: {tp}', ha='center', va='center', color='blue', fontsize=12)\n",
    "\n",
    "# Set labels for x and y axes\n",
    "plt.xlabel('Predicted')\n",
    "plt.ylabel('Actual')\n",
    "\n",
    "# Display the plot\n",
    "plt.show()\n"
   ]
  },
  {
   "cell_type": "markdown",
   "metadata": {},
   "source": [
    "⬆︎⬆︎ 0 means staying **less than one month** & 1 means **staying more than one month**\n",
    "### which means\n",
    "#### row 1 -> predicts the cat who will stay less\n",
    "#### and row 2 -> predicts the cat who will stay more"
   ]
  },
  {
   "cell_type": "code",
   "execution_count": null,
   "metadata": {},
   "outputs": [],
   "source": []
  },
  {
   "cell_type": "markdown",
   "metadata": {},
   "source": [
    "## ⬆︎⬆︎-------  Accuracy Score: 0.728681 ## Precision Score: 0.724316 ## Recall Score: 0.711259 ## F1 Score: 0.717728 ## AUC Score: 0.788243 ------- ⬆︎⬆︎"
   ]
  },
  {
   "cell_type": "code",
   "execution_count": null,
   "metadata": {},
   "outputs": [],
   "source": []
  }
 ],
 "metadata": {
  "kernelspec": {
   "display_name": "Python 3 (ipykernel)",
   "language": "python",
   "name": "python3"
  },
  "language_info": {
   "codemirror_mode": {
    "name": "ipython",
    "version": 3
   },
   "file_extension": ".py",
   "mimetype": "text/x-python",
   "name": "python",
   "nbconvert_exporter": "python",
   "pygments_lexer": "ipython3",
   "version": "3.11.5"
  }
 },
 "nbformat": 4,
 "nbformat_minor": 2
}
