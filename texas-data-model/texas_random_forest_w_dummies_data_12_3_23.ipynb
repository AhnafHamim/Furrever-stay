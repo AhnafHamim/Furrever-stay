{
 "cells": [
  {
   "cell_type": "code",
   "execution_count": 1,
   "metadata": {},
   "outputs": [],
   "source": [
    "# Import our libraries \n",
    "\n",
    "# Pandas and numpy for data wrangling\n",
    "import pandas as pd\n",
    "import numpy as np\n",
    "\n",
    "# Seaborn / matplotlib for visualization \n",
    "import seaborn as sns\n",
    "sns.set()\n",
    "\n",
    "import matplotlib.pyplot as plt\n",
    "%matplotlib inline\n",
    "\n",
    "# Helper function to split our data\n",
    "from sklearn.model_selection import train_test_split\n",
    "\n",
    "# Helper fuctions to evaluate our model.\n",
    "from sklearn.metrics import accuracy_score, precision_score, recall_score, confusion_matrix, classification_report, roc_auc_score, f1_score\n",
    "\n",
    "# Import our Decision Tree\n",
    "from sklearn.tree import DecisionTreeClassifier \n",
    "\n",
    "# Import our Random Forest \n",
    "from sklearn.ensemble import RandomForestClassifier\n",
    "\n",
    "# Import the trees from sklearn\n",
    "from sklearn import tree\n",
    "\n",
    "# Helper functions to visualize our trees\n",
    "from sklearn.tree import plot_tree, export_text\n",
    "\n",
    "#tree regression\n",
    "from sklearn.ensemble import RandomForestRegressor\n",
    "\n",
    "# imbalanced-learn library\n",
    "from imblearn.over_sampling import RandomOverSampler\n",
    "from imblearn.under_sampling import RandomUnderSampler"
   ]
  },
  {
   "cell_type": "code",
   "execution_count": 2,
   "metadata": {},
   "outputs": [
    {
     "data": {
      "text/html": [
       "<div>\n",
       "<style scoped>\n",
       "    .dataframe tbody tr th:only-of-type {\n",
       "        vertical-align: middle;\n",
       "    }\n",
       "\n",
       "    .dataframe tbody tr th {\n",
       "        vertical-align: top;\n",
       "    }\n",
       "\n",
       "    .dataframe thead th {\n",
       "        text-align: right;\n",
       "    }\n",
       "</style>\n",
       "<table border=\"1\" class=\"dataframe\">\n",
       "  <thead>\n",
       "    <tr style=\"text-align: right;\">\n",
       "      <th></th>\n",
       "      <th>age_intake_months</th>\n",
       "      <th>stay_length</th>\n",
       "      <th>intake_type_owner_surrender</th>\n",
       "      <th>intake_type_stray</th>\n",
       "      <th>intake_condition_aged</th>\n",
       "      <th>intake_condition_injured</th>\n",
       "      <th>intake_condition_neonatal</th>\n",
       "      <th>intake_condition_normal</th>\n",
       "      <th>intake_condition_nursing</th>\n",
       "      <th>intake_condition_pregnant</th>\n",
       "      <th>...</th>\n",
       "      <th>coatcolor_black_n_white</th>\n",
       "      <th>coatcolor_blue</th>\n",
       "      <th>coatcolor_brown</th>\n",
       "      <th>coatcolor_calico_or_calico_mix</th>\n",
       "      <th>coatcolor_orange</th>\n",
       "      <th>coatcolor_torbie_or_torbie_mix</th>\n",
       "      <th>coatcolor_tortie_or_tortie_mix</th>\n",
       "      <th>coatcolor_white_mix</th>\n",
       "      <th>coatpattern_solid</th>\n",
       "      <th>coatpattern_tabby</th>\n",
       "    </tr>\n",
       "  </thead>\n",
       "  <tbody>\n",
       "    <tr>\n",
       "      <th>0</th>\n",
       "      <td>1</td>\n",
       "      <td>31</td>\n",
       "      <td>0</td>\n",
       "      <td>1</td>\n",
       "      <td>0</td>\n",
       "      <td>0</td>\n",
       "      <td>0</td>\n",
       "      <td>1</td>\n",
       "      <td>0</td>\n",
       "      <td>0</td>\n",
       "      <td>...</td>\n",
       "      <td>0</td>\n",
       "      <td>0</td>\n",
       "      <td>0</td>\n",
       "      <td>0</td>\n",
       "      <td>0</td>\n",
       "      <td>0</td>\n",
       "      <td>0</td>\n",
       "      <td>0</td>\n",
       "      <td>1</td>\n",
       "      <td>0</td>\n",
       "    </tr>\n",
       "    <tr>\n",
       "      <th>1</th>\n",
       "      <td>36</td>\n",
       "      <td>3</td>\n",
       "      <td>0</td>\n",
       "      <td>1</td>\n",
       "      <td>0</td>\n",
       "      <td>0</td>\n",
       "      <td>0</td>\n",
       "      <td>1</td>\n",
       "      <td>0</td>\n",
       "      <td>0</td>\n",
       "      <td>...</td>\n",
       "      <td>0</td>\n",
       "      <td>0</td>\n",
       "      <td>1</td>\n",
       "      <td>0</td>\n",
       "      <td>0</td>\n",
       "      <td>0</td>\n",
       "      <td>0</td>\n",
       "      <td>0</td>\n",
       "      <td>0</td>\n",
       "      <td>0</td>\n",
       "    </tr>\n",
       "    <tr>\n",
       "      <th>2</th>\n",
       "      <td>1</td>\n",
       "      <td>68</td>\n",
       "      <td>0</td>\n",
       "      <td>1</td>\n",
       "      <td>0</td>\n",
       "      <td>0</td>\n",
       "      <td>0</td>\n",
       "      <td>1</td>\n",
       "      <td>0</td>\n",
       "      <td>0</td>\n",
       "      <td>...</td>\n",
       "      <td>0</td>\n",
       "      <td>0</td>\n",
       "      <td>1</td>\n",
       "      <td>0</td>\n",
       "      <td>0</td>\n",
       "      <td>0</td>\n",
       "      <td>0</td>\n",
       "      <td>0</td>\n",
       "      <td>0</td>\n",
       "      <td>1</td>\n",
       "    </tr>\n",
       "    <tr>\n",
       "      <th>3</th>\n",
       "      <td>1</td>\n",
       "      <td>24</td>\n",
       "      <td>1</td>\n",
       "      <td>0</td>\n",
       "      <td>0</td>\n",
       "      <td>0</td>\n",
       "      <td>0</td>\n",
       "      <td>1</td>\n",
       "      <td>0</td>\n",
       "      <td>0</td>\n",
       "      <td>...</td>\n",
       "      <td>0</td>\n",
       "      <td>0</td>\n",
       "      <td>0</td>\n",
       "      <td>0</td>\n",
       "      <td>0</td>\n",
       "      <td>0</td>\n",
       "      <td>0</td>\n",
       "      <td>1</td>\n",
       "      <td>1</td>\n",
       "      <td>0</td>\n",
       "    </tr>\n",
       "    <tr>\n",
       "      <th>4</th>\n",
       "      <td>1</td>\n",
       "      <td>30</td>\n",
       "      <td>0</td>\n",
       "      <td>1</td>\n",
       "      <td>0</td>\n",
       "      <td>0</td>\n",
       "      <td>0</td>\n",
       "      <td>1</td>\n",
       "      <td>0</td>\n",
       "      <td>0</td>\n",
       "      <td>...</td>\n",
       "      <td>0</td>\n",
       "      <td>0</td>\n",
       "      <td>0</td>\n",
       "      <td>0</td>\n",
       "      <td>0</td>\n",
       "      <td>0</td>\n",
       "      <td>0</td>\n",
       "      <td>0</td>\n",
       "      <td>1</td>\n",
       "      <td>0</td>\n",
       "    </tr>\n",
       "  </tbody>\n",
       "</table>\n",
       "<p>5 rows × 26 columns</p>\n",
       "</div>"
      ],
      "text/plain": [
       "   age_intake_months  stay_length  intake_type_owner_surrender  \\\n",
       "0                  1           31                            0   \n",
       "1                 36            3                            0   \n",
       "2                  1           68                            0   \n",
       "3                  1           24                            1   \n",
       "4                  1           30                            0   \n",
       "\n",
       "   intake_type_stray  intake_condition_aged  intake_condition_injured  \\\n",
       "0                  1                      0                         0   \n",
       "1                  1                      0                         0   \n",
       "2                  1                      0                         0   \n",
       "3                  0                      0                         0   \n",
       "4                  1                      0                         0   \n",
       "\n",
       "   intake_condition_neonatal  intake_condition_normal  \\\n",
       "0                          0                        1   \n",
       "1                          0                        1   \n",
       "2                          0                        1   \n",
       "3                          0                        1   \n",
       "4                          0                        1   \n",
       "\n",
       "   intake_condition_nursing  intake_condition_pregnant  ...  \\\n",
       "0                         0                          0  ...   \n",
       "1                         0                          0  ...   \n",
       "2                         0                          0  ...   \n",
       "3                         0                          0  ...   \n",
       "4                         0                          0  ...   \n",
       "\n",
       "   coatcolor_black_n_white  coatcolor_blue  coatcolor_brown  \\\n",
       "0                        0               0                0   \n",
       "1                        0               0                1   \n",
       "2                        0               0                1   \n",
       "3                        0               0                0   \n",
       "4                        0               0                0   \n",
       "\n",
       "   coatcolor_calico_or_calico_mix  coatcolor_orange  \\\n",
       "0                               0                 0   \n",
       "1                               0                 0   \n",
       "2                               0                 0   \n",
       "3                               0                 0   \n",
       "4                               0                 0   \n",
       "\n",
       "   coatcolor_torbie_or_torbie_mix  coatcolor_tortie_or_tortie_mix  \\\n",
       "0                               0                               0   \n",
       "1                               0                               0   \n",
       "2                               0                               0   \n",
       "3                               0                               0   \n",
       "4                               0                               0   \n",
       "\n",
       "   coatcolor_white_mix  coatpattern_solid  coatpattern_tabby  \n",
       "0                    0                  1                  0  \n",
       "1                    0                  0                  0  \n",
       "2                    0                  0                  1  \n",
       "3                    1                  1                  0  \n",
       "4                    0                  1                  0  \n",
       "\n",
       "[5 rows x 26 columns]"
      ]
     },
     "execution_count": 2,
     "metadata": {},
     "output_type": "execute_result"
    }
   ],
   "source": [
    "df = pd.read_csv('../texas_dataset/texas_get_dummies_encoded_value_dec_3.csv')\n",
    "df.head()"
   ]
  },
  {
   "cell_type": "code",
   "execution_count": 3,
   "metadata": {},
   "outputs": [
    {
     "data": {
      "text/plain": [
       "8994"
      ]
     },
     "execution_count": 3,
     "metadata": {},
     "output_type": "execute_result"
    }
   ],
   "source": [
    "df.duplicated().sum()"
   ]
  },
  {
   "cell_type": "code",
   "execution_count": 4,
   "metadata": {},
   "outputs": [
    {
     "name": "stdout",
     "output_type": "stream",
     "text": [
      "0\n"
     ]
    }
   ],
   "source": [
    "df= df.drop_duplicates(keep='first')\n",
    "print(df.duplicated().sum())"
   ]
  },
  {
   "cell_type": "markdown",
   "metadata": {},
   "source": [
    "## We are predicting if a cat will stay more than a month in the shelter (yes = 1, no =0) ☟"
   ]
  },
  {
   "cell_type": "code",
   "execution_count": 5,
   "metadata": {
    "scrolled": false
   },
   "outputs": [
    {
     "data": {
      "text/plain": [
       "8576"
      ]
     },
     "execution_count": 5,
     "metadata": {},
     "output_type": "execute_result"
    }
   ],
   "source": [
    "(df['stay_length']> 24).sum()"
   ]
  },
  {
   "cell_type": "code",
   "execution_count": 6,
   "metadata": {},
   "outputs": [
    {
     "data": {
      "text/plain": [
       "8509"
      ]
     },
     "execution_count": 6,
     "metadata": {},
     "output_type": "execute_result"
    }
   ],
   "source": [
    "(df['stay_length']<=24).sum()"
   ]
  },
  {
   "cell_type": "code",
   "execution_count": 7,
   "metadata": {},
   "outputs": [
    {
     "data": {
      "text/html": [
       "<div>\n",
       "<style scoped>\n",
       "    .dataframe tbody tr th:only-of-type {\n",
       "        vertical-align: middle;\n",
       "    }\n",
       "\n",
       "    .dataframe tbody tr th {\n",
       "        vertical-align: top;\n",
       "    }\n",
       "\n",
       "    .dataframe thead th {\n",
       "        text-align: right;\n",
       "    }\n",
       "</style>\n",
       "<table border=\"1\" class=\"dataframe\">\n",
       "  <thead>\n",
       "    <tr style=\"text-align: right;\">\n",
       "      <th></th>\n",
       "      <th>age_intake_months</th>\n",
       "      <th>stay_length</th>\n",
       "      <th>intake_type_owner_surrender</th>\n",
       "      <th>intake_type_stray</th>\n",
       "      <th>intake_condition_aged</th>\n",
       "      <th>intake_condition_injured</th>\n",
       "      <th>intake_condition_neonatal</th>\n",
       "      <th>intake_condition_normal</th>\n",
       "      <th>intake_condition_nursing</th>\n",
       "      <th>intake_condition_pregnant</th>\n",
       "      <th>...</th>\n",
       "      <th>coatcolor_blue</th>\n",
       "      <th>coatcolor_brown</th>\n",
       "      <th>coatcolor_calico_or_calico_mix</th>\n",
       "      <th>coatcolor_orange</th>\n",
       "      <th>coatcolor_torbie_or_torbie_mix</th>\n",
       "      <th>coatcolor_tortie_or_tortie_mix</th>\n",
       "      <th>coatcolor_white_mix</th>\n",
       "      <th>coatpattern_solid</th>\n",
       "      <th>coatpattern_tabby</th>\n",
       "      <th>stay</th>\n",
       "    </tr>\n",
       "  </thead>\n",
       "  <tbody>\n",
       "    <tr>\n",
       "      <th>26072</th>\n",
       "      <td>1</td>\n",
       "      <td>38</td>\n",
       "      <td>1</td>\n",
       "      <td>0</td>\n",
       "      <td>0</td>\n",
       "      <td>0</td>\n",
       "      <td>0</td>\n",
       "      <td>1</td>\n",
       "      <td>0</td>\n",
       "      <td>0</td>\n",
       "      <td>...</td>\n",
       "      <td>0</td>\n",
       "      <td>0</td>\n",
       "      <td>0</td>\n",
       "      <td>0</td>\n",
       "      <td>0</td>\n",
       "      <td>0</td>\n",
       "      <td>0</td>\n",
       "      <td>1</td>\n",
       "      <td>0</td>\n",
       "      <td>1</td>\n",
       "    </tr>\n",
       "    <tr>\n",
       "      <th>26073</th>\n",
       "      <td>4</td>\n",
       "      <td>7</td>\n",
       "      <td>1</td>\n",
       "      <td>0</td>\n",
       "      <td>0</td>\n",
       "      <td>0</td>\n",
       "      <td>0</td>\n",
       "      <td>1</td>\n",
       "      <td>0</td>\n",
       "      <td>0</td>\n",
       "      <td>...</td>\n",
       "      <td>1</td>\n",
       "      <td>0</td>\n",
       "      <td>0</td>\n",
       "      <td>0</td>\n",
       "      <td>0</td>\n",
       "      <td>0</td>\n",
       "      <td>0</td>\n",
       "      <td>0</td>\n",
       "      <td>1</td>\n",
       "      <td>0</td>\n",
       "    </tr>\n",
       "    <tr>\n",
       "      <th>26075</th>\n",
       "      <td>11</td>\n",
       "      <td>16</td>\n",
       "      <td>0</td>\n",
       "      <td>1</td>\n",
       "      <td>0</td>\n",
       "      <td>0</td>\n",
       "      <td>0</td>\n",
       "      <td>1</td>\n",
       "      <td>0</td>\n",
       "      <td>0</td>\n",
       "      <td>...</td>\n",
       "      <td>0</td>\n",
       "      <td>0</td>\n",
       "      <td>0</td>\n",
       "      <td>0</td>\n",
       "      <td>0</td>\n",
       "      <td>0</td>\n",
       "      <td>1</td>\n",
       "      <td>1</td>\n",
       "      <td>0</td>\n",
       "      <td>0</td>\n",
       "    </tr>\n",
       "    <tr>\n",
       "      <th>26076</th>\n",
       "      <td>0</td>\n",
       "      <td>75</td>\n",
       "      <td>0</td>\n",
       "      <td>1</td>\n",
       "      <td>0</td>\n",
       "      <td>0</td>\n",
       "      <td>1</td>\n",
       "      <td>0</td>\n",
       "      <td>0</td>\n",
       "      <td>0</td>\n",
       "      <td>...</td>\n",
       "      <td>0</td>\n",
       "      <td>1</td>\n",
       "      <td>0</td>\n",
       "      <td>0</td>\n",
       "      <td>0</td>\n",
       "      <td>0</td>\n",
       "      <td>0</td>\n",
       "      <td>0</td>\n",
       "      <td>1</td>\n",
       "      <td>1</td>\n",
       "    </tr>\n",
       "    <tr>\n",
       "      <th>26077</th>\n",
       "      <td>36</td>\n",
       "      <td>7</td>\n",
       "      <td>1</td>\n",
       "      <td>0</td>\n",
       "      <td>0</td>\n",
       "      <td>0</td>\n",
       "      <td>0</td>\n",
       "      <td>1</td>\n",
       "      <td>0</td>\n",
       "      <td>0</td>\n",
       "      <td>...</td>\n",
       "      <td>0</td>\n",
       "      <td>0</td>\n",
       "      <td>1</td>\n",
       "      <td>0</td>\n",
       "      <td>0</td>\n",
       "      <td>0</td>\n",
       "      <td>0</td>\n",
       "      <td>1</td>\n",
       "      <td>0</td>\n",
       "      <td>0</td>\n",
       "    </tr>\n",
       "  </tbody>\n",
       "</table>\n",
       "<p>5 rows × 27 columns</p>\n",
       "</div>"
      ],
      "text/plain": [
       "       age_intake_months  stay_length  intake_type_owner_surrender  \\\n",
       "26072                  1           38                            1   \n",
       "26073                  4            7                            1   \n",
       "26075                 11           16                            0   \n",
       "26076                  0           75                            0   \n",
       "26077                 36            7                            1   \n",
       "\n",
       "       intake_type_stray  intake_condition_aged  intake_condition_injured  \\\n",
       "26072                  0                      0                         0   \n",
       "26073                  0                      0                         0   \n",
       "26075                  1                      0                         0   \n",
       "26076                  1                      0                         0   \n",
       "26077                  0                      0                         0   \n",
       "\n",
       "       intake_condition_neonatal  intake_condition_normal  \\\n",
       "26072                          0                        1   \n",
       "26073                          0                        1   \n",
       "26075                          0                        1   \n",
       "26076                          1                        0   \n",
       "26077                          0                        1   \n",
       "\n",
       "       intake_condition_nursing  intake_condition_pregnant  ...  \\\n",
       "26072                         0                          0  ...   \n",
       "26073                         0                          0  ...   \n",
       "26075                         0                          0  ...   \n",
       "26076                         0                          0  ...   \n",
       "26077                         0                          0  ...   \n",
       "\n",
       "       coatcolor_blue  coatcolor_brown  coatcolor_calico_or_calico_mix  \\\n",
       "26072               0                0                               0   \n",
       "26073               1                0                               0   \n",
       "26075               0                0                               0   \n",
       "26076               0                1                               0   \n",
       "26077               0                0                               1   \n",
       "\n",
       "       coatcolor_orange  coatcolor_torbie_or_torbie_mix  \\\n",
       "26072                 0                               0   \n",
       "26073                 0                               0   \n",
       "26075                 0                               0   \n",
       "26076                 0                               0   \n",
       "26077                 0                               0   \n",
       "\n",
       "       coatcolor_tortie_or_tortie_mix  coatcolor_white_mix  coatpattern_solid  \\\n",
       "26072                               0                    0                  1   \n",
       "26073                               0                    0                  0   \n",
       "26075                               0                    1                  1   \n",
       "26076                               0                    0                  0   \n",
       "26077                               0                    0                  1   \n",
       "\n",
       "       coatpattern_tabby  stay  \n",
       "26072                  0     1  \n",
       "26073                  1     0  \n",
       "26075                  0     0  \n",
       "26076                  1     1  \n",
       "26077                  0     0  \n",
       "\n",
       "[5 rows x 27 columns]"
      ]
     },
     "execution_count": 7,
     "metadata": {},
     "output_type": "execute_result"
    }
   ],
   "source": [
    "# this part is to predict long or short stay (0,1)\n",
    "import pandas as pd\n",
    "\n",
    "def categorize_stay(days_stayed):\n",
    "    if days_stayed <= 24 :\n",
    "        return 0\n",
    "    else:\n",
    "        return 1\n",
    "\n",
    "# Example usage:\n",
    "# Assuming df is your DataFrame and \"days_stayed\" is the column you want to categorize\n",
    "df['stay'] = df['stay_length'].apply(categorize_stay)\n",
    "df.tail()"
   ]
  },
  {
   "cell_type": "code",
   "execution_count": 8,
   "metadata": {},
   "outputs": [
    {
     "data": {
      "text/html": [
       "<div>\n",
       "<style scoped>\n",
       "    .dataframe tbody tr th:only-of-type {\n",
       "        vertical-align: middle;\n",
       "    }\n",
       "\n",
       "    .dataframe tbody tr th {\n",
       "        vertical-align: top;\n",
       "    }\n",
       "\n",
       "    .dataframe thead th {\n",
       "        text-align: right;\n",
       "    }\n",
       "</style>\n",
       "<table border=\"1\" class=\"dataframe\">\n",
       "  <thead>\n",
       "    <tr style=\"text-align: right;\">\n",
       "      <th></th>\n",
       "      <th>age_intake_months</th>\n",
       "      <th>stay_length</th>\n",
       "      <th>intake_type_owner_surrender</th>\n",
       "      <th>intake_type_stray</th>\n",
       "      <th>intake_condition_aged</th>\n",
       "      <th>intake_condition_injured</th>\n",
       "      <th>intake_condition_neonatal</th>\n",
       "      <th>intake_condition_normal</th>\n",
       "      <th>intake_condition_nursing</th>\n",
       "      <th>intake_condition_pregnant</th>\n",
       "      <th>...</th>\n",
       "      <th>coatcolor_blue</th>\n",
       "      <th>coatcolor_brown</th>\n",
       "      <th>coatcolor_calico_or_calico_mix</th>\n",
       "      <th>coatcolor_orange</th>\n",
       "      <th>coatcolor_torbie_or_torbie_mix</th>\n",
       "      <th>coatcolor_tortie_or_tortie_mix</th>\n",
       "      <th>coatcolor_white_mix</th>\n",
       "      <th>coatpattern_solid</th>\n",
       "      <th>coatpattern_tabby</th>\n",
       "      <th>stay</th>\n",
       "    </tr>\n",
       "  </thead>\n",
       "  <tbody>\n",
       "    <tr>\n",
       "      <th>0</th>\n",
       "      <td>1</td>\n",
       "      <td>31</td>\n",
       "      <td>0</td>\n",
       "      <td>1</td>\n",
       "      <td>0</td>\n",
       "      <td>0</td>\n",
       "      <td>0</td>\n",
       "      <td>1</td>\n",
       "      <td>0</td>\n",
       "      <td>0</td>\n",
       "      <td>...</td>\n",
       "      <td>0</td>\n",
       "      <td>0</td>\n",
       "      <td>0</td>\n",
       "      <td>0</td>\n",
       "      <td>0</td>\n",
       "      <td>0</td>\n",
       "      <td>0</td>\n",
       "      <td>1</td>\n",
       "      <td>0</td>\n",
       "      <td>1</td>\n",
       "    </tr>\n",
       "    <tr>\n",
       "      <th>1</th>\n",
       "      <td>36</td>\n",
       "      <td>3</td>\n",
       "      <td>0</td>\n",
       "      <td>1</td>\n",
       "      <td>0</td>\n",
       "      <td>0</td>\n",
       "      <td>0</td>\n",
       "      <td>1</td>\n",
       "      <td>0</td>\n",
       "      <td>0</td>\n",
       "      <td>...</td>\n",
       "      <td>0</td>\n",
       "      <td>1</td>\n",
       "      <td>0</td>\n",
       "      <td>0</td>\n",
       "      <td>0</td>\n",
       "      <td>0</td>\n",
       "      <td>0</td>\n",
       "      <td>0</td>\n",
       "      <td>0</td>\n",
       "      <td>0</td>\n",
       "    </tr>\n",
       "    <tr>\n",
       "      <th>2</th>\n",
       "      <td>1</td>\n",
       "      <td>68</td>\n",
       "      <td>0</td>\n",
       "      <td>1</td>\n",
       "      <td>0</td>\n",
       "      <td>0</td>\n",
       "      <td>0</td>\n",
       "      <td>1</td>\n",
       "      <td>0</td>\n",
       "      <td>0</td>\n",
       "      <td>...</td>\n",
       "      <td>0</td>\n",
       "      <td>1</td>\n",
       "      <td>0</td>\n",
       "      <td>0</td>\n",
       "      <td>0</td>\n",
       "      <td>0</td>\n",
       "      <td>0</td>\n",
       "      <td>0</td>\n",
       "      <td>1</td>\n",
       "      <td>1</td>\n",
       "    </tr>\n",
       "    <tr>\n",
       "      <th>3</th>\n",
       "      <td>1</td>\n",
       "      <td>24</td>\n",
       "      <td>1</td>\n",
       "      <td>0</td>\n",
       "      <td>0</td>\n",
       "      <td>0</td>\n",
       "      <td>0</td>\n",
       "      <td>1</td>\n",
       "      <td>0</td>\n",
       "      <td>0</td>\n",
       "      <td>...</td>\n",
       "      <td>0</td>\n",
       "      <td>0</td>\n",
       "      <td>0</td>\n",
       "      <td>0</td>\n",
       "      <td>0</td>\n",
       "      <td>0</td>\n",
       "      <td>1</td>\n",
       "      <td>1</td>\n",
       "      <td>0</td>\n",
       "      <td>0</td>\n",
       "    </tr>\n",
       "    <tr>\n",
       "      <th>4</th>\n",
       "      <td>1</td>\n",
       "      <td>30</td>\n",
       "      <td>0</td>\n",
       "      <td>1</td>\n",
       "      <td>0</td>\n",
       "      <td>0</td>\n",
       "      <td>0</td>\n",
       "      <td>1</td>\n",
       "      <td>0</td>\n",
       "      <td>0</td>\n",
       "      <td>...</td>\n",
       "      <td>0</td>\n",
       "      <td>0</td>\n",
       "      <td>0</td>\n",
       "      <td>0</td>\n",
       "      <td>0</td>\n",
       "      <td>0</td>\n",
       "      <td>0</td>\n",
       "      <td>1</td>\n",
       "      <td>0</td>\n",
       "      <td>1</td>\n",
       "    </tr>\n",
       "  </tbody>\n",
       "</table>\n",
       "<p>5 rows × 27 columns</p>\n",
       "</div>"
      ],
      "text/plain": [
       "   age_intake_months  stay_length  intake_type_owner_surrender  \\\n",
       "0                  1           31                            0   \n",
       "1                 36            3                            0   \n",
       "2                  1           68                            0   \n",
       "3                  1           24                            1   \n",
       "4                  1           30                            0   \n",
       "\n",
       "   intake_type_stray  intake_condition_aged  intake_condition_injured  \\\n",
       "0                  1                      0                         0   \n",
       "1                  1                      0                         0   \n",
       "2                  1                      0                         0   \n",
       "3                  0                      0                         0   \n",
       "4                  1                      0                         0   \n",
       "\n",
       "   intake_condition_neonatal  intake_condition_normal  \\\n",
       "0                          0                        1   \n",
       "1                          0                        1   \n",
       "2                          0                        1   \n",
       "3                          0                        1   \n",
       "4                          0                        1   \n",
       "\n",
       "   intake_condition_nursing  intake_condition_pregnant  ...  coatcolor_blue  \\\n",
       "0                         0                          0  ...               0   \n",
       "1                         0                          0  ...               0   \n",
       "2                         0                          0  ...               0   \n",
       "3                         0                          0  ...               0   \n",
       "4                         0                          0  ...               0   \n",
       "\n",
       "   coatcolor_brown  coatcolor_calico_or_calico_mix  coatcolor_orange  \\\n",
       "0                0                               0                 0   \n",
       "1                1                               0                 0   \n",
       "2                1                               0                 0   \n",
       "3                0                               0                 0   \n",
       "4                0                               0                 0   \n",
       "\n",
       "   coatcolor_torbie_or_torbie_mix  coatcolor_tortie_or_tortie_mix  \\\n",
       "0                               0                               0   \n",
       "1                               0                               0   \n",
       "2                               0                               0   \n",
       "3                               0                               0   \n",
       "4                               0                               0   \n",
       "\n",
       "   coatcolor_white_mix  coatpattern_solid  coatpattern_tabby  stay  \n",
       "0                    0                  1                  0     1  \n",
       "1                    0                  0                  0     0  \n",
       "2                    0                  0                  1     1  \n",
       "3                    1                  1                  0     0  \n",
       "4                    0                  1                  0     1  \n",
       "\n",
       "[5 rows x 27 columns]"
      ]
     },
     "execution_count": 8,
     "metadata": {},
     "output_type": "execute_result"
    }
   ],
   "source": [
    "df.head()"
   ]
  },
  {
   "cell_type": "code",
   "execution_count": 9,
   "metadata": {},
   "outputs": [
    {
     "name": "stdout",
     "output_type": "stream",
     "text": [
      "Number of occurrences of 1: 8576\n",
      "Number of occurrences of 0: 8509\n"
     ]
    }
   ],
   "source": [
    "count_ones = df['stay'].value_counts().get(1)\n",
    "print(f\"Number of occurrences of 1: {count_ones}\")\n",
    "\n",
    "count_zeros = df['stay'].value_counts().get(0)\n",
    "print(f\"Number of occurrences of 0: {count_zeros}\")\n"
   ]
  },
  {
   "cell_type": "code",
   "execution_count": 10,
   "metadata": {},
   "outputs": [],
   "source": [
    "independent_variables = ['age_intake_months',\n",
    "                    'intake_type_owner_surrender', \n",
    "                    'intake_type_stray',\n",
    "                    'intake_condition_aged',\n",
    "                    'intake_condition_injured',\n",
    "                    'intake_condition_neonatal',\n",
    "                    'intake_condition_normal',\n",
    "                    'intake_condition_nursing',\n",
    "                    'intake_condition_pregnant',\n",
    "                    'intake_condition_sick',\n",
    "                    'sex_intake_female',\n",
    "                    'sex_intake_male',\n",
    "                    'breed_domestic_shorthair',\n",
    "                    'breed_domestic_shorthair_mix',\n",
    "                    'coatcolor_black',\n",
    "                    'coatcolor_black_n_white',\n",
    "                    'coatcolor_blue',\n",
    "                    'coatcolor_brown',\n",
    "                    'coatcolor_calico_or_calico_mix',\n",
    "                    'coatcolor_orange',\n",
    "                    'coatcolor_torbie_or_torbie_mix',\n",
    "                    'coatcolor_tortie_or_tortie_mix',\n",
    "                    'coatcolor_white_mix',\n",
    "                    'coatpattern_solid',\n",
    "                    'coatpattern_tabby']\n",
    "\n",
    "dependent_variable = 'stay'"
   ]
  },
  {
   "cell_type": "code",
   "execution_count": 11,
   "metadata": {},
   "outputs": [
    {
     "data": {
      "text/plain": [
       "((12813, 25), (4272, 25))"
      ]
     },
     "execution_count": 11,
     "metadata": {},
     "output_type": "execute_result"
    }
   ],
   "source": [
    "X= df[independent_variables]\n",
    "y= df[dependent_variable]\n",
    "X_train, X_test,y_train, y_test = train_test_split(X, y, test_size=0.25, random_state=42) \n",
    "X_train.shape, X_test.shape"
   ]
  },
  {
   "cell_type": "code",
   "execution_count": 12,
   "metadata": {},
   "outputs": [
    {
     "data": {
      "text/plain": [
       "2173"
      ]
     },
     "execution_count": 12,
     "metadata": {},
     "output_type": "execute_result"
    }
   ],
   "source": [
    "(y_test==1).sum()"
   ]
  },
  {
   "cell_type": "code",
   "execution_count": 13,
   "metadata": {},
   "outputs": [
    {
     "data": {
      "text/plain": [
       "2099"
      ]
     },
     "execution_count": 13,
     "metadata": {},
     "output_type": "execute_result"
    }
   ],
   "source": [
    "(y_test==0).sum()"
   ]
  },
  {
   "cell_type": "code",
   "execution_count": 14,
   "metadata": {},
   "outputs": [
    {
     "name": "stdout",
     "output_type": "stream",
     "text": [
      "Fitting 5 folds for each of 162 candidates, totalling 810 fits\n",
      "RandomForestClassifier(max_depth=10, max_leaf_nodes=5, min_samples_split=5)\n"
     ]
    }
   ],
   "source": [
    "from sklearn.model_selection import GridSearchCV,RandomizedSearchCV\n",
    "params = { \n",
    "    'n_estimators': [50, 100, 150],\n",
    "    'max_features': ['sqrt', 'log2', None],\n",
    "    'max_depth': [None, 5, 10],\n",
    "    'min_samples_split': [2, 5, 10],\n",
    "    'max_leaf_nodes': [5, 10]\n",
    "}\n",
    "grid_search_cv = GridSearchCV(\n",
    "    estimator=RandomForestClassifier(),\n",
    "    param_grid=params,\n",
    "    scoring='accuracy',\n",
    "    cv=5, \n",
    "    verbose=1\n",
    ")\n",
    "\n",
    "# 1. Fit your GridSearchCV with your training data. \n",
    "grid_search_cv.fit(X_train, y_train)\n",
    "\n",
    "# Print the best parameters it found\n",
    "print(grid_search_cv.best_estimator_) "
   ]
  },
  {
   "cell_type": "code",
   "execution_count": 16,
   "metadata": {
    "scrolled": true
   },
   "outputs": [
    {
     "name": "stdout",
     "output_type": "stream",
     "text": [
      "Accuracy Score: 0.691948\n",
      "Precision Score: 0.725883\n",
      "Recall Score: 0.633686\n",
      "F1 Score: 0.676658\n",
      "AUC Score: 0.745552\n"
     ]
    }
   ],
   "source": [
    "use_model_w_dummies = grid_search_cv.best_estimator_\n",
    "\n",
    "\n",
    "# Now lets evaluate our model\n",
    "y_pred = use_model_w_dummies.predict(X_test)\n",
    "\n",
    "accuracy = accuracy_score(y_true=y_test, y_pred=y_pred)\n",
    "print(\"Accuracy Score: %f\" % accuracy)\n",
    "\n",
    "precision = precision_score(y_true=y_test, y_pred= y_pred)\n",
    "print(\"Precision Score: %f\" % precision)\n",
    "\n",
    "recall = recall_score(y_true=y_test, y_pred= y_pred)\n",
    "print(\"Recall Score: %f\" % recall)\n",
    "\n",
    "f1 = f1_score(y_true=y_test, y_pred= y_pred)\n",
    "print('F1 Score: %f' % f1)\n",
    "\n",
    "# Calculate predicted probabilities, keep only probability for when class = 1\n",
    "y_pred_proba = use_model_w_dummies.predict_proba(X_test)[:,1]\n",
    "\n",
    "auc = roc_auc_score(y_true=y_test, y_score=y_pred_proba)\n",
    "print('AUC Score: %f' % auc)"
   ]
  },
  {
   "cell_type": "code",
   "execution_count": 17,
   "metadata": {},
   "outputs": [
    {
     "name": "stdout",
     "output_type": "stream",
     "text": [
      "age_intake_months                 0.503119\n",
      "intake_type_owner_surrender       0.149766\n",
      "intake_type_stray                 0.114912\n",
      "intake_condition_normal           0.092639\n",
      "intake_condition_nursing          0.084116\n",
      "intake_condition_neonatal         0.028981\n",
      "intake_condition_injured          0.011893\n",
      "intake_condition_sick             0.008639\n",
      "breed_domestic_shorthair          0.001022\n",
      "coatcolor_brown                   0.000935\n",
      "breed_domestic_shorthair_mix      0.000913\n",
      "coatcolor_black                   0.000606\n",
      "coatcolor_orange                  0.000399\n",
      "sex_intake_female                 0.000316\n",
      "coatcolor_white_mix               0.000304\n",
      "coatcolor_tortie_or_tortie_mix    0.000302\n",
      "coatpattern_tabby                 0.000278\n",
      "coatpattern_solid                 0.000268\n",
      "coatcolor_torbie_or_torbie_mix    0.000247\n",
      "coatcolor_black_n_white           0.000134\n",
      "coatcolor_calico_or_calico_mix    0.000104\n",
      "intake_condition_pregnant         0.000054\n",
      "sex_intake_male                   0.000053\n",
      "intake_condition_aged             0.000000\n",
      "coatcolor_blue                    0.000000\n",
      "dtype: float64\n"
     ]
    }
   ],
   "source": [
    "feature_importance = pd.Series(use_model_w_dummies.feature_importances_, index=X.columns)\n",
    "feature_importance.sort_values(ascending=False, inplace=True)\n",
    "print(feature_importance)"
   ]
  },
  {
   "cell_type": "code",
   "execution_count": 18,
   "metadata": {
    "scrolled": true
   },
   "outputs": [
    {
     "data": {
      "text/plain": [
       "0.5086610486891385"
      ]
     },
     "execution_count": 18,
     "metadata": {},
     "output_type": "execute_result"
    }
   ],
   "source": [
    "ratio = (y_test == 1).sum() / ((y_test == 0) | (y_test == 1)).sum()\n",
    "ratio"
   ]
  },
  {
   "cell_type": "code",
   "execution_count": 19,
   "metadata": {},
   "outputs": [
    {
     "data": {
      "image/png": "[encoded data removed]",
      "text/plain": [
       "<Figure size 800x500 with 1 Axes>"
      ]
     },
     "metadata": {},
     "output_type": "display_data"
    }
   ],
   "source": [
    "from sklearn.metrics import confusion_matrix\n",
    "import seaborn as sns\n",
    "import matplotlib.pyplot as plt\n",
    "\n",
    "# Assuming y_test and y_pred are already defined\n",
    "\n",
    "# Compute confusion matrix\n",
    "cm = confusion_matrix(y_test, y_pred)\n",
    "cm = cm.round(2)\n",
    "\n",
    "# Extract individual elements from the confusion matrix\n",
    "tn, fp, fn, tp = confusion_matrix(y_test, y_pred).ravel()\n",
    "\n",
    "# Create a figure and axis\n",
    "fig, ax = plt.subplots(figsize=(8, 5))\n",
    "\n",
    "# Plot the heatmap\n",
    "sns.heatmap(cm, annot=True, cmap='Greens', fmt='g', cbar=False, ax=ax)\n",
    "\n",
    "# Label the heatmap with TN, FP, FN, and TP values\n",
    "ax.text(0, 0, f'TN: {tn}', ha='center', va='center', color='blue', fontsize=12)\n",
    "ax.text(0, 1, f'FP: {fp}', ha='center', va='center', color='red', fontsize=12)\n",
    "ax.text(1, 0, f'FN: {fn}', ha='center', va='center', color='red', fontsize=12)\n",
    "ax.text(1, 1, f'TP: {tp}', ha='center', va='center', color='blue', fontsize=12)\n",
    "\n",
    "# Set labels for x and y axes\n",
    "plt.xlabel('Predicted')\n",
    "plt.ylabel('Actual')\n",
    "\n",
    "# Display the plot\n",
    "plt.show()\n"
   ]
  },
  {
   "cell_type": "code",
   "execution_count": null,
   "metadata": {},
   "outputs": [],
   "source": [
    "# print(y_test.tolist())"
   ]
  },
  {
   "cell_type": "markdown",
   "metadata": {},
   "source": [
    "# ⬆︎⬆︎-----------  Accuracy Score: 0.691948\n",
    "### Precision Score: 0.725883\n",
    "### Recall Score: 0.633686\n",
    "### F1 Score: 0.676658\n",
    "### AUC Score: 0.745552 -------- ⬆︎⬆︎"
   ]
  },
  {
   "cell_type": "code",
   "execution_count": null,
   "metadata": {},
   "outputs": [],
   "source": []
  },
  {
   "cell_type": "markdown",
   "metadata": {},
   "source": [
    "## in order to solve the imbalance in calss we use the below code ☟"
   ]
  },
  {
   "cell_type": "code",
   "execution_count": 22,
   "metadata": {},
   "outputs": [
    {
     "name": "stdout",
     "output_type": "stream",
     "text": [
      "Fitting 5 folds for each of 162 candidates, totalling 810 fits\n",
      "RandomForestClassifier(max_features=None, max_leaf_nodes=10, n_estimators=50)\n",
      "Accuracy Score: 0.728834\n",
      "Precision Score: 0.716057\n",
      "Recall Score: 0.730550\n",
      "F1 Score: 0.723231\n",
      "AUC Score: 0.790494\n"
     ]
    }
   ],
   "source": [
    "import pandas as pd\n",
    "from sklearn.model_selection import train_test_split\n",
    "from sklearn.ensemble import RandomForestClassifier\n",
    "from sklearn.metrics import accuracy_score, precision_score, recall_score, f1_score, roc_auc_score\n",
    "from imblearn.over_sampling import RandomOverSampler\n",
    "from imblearn.under_sampling import RandomUnderSampler\n",
    "\n",
    "# Load your dataset\n",
    "df2 = pd.read_csv('../texas_dataset/texas_get_dummies_encoded_value_dec_3.csv')\n",
    "df= df.drop_duplicates(keep='first')\n",
    "# Define the function to categorize stay\n",
    "def categorize_stay(days_stayed):\n",
    "    if days_stayed <= 24:\n",
    "        return 0\n",
    "    else:\n",
    "        return 1\n",
    "\n",
    "# Apply the categorization\n",
    "df2['stay'] = df2['stay_length'].apply(categorize_stay)\n",
    "\n",
    "independent_variables = ['age_intake_months',\n",
    "                    'intake_type_owner_surrender', \n",
    "                    'intake_type_stray',\n",
    "                    'intake_condition_aged',\n",
    "                    'intake_condition_injured',\n",
    "                    'intake_condition_neonatal',\n",
    "                    'intake_condition_normal',\n",
    "                    'intake_condition_nursing',\n",
    "                    'intake_condition_pregnant',\n",
    "                    'intake_condition_sick',\n",
    "                    'sex_intake_female',\n",
    "                    'sex_intake_male',\n",
    "                    'breed_domestic_shorthair',\n",
    "                    'breed_domestic_shorthair_mix',\n",
    "                    'coatcolor_black',\n",
    "                    'coatcolor_black_n_white',\n",
    "                    'coatcolor_blue',\n",
    "                    'coatcolor_brown',\n",
    "                    'coatcolor_calico_or_calico_mix',\n",
    "                    'coatcolor_orange',\n",
    "                    'coatcolor_torbie_or_torbie_mix',\n",
    "                    'coatcolor_tortie_or_tortie_mix',\n",
    "                    'coatcolor_white_mix',\n",
    "                    'coatpattern_solid',\n",
    "                    'coatpattern_tabby']\n",
    "\n",
    "dependent_variable = 'stay'\n",
    "\n",
    "X = df2[independent_variables]\n",
    "y = df2['stay']\n",
    "\n",
    "# Split the data into training and testing sets\n",
    "X_train, X_test, y_train, y_test = train_test_split(X, y, test_size=0.25, random_state=42) \n",
    "\n",
    "# Use imbalanced-learn to resample the training data\n",
    "ros = RandomOverSampler(sampling_strategy='auto', random_state=42)  # You can adjust the sampling_strategy as needed\n",
    "X_resampled, y_resampled = ros.fit_resample(X_train, y_train)\n",
    "\n",
    "# # Alternatively, you can use RandomUnderSampler for undersampling\n",
    "# rus = RandomUnderSampler(sampling_strategy='auto', random_state=42)\n",
    "# X_resampled, y_resampled = rus.fit_resample(X_train, y_train)\n",
    "\n",
    "# Define the hyperparameter grid for GridSearchCV\n",
    "params = { \n",
    "    'n_estimators': [50, 100, 150],\n",
    "    'max_features': ['sqrt', 'log2', None],\n",
    "    'max_depth': [None, 5, 10],\n",
    "    'min_samples_split': [2, 5, 10],\n",
    "    'max_leaf_nodes': [5, 10]\n",
    "}\n",
    "\n",
    "# Use GridSearchCV with RandomForestClassifier\n",
    "grid_search_cv = GridSearchCV(\n",
    "    estimator=RandomForestClassifier(),\n",
    "    param_grid=params,\n",
    "    scoring='accuracy',\n",
    "    cv=5, \n",
    "    verbose=1\n",
    ")\n",
    "\n",
    "# Fit the model on the resampled data\n",
    "grid_search_cv.fit(X_resampled, y_resampled)\n",
    "\n",
    "# Print the best parameters it found\n",
    "print(grid_search_cv.best_estimator_) \n",
    "\n",
    "# Extract the best model from GridSearchCV\n",
    "balanced_model = grid_search_cv.best_estimator_\n",
    "\n",
    "# Evaluate the model on the original test set\n",
    "y_pred = balanced_model.predict(X_test)\n",
    "\n",
    "accuracy = accuracy_score(y_true=y_test, y_pred=y_pred)\n",
    "print(\"Accuracy Score: %f\" % accuracy)\n",
    "\n",
    "precision = precision_score(y_true=y_test, y_pred=y_pred)\n",
    "print(\"Precision Score: %f\" % precision)\n",
    "\n",
    "recall = recall_score(y_true=y_test, y_pred=y_pred)\n",
    "print(\"Recall Score: %f\" % recall)\n",
    "\n",
    "f1 = f1_score(y_true=y_test, y_pred=y_pred)\n",
    "print('F1 Score: %f' % f1)\n",
    "\n",
    "# Calculate predicted probabilities, keep only probability for when class = 1\n",
    "y_pred_proba = balanced_model.predict_proba(X_test)[:, 1]\n",
    "\n",
    "auc = roc_auc_score(y_true=y_test, y_score=y_pred_proba)\n",
    "print('AUC Score: %f' % auc)\n"
   ]
  },
  {
   "cell_type": "code",
   "execution_count": 23,
   "metadata": {},
   "outputs": [
    {
     "name": "stdout",
     "output_type": "stream",
     "text": [
      "age_intake_months                 0.928008\n",
      "intake_condition_normal           0.038179\n",
      "intake_type_owner_surrender       0.022243\n",
      "breed_domestic_shorthair          0.004992\n",
      "intake_condition_nursing          0.003236\n",
      "breed_domestic_shorthair_mix      0.002512\n",
      "intake_type_stray                 0.000379\n",
      "coatcolor_calico_or_calico_mix    0.000148\n",
      "sex_intake_female                 0.000121\n",
      "sex_intake_male                   0.000098\n",
      "coatcolor_white_mix               0.000084\n",
      "intake_condition_injured          0.000000\n",
      "coatcolor_brown                   0.000000\n",
      "coatpattern_solid                 0.000000\n",
      "coatcolor_tortie_or_tortie_mix    0.000000\n",
      "coatcolor_torbie_or_torbie_mix    0.000000\n",
      "coatcolor_orange                  0.000000\n",
      "coatcolor_black                   0.000000\n",
      "coatcolor_blue                    0.000000\n",
      "coatcolor_black_n_white           0.000000\n",
      "intake_condition_neonatal         0.000000\n",
      "intake_condition_sick             0.000000\n",
      "intake_condition_pregnant         0.000000\n",
      "intake_condition_aged             0.000000\n",
      "coatpattern_tabby                 0.000000\n",
      "dtype: float64\n"
     ]
    }
   ],
   "source": [
    "feature_importance = pd.Series(balanced_model.feature_importances_, index=X.columns)\n",
    "feature_importance.sort_values(ascending=False, inplace=True)\n",
    "print(feature_importance)"
   ]
  },
  {
   "cell_type": "code",
   "execution_count": 24,
   "metadata": {},
   "outputs": [
    {
     "data": {
      "text/plain": [
       "0.4849693251533742"
      ]
     },
     "execution_count": 24,
     "metadata": {},
     "output_type": "execute_result"
    }
   ],
   "source": [
    "ratio = (y_test == 1).sum() / ((y_test == 0) | (y_test == 1)).sum()\n",
    "ratio"
   ]
  },
  {
   "cell_type": "code",
   "execution_count": 25,
   "metadata": {},
   "outputs": [
    {
     "data": {
      "text/plain": [
       "3162"
      ]
     },
     "execution_count": 25,
     "metadata": {},
     "output_type": "execute_result"
    }
   ],
   "source": [
    "(y_test == 1).sum()"
   ]
  },
  {
   "cell_type": "code",
   "execution_count": 26,
   "metadata": {},
   "outputs": [
    {
     "data": {
      "text/plain": [
       "3358"
      ]
     },
     "execution_count": 26,
     "metadata": {},
     "output_type": "execute_result"
    }
   ],
   "source": [
    "(y_test == 0).sum()"
   ]
  },
  {
   "cell_type": "code",
   "execution_count": 27,
   "metadata": {
    "scrolled": false
   },
   "outputs": [
    {
     "data": {
      "image/png": "[encoded data removed]",
      "text/plain": [
       "<Figure size 800x500 with 1 Axes>"
      ]
     },
     "metadata": {},
     "output_type": "display_data"
    }
   ],
   "source": [
    "\n",
    "# Compute confusion matrix\n",
    "cm = confusion_matrix(y_test, y_pred)\n",
    "cm = cm.round(2)\n",
    "\n",
    "# Extract individual elements from the confusion matrix\n",
    "tn, fp, fn, tp = confusion_matrix(y_test, y_pred).ravel()\n",
    "\n",
    "# Create a figure and axis\n",
    "fig, ax = plt.subplots(figsize=(8, 5))\n",
    "\n",
    "# Plot the heatmap\n",
    "sns.heatmap(cm, annot=True, cmap='Greens', fmt='g', cbar=False, ax=ax)\n",
    "\n",
    "# Label the heatmap with TN, FP, FN, and TP values\n",
    "ax.text(0, 0, f'TN: {tn}', ha='center', va='center', color='blue', fontsize=12)\n",
    "ax.text(0, 1, f'FP: {fp}', ha='center', va='center', color='red', fontsize=12)\n",
    "ax.text(1, 0, f'FN: {fn}', ha='center', va='center', color='red', fontsize=12)\n",
    "ax.text(1, 1, f'TP: {tp}', ha='center', va='center', color='blue', fontsize=12)\n",
    "\n",
    "# Set labels for x and y axes\n",
    "plt.xlabel('Predicted')\n",
    "plt.ylabel('Actual')\n",
    "\n",
    "# Display the plot\n",
    "plt.show()\n"
   ]
  },
  {
   "cell_type": "markdown",
   "metadata": {},
   "source": [
    "# ⬆︎⬆︎------- Accuracy Score: 0.728834\n",
    "# Precision Score: 0.716057\n",
    "# Recall Score: 0.730550\n",
    "# F1 Score: 0.723231\n",
    "# AUC Score: 0.790494 ------- ⬆︎⬆︎"
   ]
  },
  {
   "cell_type": "code",
   "execution_count": null,
   "metadata": {},
   "outputs": [],
   "source": [
    "."
   ]
  }
 ],
 "metadata": {
  "kernelspec": {
   "display_name": "Python 3 (ipykernel)",
   "language": "python",
   "name": "python3"
  },
  "language_info": {
   "codemirror_mode": {
    "name": "ipython",
    "version": 3
   },
   "file_extension": ".py",
   "mimetype": "text/x-python",
   "name": "python",
   "nbconvert_exporter": "python",
   "pygments_lexer": "ipython3",
   "version": "3.11.5"
  }
 },
 "nbformat": 4,
 "nbformat_minor": 2
}
