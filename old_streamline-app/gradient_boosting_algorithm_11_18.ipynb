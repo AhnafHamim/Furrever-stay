{
 "cells": [
  {
   "cell_type": "markdown",
   "metadata": {},
   "source": [
    "# Trying gradient boosting algorithm"
   ]
  },
  {
   "cell_type": "code",
   "execution_count": 1,
   "metadata": {},
   "outputs": [],
   "source": [
    "# Import our libraries \n",
    "\n",
    "# Pandas and numpy for data wrangling\n",
    "import pandas as pd\n",
    "import numpy as np\n",
    "\n",
    "# Seaborn / matplotlib for visualization \n",
    "import seaborn as sns\n",
    "sns.set()\n",
    "\n",
    "import matplotlib.pyplot as plt\n",
    "%matplotlib inline\n",
    "\n",
    "# Helper function to split our data\n",
    "from sklearn.model_selection import train_test_split, GridSearchCV\n",
    "\n",
    "# Helper fuctions to evaluate our model.\n",
    "from sklearn.metrics import mean_squared_error, accuracy_score, precision_score, recall_score, confusion_matrix, classification_report, roc_auc_score, f1_score\n",
    "\n",
    "# Helper function to split our data\n",
    "from sklearn.model_selection import train_test_split\n",
    "\n",
    "# Helper fuctions to evaluate our model.\n",
    "from sklearn.metrics import accuracy_score, precision_score, recall_score, confusion_matrix, classification_report, roc_auc_score, f1_score\n",
    "\n",
    "# Import our Decision Tree\n",
    "from sklearn.tree import DecisionTreeClassifier \n",
    "\n",
    "# Import our Random Forest \n",
    "from sklearn.ensemble import RandomForestClassifier\n",
    "\n",
    "# Import the trees from sklearn\n",
    "from sklearn import tree\n",
    "\n",
    "# Helper functions to visualize our trees\n",
    "from sklearn.tree import plot_tree, export_text\n",
    "\n",
    "#tree regression\n",
    "from sklearn.ensemble import RandomForestRegressor\n",
    "# imbalanced-learn library\n",
    "from imblearn.over_sampling import RandomOverSampler\n",
    "\n",
    "from sklearn.tree import plot_tree, export_text\n",
    "from sklearn.datasets import make_regression\n",
    "from sklearn.metrics import mean_squared_error, r2_score\n",
    "\n",
    "from sklearn.ensemble import GradientBoostingRegressor\n",
    "from sklearn.model_selection import train_test_split\n",
    "from sklearn.model_selection import GridSearchCV\n",
    "from sklearn.preprocessing import StandardScaler"
   ]
  },
  {
   "cell_type": "code",
   "execution_count": 2,
   "metadata": {},
   "outputs": [
    {
     "data": {
      "text/html": [
       "<div>\n",
       "<style scoped>\n",
       "    .dataframe tbody tr th:only-of-type {\n",
       "        vertical-align: middle;\n",
       "    }\n",
       "\n",
       "    .dataframe tbody tr th {\n",
       "        vertical-align: top;\n",
       "    }\n",
       "\n",
       "    .dataframe thead th {\n",
       "        text-align: right;\n",
       "    }\n",
       "</style>\n",
       "<table border=\"1\" class=\"dataframe\">\n",
       "  <thead>\n",
       "    <tr style=\"text-align: right;\">\n",
       "      <th></th>\n",
       "      <th>Type</th>\n",
       "      <th>Breed</th>\n",
       "      <th>Color</th>\n",
       "      <th>Sex</th>\n",
       "      <th>Size</th>\n",
       "      <th>Animal ID</th>\n",
       "      <th>Intake Date</th>\n",
       "      <th>Outcome Date</th>\n",
       "      <th>Days in Shelter</th>\n",
       "      <th>Intake Type</th>\n",
       "      <th>Outcome Type</th>\n",
       "      <th>Intake Condition</th>\n",
       "      <th>Outcome Condition</th>\n",
       "      <th>Age</th>\n",
       "      <th>Color_encoded</th>\n",
       "      <th>Sex_encoded</th>\n",
       "      <th>Intake Condition_encoded</th>\n",
       "      <th>Intake Type_encoded</th>\n",
       "      <th>Breed_encoded</th>\n",
       "      <th>Size_encoded</th>\n",
       "    </tr>\n",
       "  </thead>\n",
       "  <tbody>\n",
       "    <tr>\n",
       "      <th>1</th>\n",
       "      <td>CAT</td>\n",
       "      <td>DOMESTIC SH</td>\n",
       "      <td>ORG TABBY/WHITE</td>\n",
       "      <td>Spayed</td>\n",
       "      <td>KITTN</td>\n",
       "      <td>A417889</td>\n",
       "      <td>05/30/2023</td>\n",
       "      <td>08/08/2023</td>\n",
       "      <td>70</td>\n",
       "      <td>STRAY</td>\n",
       "      <td>ADOPTION</td>\n",
       "      <td>UNKNOWN</td>\n",
       "      <td>HEALTHY</td>\n",
       "      <td>0</td>\n",
       "      <td>22</td>\n",
       "      <td>3</td>\n",
       "      <td>3</td>\n",
       "      <td>5</td>\n",
       "      <td>13</td>\n",
       "      <td>0</td>\n",
       "    </tr>\n",
       "    <tr>\n",
       "      <th>2</th>\n",
       "      <td>CAT</td>\n",
       "      <td>DOMESTIC SH</td>\n",
       "      <td>BLACK</td>\n",
       "      <td>Neutered</td>\n",
       "      <td>KITTN</td>\n",
       "      <td>A418221</td>\n",
       "      <td>06/13/2023</td>\n",
       "      <td>08/08/2023</td>\n",
       "      <td>56</td>\n",
       "      <td>STRAY</td>\n",
       "      <td>ADOPTION</td>\n",
       "      <td>UNKNOWN</td>\n",
       "      <td>HEALTHY</td>\n",
       "      <td>0</td>\n",
       "      <td>0</td>\n",
       "      <td>2</td>\n",
       "      <td>3</td>\n",
       "      <td>5</td>\n",
       "      <td>13</td>\n",
       "      <td>0</td>\n",
       "    </tr>\n",
       "    <tr>\n",
       "      <th>3</th>\n",
       "      <td>CAT</td>\n",
       "      <td>SIAMESE/MIX</td>\n",
       "      <td>LYNX PT</td>\n",
       "      <td>Neutered</td>\n",
       "      <td>KITTN</td>\n",
       "      <td>A420264</td>\n",
       "      <td>09/12/2023</td>\n",
       "      <td>09/30/2023</td>\n",
       "      <td>18</td>\n",
       "      <td>OWNER SURRENDER</td>\n",
       "      <td>ADOPTION</td>\n",
       "      <td>HEALTHY</td>\n",
       "      <td>HEALTHY</td>\n",
       "      <td>0</td>\n",
       "      <td>18</td>\n",
       "      <td>2</td>\n",
       "      <td>0</td>\n",
       "      <td>3</td>\n",
       "      <td>34</td>\n",
       "      <td>0</td>\n",
       "    </tr>\n",
       "    <tr>\n",
       "      <th>4</th>\n",
       "      <td>CAT</td>\n",
       "      <td>DOMESTIC SH</td>\n",
       "      <td>BLACK</td>\n",
       "      <td>Neutered</td>\n",
       "      <td>KITTN</td>\n",
       "      <td>A419416</td>\n",
       "      <td>08/01/2023</td>\n",
       "      <td>09/30/2023</td>\n",
       "      <td>60</td>\n",
       "      <td>STRAY</td>\n",
       "      <td>ADOPTION</td>\n",
       "      <td>UNKNOWN</td>\n",
       "      <td>HEALTHY</td>\n",
       "      <td>0</td>\n",
       "      <td>0</td>\n",
       "      <td>2</td>\n",
       "      <td>3</td>\n",
       "      <td>5</td>\n",
       "      <td>13</td>\n",
       "      <td>0</td>\n",
       "    </tr>\n",
       "    <tr>\n",
       "      <th>5</th>\n",
       "      <td>CAT</td>\n",
       "      <td>DOMESTIC SH</td>\n",
       "      <td>BRN TABBY/WHITE</td>\n",
       "      <td>Spayed</td>\n",
       "      <td>KITTN</td>\n",
       "      <td>A419414</td>\n",
       "      <td>09/12/2023</td>\n",
       "      <td>09/30/2023</td>\n",
       "      <td>18</td>\n",
       "      <td>STRAY</td>\n",
       "      <td>ADOPTION</td>\n",
       "      <td>HEALTHY</td>\n",
       "      <td>HEALTHY</td>\n",
       "      <td>0</td>\n",
       "      <td>8</td>\n",
       "      <td>3</td>\n",
       "      <td>0</td>\n",
       "      <td>5</td>\n",
       "      <td>13</td>\n",
       "      <td>0</td>\n",
       "    </tr>\n",
       "  </tbody>\n",
       "</table>\n",
       "</div>"
      ],
      "text/plain": [
       "  Type        Breed            Color       Sex   Size Animal ID Intake Date  \\\n",
       "1  CAT  DOMESTIC SH  ORG TABBY/WHITE    Spayed  KITTN   A417889  05/30/2023   \n",
       "2  CAT  DOMESTIC SH            BLACK  Neutered  KITTN   A418221  06/13/2023   \n",
       "3  CAT  SIAMESE/MIX          LYNX PT  Neutered  KITTN   A420264  09/12/2023   \n",
       "4  CAT  DOMESTIC SH            BLACK  Neutered  KITTN   A419416  08/01/2023   \n",
       "5  CAT  DOMESTIC SH  BRN TABBY/WHITE    Spayed  KITTN   A419414  09/12/2023   \n",
       "\n",
       "  Outcome Date  Days in Shelter      Intake Type Outcome Type  \\\n",
       "1   08/08/2023               70            STRAY     ADOPTION   \n",
       "2   08/08/2023               56            STRAY     ADOPTION   \n",
       "3   09/30/2023               18  OWNER SURRENDER     ADOPTION   \n",
       "4   09/30/2023               60            STRAY     ADOPTION   \n",
       "5   09/30/2023               18            STRAY     ADOPTION   \n",
       "\n",
       "  Intake Condition Outcome Condition  Age  Color_encoded  Sex_encoded  \\\n",
       "1          UNKNOWN           HEALTHY    0             22            3   \n",
       "2          UNKNOWN           HEALTHY    0              0            2   \n",
       "3          HEALTHY           HEALTHY    0             18            2   \n",
       "4          UNKNOWN           HEALTHY    0              0            2   \n",
       "5          HEALTHY           HEALTHY    0              8            3   \n",
       "\n",
       "   Intake Condition_encoded  Intake Type_encoded  Breed_encoded  Size_encoded  \n",
       "1                         3                    5             13             0  \n",
       "2                         3                    5             13             0  \n",
       "3                         0                    3             34             0  \n",
       "4                         3                    5             13             0  \n",
       "5                         0                    5             13             0  "
      ]
     },
     "execution_count": 2,
     "metadata": {},
     "output_type": "execute_result"
    }
   ],
   "source": [
    "df = pd.read_csv('../dataset/encoded_dataset_nov_17.csv')\n",
    "df = df[df['Outcome Type'] == 'ADOPTION']\n",
    "df.head(5)"
   ]
  },
  {
   "cell_type": "code",
   "execution_count": 3,
   "metadata": {},
   "outputs": [
    {
     "data": {
      "text/plain": [
       "(3647, 20)"
      ]
     },
     "execution_count": 3,
     "metadata": {},
     "output_type": "execute_result"
    }
   ],
   "source": [
    "df.shape"
   ]
  },
  {
   "cell_type": "markdown",
   "metadata": {},
   "source": [
    "## ⬇︎⬇︎ GradientBoostingRegressor simple  ⬇︎⬇︎"
   ]
  },
  {
   "cell_type": "code",
   "execution_count": 4,
   "metadata": {},
   "outputs": [
    {
     "name": "stdout",
     "output_type": "stream",
     "text": [
      "Mean Squared Error: 472.36381971385947\n",
      "R-squared Score: 0.252025\n"
     ]
    }
   ],
   "source": [
    "from sklearn.ensemble import GradientBoostingRegressor\n",
    "from sklearn.metrics import mean_squared_error\n",
    "\n",
    "# Select relevant columns\n",
    "selected_columns = ['Color_encoded', 'Intake Condition_encoded', 'Intake Type_encoded',\n",
    "                    'Age','Size_encoded', 'Breed_encoded','Days in Shelter']\n",
    "df_selected = df[selected_columns]\n",
    "\n",
    "# Drop rows with missing values\n",
    "df_selected = df_selected.dropna()\n",
    "\n",
    "# Split the data into features (X) and target variable (y)\n",
    "X = df_selected.drop('Days in Shelter', axis=1)\n",
    "y = df_selected['Days in Shelter']\n",
    "\n",
    "# Split the data into training and testing sets\n",
    "X_train, X_test, y_train, y_test = train_test_split(X, y, test_size=0.2, random_state=42)\n",
    "\n",
    "# Initialize the Gradient Boosting Regressor\n",
    "gb_model = GradientBoostingRegressor(n_estimators=100, learning_rate=0.1, max_depth=3, random_state=42)\n",
    "\n",
    "# Fit the model to the training data\n",
    "gb_model.fit(X_train, y_train)\n",
    "\n",
    "# Make predictions on the test set\n",
    "predictions = gb_model.predict(X_test)\n",
    "\n",
    "# Evaluate the model\n",
    "mse = mean_squared_error(y_test, predictions)\n",
    "print(f'Mean Squared Error: {mse}')\n",
    "\n",
    "r2 = r2_score(y_true=y_test, y_pred=predictions)\n",
    "print(\"R-squared Score: %f\" % r2)"
   ]
  },
  {
   "cell_type": "markdown",
   "metadata": {},
   "source": [
    "## ⬆︎⬆︎ GradientBoostingRegressor simple (R2 : 0.252025)  ⬆︎⬆︎"
   ]
  },
  {
   "cell_type": "markdown",
   "metadata": {},
   "source": [
    "## ⬇︎⬇︎ GradientBoostingRegressor with GridSearchCV  ⬇︎⬇︎"
   ]
  },
  {
   "cell_type": "code",
   "execution_count": 5,
   "metadata": {},
   "outputs": [
    {
     "name": "stdout",
     "output_type": "stream",
     "text": [
      "Best Hyperparameters: {'max_depth': 10, 'min_samples_leaf': 4, 'min_samples_split': 10, 'n_estimators': 50}\n",
      "Mean Squared Error: 511.245205\n",
      "R-squared Score: 0.190457\n"
     ]
    }
   ],
   "source": [
    "\n",
    "# Assuming df is your dataframe\n",
    "selected_columns = ['Color_encoded', 'Intake Condition_encoded', 'Intake Type_encoded',\n",
    "                    'Age', 'Size_encoded', 'Breed_encoded', 'Days in Shelter', 'Sex_encoded']\n",
    "df_selected = df[selected_columns]\n",
    "\n",
    "# Drop rows with missing values\n",
    "df_selected = df_selected.dropna()\n",
    "\n",
    "# Split the data into features (X) and target variable (y)\n",
    "X = df_selected.drop('Days in Shelter', axis=1)\n",
    "y = df_selected['Days in Shelter']\n",
    "\n",
    "# Split the data into training and testing sets\n",
    "X_train, X_test, y_train, y_test = train_test_split(X, y, test_size=0.2, random_state=42)\n",
    "\n",
    "# # # Use RandomOverSampler to handle imbalanced data\n",
    "# ros = RandomOverSampler(random_state=42)\n",
    "# X_resampled, y_resampled = ros.fit_resample(X_train, y_train)\n",
    "\n",
    "# Hyperparameter tuning using GridSearchCV\n",
    "param_grid = {\n",
    "    'n_estimators': [50, 100, 200],\n",
    "    'max_depth': [None, 10, 20],\n",
    "    'min_samples_split': [2, 5, 10],\n",
    "    'min_samples_leaf': [1, 2, 4]\n",
    "}\n",
    "\n",
    "grid_search = GridSearchCV(GradientBoostingRegressor(), param_grid, cv=5)\n",
    "grid_search.fit(X_train, y_train)\n",
    "\n",
    "best_params = grid_search.best_params_\n",
    "print(\"Best Hyperparameters:\", best_params)\n",
    "\n",
    "# Use the best model\n",
    "gb_model = grid_search.best_estimator_\n",
    "\n",
    "# Now let's evaluate our model on the test set\n",
    "y_pred = np.round(gb_model.predict(X_test))\n",
    "\n",
    "# Evaluate the regression model\n",
    "mse = mean_squared_error(y_true=y_test, y_pred=y_pred)\n",
    "print(\"Mean Squared Error: %f\" % mse)\n",
    "\n",
    "r2 = r2_score(y_true=y_test, y_pred=y_pred)\n",
    "print(\"R-squared Score: %f\" % r2)\n"
   ]
  },
  {
   "cell_type": "code",
   "execution_count": 6,
   "metadata": {
    "scrolled": true
   },
   "outputs": [
    {
     "name": "stdout",
     "output_type": "stream",
     "text": [
      "Age                         0.311763\n",
      "Color_encoded               0.238071\n",
      "Intake Condition_encoded    0.203662\n",
      "Intake Type_encoded         0.105144\n",
      "Size_encoded                0.063546\n",
      "Breed_encoded               0.041528\n",
      "Sex_encoded                 0.036286\n",
      "dtype: float64\n"
     ]
    }
   ],
   "source": [
    "feature_importance = pd.Series(gb_model.feature_importances_, index=X.columns)\n",
    "feature_importance.sort_values(ascending=False, inplace=True)\n",
    "print(feature_importance)"
   ]
  },
  {
   "cell_type": "markdown",
   "metadata": {},
   "source": [
    "## ⬆︎⬆︎ GradientBoostingRegressor w GridSearchCV (R2 : )  ⬆︎⬆︎"
   ]
  },
  {
   "cell_type": "markdown",
   "metadata": {},
   "source": [
    "## ⬇︎⬇︎ RandomForestRegressor no-sampling  ⬇︎⬇︎"
   ]
  },
  {
   "cell_type": "code",
   "execution_count": 7,
   "metadata": {},
   "outputs": [],
   "source": [
    "independent_variables = ['Color_encoded', 'Intake Condition_encoded', 'Intake Type_encoded',\n",
    "                    'Age']\n",
    "\n",
    "dependent_variable = 'Days in Shelter'"
   ]
  },
  {
   "cell_type": "code",
   "execution_count": 8,
   "metadata": {},
   "outputs": [],
   "source": [
    "independent_variables = ['Color_encoded', 'Intake Condition_encoded', 'Intake Type_encoded',\n",
    "                    'Age','Size_encoded', 'Breed_encoded', 'Sex_encoded']\n",
    "dependent_variable = 'Days in Shelter'"
   ]
  },
  {
   "cell_type": "code",
   "execution_count": 9,
   "metadata": {},
   "outputs": [
    {
     "name": "stdout",
     "output_type": "stream",
     "text": [
      "Best Hyperparameters: {'max_depth': 10, 'min_samples_leaf': 4, 'min_samples_split': 2, 'n_estimators': 100}\n",
      "Mean Squared Error: 678.632877\n",
      "R-squared Score: 0.209533\n"
     ]
    }
   ],
   "source": [
    "\n",
    "# Specify the column containing the values you want to check for uniqueness\n",
    "\n",
    "X = df[independent_variables]\n",
    "y = df[dependent_variable]\n",
    "\n",
    "# Split the data into training and testing sets\n",
    "X_train, X_test, y_train, y_test = train_test_split(X, y, test_size=0.2, random_state=100)\n",
    "\n",
    "# Hyperparameter tuning using GridSearchCV\n",
    "param_grid = {\n",
    "    'n_estimators': [50, 100, 200],\n",
    "    'max_depth': [None, 10, 20],\n",
    "    'min_samples_split': [2, 5, 10],\n",
    "    'min_samples_leaf': [1, 2, 4]\n",
    "}\n",
    "\n",
    "grid_search = GridSearchCV(RandomForestRegressor(), param_grid, cv=5)\n",
    "grid_search.fit(X_train, y_train)\n",
    "\n",
    "best_params = grid_search.best_params_\n",
    "print(\"Best Hyperparameters:\", best_params)\n",
    "\n",
    "# Use the best model\n",
    "best_model = grid_search.best_estimator_\n",
    "\n",
    "# Now let's evaluate our model on the test set\n",
    "y_pred = np.round(best_model.predict(X_test)) # 80, 80.2 (80) 81\n",
    "\n",
    "# Evaluate the regression model\n",
    "mse = mean_squared_error(y_true=y_test, y_pred=y_pred)\n",
    "print(\"Mean Squared Error: %f\" % mse)\n",
    "\n",
    "r2 = r2_score(y_true=y_test, y_pred=y_pred)\n",
    "print(\"R-squared Score: %f\" % r2)"
   ]
  },
  {
   "cell_type": "code",
   "execution_count": 10,
   "metadata": {
    "scrolled": false
   },
   "outputs": [
    {
     "name": "stdout",
     "output_type": "stream",
     "text": [
      "Age                         0.294602\n",
      "Intake Condition_encoded    0.268760\n",
      "Color_encoded               0.189252\n",
      "Intake Type_encoded         0.115533\n",
      "Size_encoded                0.050889\n",
      "Sex_encoded                 0.046811\n",
      "Breed_encoded               0.034153\n",
      "dtype: float64\n"
     ]
    }
   ],
   "source": [
    "feature_importance = pd.Series(best_model.feature_importances_, index=X.columns)\n",
    "feature_importance.sort_values(ascending=False, inplace=True)\n",
    "print(feature_importance)"
   ]
  },
  {
   "cell_type": "markdown",
   "metadata": {},
   "source": [
    "## ⬆︎⬆︎ RandomForestRegressor w GridSearchCV (R2 : )  ⬆︎⬆︎"
   ]
  },
  {
   "cell_type": "code",
   "execution_count": null,
   "metadata": {},
   "outputs": [],
   "source": [
    "plt.figure(figsize=(20, 10))\n",
    "plot_tree(regression_forest_model.estimators_[0], feature_names=independent_variables, filled=True)\n",
    "plt.title('Tree 1')\n",
    "plt.show()"
   ]
  },
  {
   "cell_type": "code",
   "execution_count": null,
   "metadata": {
    "scrolled": true
   },
   "outputs": [],
   "source": [
    "y_pred"
   ]
  },
  {
   "cell_type": "code",
   "execution_count": null,
   "metadata": {},
   "outputs": [],
   "source": [
    "print(y_test.tolist())"
   ]
  },
  {
   "cell_type": "code",
   "execution_count": null,
   "metadata": {},
   "outputs": [],
   "source": [
    "# Create a DataFrame with actual and predicted values\n",
    "comparison_df = pd.DataFrame({'Actual': y_test, 'Predicted': y_pred})\n",
    "\n",
    "# Display the DataFrame\n",
    "print(comparison_df)\n",
    "\n",
    "# # You can also save the DataFrame to a CSV file if you want to analyze it further\n",
    "# comparison_df.to_csv('comparison_results.csv', index=False)"
   ]
  },
  {
   "cell_type": "code",
   "execution_count": null,
   "metadata": {
    "scrolled": false
   },
   "outputs": [],
   "source": [
    "pd.set_option('display.max_rows', None)\n",
    "pd.set_option('display.max_columns', None)\n",
    "\n",
    "# Print the entire DataFrame\n",
    "print(comparison_df)\n"
   ]
  }
 ],
 "metadata": {
  "kernelspec": {
   "display_name": "Python 3 (ipykernel)",
   "language": "python",
   "name": "python3"
  },
  "language_info": {
   "codemirror_mode": {
    "name": "ipython",
    "version": 3
   },
   "file_extension": ".py",
   "mimetype": "text/x-python",
   "name": "python",
   "nbconvert_exporter": "python",
   "pygments_lexer": "ipython3",
   "version": "3.11.5"
  }
 },
 "nbformat": 4,
 "nbformat_minor": 2
}
