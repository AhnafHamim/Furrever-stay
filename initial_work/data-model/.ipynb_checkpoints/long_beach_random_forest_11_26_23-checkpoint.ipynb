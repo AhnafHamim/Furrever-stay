{
 "cells": [
  {
   "cell_type": "code",
   "execution_count": 1,
   "metadata": {},
   "outputs": [],
   "source": [
    "# Import our libraries \n",
    "\n",
    "# Pandas and numpy for data wrangling\n",
    "import pandas as pd\n",
    "import numpy as np\n",
    "\n",
    "# Seaborn / matplotlib for visualization \n",
    "import seaborn as sns\n",
    "sns.set()\n",
    "\n",
    "import matplotlib.pyplot as plt\n",
    "%matplotlib inline\n",
    "\n",
    "# Helper function to split our data\n",
    "from sklearn.model_selection import train_test_split\n",
    "\n",
    "# Helper fuctions to evaluate our model.\n",
    "from sklearn.metrics import accuracy_score, precision_score, recall_score, confusion_matrix, classification_report, roc_auc_score, f1_score\n",
    "\n",
    "# Import our Decision Tree\n",
    "from sklearn.tree import DecisionTreeClassifier \n",
    "\n",
    "# Import our Random Forest \n",
    "from sklearn.ensemble import RandomForestClassifier\n",
    "\n",
    "# Import the trees from sklearn\n",
    "from sklearn import tree\n",
    "\n",
    "# Helper functions to visualize our trees\n",
    "from sklearn.tree import plot_tree, export_text\n",
    "\n",
    "#tree regression\n",
    "from sklearn.ensemble import RandomForestRegressor\n",
    "\n",
    "# imbalanced-learn library\n",
    "from imblearn.over_sampling import RandomOverSampler\n",
    "from imblearn.under_sampling import RandomUnderSampler"
   ]
  },
  {
   "cell_type": "code",
   "execution_count": 2,
   "metadata": {},
   "outputs": [
    {
     "data": {
      "text/html": [
       "<div>\n",
       "<style scoped>\n",
       "    .dataframe tbody tr th:only-of-type {\n",
       "        vertical-align: middle;\n",
       "    }\n",
       "\n",
       "    .dataframe tbody tr th {\n",
       "        vertical-align: top;\n",
       "    }\n",
       "\n",
       "    .dataframe thead th {\n",
       "        text-align: right;\n",
       "    }\n",
       "</style>\n",
       "<table border=\"1\" class=\"dataframe\">\n",
       "  <thead>\n",
       "    <tr style=\"text-align: right;\">\n",
       "      <th></th>\n",
       "      <th>Primary_Color</th>\n",
       "      <th>Sex</th>\n",
       "      <th>Age</th>\n",
       "      <th>Intake_Date</th>\n",
       "      <th>Intake_Condition</th>\n",
       "      <th>Intake_Type</th>\n",
       "      <th>days_stayed</th>\n",
       "      <th>Primary_Color_encoded</th>\n",
       "      <th>Sex_encoded</th>\n",
       "      <th>Intake_Condition_encoded</th>\n",
       "      <th>Intake_Type_encoded</th>\n",
       "    </tr>\n",
       "  </thead>\n",
       "  <tbody>\n",
       "    <tr>\n",
       "      <th>0</th>\n",
       "      <td>BRN TABBY</td>\n",
       "      <td>Spayed</td>\n",
       "      <td>6</td>\n",
       "      <td>12/19/18</td>\n",
       "      <td>NORMAL</td>\n",
       "      <td>STRAY</td>\n",
       "      <td>799</td>\n",
       "      <td>5</td>\n",
       "      <td>3</td>\n",
       "      <td>13</td>\n",
       "      <td>3</td>\n",
       "    </tr>\n",
       "    <tr>\n",
       "      <th>1</th>\n",
       "      <td>BRN TABBY</td>\n",
       "      <td>Spayed</td>\n",
       "      <td>9</td>\n",
       "      <td>10/4/19</td>\n",
       "      <td>NORMAL</td>\n",
       "      <td>OWNER SURRENDER</td>\n",
       "      <td>760</td>\n",
       "      <td>5</td>\n",
       "      <td>3</td>\n",
       "      <td>13</td>\n",
       "      <td>1</td>\n",
       "    </tr>\n",
       "    <tr>\n",
       "      <th>2</th>\n",
       "      <td>ORG TABBY</td>\n",
       "      <td>Neutered</td>\n",
       "      <td>12</td>\n",
       "      <td>6/24/17</td>\n",
       "      <td>ILL MILD</td>\n",
       "      <td>STRAY</td>\n",
       "      <td>685</td>\n",
       "      <td>22</td>\n",
       "      <td>2</td>\n",
       "      <td>7</td>\n",
       "      <td>3</td>\n",
       "    </tr>\n",
       "    <tr>\n",
       "      <th>3</th>\n",
       "      <td>BRN TABBY</td>\n",
       "      <td>Neutered</td>\n",
       "      <td>8</td>\n",
       "      <td>7/13/17</td>\n",
       "      <td>NORMAL</td>\n",
       "      <td>STRAY</td>\n",
       "      <td>666</td>\n",
       "      <td>5</td>\n",
       "      <td>2</td>\n",
       "      <td>13</td>\n",
       "      <td>3</td>\n",
       "    </tr>\n",
       "    <tr>\n",
       "      <th>4</th>\n",
       "      <td>GRAY TABBY</td>\n",
       "      <td>Spayed</td>\n",
       "      <td>8</td>\n",
       "      <td>5/10/17</td>\n",
       "      <td>NORMAL</td>\n",
       "      <td>STRAY</td>\n",
       "      <td>661</td>\n",
       "      <td>16</td>\n",
       "      <td>3</td>\n",
       "      <td>13</td>\n",
       "      <td>3</td>\n",
       "    </tr>\n",
       "  </tbody>\n",
       "</table>\n",
       "</div>"
      ],
      "text/plain": [
       "  Primary_Color       Sex  Age Intake_Date Intake_Condition      Intake_Type  \\\n",
       "0     BRN TABBY    Spayed    6    12/19/18           NORMAL            STRAY   \n",
       "1     BRN TABBY    Spayed    9     10/4/19           NORMAL  OWNER SURRENDER   \n",
       "2     ORG TABBY  Neutered   12     6/24/17         ILL MILD            STRAY   \n",
       "3     BRN TABBY  Neutered    8     7/13/17           NORMAL            STRAY   \n",
       "4    GRAY TABBY    Spayed    8     5/10/17           NORMAL            STRAY   \n",
       "\n",
       "   days_stayed  Primary_Color_encoded  Sex_encoded  Intake_Condition_encoded  \\\n",
       "0          799                      5            3                        13   \n",
       "1          760                      5            3                        13   \n",
       "2          685                     22            2                         7   \n",
       "3          666                      5            2                        13   \n",
       "4          661                     16            3                        13   \n",
       "\n",
       "   Intake_Type_encoded  \n",
       "0                    3  \n",
       "1                    1  \n",
       "2                    3  \n",
       "3                    3  \n",
       "4                    3  "
      ]
     },
     "execution_count": 2,
     "metadata": {},
     "output_type": "execute_result"
    }
   ],
   "source": [
    "df = pd.read_csv('../dataset/df_only_numeric_value_nov_05.csv')\n",
    "df.head()"
   ]
  },
  {
   "cell_type": "markdown",
   "metadata": {},
   "source": [
    "## We are predicting if a cat will stay more than a month in the shelter (yes = 1, no =0) ☟"
   ]
  },
  {
   "cell_type": "code",
   "execution_count": 3,
   "metadata": {
    "scrolled": true
   },
   "outputs": [
    {
     "data": {
      "text/plain": [
       "1575"
      ]
     },
     "execution_count": 3,
     "metadata": {},
     "output_type": "execute_result"
    }
   ],
   "source": [
    "(df['days_stayed']>30).sum()"
   ]
  },
  {
   "cell_type": "code",
   "execution_count": 4,
   "metadata": {},
   "outputs": [
    {
     "data": {
      "text/plain": [
       "1372"
      ]
     },
     "execution_count": 4,
     "metadata": {},
     "output_type": "execute_result"
    }
   ],
   "source": [
    "(df['days_stayed']<30).sum()"
   ]
  },
  {
   "cell_type": "code",
   "execution_count": 5,
   "metadata": {},
   "outputs": [
    {
     "data": {
      "text/html": [
       "<div>\n",
       "<style scoped>\n",
       "    .dataframe tbody tr th:only-of-type {\n",
       "        vertical-align: middle;\n",
       "    }\n",
       "\n",
       "    .dataframe tbody tr th {\n",
       "        vertical-align: top;\n",
       "    }\n",
       "\n",
       "    .dataframe thead th {\n",
       "        text-align: right;\n",
       "    }\n",
       "</style>\n",
       "<table border=\"1\" class=\"dataframe\">\n",
       "  <thead>\n",
       "    <tr style=\"text-align: right;\">\n",
       "      <th></th>\n",
       "      <th>Primary_Color</th>\n",
       "      <th>Sex</th>\n",
       "      <th>Age</th>\n",
       "      <th>Intake_Date</th>\n",
       "      <th>Intake_Condition</th>\n",
       "      <th>Intake_Type</th>\n",
       "      <th>days_stayed</th>\n",
       "      <th>Primary_Color_encoded</th>\n",
       "      <th>Sex_encoded</th>\n",
       "      <th>Intake_Condition_encoded</th>\n",
       "      <th>Intake_Type_encoded</th>\n",
       "      <th>stay</th>\n",
       "    </tr>\n",
       "  </thead>\n",
       "  <tbody>\n",
       "    <tr>\n",
       "      <th>2977</th>\n",
       "      <td>ORANGE</td>\n",
       "      <td>Spayed</td>\n",
       "      <td>2</td>\n",
       "      <td>8/21/21</td>\n",
       "      <td>NORMAL</td>\n",
       "      <td>STRAY</td>\n",
       "      <td>0</td>\n",
       "      <td>21</td>\n",
       "      <td>3</td>\n",
       "      <td>13</td>\n",
       "      <td>3</td>\n",
       "      <td>0</td>\n",
       "    </tr>\n",
       "    <tr>\n",
       "      <th>2978</th>\n",
       "      <td>ORG TABBY</td>\n",
       "      <td>Neutered</td>\n",
       "      <td>2</td>\n",
       "      <td>12/18/21</td>\n",
       "      <td>NORMAL</td>\n",
       "      <td>STRAY</td>\n",
       "      <td>0</td>\n",
       "      <td>22</td>\n",
       "      <td>2</td>\n",
       "      <td>13</td>\n",
       "      <td>3</td>\n",
       "      <td>0</td>\n",
       "    </tr>\n",
       "    <tr>\n",
       "      <th>2979</th>\n",
       "      <td>BRN TABBY</td>\n",
       "      <td>Spayed</td>\n",
       "      <td>1</td>\n",
       "      <td>5/18/22</td>\n",
       "      <td>UNDER AGE/WEIGHT</td>\n",
       "      <td>STRAY</td>\n",
       "      <td>0</td>\n",
       "      <td>5</td>\n",
       "      <td>3</td>\n",
       "      <td>14</td>\n",
       "      <td>3</td>\n",
       "      <td>0</td>\n",
       "    </tr>\n",
       "    <tr>\n",
       "      <th>2980</th>\n",
       "      <td>BLK TABBY</td>\n",
       "      <td>Spayed</td>\n",
       "      <td>1</td>\n",
       "      <td>11/10/22</td>\n",
       "      <td>NORMAL</td>\n",
       "      <td>RETURN</td>\n",
       "      <td>0</td>\n",
       "      <td>2</td>\n",
       "      <td>3</td>\n",
       "      <td>13</td>\n",
       "      <td>2</td>\n",
       "      <td>0</td>\n",
       "    </tr>\n",
       "    <tr>\n",
       "      <th>2981</th>\n",
       "      <td>GRAY</td>\n",
       "      <td>Neutered</td>\n",
       "      <td>0</td>\n",
       "      <td>12/21/22</td>\n",
       "      <td>FRACTIOUS</td>\n",
       "      <td>STRAY</td>\n",
       "      <td>0</td>\n",
       "      <td>15</td>\n",
       "      <td>2</td>\n",
       "      <td>5</td>\n",
       "      <td>3</td>\n",
       "      <td>0</td>\n",
       "    </tr>\n",
       "  </tbody>\n",
       "</table>\n",
       "</div>"
      ],
      "text/plain": [
       "     Primary_Color       Sex  Age Intake_Date  Intake_Condition Intake_Type  \\\n",
       "2977        ORANGE    Spayed    2     8/21/21            NORMAL       STRAY   \n",
       "2978     ORG TABBY  Neutered    2    12/18/21            NORMAL       STRAY   \n",
       "2979     BRN TABBY    Spayed    1     5/18/22  UNDER AGE/WEIGHT       STRAY   \n",
       "2980     BLK TABBY    Spayed    1    11/10/22            NORMAL      RETURN   \n",
       "2981          GRAY  Neutered    0    12/21/22         FRACTIOUS       STRAY   \n",
       "\n",
       "      days_stayed  Primary_Color_encoded  Sex_encoded  \\\n",
       "2977            0                     21            3   \n",
       "2978            0                     22            2   \n",
       "2979            0                      5            3   \n",
       "2980            0                      2            3   \n",
       "2981            0                     15            2   \n",
       "\n",
       "      Intake_Condition_encoded  Intake_Type_encoded  stay  \n",
       "2977                        13                    3     0  \n",
       "2978                        13                    3     0  \n",
       "2979                        14                    3     0  \n",
       "2980                        13                    2     0  \n",
       "2981                         5                    3     0  "
      ]
     },
     "execution_count": 5,
     "metadata": {},
     "output_type": "execute_result"
    }
   ],
   "source": [
    "# this part is to predict long or short stay (0,1)\n",
    "import pandas as pd\n",
    "\n",
    "def categorize_stay(days_stayed):\n",
    "    if days_stayed <= 30:\n",
    "        return 0\n",
    "    else:\n",
    "        return 1\n",
    "\n",
    "# Example usage:\n",
    "# Assuming df is your DataFrame and \"days_stayed\" is the column you want to categorize\n",
    "df['stay'] = df['days_stayed'].apply(categorize_stay)\n",
    "df.tail()"
   ]
  },
  {
   "cell_type": "code",
   "execution_count": 6,
   "metadata": {},
   "outputs": [
    {
     "data": {
      "text/html": [
       "<div>\n",
       "<style scoped>\n",
       "    .dataframe tbody tr th:only-of-type {\n",
       "        vertical-align: middle;\n",
       "    }\n",
       "\n",
       "    .dataframe tbody tr th {\n",
       "        vertical-align: top;\n",
       "    }\n",
       "\n",
       "    .dataframe thead th {\n",
       "        text-align: right;\n",
       "    }\n",
       "</style>\n",
       "<table border=\"1\" class=\"dataframe\">\n",
       "  <thead>\n",
       "    <tr style=\"text-align: right;\">\n",
       "      <th></th>\n",
       "      <th>Primary_Color</th>\n",
       "      <th>Sex</th>\n",
       "      <th>Age</th>\n",
       "      <th>Intake_Date</th>\n",
       "      <th>Intake_Condition</th>\n",
       "      <th>Intake_Type</th>\n",
       "      <th>days_stayed</th>\n",
       "      <th>Primary_Color_encoded</th>\n",
       "      <th>Sex_encoded</th>\n",
       "      <th>Intake_Condition_encoded</th>\n",
       "      <th>Intake_Type_encoded</th>\n",
       "      <th>stay</th>\n",
       "    </tr>\n",
       "  </thead>\n",
       "  <tbody>\n",
       "    <tr>\n",
       "      <th>0</th>\n",
       "      <td>BRN TABBY</td>\n",
       "      <td>Spayed</td>\n",
       "      <td>6</td>\n",
       "      <td>12/19/18</td>\n",
       "      <td>NORMAL</td>\n",
       "      <td>STRAY</td>\n",
       "      <td>799</td>\n",
       "      <td>5</td>\n",
       "      <td>3</td>\n",
       "      <td>13</td>\n",
       "      <td>3</td>\n",
       "      <td>1</td>\n",
       "    </tr>\n",
       "    <tr>\n",
       "      <th>1</th>\n",
       "      <td>BRN TABBY</td>\n",
       "      <td>Spayed</td>\n",
       "      <td>9</td>\n",
       "      <td>10/4/19</td>\n",
       "      <td>NORMAL</td>\n",
       "      <td>OWNER SURRENDER</td>\n",
       "      <td>760</td>\n",
       "      <td>5</td>\n",
       "      <td>3</td>\n",
       "      <td>13</td>\n",
       "      <td>1</td>\n",
       "      <td>1</td>\n",
       "    </tr>\n",
       "    <tr>\n",
       "      <th>2</th>\n",
       "      <td>ORG TABBY</td>\n",
       "      <td>Neutered</td>\n",
       "      <td>12</td>\n",
       "      <td>6/24/17</td>\n",
       "      <td>ILL MILD</td>\n",
       "      <td>STRAY</td>\n",
       "      <td>685</td>\n",
       "      <td>22</td>\n",
       "      <td>2</td>\n",
       "      <td>7</td>\n",
       "      <td>3</td>\n",
       "      <td>1</td>\n",
       "    </tr>\n",
       "    <tr>\n",
       "      <th>3</th>\n",
       "      <td>BRN TABBY</td>\n",
       "      <td>Neutered</td>\n",
       "      <td>8</td>\n",
       "      <td>7/13/17</td>\n",
       "      <td>NORMAL</td>\n",
       "      <td>STRAY</td>\n",
       "      <td>666</td>\n",
       "      <td>5</td>\n",
       "      <td>2</td>\n",
       "      <td>13</td>\n",
       "      <td>3</td>\n",
       "      <td>1</td>\n",
       "    </tr>\n",
       "    <tr>\n",
       "      <th>4</th>\n",
       "      <td>GRAY TABBY</td>\n",
       "      <td>Spayed</td>\n",
       "      <td>8</td>\n",
       "      <td>5/10/17</td>\n",
       "      <td>NORMAL</td>\n",
       "      <td>STRAY</td>\n",
       "      <td>661</td>\n",
       "      <td>16</td>\n",
       "      <td>3</td>\n",
       "      <td>13</td>\n",
       "      <td>3</td>\n",
       "      <td>1</td>\n",
       "    </tr>\n",
       "  </tbody>\n",
       "</table>\n",
       "</div>"
      ],
      "text/plain": [
       "  Primary_Color       Sex  Age Intake_Date Intake_Condition      Intake_Type  \\\n",
       "0     BRN TABBY    Spayed    6    12/19/18           NORMAL            STRAY   \n",
       "1     BRN TABBY    Spayed    9     10/4/19           NORMAL  OWNER SURRENDER   \n",
       "2     ORG TABBY  Neutered   12     6/24/17         ILL MILD            STRAY   \n",
       "3     BRN TABBY  Neutered    8     7/13/17           NORMAL            STRAY   \n",
       "4    GRAY TABBY    Spayed    8     5/10/17           NORMAL            STRAY   \n",
       "\n",
       "   days_stayed  Primary_Color_encoded  Sex_encoded  Intake_Condition_encoded  \\\n",
       "0          799                      5            3                        13   \n",
       "1          760                      5            3                        13   \n",
       "2          685                     22            2                         7   \n",
       "3          666                      5            2                        13   \n",
       "4          661                     16            3                        13   \n",
       "\n",
       "   Intake_Type_encoded  stay  \n",
       "0                    3     1  \n",
       "1                    1     1  \n",
       "2                    3     1  \n",
       "3                    3     1  \n",
       "4                    3     1  "
      ]
     },
     "execution_count": 6,
     "metadata": {},
     "output_type": "execute_result"
    }
   ],
   "source": [
    "df.head()"
   ]
  },
  {
   "cell_type": "code",
   "execution_count": 7,
   "metadata": {},
   "outputs": [
    {
     "name": "stdout",
     "output_type": "stream",
     "text": [
      "Number of occurrences of 1: 1575\n",
      "Number of occurrences of 0: 1407\n"
     ]
    }
   ],
   "source": [
    "count_ones = df['stay'].value_counts().get(1)\n",
    "print(f\"Number of occurrences of 1: {count_ones}\")\n",
    "\n",
    "count_zeros = df['stay'].value_counts().get(0)\n",
    "print(f\"Number of occurrences of 0: {count_zeros}\")\n"
   ]
  },
  {
   "cell_type": "code",
   "execution_count": 8,
   "metadata": {},
   "outputs": [],
   "source": [
    "independent_variables = ['Primary_Color_encoded', 'Sex_encoded',  \n",
    "                     'Intake_Condition_encoded', 'Intake_Type_encoded']\n",
    "\n",
    "dependent_variable = 'stay'"
   ]
  },
  {
   "cell_type": "code",
   "execution_count": 64,
   "metadata": {},
   "outputs": [
    {
     "data": {
      "text/plain": [
       "((2236, 4), (746, 4))"
      ]
     },
     "execution_count": 64,
     "metadata": {},
     "output_type": "execute_result"
    }
   ],
   "source": [
    "X= df[independent_variables]\n",
    "y= df['stay']\n",
    "X_train, X_test,y_train, y_test = train_test_split(X, y, test_size=0.25, random_state=42) \n",
    "X_train.shape, X_test.shape"
   ]
  },
  {
   "cell_type": "code",
   "execution_count": 65,
   "metadata": {},
   "outputs": [
    {
     "data": {
      "text/plain": [
       "409"
      ]
     },
     "execution_count": 65,
     "metadata": {},
     "output_type": "execute_result"
    }
   ],
   "source": [
    "(y_test==1).sum()"
   ]
  },
  {
   "cell_type": "code",
   "execution_count": 66,
   "metadata": {},
   "outputs": [
    {
     "data": {
      "text/plain": [
       "337"
      ]
     },
     "execution_count": 66,
     "metadata": {},
     "output_type": "execute_result"
    }
   ],
   "source": [
    "(y_test==0).sum()"
   ]
  },
  {
   "cell_type": "code",
   "execution_count": 67,
   "metadata": {},
   "outputs": [
    {
     "name": "stdout",
     "output_type": "stream",
     "text": [
      "Fitting 5 folds for each of 162 candidates, totalling 810 fits\n",
      "RandomForestClassifier(max_features=None, max_leaf_nodes=10,\n",
      "                       min_samples_split=10)\n"
     ]
    }
   ],
   "source": [
    "from sklearn.model_selection import GridSearchCV,RandomizedSearchCV\n",
    "params = { \n",
    "    'n_estimators': [50, 100, 150],\n",
    "    'max_features': ['sqrt', 'log2', None],\n",
    "    'max_depth': [None, 5, 10],\n",
    "    'min_samples_split': [2, 5, 10],\n",
    "    'max_leaf_nodes': [5, 10]\n",
    "}\n",
    "grid_search_cv = GridSearchCV(\n",
    "    estimator=RandomForestClassifier(),\n",
    "    param_grid=params,\n",
    "    scoring='accuracy',\n",
    "    cv=5, \n",
    "    verbose=1\n",
    ")\n",
    "\n",
    "# 1. Fit your GridSearchCV with your training data. \n",
    "grid_search_cv.fit(X_train, y_train)\n",
    "\n",
    "# Print the best parameters it found\n",
    "print(grid_search_cv.best_estimator_) "
   ]
  },
  {
   "cell_type": "code",
   "execution_count": 68,
   "metadata": {
    "scrolled": true
   },
   "outputs": [
    {
     "name": "stdout",
     "output_type": "stream",
     "text": [
      "Accuracy Score: 0.591153\n",
      "Precision Score: 0.601961\n",
      "Recall Score: 0.750611\n",
      "F1 Score: 0.668118\n",
      "AUC Score: 0.603687\n"
     ]
    }
   ],
   "source": [
    "model = grid_search_cv.best_estimator_\n",
    "\n",
    "\n",
    "# Now lets evaluate our model\n",
    "y_pred = model.predict(X_test)\n",
    "\n",
    "accuracy = accuracy_score(y_true=y_test, y_pred=y_pred)\n",
    "print(\"Accuracy Score: %f\" % accuracy)\n",
    "\n",
    "precision = precision_score(y_true=y_test, y_pred= y_pred)\n",
    "print(\"Precision Score: %f\" % precision)\n",
    "\n",
    "recall = recall_score(y_true=y_test, y_pred= y_pred)\n",
    "print(\"Recall Score: %f\" % recall)\n",
    "\n",
    "f1 = f1_score(y_true=y_test, y_pred= y_pred)\n",
    "print('F1 Score: %f' % f1)\n",
    "\n",
    "# Calculate predicted probabilities, keep only probability for when class = 1\n",
    "y_pred_proba = model.predict_proba(X_test)[:,1]\n",
    "\n",
    "auc = roc_auc_score(y_true=y_test, y_score=y_pred_proba)\n",
    "print('AUC Score: %f' % auc)"
   ]
  },
  {
   "cell_type": "code",
   "execution_count": 70,
   "metadata": {
    "scrolled": true
   },
   "outputs": [
    {
     "data": {
      "text/plain": [
       "0.5482573726541555"
      ]
     },
     "execution_count": 70,
     "metadata": {},
     "output_type": "execute_result"
    }
   ],
   "source": [
    "ratio = (y_test == 1).sum() / ((y_test == 0) | (y_test == 1)).sum()\n",
    "ratio"
   ]
  },
  {
   "cell_type": "code",
   "execution_count": 69,
   "metadata": {},
   "outputs": [
    {
     "data": {
      "image/png": "[encoded data removed]",
      "text/plain": [
       "<Figure size 800x500 with 1 Axes>"
      ]
     },
     "metadata": {},
     "output_type": "display_data"
    }
   ],
   "source": [
    "from sklearn.metrics import confusion_matrix\n",
    "import seaborn as sns\n",
    "import matplotlib.pyplot as plt\n",
    "\n",
    "# Assuming y_test and y_pred are already defined\n",
    "\n",
    "# Compute confusion matrix\n",
    "cm = confusion_matrix(y_test, y_pred)\n",
    "cm = cm.round(2)\n",
    "\n",
    "# Extract individual elements from the confusion matrix\n",
    "tn, fp, fn, tp = confusion_matrix(y_test, y_pred).ravel()\n",
    "\n",
    "# Create a figure and axis\n",
    "fig, ax = plt.subplots(figsize=(8, 5))\n",
    "\n",
    "# Plot the heatmap\n",
    "sns.heatmap(cm, annot=True, cmap='Greens', fmt='g', cbar=False, ax=ax)\n",
    "\n",
    "# Label the heatmap with TN, FP, FN, and TP values\n",
    "ax.text(0, 0, f'TN: {tn}', ha='center', va='center', color='blue', fontsize=12)\n",
    "ax.text(0, 1, f'FP: {fp}', ha='center', va='center', color='red', fontsize=12)\n",
    "ax.text(1, 0, f'FN: {fn}', ha='center', va='center', color='red', fontsize=12)\n",
    "ax.text(1, 1, f'TP: {tp}', ha='center', va='center', color='blue', fontsize=12)\n",
    "\n",
    "# Set labels for x and y axes\n",
    "plt.xlabel('Predicted')\n",
    "plt.ylabel('Actual')\n",
    "\n",
    "# Display the plot\n",
    "plt.show()\n"
   ]
  },
  {
   "cell_type": "code",
   "execution_count": 16,
   "metadata": {},
   "outputs": [],
   "source": [
    "# print(y_test.tolist())"
   ]
  },
  {
   "cell_type": "markdown",
   "metadata": {},
   "source": [
    "# ⬆︎⬆︎-----------  F1 Score: 0.668118 -------- ⬆︎⬆︎ (best so far)"
   ]
  },
  {
   "cell_type": "code",
   "execution_count": null,
   "metadata": {},
   "outputs": [],
   "source": []
  },
  {
   "cell_type": "markdown",
   "metadata": {},
   "source": [
    "## in order to solve the imbalance in calss we use the below code ☟"
   ]
  },
  {
   "cell_type": "code",
   "execution_count": 71,
   "metadata": {},
   "outputs": [
    {
     "name": "stdout",
     "output_type": "stream",
     "text": [
      "Fitting 5 folds for each of 162 candidates, totalling 810 fits\n",
      "RandomForestClassifier(max_leaf_nodes=10, min_samples_split=5, n_estimators=150)\n",
      "Accuracy Score: 0.584450\n",
      "Precision Score: 0.615385\n",
      "Recall Score: 0.645477\n",
      "F1 Score: 0.630072\n",
      "AUC Score: 0.609749\n"
     ]
    }
   ],
   "source": [
    "import pandas as pd\n",
    "from sklearn.model_selection import train_test_split\n",
    "from sklearn.ensemble import RandomForestClassifier\n",
    "from sklearn.metrics import accuracy_score, precision_score, recall_score, f1_score, roc_auc_score\n",
    "from imblearn.over_sampling import RandomOverSampler\n",
    "from imblearn.under_sampling import RandomUnderSampler\n",
    "\n",
    "# Load your dataset\n",
    "df2 = pd.read_csv('../dataset/df_only_numeric_value_nov_05.csv')\n",
    "\n",
    "# Define the function to categorize stay\n",
    "def categorize_stay(days_stayed):\n",
    "    if days_stayed <= 30:\n",
    "        return 0\n",
    "    else:\n",
    "        return 1\n",
    "\n",
    "# Apply the categorization\n",
    "df2['stay'] = df2['days_stayed'].apply(categorize_stay)\n",
    "\n",
    "independent_variables = ['Primary_Color_encoded', 'Sex_encoded',  \n",
    "                     'Intake_Condition_encoded', 'Intake_Type_encoded']\n",
    "\n",
    "dependent_variable = 'stay'\n",
    "\n",
    "X = df2[independent_variables]\n",
    "y = df2['stay']\n",
    "\n",
    "# Split the data into training and testing sets\n",
    "X_train, X_test, y_train, y_test = train_test_split(X, y, test_size=0.25, random_state=42) \n",
    "\n",
    "# Use imbalanced-learn to resample the training data\n",
    "ros = RandomOverSampler(sampling_strategy='auto', random_state=42)  # You can adjust the sampling_strategy as needed\n",
    "X_resampled, y_resampled = ros.fit_resample(X_train, y_train)\n",
    "\n",
    "# # Alternatively, you can use RandomUnderSampler for undersampling\n",
    "# rus = RandomUnderSampler(sampling_strategy='auto', random_state=42)\n",
    "# X_resampled, y_resampled = rus.fit_resample(X_train, y_train)\n",
    "\n",
    "# Define the hyperparameter grid for GridSearchCV\n",
    "params = { \n",
    "    'n_estimators': [50, 100, 150],\n",
    "    'max_features': ['sqrt', 'log2', None],\n",
    "    'max_depth': [None, 5, 10],\n",
    "    'min_samples_split': [2, 5, 10],\n",
    "    'max_leaf_nodes': [5, 10]\n",
    "}\n",
    "\n",
    "# Use GridSearchCV with RandomForestClassifier\n",
    "grid_search_cv = GridSearchCV(\n",
    "    estimator=RandomForestClassifier(),\n",
    "    param_grid=params,\n",
    "    scoring='accuracy',\n",
    "    cv=5, \n",
    "    verbose=1\n",
    ")\n",
    "\n",
    "# Fit the model on the resampled data\n",
    "grid_search_cv.fit(X_resampled, y_resampled)\n",
    "\n",
    "# Print the best parameters it found\n",
    "print(grid_search_cv.best_estimator_) \n",
    "\n",
    "# Extract the best model from GridSearchCV\n",
    "model = grid_search_cv.best_estimator_\n",
    "\n",
    "# Evaluate the model on the original test set\n",
    "y_pred = model.predict(X_test)\n",
    "\n",
    "accuracy = accuracy_score(y_true=y_test, y_pred=y_pred)\n",
    "print(\"Accuracy Score: %f\" % accuracy)\n",
    "\n",
    "precision = precision_score(y_true=y_test, y_pred=y_pred)\n",
    "print(\"Precision Score: %f\" % precision)\n",
    "\n",
    "recall = recall_score(y_true=y_test, y_pred=y_pred)\n",
    "print(\"Recall Score: %f\" % recall)\n",
    "\n",
    "f1 = f1_score(y_true=y_test, y_pred=y_pred)\n",
    "print('F1 Score: %f' % f1)\n",
    "\n",
    "# Calculate predicted probabilities, keep only probability for when class = 1\n",
    "y_pred_proba = model.predict_proba(X_test)[:, 1]\n",
    "\n",
    "auc = roc_auc_score(y_true=y_test, y_score=y_pred_proba)\n",
    "print('AUC Score: %f' % auc)\n"
   ]
  },
  {
   "cell_type": "code",
   "execution_count": 72,
   "metadata": {},
   "outputs": [
    {
     "data": {
      "text/plain": [
       "0.5482573726541555"
      ]
     },
     "execution_count": 72,
     "metadata": {},
     "output_type": "execute_result"
    }
   ],
   "source": [
    "ratio = (y_test == 1).sum() / ((y_test == 0) | (y_test == 1)).sum()\n",
    "ratio"
   ]
  },
  {
   "cell_type": "code",
   "execution_count": 73,
   "metadata": {},
   "outputs": [
    {
     "data": {
      "text/plain": [
       "409"
      ]
     },
     "execution_count": 73,
     "metadata": {},
     "output_type": "execute_result"
    }
   ],
   "source": [
    "(y_test == 1).sum()"
   ]
  },
  {
   "cell_type": "code",
   "execution_count": 74,
   "metadata": {
    "scrolled": false
   },
   "outputs": [
    {
     "data": {
      "image/png": "[encoded data removed]",
      "text/plain": [
       "<Figure size 800x500 with 1 Axes>"
      ]
     },
     "metadata": {},
     "output_type": "display_data"
    }
   ],
   "source": [
    "\n",
    "# Compute confusion matrix\n",
    "cm = confusion_matrix(y_test, y_pred)\n",
    "cm = cm.round(2)\n",
    "\n",
    "# Extract individual elements from the confusion matrix\n",
    "tn, fp, fn, tp = confusion_matrix(y_test, y_pred).ravel()\n",
    "\n",
    "# Create a figure and axis\n",
    "fig, ax = plt.subplots(figsize=(8, 5))\n",
    "\n",
    "# Plot the heatmap\n",
    "sns.heatmap(cm, annot=True, cmap='Greens', fmt='g', cbar=False, ax=ax)\n",
    "\n",
    "# Label the heatmap with TN, FP, FN, and TP values\n",
    "ax.text(0, 0, f'TN: {tn}', ha='center', va='center', color='blue', fontsize=12)\n",
    "ax.text(0, 1, f'FP: {fp}', ha='center', va='center', color='red', fontsize=12)\n",
    "ax.text(1, 0, f'FN: {fn}', ha='center', va='center', color='red', fontsize=12)\n",
    "ax.text(1, 1, f'TP: {tp}', ha='center', va='center', color='blue', fontsize=12)\n",
    "\n",
    "# Set labels for x and y axes\n",
    "plt.xlabel('Predicted')\n",
    "plt.ylabel('Actual')\n",
    "\n",
    "# Display the plot\n",
    "plt.show()\n"
   ]
  },
  {
   "cell_type": "markdown",
   "metadata": {},
   "source": [
    "# ⬆︎⬆︎-------  F1 Score: 0.630072 ------- ⬆︎⬆︎(2nd best so far)"
   ]
  },
  {
   "cell_type": "markdown",
   "metadata": {},
   "source": [
    "## By less than or more than two month class"
   ]
  },
  {
   "cell_type": "code",
   "execution_count": 75,
   "metadata": {},
   "outputs": [
    {
     "name": "stdout",
     "output_type": "stream",
     "text": [
      "Fitting 5 folds for each of 162 candidates, totalling 810 fits\n",
      "RandomForestClassifier(max_depth=10, max_features='log2', max_leaf_nodes=10,\n",
      "                       min_samples_split=5, n_estimators=150)\n",
      "Accuracy Score: 0.560322\n",
      "Precision Score: 0.400576\n",
      "Recall Score: 0.536680\n",
      "F1 Score: 0.458746\n",
      "AUC Score: 0.588902\n"
     ]
    }
   ],
   "source": [
    "import pandas as pd\n",
    "from sklearn.model_selection import train_test_split\n",
    "from sklearn.ensemble import RandomForestClassifier\n",
    "from sklearn.metrics import accuracy_score, precision_score, recall_score, f1_score, roc_auc_score\n",
    "from imblearn.over_sampling import RandomOverSampler\n",
    "from imblearn.under_sampling import RandomUnderSampler\n",
    "\n",
    "# Load your dataset\n",
    "df2 = pd.read_csv('../dataset/df_only_numeric_value_nov_05.csv')\n",
    "\n",
    "# Define the function to categorize stay\n",
    "def categorize_stay(days_stayed):\n",
    "    if days_stayed <= 60:\n",
    "        return 0\n",
    "    else:\n",
    "        return 1\n",
    "\n",
    "# Apply the categorization\n",
    "df2['stay'] = df2['days_stayed'].apply(categorize_stay)\n",
    "\n",
    "independent_variables = ['Primary_Color_encoded', 'Sex_encoded',  \n",
    "                     'Intake_Condition_encoded', 'Intake_Type_encoded']\n",
    "\n",
    "dependent_variable = 'stay'\n",
    "\n",
    "X = df2[independent_variables]\n",
    "y = df2['stay']\n",
    "\n",
    "# Split the data into training and testing sets\n",
    "X_train, X_test, y_train, y_test = train_test_split(X, y, test_size=0.25, random_state=42) \n",
    "\n",
    "# Use imbalanced-learn to resample the training data\n",
    "ros = RandomOverSampler(sampling_strategy='auto', random_state=42)  # You can adjust the sampling_strategy as needed\n",
    "X_resampled, y_resampled = ros.fit_resample(X_train, y_train)\n",
    "\n",
    "# # Alternatively, you can use RandomUnderSampler for undersampling\n",
    "# rus = RandomUnderSampler(sampling_strategy='auto', random_state=42)\n",
    "# X_resampled, y_resampled = rus.fit_resample(X_train, y_train)\n",
    "\n",
    "# Define the hyperparameter grid for GridSearchCV\n",
    "params = { \n",
    "    'n_estimators': [50, 100, 150],\n",
    "    'max_features': ['sqrt', 'log2', None],\n",
    "    'max_depth': [None, 5, 10],\n",
    "    'min_samples_split': [2, 5, 10],\n",
    "    'max_leaf_nodes': [5, 10]\n",
    "}\n",
    "\n",
    "# Use GridSearchCV with RandomForestClassifier\n",
    "grid_search_cv = GridSearchCV(\n",
    "    estimator=RandomForestClassifier(),\n",
    "    param_grid=params,\n",
    "    scoring='accuracy',\n",
    "    cv=5, \n",
    "    verbose=1\n",
    ")\n",
    "\n",
    "# Fit the model on the resampled data\n",
    "grid_search_cv.fit(X_resampled, y_resampled)\n",
    "\n",
    "# Print the best parameters it found\n",
    "print(grid_search_cv.best_estimator_) \n",
    "\n",
    "# Extract the best model from GridSearchCV\n",
    "model = grid_search_cv.best_estimator_\n",
    "\n",
    "# Evaluate the model on the original test set\n",
    "y_pred = model.predict(X_test)\n",
    "\n",
    "accuracy = accuracy_score(y_true=y_test, y_pred=y_pred)\n",
    "print(\"Accuracy Score: %f\" % accuracy)\n",
    "\n",
    "precision = precision_score(y_true=y_test, y_pred=y_pred)\n",
    "print(\"Precision Score: %f\" % precision)\n",
    "\n",
    "recall = recall_score(y_true=y_test, y_pred=y_pred)\n",
    "print(\"Recall Score: %f\" % recall)\n",
    "\n",
    "f1 = f1_score(y_true=y_test, y_pred=y_pred)\n",
    "print('F1 Score: %f' % f1)\n",
    "\n",
    "# Calculate predicted probabilities, keep only probability for when class = 1\n",
    "y_pred_proba = model.predict_proba(X_test)[:, 1]\n",
    "\n",
    "auc = roc_auc_score(y_true=y_test, y_score=y_pred_proba)\n",
    "print('AUC Score: %f' % auc)\n"
   ]
  },
  {
   "cell_type": "code",
   "execution_count": 78,
   "metadata": {},
   "outputs": [
    {
     "data": {
      "text/plain": [
       "0.34718498659517427"
      ]
     },
     "execution_count": 78,
     "metadata": {},
     "output_type": "execute_result"
    }
   ],
   "source": [
    "ratio = (y_test == 1).sum() / ((y_test == 0) | (y_test == 1)).sum()\n",
    "ratio"
   ]
  },
  {
   "cell_type": "code",
   "execution_count": 79,
   "metadata": {
    "scrolled": false
   },
   "outputs": [
    {
     "data": {
      "image/png": "[encoded data removed]",
      "text/plain": [
       "<Figure size 800x500 with 1 Axes>"
      ]
     },
     "metadata": {},
     "output_type": "display_data"
    }
   ],
   "source": [
    "\n",
    "# Compute confusion matrix\n",
    "cm = confusion_matrix(y_test, y_pred)\n",
    "cm = cm.round(2)\n",
    "\n",
    "# Extract individual elements from the confusion matrix\n",
    "tn, fp, fn, tp = confusion_matrix(y_test, y_pred).ravel()\n",
    "\n",
    "# Create a figure and axis\n",
    "fig, ax = plt.subplots(figsize=(8, 5))\n",
    "\n",
    "# Plot the heatmap\n",
    "sns.heatmap(cm, annot=True, cmap='Greens', fmt='g', cbar=False, ax=ax)\n",
    "\n",
    "# Label the heatmap with TN, FP, FN, and TP values\n",
    "ax.text(0, 0, f'TN: {tn}', ha='center', va='center', color='blue', fontsize=12)\n",
    "ax.text(0, 1, f'FP: {fp}', ha='center', va='center', color='red', fontsize=12)\n",
    "ax.text(1, 0, f'FN: {fn}', ha='center', va='center', color='red', fontsize=12)\n",
    "ax.text(1, 1, f'TP: {tp}', ha='center', va='center', color='blue', fontsize=12)\n",
    "\n",
    "# Set labels for x and y axes\n",
    "plt.xlabel('Predicted')\n",
    "plt.ylabel('Actual')\n",
    "\n",
    "# Display the plot\n",
    "plt.show()\n"
   ]
  },
  {
   "cell_type": "markdown",
   "metadata": {},
   "source": [
    "# ⬆︎⬆︎-------  F1 Score: 0.458746 ------- ⬆︎⬆︎(nvm this one)"
   ]
  },
  {
   "cell_type": "markdown",
   "metadata": {},
   "source": []
  },
  {
   "cell_type": "markdown",
   "metadata": {},
   "source": [
    "### Now we will try to predict how many month a cat will stay using regression ☟"
   ]
  },
  {
   "cell_type": "code",
   "execution_count": 102,
   "metadata": {},
   "outputs": [
    {
     "data": {
      "text/html": [
       "<div>\n",
       "<style scoped>\n",
       "    .dataframe tbody tr th:only-of-type {\n",
       "        vertical-align: middle;\n",
       "    }\n",
       "\n",
       "    .dataframe tbody tr th {\n",
       "        vertical-align: top;\n",
       "    }\n",
       "\n",
       "    .dataframe thead th {\n",
       "        text-align: right;\n",
       "    }\n",
       "</style>\n",
       "<table border=\"1\" class=\"dataframe\">\n",
       "  <thead>\n",
       "    <tr style=\"text-align: right;\">\n",
       "      <th></th>\n",
       "      <th>Primary_Color</th>\n",
       "      <th>Sex</th>\n",
       "      <th>Age</th>\n",
       "      <th>Intake_Date</th>\n",
       "      <th>Intake_Condition</th>\n",
       "      <th>Intake_Type</th>\n",
       "      <th>days_stayed</th>\n",
       "      <th>Primary_Color_encoded</th>\n",
       "      <th>Sex_encoded</th>\n",
       "      <th>Intake_Condition_encoded</th>\n",
       "      <th>Intake_Type_encoded</th>\n",
       "    </tr>\n",
       "  </thead>\n",
       "  <tbody>\n",
       "    <tr>\n",
       "      <th>0</th>\n",
       "      <td>BRN TABBY</td>\n",
       "      <td>Spayed</td>\n",
       "      <td>6</td>\n",
       "      <td>12/19/18</td>\n",
       "      <td>NORMAL</td>\n",
       "      <td>STRAY</td>\n",
       "      <td>799</td>\n",
       "      <td>5</td>\n",
       "      <td>3</td>\n",
       "      <td>13</td>\n",
       "      <td>3</td>\n",
       "    </tr>\n",
       "    <tr>\n",
       "      <th>1</th>\n",
       "      <td>BRN TABBY</td>\n",
       "      <td>Spayed</td>\n",
       "      <td>9</td>\n",
       "      <td>10/4/19</td>\n",
       "      <td>NORMAL</td>\n",
       "      <td>OWNER SURRENDER</td>\n",
       "      <td>760</td>\n",
       "      <td>5</td>\n",
       "      <td>3</td>\n",
       "      <td>13</td>\n",
       "      <td>1</td>\n",
       "    </tr>\n",
       "    <tr>\n",
       "      <th>2</th>\n",
       "      <td>ORG TABBY</td>\n",
       "      <td>Neutered</td>\n",
       "      <td>12</td>\n",
       "      <td>6/24/17</td>\n",
       "      <td>ILL MILD</td>\n",
       "      <td>STRAY</td>\n",
       "      <td>685</td>\n",
       "      <td>22</td>\n",
       "      <td>2</td>\n",
       "      <td>7</td>\n",
       "      <td>3</td>\n",
       "    </tr>\n",
       "    <tr>\n",
       "      <th>3</th>\n",
       "      <td>BRN TABBY</td>\n",
       "      <td>Neutered</td>\n",
       "      <td>8</td>\n",
       "      <td>7/13/17</td>\n",
       "      <td>NORMAL</td>\n",
       "      <td>STRAY</td>\n",
       "      <td>666</td>\n",
       "      <td>5</td>\n",
       "      <td>2</td>\n",
       "      <td>13</td>\n",
       "      <td>3</td>\n",
       "    </tr>\n",
       "    <tr>\n",
       "      <th>4</th>\n",
       "      <td>GRAY TABBY</td>\n",
       "      <td>Spayed</td>\n",
       "      <td>8</td>\n",
       "      <td>5/10/17</td>\n",
       "      <td>NORMAL</td>\n",
       "      <td>STRAY</td>\n",
       "      <td>661</td>\n",
       "      <td>16</td>\n",
       "      <td>3</td>\n",
       "      <td>13</td>\n",
       "      <td>3</td>\n",
       "    </tr>\n",
       "  </tbody>\n",
       "</table>\n",
       "</div>"
      ],
      "text/plain": [
       "  Primary_Color       Sex  Age Intake_Date Intake_Condition      Intake_Type  \\\n",
       "0     BRN TABBY    Spayed    6    12/19/18           NORMAL            STRAY   \n",
       "1     BRN TABBY    Spayed    9     10/4/19           NORMAL  OWNER SURRENDER   \n",
       "2     ORG TABBY  Neutered   12     6/24/17         ILL MILD            STRAY   \n",
       "3     BRN TABBY  Neutered    8     7/13/17           NORMAL            STRAY   \n",
       "4    GRAY TABBY    Spayed    8     5/10/17           NORMAL            STRAY   \n",
       "\n",
       "   days_stayed  Primary_Color_encoded  Sex_encoded  Intake_Condition_encoded  \\\n",
       "0          799                      5            3                        13   \n",
       "1          760                      5            3                        13   \n",
       "2          685                     22            2                         7   \n",
       "3          666                      5            2                        13   \n",
       "4          661                     16            3                        13   \n",
       "\n",
       "   Intake_Type_encoded  \n",
       "0                    3  \n",
       "1                    1  \n",
       "2                    3  \n",
       "3                    3  \n",
       "4                    3  "
      ]
     },
     "execution_count": 102,
     "metadata": {},
     "output_type": "execute_result"
    }
   ],
   "source": [
    "df_month = pd.read_csv('../dataset/df_only_numeric_value_nov_05.csv')\n",
    "df_month.head()"
   ]
  },
  {
   "cell_type": "code",
   "execution_count": 103,
   "metadata": {},
   "outputs": [
    {
     "data": {
      "text/html": [
       "<div>\n",
       "<style scoped>\n",
       "    .dataframe tbody tr th:only-of-type {\n",
       "        vertical-align: middle;\n",
       "    }\n",
       "\n",
       "    .dataframe tbody tr th {\n",
       "        vertical-align: top;\n",
       "    }\n",
       "\n",
       "    .dataframe thead th {\n",
       "        text-align: right;\n",
       "    }\n",
       "</style>\n",
       "<table border=\"1\" class=\"dataframe\">\n",
       "  <thead>\n",
       "    <tr style=\"text-align: right;\">\n",
       "      <th></th>\n",
       "      <th>Primary_Color</th>\n",
       "      <th>Sex</th>\n",
       "      <th>Age</th>\n",
       "      <th>Intake_Date</th>\n",
       "      <th>Intake_Condition</th>\n",
       "      <th>Intake_Type</th>\n",
       "      <th>days_stayed</th>\n",
       "      <th>Primary_Color_encoded</th>\n",
       "      <th>Sex_encoded</th>\n",
       "      <th>Intake_Condition_encoded</th>\n",
       "      <th>Intake_Type_encoded</th>\n",
       "      <th>months_stayed</th>\n",
       "    </tr>\n",
       "  </thead>\n",
       "  <tbody>\n",
       "    <tr>\n",
       "      <th>0</th>\n",
       "      <td>BRN TABBY</td>\n",
       "      <td>Spayed</td>\n",
       "      <td>6</td>\n",
       "      <td>12/19/18</td>\n",
       "      <td>NORMAL</td>\n",
       "      <td>STRAY</td>\n",
       "      <td>799</td>\n",
       "      <td>5</td>\n",
       "      <td>3</td>\n",
       "      <td>13</td>\n",
       "      <td>3</td>\n",
       "      <td>27</td>\n",
       "    </tr>\n",
       "    <tr>\n",
       "      <th>1</th>\n",
       "      <td>BRN TABBY</td>\n",
       "      <td>Spayed</td>\n",
       "      <td>9</td>\n",
       "      <td>10/4/19</td>\n",
       "      <td>NORMAL</td>\n",
       "      <td>OWNER SURRENDER</td>\n",
       "      <td>760</td>\n",
       "      <td>5</td>\n",
       "      <td>3</td>\n",
       "      <td>13</td>\n",
       "      <td>1</td>\n",
       "      <td>25</td>\n",
       "    </tr>\n",
       "    <tr>\n",
       "      <th>2</th>\n",
       "      <td>ORG TABBY</td>\n",
       "      <td>Neutered</td>\n",
       "      <td>12</td>\n",
       "      <td>6/24/17</td>\n",
       "      <td>ILL MILD</td>\n",
       "      <td>STRAY</td>\n",
       "      <td>685</td>\n",
       "      <td>22</td>\n",
       "      <td>2</td>\n",
       "      <td>7</td>\n",
       "      <td>3</td>\n",
       "      <td>23</td>\n",
       "    </tr>\n",
       "    <tr>\n",
       "      <th>3</th>\n",
       "      <td>BRN TABBY</td>\n",
       "      <td>Neutered</td>\n",
       "      <td>8</td>\n",
       "      <td>7/13/17</td>\n",
       "      <td>NORMAL</td>\n",
       "      <td>STRAY</td>\n",
       "      <td>666</td>\n",
       "      <td>5</td>\n",
       "      <td>2</td>\n",
       "      <td>13</td>\n",
       "      <td>3</td>\n",
       "      <td>22</td>\n",
       "    </tr>\n",
       "    <tr>\n",
       "      <th>4</th>\n",
       "      <td>GRAY TABBY</td>\n",
       "      <td>Spayed</td>\n",
       "      <td>8</td>\n",
       "      <td>5/10/17</td>\n",
       "      <td>NORMAL</td>\n",
       "      <td>STRAY</td>\n",
       "      <td>661</td>\n",
       "      <td>16</td>\n",
       "      <td>3</td>\n",
       "      <td>13</td>\n",
       "      <td>3</td>\n",
       "      <td>22</td>\n",
       "    </tr>\n",
       "  </tbody>\n",
       "</table>\n",
       "</div>"
      ],
      "text/plain": [
       "  Primary_Color       Sex  Age Intake_Date Intake_Condition      Intake_Type  \\\n",
       "0     BRN TABBY    Spayed    6    12/19/18           NORMAL            STRAY   \n",
       "1     BRN TABBY    Spayed    9     10/4/19           NORMAL  OWNER SURRENDER   \n",
       "2     ORG TABBY  Neutered   12     6/24/17         ILL MILD            STRAY   \n",
       "3     BRN TABBY  Neutered    8     7/13/17           NORMAL            STRAY   \n",
       "4    GRAY TABBY    Spayed    8     5/10/17           NORMAL            STRAY   \n",
       "\n",
       "   days_stayed  Primary_Color_encoded  Sex_encoded  Intake_Condition_encoded  \\\n",
       "0          799                      5            3                        13   \n",
       "1          760                      5            3                        13   \n",
       "2          685                     22            2                         7   \n",
       "3          666                      5            2                        13   \n",
       "4          661                     16            3                        13   \n",
       "\n",
       "   Intake_Type_encoded  months_stayed  \n",
       "0                    3             27  \n",
       "1                    1             25  \n",
       "2                    3             23  \n",
       "3                    3             22  \n",
       "4                    3             22  "
      ]
     },
     "execution_count": 103,
     "metadata": {},
     "output_type": "execute_result"
    }
   ],
   "source": [
    "# this part is to predict month stay\n",
    "import pandas as pd\n",
    "\n",
    "def categorize_days(days_stayed):\n",
    "    if days_stayed <= 1200:\n",
    "        return np.ceil((days_stayed-15 )/30).astype(int)\n",
    "    \n",
    "# def categorize_days(days_stayed):\n",
    "#     if days_stayed <= 15:\n",
    "#         return 0\n",
    "#     elif days_stayed <= 45:\n",
    "#         return 1\n",
    "#     elif days_stayed <= 75:\n",
    "#         return 2\n",
    "#     elif days_stayed <= 105:\n",
    "#         return 3\n",
    "#     # Add more conditions as needed up to 1200 days\n",
    "#     elif days_stayed <= 1200:\n",
    "#         # Calculate the month based on the provided conditions\n",
    "#         return (days_stayed - 105) // 30 + 3\n",
    "#     else:\n",
    "#         # Handle cases beyond 1200 days if needed\n",
    "#         return 100  # or any other value to indicate an outlier\n",
    "\n",
    "# Example usage:\n",
    "# Assuming df is your DataFrame and \"days_stayed\" is the column you want to categorize\n",
    "df_month['months_stayed'] = df_month['days_stayed'].apply(categorize_days)\n",
    "df_month.head()\n"
   ]
  },
  {
   "cell_type": "code",
   "execution_count": 118,
   "metadata": {},
   "outputs": [],
   "source": [
    "selected_features = ['Primary_Color_encoded', 'Sex_encoded',  \n",
    "                     'Intake_Condition_encoded', 'Intake_Type_encoded']\n",
    "\n",
    "# dependent_variable = 'days_stayed'\n",
    "X= df_month[selected_features]\n",
    "y= df_month['months_stayed']\n",
    "X_train, X_test, y_train, y_test = train_test_split(X, y, test_size=0.2, random_state=42)\n",
    "X_train.shape, X_test.shape\n",
    "\n",
    "# Using RandomOverSampler to handle imbalanced data\n",
    "ros = RandomOverSampler(random_state=42)\n",
    "X_resampled, y_resampled = ros.fit_resample(X_train, y_train)"
   ]
  },
  {
   "cell_type": "code",
   "execution_count": 119,
   "metadata": {},
   "outputs": [
    {
     "name": "stdout",
     "output_type": "stream",
     "text": [
      "Fitting 5 folds for each of 162 candidates, totalling 810 fits\n"
     ]
    }
   ],
   "source": [
    "from sklearn.ensemble import RandomForestRegressor\n",
    "from sklearn.model_selection import GridSearchCV\n",
    "\n",
    "params = { \n",
    "    'n_estimators': [50, 100, 150],\n",
    "    'max_features': ['sqrt', 'log2', None],\n",
    "    'max_depth': [None, 5, 10],\n",
    "    'min_samples_split': [2, 5, 10],\n",
    "    'max_leaf_nodes': [5, 10]\n",
    "}\n",
    "\n",
    "# Initialize your GridSearchCV with a RandomForestRegressor, your param_grid, and what you are optimizing for (MSE).\n",
    "grid_search_cv = GridSearchCV(\n",
    "    estimator=RandomForestRegressor(),\n",
    "    param_grid=params,\n",
    "    scoring='neg_mean_squared_error',  # For regression, use neg_mean_squared_error as the scoring metric.\n",
    "    cv=5, \n",
    "    verbose=1\n",
    ")\n",
    "\n",
    "# Fit your GridSearchCV with your training data.\n",
    "grid_search_cv.fit(X_resampled, y_resampled)\n",
    "\n",
    "# Get the best estimator based on the mean squared error.\n",
    "best_model = grid_search_cv.best_estimator_\n"
   ]
  },
  {
   "cell_type": "code",
   "execution_count": 120,
   "metadata": {
    "scrolled": true
   },
   "outputs": [
    {
     "name": "stdout",
     "output_type": "stream",
     "text": [
      "Mean Squared Error: 61.160804\n",
      "R-squared Score: -8.589325\n",
      "Accuracy Score: 0.015075\n"
     ]
    }
   ],
   "source": [
    "from sklearn.metrics import mean_squared_error, r2_score  # Import r2_score\n",
    "\n",
    "# # Map 'class' to binary labels (0 for <=50K and 1 for >50K)\n",
    "# y_binary = (y == ' >50K').astype(int)\n",
    "\n",
    "# Split the data into training and testing sets\n",
    "# X_train, X_test, y_train, y_test = train_test_split(X, y, test_size=0.2, random_state=42)\n",
    "\n",
    "# # Initialize the Decision Tree classifier\n",
    "# model = RandomForestRegressor(random_state=42)\n",
    "\n",
    "# Fit the model\n",
    "best_model.fit(X_resampled, y_resampled)\n",
    "\n",
    "# Make predictions\n",
    "\n",
    "y_pred = np.round(best_model.predict(X_test))\n",
    "\n",
    "# Specify the positive label\n",
    "\n",
    "# Evaluate the model\n",
    "mse = mean_squared_error(y_true=y_test, y_pred=y_pred)\n",
    "print(\"Mean Squared Error: %f\" % mse)\n",
    "\n",
    "r2 = r2_score(y_true=y_test, y_pred=y_pred)\n",
    "print(\"R-squared Score: %f\" % r2)\n",
    "\n",
    "\n",
    "## Eval Model \n",
    "accuracy = accuracy_score(y_true=y_test, y_pred=y_pred)\n",
    "print(\"Accuracy Score: %f\" % accuracy)"
   ]
  },
  {
   "cell_type": "code",
   "execution_count": 121,
   "metadata": {
    "scrolled": false
   },
   "outputs": [
    {
     "data": {
      "text/plain": [
       "597"
      ]
     },
     "execution_count": 121,
     "metadata": {},
     "output_type": "execute_result"
    }
   ],
   "source": [
    "len(y_pred)\n",
    "# max(y_pred)"
   ]
  },
  {
   "cell_type": "code",
   "execution_count": 108,
   "metadata": {},
   "outputs": [
    {
     "data": {
      "text/plain": [
       "array([11.,  9.,  8.,  9., 10.,  9.,  9.,  8.,  8.,  9., 10., 14., 11.,\n",
       "        8., 11.,  9.,  8.,  9.,  7.,  9., 14.,  8., 11., 11., 10.,  8.,\n",
       "        9.,  9.,  9.,  7.,  7.,  9.,  8., 10.,  8.,  7.,  9.,  9., 10.,\n",
       "        7.,  9.,  9., 10.,  6., 10.,  9., 10.,  6., 15., 13., 11.,  8.,\n",
       "       10.,  9.,  8.,  9.,  9.,  9.,  9.,  8.,  9.,  9.,  9.,  8.,  9.,\n",
       "       12.,  9.,  9.,  8.,  9., 10.,  9., 11., 14., 11., 17.,  7., 12.,\n",
       "        9.,  9.,  9.,  9.,  8.,  9.,  9.,  8.,  9.,  7.,  8., 17.,  9.,\n",
       "        9.,  9., 11.,  9.,  9.,  7.,  9.,  7.,  9.,  9.,  6., 10.,  9.,\n",
       "        8.,  8.,  8., 10.,  9.,  9.,  8.,  6., 10., 10., 14., 17.,  9.,\n",
       "        9.,  8.,  9., 10., 10., 10.,  9.,  9., 11.,  8., 10.,  9.,  7.,\n",
       "        7., 11.,  9., 11.,  8., 10.,  7.,  9.,  8.,  7.,  8.,  9., 10.,\n",
       "        9.,  9., 10.,  9.,  9., 12.,  8.,  9., 10.,  9.,  9.,  7., 10.,\n",
       "        9.,  9.,  9.,  7.,  7.,  7.,  7., 10.,  9., 10.,  9.,  7., 10.,\n",
       "        8.,  8.,  9.,  7., 11.,  7.,  8., 10.,  9., 13.,  8.,  7.,  7.,\n",
       "        8.,  7.,  9.,  8.,  6.,  7.,  7., 10.,  9.,  8.,  9., 11.,  9.,\n",
       "       10., 10.,  7.,  9.,  9., 10., 10., 10.,  7.,  9.,  7., 10.,  8.,\n",
       "        9.,  8., 14.,  7.,  9.,  7.,  9., 10.,  9.,  9.,  7.,  9.,  9.,\n",
       "        7.,  8., 10.,  9., 10., 11.,  9.,  9.,  7.,  9.,  9.,  9.,  8.,\n",
       "        9.,  9., 10.,  9.,  9.,  8., 14., 10.,  7.,  9.,  7., 10.,  9.,\n",
       "        9.,  7.,  9.,  9.,  9., 10., 10., 10.,  9.,  9.,  9.,  9.,  9.,\n",
       "        9.,  9., 10.,  8.,  9.,  9.,  7.,  7.,  8.,  8.,  9., 11.,  9.,\n",
       "        9.,  7.,  8.,  7.,  9.,  9.,  8.,  9., 11., 12.,  6.,  8.,  9.,\n",
       "        9., 10.,  9.,  8.,  7.,  9.,  9.,  9.,  8.,  9., 20., 10.,  8.,\n",
       "       10.,  8.,  9.,  9.,  9.,  8.,  9.,  7.,  9., 10.,  9.,  9., 11.,\n",
       "        9., 10., 10.,  9.,  9.,  7.,  6.,  9., 11.,  8.,  9.,  8.,  9.,\n",
       "       10.,  7., 11.,  9.,  9.,  9., 10.,  8.,  8.,  9., 10.,  9.,  9.,\n",
       "        7.,  9., 10., 10., 10.,  8., 10.,  9.,  9.,  7.,  9.,  9.,  9.,\n",
       "        9.,  9.,  7.,  7., 10.,  9.,  7., 11.,  9.,  9.,  8.,  9.,  9.,\n",
       "       11., 10., 11.,  9.,  9., 11.,  9.,  8., 10.,  8., 11.,  7.,  9.,\n",
       "        8., 10.,  7., 10.,  7.,  9.,  9.,  9., 10.,  8., 10., 10.,  9.,\n",
       "       11., 17.,  9.,  9., 10.,  8., 11.,  9.,  7.,  7.,  9.,  9.,  9.,\n",
       "        8., 11.,  8.,  9.,  9.,  8.,  9.,  9.,  8., 11.,  9.,  9.,  8.,\n",
       "        9.,  8., 10.,  7.,  8.,  7.,  7.,  9.,  7.,  7.,  9., 10.,  7.,\n",
       "        7.,  8., 10., 15.,  9.,  7.,  8.,  9.,  7.,  9.,  8.,  9.,  9.,\n",
       "        9., 10., 10.,  9.,  7.,  9.,  9.,  7., 20.,  9.,  9.,  8.,  8.,\n",
       "        9., 11., 10., 20.,  9.,  9., 10.,  9.,  9., 10., 14.,  8.,  7.,\n",
       "        7.,  8.,  9.,  9., 10.,  9., 10., 11.,  7.,  9., 10.,  8.,  9.,\n",
       "       10., 10.,  9.,  9.,  9., 10.,  9.,  9.,  9.,  8.,  9.,  7.,  9.,\n",
       "       11.,  8.,  7., 11.,  9.,  8.,  9., 10.,  9.,  9., 10., 10., 14.,\n",
       "        8.,  9., 11.,  7.,  9.,  8., 10.,  9.,  7.,  7., 10.,  7.,  7.,\n",
       "       10., 10.,  7.,  9.,  9.,  8.,  9.,  8., 11.,  8.,  9., 20.,  7.,\n",
       "        9.,  9., 11.,  7.,  9.,  9.,  9.,  9.,  9.,  8., 11., 10.,  9.,\n",
       "        9.,  8.,  9.,  9.,  8.,  7.,  8., 10.,  9., 10.,  8., 10.,  8.,\n",
       "       10.,  7.,  9.,  8., 10.,  9.,  7., 11., 11.,  8.,  9.,  8.,  9.,\n",
       "       10.,  8.,  9.,  9.,  9., 12.,  7., 10., 17.,  8.,  9.,  9., 10.,\n",
       "        9., 10., 10.,  8.,  7.,  7.,  8., 10.,  9.,  9., 11., 20.])"
      ]
     },
     "execution_count": 108,
     "metadata": {},
     "output_type": "execute_result"
    }
   ],
   "source": [
    "y_pred"
   ]
  },
  {
   "cell_type": "code",
   "execution_count": 122,
   "metadata": {},
   "outputs": [
    {
     "name": "stdout",
     "output_type": "stream",
     "text": [
      "Sorted Value Counts:\n",
      "6.0       3\n",
      "7.0      89\n",
      "8.0      88\n",
      "9.0     233\n",
      "10.0    103\n",
      "11.0     56\n",
      "12.0     11\n",
      "13.0      1\n",
      "14.0      1\n",
      "16.0      3\n",
      "17.0      4\n",
      "20.0      5\n",
      "dtype: int64\n"
     ]
    }
   ],
   "source": [
    "# y_pred_series is our Pandas Series\n",
    "y_pred_series = pd.Series(y_pred)\n",
    "\n",
    "# Count occurrences of each unique value\n",
    "value_counts = y_pred_series.value_counts()\n",
    "\n",
    "# Sort the values based on unique values\n",
    "sorted_value_counts = value_counts.sort_index()\n",
    "\n",
    "# Display the sorted result\n",
    "print(\"Sorted Value Counts:\")\n",
    "print(sorted_value_counts)\n"
   ]
  },
  {
   "cell_type": "code",
   "execution_count": 110,
   "metadata": {},
   "outputs": [
    {
     "data": {
      "text/plain": [
       "597"
      ]
     },
     "execution_count": 110,
     "metadata": {},
     "output_type": "execute_result"
    }
   ],
   "source": [
    "len(y_test)"
   ]
  },
  {
   "cell_type": "code",
   "execution_count": 123,
   "metadata": {},
   "outputs": [
    {
     "name": "stdout",
     "output_type": "stream",
     "text": [
      "Sorted Value Counts:\n",
      "0     167\n",
      "1     173\n",
      "2      90\n",
      "3      64\n",
      "4      39\n",
      "5      16\n",
      "6      18\n",
      "7       9\n",
      "8       6\n",
      "9       6\n",
      "10      3\n",
      "11      3\n",
      "16      1\n",
      "20      1\n",
      "27      1\n",
      "Name: months_stayed, dtype: int64\n"
     ]
    }
   ],
   "source": [
    "\n",
    "# y_test_series is our Pandas Series\n",
    "y_test_series = pd.Series(y_test)\n",
    "\n",
    "# Count occurrences of each unique value\n",
    "value_counts = y_test_series.value_counts()\n",
    "\n",
    "# Sort the values based on unique values\n",
    "sorted_value_counts = value_counts.sort_index()\n",
    "\n",
    "# Display the sorted result\n",
    "print(\"Sorted Value Counts:\")\n",
    "print(sorted_value_counts)\n"
   ]
  },
  {
   "cell_type": "code",
   "execution_count": 112,
   "metadata": {
    "scrolled": false
   },
   "outputs": [
    {
     "name": "stdout",
     "output_type": "stream",
     "text": [
      "[0, 1, 2, 4, 0, 1, 3, 1, 2, 1, 2, 2, 0, 1, 8, 0, 1, 0, 0, 6, 1, 1, 4, 1, 0, 6, 0, 9, 1, 1, 1, 0, 1, 2, 2, 2, 2, 1, 0, 1, 0, 0, 0, 2, 1, 3, 5, 1, 3, 0, 1, 1, 1, 3, 1, 6, 9, 1, 4, 1, 0, 1, 10, 0, 1, 1, 6, 7, 0, 3, 1, 4, 27, 1, 2, 0, 3, 2, 3, 4, 1, 0, 4, 4, 3, 0, 0, 0, 2, 1, 0, 1, 0, 1, 0, 2, 3, 5, 3, 2, 4, 6, 3, 1, 1, 1, 0, 9, 2, 0, 4, 0, 1, 0, 3, 1, 1, 0, 1, 1, 0, 3, 1, 1, 0, 0, 1, 1, 3, 1, 0, 0, 4, 3, 9, 1, 1, 6, 1, 0, 4, 2, 0, 0, 0, 0, 2, 2, 1, 7, 1, 0, 0, 2, 1, 3, 1, 2, 2, 0, 0, 0, 1, 0, 0, 0, 3, 1, 3, 2, 2, 0, 0, 3, 5, 8, 11, 1, 1, 0, 1, 0, 2, 1, 1, 0, 2, 8, 1, 1, 1, 0, 3, 1, 0, 3, 0, 1, 0, 3, 6, 0, 0, 1, 1, 3, 1, 6, 1, 4, 1, 3, 1, 3, 0, 3, 1, 2, 6, 2, 1, 6, 3, 2, 1, 4, 4, 1, 10, 1, 2, 1, 0, 4, 1, 1, 3, 4, 0, 1, 3, 0, 5, 1, 6, 0, 2, 0, 3, 1, 4, 5, 1, 3, 2, 1, 1, 0, 11, 0, 3, 2, 1, 0, 0, 3, 1, 2, 3, 2, 0, 2, 8, 3, 1, 2, 0, 1, 0, 1, 0, 0, 0, 1, 0, 0, 0, 0, 0, 2, 0, 1, 1, 4, 1, 5, 3, 3, 2, 1, 2, 2, 2, 1, 2, 1, 0, 3, 3, 3, 2, 0, 3, 1, 0, 3, 2, 7, 2, 3, 4, 1, 3, 2, 2, 1, 1, 1, 4, 0, 0, 0, 1, 3, 1, 0, 0, 1, 9, 1, 1, 2, 9, 1, 1, 1, 0, 4, 2, 2, 0, 2, 2, 3, 0, 0, 0, 3, 0, 3, 2, 1, 0, 0, 1, 0, 7, 1, 0, 3, 1, 4, 1, 5, 2, 0, 7, 1, 5, 3, 0, 2, 2, 1, 1, 3, 0, 4, 2, 1, 3, 0, 1, 0, 2, 0, 7, 0, 0, 1, 0, 4, 2, 2, 11, 1, 0, 0, 1, 1, 6, 2, 6, 6, 1, 10, 8, 1, 1, 0, 4, 2, 1, 2, 3, 0, 3, 0, 1, 0, 6, 1, 0, 0, 0, 1, 1, 7, 1, 1, 2, 2, 2, 2, 0, 0, 1, 4, 0, 1, 2, 1, 5, 1, 1, 3, 1, 0, 6, 0, 0, 1, 0, 0, 0, 1, 1, 2, 4, 6, 0, 0, 1, 4, 4, 4, 3, 1, 2, 2, 2, 0, 0, 2, 2, 0, 0, 2, 5, 0, 1, 7, 2, 1, 3, 0, 5, 1, 2, 0, 0, 6, 3, 1, 1, 0, 4, 0, 3, 4, 0, 2, 2, 1, 1, 0, 0, 4, 0, 1, 0, 4, 1, 2, 2, 1, 3, 1, 5, 0, 1, 0, 4, 3, 2, 1, 1, 0, 4, 1, 1, 2, 0, 0, 0, 20, 0, 2, 0, 4, 1, 0, 0, 5, 4, 5, 2, 0, 8, 1, 0, 0, 0, 2, 0, 0, 1, 0, 7, 0, 3, 0, 2, 1, 0, 5, 0, 1, 3, 1, 0, 1, 1, 3, 2, 1, 1, 0, 1, 2, 5, 16, 2, 4, 1, 1, 0]\n"
     ]
    }
   ],
   "source": [
    "print(y_test.tolist())\n"
   ]
  },
  {
   "cell_type": "markdown",
   "metadata": {},
   "source": [
    "# ⬆︎----(over sampling) Accuracy Score: 0.013400, R2: -8.506072 ----- ⬆︎"
   ]
  },
  {
   "cell_type": "code",
   "execution_count": null,
   "metadata": {},
   "outputs": [],
   "source": []
  },
  {
   "cell_type": "markdown",
   "metadata": {},
   "source": [
    "# Trying with Randomclassifier"
   ]
  },
  {
   "cell_type": "code",
   "execution_count": 91,
   "metadata": {},
   "outputs": [
    {
     "data": {
      "text/html": [
       "<div>\n",
       "<style scoped>\n",
       "    .dataframe tbody tr th:only-of-type {\n",
       "        vertical-align: middle;\n",
       "    }\n",
       "\n",
       "    .dataframe tbody tr th {\n",
       "        vertical-align: top;\n",
       "    }\n",
       "\n",
       "    .dataframe thead th {\n",
       "        text-align: right;\n",
       "    }\n",
       "</style>\n",
       "<table border=\"1\" class=\"dataframe\">\n",
       "  <thead>\n",
       "    <tr style=\"text-align: right;\">\n",
       "      <th></th>\n",
       "      <th>Primary_Color</th>\n",
       "      <th>Sex</th>\n",
       "      <th>Age</th>\n",
       "      <th>Intake_Date</th>\n",
       "      <th>Intake_Condition</th>\n",
       "      <th>Intake_Type</th>\n",
       "      <th>days_stayed</th>\n",
       "      <th>Primary_Color_encoded</th>\n",
       "      <th>Sex_encoded</th>\n",
       "      <th>Intake_Condition_encoded</th>\n",
       "      <th>Intake_Type_encoded</th>\n",
       "    </tr>\n",
       "  </thead>\n",
       "  <tbody>\n",
       "    <tr>\n",
       "      <th>0</th>\n",
       "      <td>BRN TABBY</td>\n",
       "      <td>Spayed</td>\n",
       "      <td>6</td>\n",
       "      <td>12/19/18</td>\n",
       "      <td>NORMAL</td>\n",
       "      <td>STRAY</td>\n",
       "      <td>799</td>\n",
       "      <td>5</td>\n",
       "      <td>3</td>\n",
       "      <td>13</td>\n",
       "      <td>3</td>\n",
       "    </tr>\n",
       "    <tr>\n",
       "      <th>1</th>\n",
       "      <td>BRN TABBY</td>\n",
       "      <td>Spayed</td>\n",
       "      <td>9</td>\n",
       "      <td>10/4/19</td>\n",
       "      <td>NORMAL</td>\n",
       "      <td>OWNER SURRENDER</td>\n",
       "      <td>760</td>\n",
       "      <td>5</td>\n",
       "      <td>3</td>\n",
       "      <td>13</td>\n",
       "      <td>1</td>\n",
       "    </tr>\n",
       "    <tr>\n",
       "      <th>2</th>\n",
       "      <td>ORG TABBY</td>\n",
       "      <td>Neutered</td>\n",
       "      <td>12</td>\n",
       "      <td>6/24/17</td>\n",
       "      <td>ILL MILD</td>\n",
       "      <td>STRAY</td>\n",
       "      <td>685</td>\n",
       "      <td>22</td>\n",
       "      <td>2</td>\n",
       "      <td>7</td>\n",
       "      <td>3</td>\n",
       "    </tr>\n",
       "    <tr>\n",
       "      <th>3</th>\n",
       "      <td>BRN TABBY</td>\n",
       "      <td>Neutered</td>\n",
       "      <td>8</td>\n",
       "      <td>7/13/17</td>\n",
       "      <td>NORMAL</td>\n",
       "      <td>STRAY</td>\n",
       "      <td>666</td>\n",
       "      <td>5</td>\n",
       "      <td>2</td>\n",
       "      <td>13</td>\n",
       "      <td>3</td>\n",
       "    </tr>\n",
       "    <tr>\n",
       "      <th>4</th>\n",
       "      <td>GRAY TABBY</td>\n",
       "      <td>Spayed</td>\n",
       "      <td>8</td>\n",
       "      <td>5/10/17</td>\n",
       "      <td>NORMAL</td>\n",
       "      <td>STRAY</td>\n",
       "      <td>661</td>\n",
       "      <td>16</td>\n",
       "      <td>3</td>\n",
       "      <td>13</td>\n",
       "      <td>3</td>\n",
       "    </tr>\n",
       "  </tbody>\n",
       "</table>\n",
       "</div>"
      ],
      "text/plain": [
       "  Primary_Color       Sex  Age Intake_Date Intake_Condition      Intake_Type  \\\n",
       "0     BRN TABBY    Spayed    6    12/19/18           NORMAL            STRAY   \n",
       "1     BRN TABBY    Spayed    9     10/4/19           NORMAL  OWNER SURRENDER   \n",
       "2     ORG TABBY  Neutered   12     6/24/17         ILL MILD            STRAY   \n",
       "3     BRN TABBY  Neutered    8     7/13/17           NORMAL            STRAY   \n",
       "4    GRAY TABBY    Spayed    8     5/10/17           NORMAL            STRAY   \n",
       "\n",
       "   days_stayed  Primary_Color_encoded  Sex_encoded  Intake_Condition_encoded  \\\n",
       "0          799                      5            3                        13   \n",
       "1          760                      5            3                        13   \n",
       "2          685                     22            2                         7   \n",
       "3          666                      5            2                        13   \n",
       "4          661                     16            3                        13   \n",
       "\n",
       "   Intake_Type_encoded  \n",
       "0                    3  \n",
       "1                    1  \n",
       "2                    3  \n",
       "3                    3  \n",
       "4                    3  "
      ]
     },
     "execution_count": 91,
     "metadata": {},
     "output_type": "execute_result"
    }
   ],
   "source": [
    "df_month_short = pd.read_csv('../dataset/df_only_numeric_value_nov_05.csv')\n",
    "df_month_short.head()"
   ]
  },
  {
   "cell_type": "code",
   "execution_count": 95,
   "metadata": {},
   "outputs": [
    {
     "data": {
      "text/html": [
       "<div>\n",
       "<style scoped>\n",
       "    .dataframe tbody tr th:only-of-type {\n",
       "        vertical-align: middle;\n",
       "    }\n",
       "\n",
       "    .dataframe tbody tr th {\n",
       "        vertical-align: top;\n",
       "    }\n",
       "\n",
       "    .dataframe thead th {\n",
       "        text-align: right;\n",
       "    }\n",
       "</style>\n",
       "<table border=\"1\" class=\"dataframe\">\n",
       "  <thead>\n",
       "    <tr style=\"text-align: right;\">\n",
       "      <th></th>\n",
       "      <th>Primary_Color</th>\n",
       "      <th>Sex</th>\n",
       "      <th>Age</th>\n",
       "      <th>Intake_Date</th>\n",
       "      <th>Intake_Condition</th>\n",
       "      <th>Intake_Type</th>\n",
       "      <th>days_stayed</th>\n",
       "      <th>Primary_Color_encoded</th>\n",
       "      <th>Sex_encoded</th>\n",
       "      <th>Intake_Condition_encoded</th>\n",
       "      <th>Intake_Type_encoded</th>\n",
       "      <th>months_stayed</th>\n",
       "    </tr>\n",
       "  </thead>\n",
       "  <tbody>\n",
       "    <tr>\n",
       "      <th>0</th>\n",
       "      <td>BRN TABBY</td>\n",
       "      <td>Spayed</td>\n",
       "      <td>6</td>\n",
       "      <td>12/19/18</td>\n",
       "      <td>NORMAL</td>\n",
       "      <td>STRAY</td>\n",
       "      <td>799</td>\n",
       "      <td>5</td>\n",
       "      <td>3</td>\n",
       "      <td>13</td>\n",
       "      <td>3</td>\n",
       "      <td>99</td>\n",
       "    </tr>\n",
       "    <tr>\n",
       "      <th>1</th>\n",
       "      <td>BRN TABBY</td>\n",
       "      <td>Spayed</td>\n",
       "      <td>9</td>\n",
       "      <td>10/4/19</td>\n",
       "      <td>NORMAL</td>\n",
       "      <td>OWNER SURRENDER</td>\n",
       "      <td>760</td>\n",
       "      <td>5</td>\n",
       "      <td>3</td>\n",
       "      <td>13</td>\n",
       "      <td>1</td>\n",
       "      <td>99</td>\n",
       "    </tr>\n",
       "    <tr>\n",
       "      <th>2</th>\n",
       "      <td>ORG TABBY</td>\n",
       "      <td>Neutered</td>\n",
       "      <td>12</td>\n",
       "      <td>6/24/17</td>\n",
       "      <td>ILL MILD</td>\n",
       "      <td>STRAY</td>\n",
       "      <td>685</td>\n",
       "      <td>22</td>\n",
       "      <td>2</td>\n",
       "      <td>7</td>\n",
       "      <td>3</td>\n",
       "      <td>99</td>\n",
       "    </tr>\n",
       "    <tr>\n",
       "      <th>3</th>\n",
       "      <td>BRN TABBY</td>\n",
       "      <td>Neutered</td>\n",
       "      <td>8</td>\n",
       "      <td>7/13/17</td>\n",
       "      <td>NORMAL</td>\n",
       "      <td>STRAY</td>\n",
       "      <td>666</td>\n",
       "      <td>5</td>\n",
       "      <td>2</td>\n",
       "      <td>13</td>\n",
       "      <td>3</td>\n",
       "      <td>99</td>\n",
       "    </tr>\n",
       "    <tr>\n",
       "      <th>4</th>\n",
       "      <td>GRAY TABBY</td>\n",
       "      <td>Spayed</td>\n",
       "      <td>8</td>\n",
       "      <td>5/10/17</td>\n",
       "      <td>NORMAL</td>\n",
       "      <td>STRAY</td>\n",
       "      <td>661</td>\n",
       "      <td>16</td>\n",
       "      <td>3</td>\n",
       "      <td>13</td>\n",
       "      <td>3</td>\n",
       "      <td>99</td>\n",
       "    </tr>\n",
       "  </tbody>\n",
       "</table>\n",
       "</div>"
      ],
      "text/plain": [
       "  Primary_Color       Sex  Age Intake_Date Intake_Condition      Intake_Type  \\\n",
       "0     BRN TABBY    Spayed    6    12/19/18           NORMAL            STRAY   \n",
       "1     BRN TABBY    Spayed    9     10/4/19           NORMAL  OWNER SURRENDER   \n",
       "2     ORG TABBY  Neutered   12     6/24/17         ILL MILD            STRAY   \n",
       "3     BRN TABBY  Neutered    8     7/13/17           NORMAL            STRAY   \n",
       "4    GRAY TABBY    Spayed    8     5/10/17           NORMAL            STRAY   \n",
       "\n",
       "   days_stayed  Primary_Color_encoded  Sex_encoded  Intake_Condition_encoded  \\\n",
       "0          799                      5            3                        13   \n",
       "1          760                      5            3                        13   \n",
       "2          685                     22            2                         7   \n",
       "3          666                      5            2                        13   \n",
       "4          661                     16            3                        13   \n",
       "\n",
       "   Intake_Type_encoded  months_stayed  \n",
       "0                    3             99  \n",
       "1                    1             99  \n",
       "2                    3             99  \n",
       "3                    3             99  \n",
       "4                    3             99  "
      ]
     },
     "execution_count": 95,
     "metadata": {},
     "output_type": "execute_result"
    }
   ],
   "source": [
    "# this part is to predict month stay\n",
    "import pandas as pd\n",
    "\n",
    "def categorize_days(days_stayed):\n",
    "    if days_stayed <= 285:\n",
    "        return np.ceil((days_stayed-15 )/30).astype(int)\n",
    "    else:\n",
    "        # Handle cases beyond 1200 days if needed\n",
    "        return 99  # or any other value to indicate an outlier\n",
    "\n",
    "# Example usage:\n",
    "# Assuming df is your DataFrame and \"days_stayed\" is the column you want to categorize\n",
    "df_month_short['months_stayed'] = df_month_short['days_stayed'].apply(categorize_days)\n",
    "df_month_short.head()\n"
   ]
  },
  {
   "cell_type": "code",
   "execution_count": 96,
   "metadata": {},
   "outputs": [
    {
     "name": "stdout",
     "output_type": "stream",
     "text": [
      "0     869\n",
      "1     901\n",
      "2     464\n",
      "3     309\n",
      "4     169\n",
      "5      72\n",
      "6      58\n",
      "7      42\n",
      "8      25\n",
      "9      23\n",
      "99     50\n",
      "Name: months_stayed, dtype: int64\n"
     ]
    }
   ],
   "source": [
    "# counting each groups frequency\n",
    "grouped_data = df_month_short['months_stayed'].value_counts().sort_index()\n",
    "grouped_data.columns = ['months_stayed', 'Count']\n",
    "print(grouped_data)"
   ]
  },
  {
   "cell_type": "code",
   "execution_count": 97,
   "metadata": {},
   "outputs": [],
   "source": [
    "from sklearn.utils import class_weight\n",
    "from sklearn.utils.class_weight import compute_sample_weight"
   ]
  },
  {
   "cell_type": "code",
   "execution_count": 98,
   "metadata": {},
   "outputs": [
    {
     "data": {
      "text/plain": [
       "((2385, 4), (597, 4))"
      ]
     },
     "execution_count": 98,
     "metadata": {},
     "output_type": "execute_result"
    }
   ],
   "source": [
    "selected_features = ['Primary_Color_encoded', 'Sex_encoded',  \n",
    "                     'Intake_Condition_encoded', 'Intake_Type_encoded']\n",
    "\n",
    "# dependent_variable = 'days_stayed'\n",
    "X= df_month[selected_features]\n",
    "y= df_month['months_stayed']\n",
    "X_train, X_test, y_train, y_test = train_test_split(X, y, test_size=0.2, random_state=42)\n",
    "\n",
    "# Using RandomOverSampler to handle imbalanced data\n",
    "ros = RandomOverSampler(random_state=42)\n",
    "X_resampled, y_resampled = ros.fit_resample(X_train, y_train)\n",
    "\n",
    "X_train.shape, X_test.shape"
   ]
  },
  {
   "cell_type": "code",
   "execution_count": 99,
   "metadata": {},
   "outputs": [
    {
     "name": "stdout",
     "output_type": "stream",
     "text": [
      "Fitting 5 folds for each of 162 candidates, totalling 810 fits\n"
     ]
    },
    {
     "name": "stderr",
     "output_type": "stream",
     "text": [
      "/Users/ubaydulsami/anaconda3/lib/python3.11/site-packages/sklearn/model_selection/_split.py:700: UserWarning: The least populated class in y has only 1 members, which is less than n_splits=5.\n",
      "  warnings.warn(\n"
     ]
    }
   ],
   "source": [
    "from sklearn.ensemble import RandomForestClassifier\n",
    "from sklearn.model_selection import GridSearchCV\n",
    "\n",
    "params = { \n",
    "    'n_estimators': [50, 100, 150],\n",
    "    'max_features': ['sqrt', 'log2', None],\n",
    "    'max_depth': [None, 5, 10],\n",
    "    'min_samples_split': [2, 5, 10],\n",
    "    'max_leaf_nodes': [5, 10]\n",
    "}\n",
    "\n",
    "# Initialize your GridSearchCV with a RandomForestRegressor, your param_grid, and what you are optimizing for (MSE).\n",
    "grid_search_cv = GridSearchCV(\n",
    "    estimator=RandomForestClassifier(),\n",
    "    param_grid=params,\n",
    "    scoring='neg_mean_squared_error',  # For regression, use neg_mean_squared_error as the scoring metric.\n",
    "    cv=5, \n",
    "    verbose=1\n",
    ")\n",
    "\n",
    "# Fit your GridSearchCV with your training data.\n",
    "grid_search_cv.fit(X_train, y_train)\n",
    "\n",
    "# Get the best estimator based on the mean squared error.\n",
    "best_model = grid_search_cv.best_estimator_\n"
   ]
  },
  {
   "cell_type": "code",
   "execution_count": 100,
   "metadata": {
    "scrolled": false
   },
   "outputs": [
    {
     "name": "stdout",
     "output_type": "stream",
     "text": [
      "Precision Score: 0.188338\n",
      "Recall Score: 0.324958\n",
      "F1 Score: 0.237114\n"
     ]
    },
    {
     "name": "stderr",
     "output_type": "stream",
     "text": [
      "/Users/ubaydulsami/anaconda3/lib/python3.11/site-packages/sklearn/metrics/_classification.py:1344: UndefinedMetricWarning: Precision is ill-defined and being set to 0.0 in labels with no predicted samples. Use `zero_division` parameter to control this behavior.\n",
      "  _warn_prf(average, modifier, msg_start, len(result))\n",
      "/Users/ubaydulsami/anaconda3/lib/python3.11/site-packages/sklearn/base.py:439: UserWarning: X does not have valid feature names, but RandomForestClassifier was fitted with feature names\n",
      "  warnings.warn(\n"
     ]
    }
   ],
   "source": [
    "from sklearn.metrics import mean_squared_error, r2_score  # Import r2_score\n",
    "from sklearn.metrics import precision_score, recall_score, f1_score, roc_auc_score\n",
    "\n",
    "from sklearn.preprocessing import StandardScaler\n",
    "\n",
    "scaler = StandardScaler()\n",
    "X_train_scaled = scaler.fit_transform(X_train)\n",
    "X_test_scaled = scaler.transform(X_test)\n",
    "\n",
    "# Fit the model\n",
    "best_model.fit(X_train, y_train)\n",
    "\n",
    "# Make predictions\n",
    "\n",
    "y_pred = best_model.predict(X_test)\n",
    "\n",
    "# Calculate precision, recall, and F1 score\n",
    "\n",
    "precision = precision_score(y_true=y_test, y_pred=y_pred, average='weighted')  # Adjust average if needed\n",
    "print(\"Precision Score: %f\" % precision)\n",
    "\n",
    "recall = recall_score(y_true=y_test, y_pred=y_pred, average='weighted')  # Adjust average if needed\n",
    "print(\"Recall Score: %f\" % recall)\n",
    "\n",
    "f1 = f1_score(y_true=y_test, y_pred=y_pred, average='weighted')  # Adjust average if needed\n",
    "print('F1 Score: %f' % f1)\n",
    "\n",
    "# Calculate predicted probabilities, keep only probability for when class = 1\n",
    "y_pred_proba = best_model.predict_proba(X_test_scaled)[:, 1]\n"
   ]
  },
  {
   "cell_type": "code",
   "execution_count": 101,
   "metadata": {},
   "outputs": [
    {
     "name": "stdout",
     "output_type": "stream",
     "text": [
      "Sorted Value Counts:\n",
      "0    247\n",
      "1    350\n",
      "dtype: int64\n"
     ]
    }
   ],
   "source": [
    "# y_pred_series is our Pandas Series\n",
    "y_pred_series = pd.Series(y_pred)\n",
    "\n",
    "# Count occurrences of each unique value\n",
    "value_counts = y_pred_series.value_counts()\n",
    "\n",
    "# Sort the values based on unique values\n",
    "sorted_value_counts = value_counts.sort_index()\n",
    "\n",
    "# Display the sorted result\n",
    "print(\"Sorted Value Counts:\")\n",
    "print(sorted_value_counts)\n"
   ]
  },
  {
   "cell_type": "markdown",
   "metadata": {},
   "source": [
    "# --------- F1 Score: 0.260524 ------------ (3rd best so far)"
   ]
  },
  {
   "cell_type": "code",
   "execution_count": null,
   "metadata": {},
   "outputs": [],
   "source": []
  },
  {
   "cell_type": "markdown",
   "metadata": {},
   "source": [
    "# 2nd approch (all code together) RandomForestRegression"
   ]
  },
  {
   "cell_type": "code",
   "execution_count": 39,
   "metadata": {
    "scrolled": false
   },
   "outputs": [
    {
     "name": "stdout",
     "output_type": "stream",
     "text": [
      "Fitting 5 folds for each of 162 candidates, totalling 810 fits\n",
      "Accuracy Score: 0.118928\n",
      "F1 Score: 0.142566\n"
     ]
    }
   ],
   "source": [
    "import pandas as pd\n",
    "import numpy as np\n",
    "from sklearn.model_selection import train_test_split, GridSearchCV\n",
    "from sklearn.ensemble import RandomForestClassifier\n",
    "from sklearn.metrics import accuracy_score, f1_score\n",
    "from imblearn.under_sampling import RandomUnderSampler\n",
    "\n",
    "# Load the dataset\n",
    "df_month_short = pd.read_csv('../dataset/df_only_numeric_value_nov_05.csv')\n",
    "\n",
    "# Define a function to categorize days\n",
    "def categorize_days(days_stayed):\n",
    "    if days_stayed <= 285:\n",
    "        return np.ceil((days_stayed - 15) / 30).astype(int)\n",
    "    else:\n",
    "        return 99  # or any other value to indicate an outlier\n",
    "\n",
    "# Apply the categorization to create a new column 'months_stayed'\n",
    "df_month_short['months_stayed'] = df_month_short['days_stayed'].apply(categorize_days)\n",
    "\n",
    "# Define selected features\n",
    "selected_features = ['Primary_Color_encoded', 'Sex_encoded',\n",
    "                     'Intake_Condition_encoded', 'Intake_Type_encoded']\n",
    "\n",
    "# Set up X and y\n",
    "X = df_month_short[selected_features]\n",
    "y = df_month_short['months_stayed']\n",
    "\n",
    "# Split the data into training and testing sets\n",
    "X_train, X_test, y_train, y_test = train_test_split(X, y, test_size=0.2, random_state=42)\n",
    "\n",
    "# Handle class imbalance using RandomUnderSampler\n",
    "rus = RandomUnderSampler(random_state=42)\n",
    "X_resampled, y_resampled = rus.fit_resample(X_train, y_train)\n",
    "\n",
    "# Define the parameter grid for GridSearchCV\n",
    "params = {\n",
    "    'n_estimators': [50, 100, 150],\n",
    "    'max_features': ['sqrt', 'log2', None],\n",
    "    'max_depth': [None, 5, 10],\n",
    "    'min_samples_split': [2, 5, 10],\n",
    "    'max_leaf_nodes': [5, 10]\n",
    "}\n",
    "\n",
    "# Initialize RandomForestClassifier\n",
    "rf_classifier = RandomForestClassifier(random_state=42)\n",
    "\n",
    "# Initialize GridSearchCV\n",
    "grid_search_cv = GridSearchCV(\n",
    "    estimator=rf_classifier,\n",
    "    param_grid=params,\n",
    "    scoring='accuracy',  # Use accuracy for classification\n",
    "    cv=5,\n",
    "    verbose=1\n",
    ")\n",
    "\n",
    "# Fit GridSearchCV with resampled training data\n",
    "grid_search_cv.fit(X_resampled, y_resampled)\n",
    "\n",
    "# Get the best estimator based on accuracy\n",
    "best_model = grid_search_cv.best_estimator_\n",
    "\n",
    "# Fit the best model with resampled training data\n",
    "best_model.fit(X_resampled, y_resampled)\n",
    "\n",
    "# Make predictions on the test set\n",
    "y_pred = best_model.predict(X_test)\n",
    "\n",
    "# Evaluate the model\n",
    "accuracy = accuracy_score(y_true=y_test, y_pred=y_pred)\n",
    "print(\"Accuracy Score: %f\" % accuracy)\n",
    "\n",
    "f1 = f1_score(y_true=y_test, y_pred=y_pred, average='weighted')\n",
    "print(\"F1 Score: %f\" % f1)\n"
   ]
  },
  {
   "cell_type": "code",
   "execution_count": 40,
   "metadata": {
    "scrolled": false
   },
   "outputs": [
    {
     "data": {
      "text/plain": [
       "597"
      ]
     },
     "execution_count": 40,
     "metadata": {},
     "output_type": "execute_result"
    }
   ],
   "source": [
    "len(y_pred)\n",
    "# max(y_pred)"
   ]
  },
  {
   "cell_type": "code",
   "execution_count": 41,
   "metadata": {},
   "outputs": [
    {
     "data": {
      "text/plain": [
       "array([ 0,  2,  2,  8,  0,  3,  5,  7,  3,  3,  7,  2,  0,  2,  0,  5,  9,\n",
       "        2,  7,  2,  2,  7,  0,  0,  9,  3,  7,  8,  5,  5,  1,  3,  3,  9,\n",
       "        5, 99, 99,  2,  9,  5, 99,  1,  7,  3,  0,  8,  0,  3,  2, 99, 99,\n",
       "        2,  9,  3, 99,  8,  8, 99,  8,  3,  8,  5,  7,  3,  8, 99,  8,  7,\n",
       "        7,  5,  1,  8,  0,  2,  7,  0,  3, 99,  3,  5,  6,  5,  9,  1,  8,\n",
       "        3, 99,  3,  3,  9,  3, 99,  8,  0,  3,  2,  6,  8,  5,  2,  5,  6,\n",
       "        9,  3,  3,  3,  2,  1,  3,  8,  7,  3,  1,  1,  2, 99,  8, 99,  9,\n",
       "        3,  7, 99,  1,  8,  8,  0,  5,  0,  7,  6,  1,  0,  8,  7,  5,  9,\n",
       "        6,  8, 99,  1,  2,  8,  7,  3,  8,  1,  3,  3,  4,  0, 99,  0,  3,\n",
       "        8,  5,  0,  3,  3,  3,  1, 99,  4,  3,  1,  1,  1,  9,  1,  1,  9,\n",
       "        2, 99,  1,  0,  6,  9,  9,  1,  4,  1,  3,  5,  3,  1,  7,  3,  4,\n",
       "        3,  3,  7, 99,  3,  5,  0, 99,  0,  9,  7,  3,  3,  0,  0,  9,  3,\n",
       "        3,  5,  0,  0,  3,  3,  0,  5,  8,  7,  3, 99,  3,  2,  1,  3,  1,\n",
       "        3,  2,  2,  4,  1,  0,  2,  1,  4,  1,  8,  6,  5,  8,  8,  9,  7,\n",
       "        8,  0,  2,  7,  3,  1,  1,  1,  1,  7,  4,  5,  3,  5,  1,  0,  0,\n",
       "        5,  1,  3,  8,  7,  7, 99,  0,  3,  3,  1,  4,  1,  5,  2,  9,  0,\n",
       "        3,  1,  5,  5,  1,  1,  8,  2,  7,  0, 99,  3,  5,  5,  5,  1,  8,\n",
       "        5,  4,  8,  3,  7,  9,  7,  5,  7,  3,  1,  1,  5,  2,  8,  6, 99,\n",
       "        3,  3,  1,  5,  5,  5,  3, 99,  7,  8,  9,  4,  6, 99,  0,  7,  2,\n",
       "        9,  3,  0,  1,  0, 99,  3,  8,  7,  3,  2,  8,  7,  3,  8,  5,  2,\n",
       "       99,  2,  9,  5,  0,  8,  3,  1,  8,  6, 99,  3,  5,  1,  4,  7,  1,\n",
       "        3,  0,  8,  3,  2, 99,  5,  0,  7,  0,  3, 99,  0,  7,  5,  5,  6,\n",
       "        0,  1,  8,  2,  0,  9,  7,  3,  8,  1,  7,  0,  9,  1,  4,  1,  0,\n",
       "        9,  1,  3,  0,  7,  0,  3,  3,  2,  8,  7,  1,  5,  0,  2,  1,  8,\n",
       "       99,  3,  7,  3,  0,  3,  3,  5,  8,  2,  2,  3,  9,  1,  6,  8,  5,\n",
       "        3, 99,  0,  1,  5,  5,  0,  9,  1,  6,  7,  7,  3, 99,  3,  4,  8,\n",
       "        7,  1,  1,  8,  3,  3,  9,  1,  5,  3,  8,  3,  7,  8,  0, 99,  5,\n",
       "        3, 99,  1,  3,  7,  7,  0,  2,  3,  7,  2,  3,  3, 99,  7,  1,  0,\n",
       "        3,  7,  1,  2,  5,  0,  4,  3,  7,  9,  1,  3,  5,  3,  1,  3,  3,\n",
       "       99,  0,  9,  7,  0,  2,  9,  3,  1,  3, 99,  7,  9,  7,  7,  8,  0,\n",
       "        1,  2,  9,  0, 99,  5,  9,  9,  3,  3,  0,  5,  3,  3,  7,  1,  1,\n",
       "        7,  0,  3,  5,  5,  1,  3,  3, 99,  6,  8,  8, 99,  2,  3,  5,  0,\n",
       "        1,  3,  8,  5,  7,  3,  1, 99,  2,  1,  5,  9,  9,  1,  5,  1,  4,\n",
       "        8,  3,  1,  1,  1,  0,  0,  9,  3,  4,  3,  0,  7,  3,  8,  1,  7,\n",
       "        7,  1,  9,  2,  7,  3,  9,  0,  1, 99,  5,  3,  7,  2,  1,  3,  3,\n",
       "        7,  5])"
      ]
     },
     "execution_count": 41,
     "metadata": {},
     "output_type": "execute_result"
    }
   ],
   "source": [
    "y_pred"
   ]
  },
  {
   "cell_type": "code",
   "execution_count": 42,
   "metadata": {},
   "outputs": [
    {
     "name": "stdout",
     "output_type": "stream",
     "text": [
      "Sorted Value Counts:\n",
      "0      65\n",
      "1      80\n",
      "2      44\n",
      "3     116\n",
      "4      16\n",
      "5      60\n",
      "6      14\n",
      "7      63\n",
      "8      55\n",
      "9      40\n",
      "99     44\n",
      "dtype: int64\n"
     ]
    }
   ],
   "source": [
    "# y_pred_series is our Pandas Series\n",
    "y_pred_series = pd.Series(y_pred)\n",
    "\n",
    "# Count occurrences of each unique value\n",
    "value_counts = y_pred_series.value_counts()\n",
    "\n",
    "# Sort the values based on unique values\n",
    "sorted_value_counts = value_counts.sort_index()\n",
    "\n",
    "# Display the sorted result\n",
    "print(\"Sorted Value Counts:\")\n",
    "print(sorted_value_counts)\n"
   ]
  },
  {
   "cell_type": "code",
   "execution_count": 43,
   "metadata": {},
   "outputs": [
    {
     "data": {
      "text/plain": [
       "597"
      ]
     },
     "execution_count": 43,
     "metadata": {},
     "output_type": "execute_result"
    }
   ],
   "source": [
    "len(y_test)"
   ]
  },
  {
   "cell_type": "code",
   "execution_count": 44,
   "metadata": {},
   "outputs": [
    {
     "name": "stdout",
     "output_type": "stream",
     "text": [
      "Sorted Value Counts:\n",
      "0     167\n",
      "1     173\n",
      "2      90\n",
      "3      64\n",
      "4      39\n",
      "5      16\n",
      "6      18\n",
      "7       9\n",
      "8       6\n",
      "9       6\n",
      "99      9\n",
      "Name: months_stayed, dtype: int64\n"
     ]
    }
   ],
   "source": [
    "\n",
    "# y_test_series is our Pandas Series\n",
    "y_test_series = pd.Series(y_test)\n",
    "\n",
    "# Count occurrences of each unique value\n",
    "value_counts = y_test_series.value_counts()\n",
    "\n",
    "# Sort the values based on unique values\n",
    "sorted_value_counts = value_counts.sort_index()\n",
    "\n",
    "# Display the sorted result\n",
    "print(\"Sorted Value Counts:\")\n",
    "print(sorted_value_counts)\n"
   ]
  },
  {
   "cell_type": "code",
   "execution_count": 45,
   "metadata": {
    "scrolled": false
   },
   "outputs": [
    {
     "name": "stdout",
     "output_type": "stream",
     "text": [
      "[0, 1, 2, 4, 0, 1, 3, 1, 2, 1, 2, 2, 0, 1, 8, 0, 1, 0, 0, 6, 1, 1, 4, 1, 0, 6, 0, 9, 1, 1, 1, 0, 1, 2, 2, 2, 2, 1, 0, 1, 0, 0, 0, 2, 1, 3, 5, 1, 3, 0, 1, 1, 1, 3, 1, 6, 9, 1, 4, 1, 0, 1, 99, 0, 1, 1, 6, 7, 0, 3, 1, 4, 99, 1, 2, 0, 3, 2, 3, 4, 1, 0, 4, 4, 3, 0, 0, 0, 2, 1, 0, 1, 0, 1, 0, 2, 3, 5, 3, 2, 4, 6, 3, 1, 1, 1, 0, 9, 2, 0, 4, 0, 1, 0, 3, 1, 1, 0, 1, 1, 0, 3, 1, 1, 0, 0, 1, 1, 3, 1, 0, 0, 4, 3, 9, 1, 1, 6, 1, 0, 4, 2, 0, 0, 0, 0, 2, 2, 1, 7, 1, 0, 0, 2, 1, 3, 1, 2, 2, 0, 0, 0, 1, 0, 0, 0, 3, 1, 3, 2, 2, 0, 0, 3, 5, 8, 99, 1, 1, 0, 1, 0, 2, 1, 1, 0, 2, 8, 1, 1, 1, 0, 3, 1, 0, 3, 0, 1, 0, 3, 6, 0, 0, 1, 1, 3, 1, 6, 1, 4, 1, 3, 1, 3, 0, 3, 1, 2, 6, 2, 1, 6, 3, 2, 1, 4, 4, 1, 99, 1, 2, 1, 0, 4, 1, 1, 3, 4, 0, 1, 3, 0, 5, 1, 6, 0, 2, 0, 3, 1, 4, 5, 1, 3, 2, 1, 1, 0, 99, 0, 3, 2, 1, 0, 0, 3, 1, 2, 3, 2, 0, 2, 8, 3, 1, 2, 0, 1, 0, 1, 0, 0, 0, 1, 0, 0, 0, 0, 0, 2, 0, 1, 1, 4, 1, 5, 3, 3, 2, 1, 2, 2, 2, 1, 2, 1, 0, 3, 3, 3, 2, 0, 3, 1, 0, 3, 2, 7, 2, 3, 4, 1, 3, 2, 2, 1, 1, 1, 4, 0, 0, 0, 1, 3, 1, 0, 0, 1, 9, 1, 1, 2, 9, 1, 1, 1, 0, 4, 2, 2, 0, 2, 2, 3, 0, 0, 0, 3, 0, 3, 2, 1, 0, 0, 1, 0, 7, 1, 0, 3, 1, 4, 1, 5, 2, 0, 7, 1, 5, 3, 0, 2, 2, 1, 1, 3, 0, 4, 2, 1, 3, 0, 1, 0, 2, 0, 7, 0, 0, 1, 0, 4, 2, 2, 99, 1, 0, 0, 1, 1, 6, 2, 6, 6, 1, 99, 8, 1, 1, 0, 4, 2, 1, 2, 3, 0, 3, 0, 1, 0, 6, 1, 0, 0, 0, 1, 1, 7, 1, 1, 2, 2, 2, 2, 0, 0, 1, 4, 0, 1, 2, 1, 5, 1, 1, 3, 1, 0, 6, 0, 0, 1, 0, 0, 0, 1, 1, 2, 4, 6, 0, 0, 1, 4, 4, 4, 3, 1, 2, 2, 2, 0, 0, 2, 2, 0, 0, 2, 5, 0, 1, 7, 2, 1, 3, 0, 5, 1, 2, 0, 0, 6, 3, 1, 1, 0, 4, 0, 3, 4, 0, 2, 2, 1, 1, 0, 0, 4, 0, 1, 0, 4, 1, 2, 2, 1, 3, 1, 5, 0, 1, 0, 4, 3, 2, 1, 1, 0, 4, 1, 1, 2, 0, 0, 0, 99, 0, 2, 0, 4, 1, 0, 0, 5, 4, 5, 2, 0, 8, 1, 0, 0, 0, 2, 0, 0, 1, 0, 7, 0, 3, 0, 2, 1, 0, 5, 0, 1, 3, 1, 0, 1, 1, 3, 2, 1, 1, 0, 1, 2, 5, 99, 2, 4, 1, 1, 0]\n"
     ]
    }
   ],
   "source": [
    "print(y_test.tolist())\n"
   ]
  },
  {
   "cell_type": "markdown",
   "metadata": {},
   "source": [
    "# ⬆︎⬆︎---------(Over sampling) F1 Score: 0.142566 -----⬆︎⬆︎"
   ]
  },
  {
   "cell_type": "code",
   "execution_count": null,
   "metadata": {},
   "outputs": [],
   "source": []
  },
  {
   "cell_type": "markdown",
   "metadata": {},
   "source": [
    "# The below part has error ☟"
   ]
  },
  {
   "cell_type": "code",
   "execution_count": 46,
   "metadata": {},
   "outputs": [],
   "source": [
    "# X = df[independent_variables]\n",
    "# y = df[dependent_variable]\n",
    "\n",
    "# # Split the data into training and testing sets\n",
    "# X_train, X_test, y_train, y_test = train_test_split(X, y_binary, test_size=0.2, random_state=42)\n",
    "\n",
    "# # Parameter grid for GridSearchCV\n",
    "# params = { \n",
    "#     'n_estimators': [50, 100, 150],\n",
    "#     'max_features': ['sqrt', 'log2', None],\n",
    "#     'max_depth': [None, 5, 10],\n",
    "#     'min_samples_split': [2, 5, 10],\n",
    "#     'max_leaf_nodes': [5, 10]\n",
    "# }\n",
    "\n",
    "# # Initialize GridSearchCV with RandomForestClassifier\n",
    "# grid_search_cv = GridSearchCV(\n",
    "#     estimator=RandomForestClassifier(random_state=42),\n",
    "#     param_grid=params,\n",
    "#     scoring='accuracy',\n",
    "#     cv=5, \n",
    "#     verbose=1\n",
    "# )\n",
    "\n",
    "# # Fit GridSearchCV with training data\n",
    "# grid_search_cv.fit(X_train, y_train)\n",
    "\n",
    "# # Get the best estimator based on accuracy\n",
    "# best_model = grid_search_cv.best_estimator_\n",
    "\n",
    "# # Make predictions on the test set\n",
    "# y_pred = best_model.predict(X_test)\n",
    "\n",
    "# # Evaluate the best model\n",
    "# accuracy = accuracy_score(y_true=y_test, y_pred=y_pred)\n",
    "# precision = precision_score(y_true=y_test, y_pred=y_pred, zero_division=1)\n",
    "# recall = recall_score(y_true=y_test, y_pred=y_pred, zero_division=1)\n",
    "# f1 = f1_score(y_true=y_test, y_pred=y_pred, zero_division=1)\n",
    "\n",
    "# print(\"Accuracy Score: %f\" % accuracy)\n",
    "# print(\"Precision Score: %f\" % precision)\n",
    "# print(\"Recall Score: %f\" % recall)\n",
    "# print('F1 Score: %f' % f1)\n",
    "\n",
    "# # Calculate predicted probabilities for the positive class\n",
    "# y_pred_proba = best_model.predict_proba(X_test)[:, 1]\n",
    "\n",
    "# # Calculate AUC score\n",
    "# auc = roc_auc_score(y_true=y_test, y_score=y_pred_proba)\n",
    "# print('AUC Score: %f' % auc)\n",
    "\n"
   ]
  },
  {
   "cell_type": "markdown",
   "metadata": {},
   "source": [
    "# The below part I kept for only reference purposes, no use here at this moment ☟"
   ]
  },
  {
   "cell_type": "code",
   "execution_count": 47,
   "metadata": {},
   "outputs": [],
   "source": [
    "\n",
    "# model = RandomForestClassifier()\n",
    "# X = df[independent_variables]\n",
    "# y = df[dependent_variable]\n",
    "\n",
    "# # Split the data into training and testing sets\n",
    "# X_train, X_test, y_train, y_test = train_test_split(X, y, test_size=0.2, random_state=100)\n",
    "\n",
    "# # Fit the model to the training data\n",
    "# model.fit(X_train, y_train)\n",
    "\n",
    "# # Now let's evaluate our model on the test set\n",
    "# y_pred = model.predict(X_test)\n",
    "\n",
    "# model.fit(X_train, y_train)\n",
    "\n",
    "# # Now lets evaluate our model\n",
    "# y_pred = model.predict(X_test)\n",
    "\n",
    "\n",
    "# ## Eval Model \n",
    "# accuracy = accuracy_score(y_true=y_test, y_pred=y_pred)\n",
    "# print(\"Accuracy Score: %f\" % accuracy)\n",
    "\n",
    "# precision = precision_score(y_true=y_test, y_pred=y_pred)\n",
    "# print(\"Precision Score: %f\" % precision)\n",
    "\n",
    "# recall = recall_score(y_true=y_test, y_pred=y_pred)\n",
    "# print(\"Recall Score: %f\" % recall)\n",
    "\n",
    "# f1 = f1_score(y_true=y_test, y_pred=y_pred)\n",
    "# print('F1 Score: %f' % f1)\n",
    "\n",
    "# # Calculate predicted probabilities\n",
    "# y_pred_proba = model.predict_proba(X_test)\n",
    "\n",
    "# # # Keep only the proba for True\n",
    "# y_pred_proba = y_pred_proba[:,1]\n",
    "\n",
    "# # Compute auc score\n",
    "# auc = roc_auc_score(y_true=y_test, y_score=y_pred_proba)\n",
    "# print('AUC Score: %f' % auc)\n",
    "\n",
    "\n",
    "# # Produce classification Report\n",
    "# print(classification_report(y_test, y_pred))\n"
   ]
  },
  {
   "cell_type": "markdown",
   "metadata": {},
   "source": [
    "## ----------------------ignore the below part for now -------------------------"
   ]
  },
  {
   "cell_type": "code",
   "execution_count": 48,
   "metadata": {},
   "outputs": [],
   "source": [
    "# model = OneVsRestClassifier(DecisionTreeClassifier(max_depth=2))\n",
    "\n",
    "# X = df[independent_variables]\n",
    "# y = df[dependent_variable]\n",
    "\n",
    "# X_train, X_test, y_train, y_test = train_test_split(X, y, test_size=0.2, random_state=100)\n",
    "\n",
    "# model.fit(X_train, y_train)\n",
    "\n",
    "# y_pred = model.predict(X_test)\n",
    "\n",
    "# # Eval Model\n",
    "# accuracy = accuracy_score(y_true=y_test, y_pred=y_pred)\n",
    "# print(\"Accuracy Score: %f\" % accuracy)\n",
    "\n",
    "# precision = precision_score(y_true=y_test, y_pred=y_pred, average='micro')\n",
    "# print(\"Precision Score: %f\" % precision)\n",
    "\n",
    "# recall = recall_score(y_true=y_test, y_pred=y_pred, average='micro')\n",
    "# print(\"Recall Score: %f\" % recall)\n",
    "\n",
    "# f1 = f1_score(y_true=y_test, y_pred=y_pred, average='micro')\n",
    "# print('F1 Score: %f' % f1)\n",
    "\n",
    "# # Calculate predicted probabilities\n",
    "# y_pred_proba = model.predict_proba(X_test)\n",
    "\n",
    "# # Keep only the proba for True\n",
    "# y_pred_proba = y_pred_proba[:, 1]\n",
    "\n",
    "# # Compute auc score\n",
    "# auc = roc_auc_score(y_true=y_test, y_score=y_pred_proba)\n",
    "# print('AUC Score: %f' % auc)\n",
    "\n",
    "# # Produce classification Report\n",
    "# print(classification_report(y_test, y_pred))\n",
    "\n",
    "# # Plot Tree\n",
    "# # Note: Plotting trees for multi-class problems can be complex and may not provide clear visualizations\n",
    "# # You may want to visualize individual trees if you're dealing with a smaller number of classes\n",
    "# class_names = df[dependent_variable].unique()\n",
    "# plot_tree(model.estimators_[0], feature_names=independent_variables, class_names=class_names, filled=True)"
   ]
  },
  {
   "cell_type": "markdown",
   "metadata": {},
   "source": [
    "#RANDOM FOREST "
   ]
  },
  {
   "cell_type": "code",
   "execution_count": 49,
   "metadata": {
    "scrolled": false
   },
   "outputs": [
    {
     "name": "stdout",
     "output_type": "stream",
     "text": [
      "Mean Squared Error: 0.443886\n",
      "R-squared Score: -0.786618\n",
      "Accuracy Score: 0.556114\n"
     ]
    }
   ],
   "source": [
    "from sklearn.ensemble import RandomForestRegressor\n",
    "from sklearn.metrics import mean_squared_error, r2_score\n",
    "\n",
    "# Initialize a Random Forest Regressor model\n",
    "model = RandomForestRegressor(n_estimators=100, random_state=100)  # You can adjust the number of estimators as needed\n",
    "\n",
    "X = df[independent_variables]\n",
    "y = df[dependent_variable]\n",
    "\n",
    "# Split the data into training and testing sets\n",
    "X_train, X_test, y_train, y_test = train_test_split(X, y, test_size=0.2, random_state=100)\n",
    "\n",
    "# Fit the model to the training data\n",
    "model.fit(X_train, y_train)\n",
    "\n",
    "# Now let's evaluate our model on the test set\n",
    "y_pred = model.predict(X_test).round().astype(int)\n",
    "\n",
    "# Evaluate the model\n",
    "mse = mean_squared_error(y_true=y_test, y_pred=y_pred)\n",
    "print(\"Mean Squared Error: %f\" % mse)\n",
    "\n",
    "r2 = r2_score(y_true=y_test, y_pred=y_pred)\n",
    "print(\"R-squared Score: %f\" % r2)\n",
    "\n",
    "## Eval Model \n",
    "accuracy = accuracy_score(y_true=y_test, y_pred=y_pred)\n",
    "print(\"Accuracy Score: %f\" % accuracy)\n"
   ]
  },
  {
   "cell_type": "code",
   "execution_count": 50,
   "metadata": {},
   "outputs": [
    {
     "name": "stdout",
     "output_type": "stream",
     "text": [
      "[1 1 1 0 1 0 0 1 1 0 1 0 0 0 0 0 1 1 1 1 0 0 1 1 1 0 0 1 1 1 1 0 1 0 0 1 1\n",
      " 1 0 1 1 0 1 1 0 0 0 0 1 1 0 1 1 0 1 0 1 0 0 0 1 1 1 0 1 0 1 1 1 0 1 0 1 0\n",
      " 0 1 1 0 1 1 0 1 1 0 0 0 0 0 1 0 0 1 1 0 0 1 1 0 1 0 0 1 0 0 1 1 1 0 1 0 0\n",
      " 0 1 1 1 1 1 0 1 0 1 1 0 1 0 1 0 0 0 1 1 0 1 1 1 1 1 1 0 1 0 1 0 1 1 1 1 0\n",
      " 0 1 0 1 0 1 0 1 0 1 1 0 0 0 1 1 0 1 0 1 1 0 0 1 1 1 1 1 1 1 0 0 1 1 1 1 1\n",
      " 0 1 1 0 1 1 1 1 1 0 0 0 1 1 1 0 1 1 1 1 0 1 1 0 1 1 1 1 0 0 0 0 1 1 1 1 1\n",
      " 1 0 1 1 0 1 1 1 1 1 1 1 0 1 1 0 1 1 1 1 1 1 1 1 1 1 0 0 0 1 1 1 1 1 1 0 0\n",
      " 1 1 0 1 0 1 0 0 1 1 1 1 1 1 0 1 0 1 1 1 1 0 0 1 0 1 0 1 0 0 0 0 0 0 0 0 1\n",
      " 1 1 1 1 0 1 1 1 0 1 0 0 0 1 0 0 0 1 0 1 0 0 1 1 0 1 1 1 1 0 1 1 1 1 1 0 1\n",
      " 1 0 0 0 1 0 1 1 1 1 1 1 0 1 0 0 0 1 1 1 1 0 1 0 1 0 1 1 1 1 0 1 0 0 0 0 0\n",
      " 1 0 1 1 1 1 0 1 0 1 1 0 1 0 0 0 0 1 1 1 1 1 1 1 1 1 0 1 1 1 0 0 1 1 1 1 0\n",
      " 1 0 1 0 0 0 1 0 0 1 0 0 0 0 1 0 0 1 1 1 0 0 0 1 1 0 0 1 1 0 1 1 1 0 0 0 0\n",
      " 1 1 0 0 1 0 0 0 0 0 1 0 0 1 1 1 0 0 1 1 1 1 1 0 1 1 1 0 0 0 0 0 0 1 1 1 0\n",
      " 0 1 1 1 1 0 0 1 0 1 0 1 1 0 1 1 1 1 1 1 0 0 0 0 1 0 0 1 0 0 0 0 0 0 0 1 0\n",
      " 1 1 0 0 0 0 1 0 0 1 1 1 0 1 1 1 0 0 1 1 0 1 1 1 0 1 0 1 0 1 1 1 0 1 0 1 0\n",
      " 1 0 0 1 1 1 0 1 0 1 1 1 1 0 0 0 1 0 1 1 0 1 0 0 0 0 1 1 1 1 0 1 1 0 1 0 0\n",
      " 1 1 1 0 0]\n"
     ]
    }
   ],
   "source": [
    "print(y_pred)"
   ]
  },
  {
   "cell_type": "code",
   "execution_count": 51,
   "metadata": {},
   "outputs": [
    {
     "data": {
      "text/plain": [
       "584     1\n",
       "416     1\n",
       "2117    0\n",
       "438     1\n",
       "1208    1\n",
       "       ..\n",
       "647     1\n",
       "2683    0\n",
       "2845    0\n",
       "54      1\n",
       "2014    0\n",
       "Name: stay, Length: 597, dtype: int64"
      ]
     },
     "execution_count": 51,
     "metadata": {},
     "output_type": "execute_result"
    }
   ],
   "source": [
    "y_test"
   ]
  },
  {
   "cell_type": "code",
   "execution_count": 52,
   "metadata": {},
   "outputs": [
    {
     "data": {
      "text/plain": [
       "Primary_Color_encoded       0.434863\n",
       "Intake_Condition_encoded    0.261414\n",
       "Sex_encoded                 0.193940\n",
       "Intake_Type_encoded         0.109783\n",
       "dtype: float64"
      ]
     },
     "execution_count": 52,
     "metadata": {},
     "output_type": "execute_result"
    }
   ],
   "source": [
    "# Now lets look at our feature importances\n",
    "feature_imp = pd.Series(model.feature_importances_,index=independent_variables).sort_values(ascending=False)\n",
    "feature_imp"
   ]
  },
  {
   "cell_type": "code",
   "execution_count": 53,
   "metadata": {},
   "outputs": [
    {
     "name": "stdout",
     "output_type": "stream",
     "text": [
      "Best Hyperparameters: {'max_depth': 10, 'n_estimators': 100}\n"
     ]
    },
    {
     "data": {
      "text/html": [
       "<style>#sk-container-id-1 {color: black;background-color: white;}#sk-container-id-1 pre{padding: 0;}#sk-container-id-1 div.sk-toggleable {background-color: white;}#sk-container-id-1 label.sk-toggleable__label {cursor: pointer;display: block;width: 100%;margin-bottom: 0;padding: 0.3em;box-sizing: border-box;text-align: center;}#sk-container-id-1 label.sk-toggleable__label-arrow:before {content: \"▸\";float: left;margin-right: 0.25em;color: #696969;}#sk-container-id-1 label.sk-toggleable__label-arrow:hover:before {color: black;}#sk-container-id-1 div.sk-estimator:hover label.sk-toggleable__label-arrow:before {color: black;}#sk-container-id-1 div.sk-toggleable__content {max-height: 0;max-width: 0;overflow: hidden;text-align: left;background-color: #f0f8ff;}#sk-container-id-1 div.sk-toggleable__content pre {margin: 0.2em;color: black;border-radius: 0.25em;background-color: #f0f8ff;}#sk-container-id-1 input.sk-toggleable__control:checked~div.sk-toggleable__content {max-height: 200px;max-width: 100%;overflow: auto;}#sk-container-id-1 input.sk-toggleable__control:checked~label.sk-toggleable__label-arrow:before {content: \"▾\";}#sk-container-id-1 div.sk-estimator input.sk-toggleable__control:checked~label.sk-toggleable__label {background-color: #d4ebff;}#sk-container-id-1 div.sk-label input.sk-toggleable__control:checked~label.sk-toggleable__label {background-color: #d4ebff;}#sk-container-id-1 input.sk-hidden--visually {border: 0;clip: rect(1px 1px 1px 1px);clip: rect(1px, 1px, 1px, 1px);height: 1px;margin: -1px;overflow: hidden;padding: 0;position: absolute;width: 1px;}#sk-container-id-1 div.sk-estimator {font-family: monospace;background-color: #f0f8ff;border: 1px dotted black;border-radius: 0.25em;box-sizing: border-box;margin-bottom: 0.5em;}#sk-container-id-1 div.sk-estimator:hover {background-color: #d4ebff;}#sk-container-id-1 div.sk-parallel-item::after {content: \"\";width: 100%;border-bottom: 1px solid gray;flex-grow: 1;}#sk-container-id-1 div.sk-label:hover label.sk-toggleable__label {background-color: #d4ebff;}#sk-container-id-1 div.sk-serial::before {content: \"\";position: absolute;border-left: 1px solid gray;box-sizing: border-box;top: 0;bottom: 0;left: 50%;z-index: 0;}#sk-container-id-1 div.sk-serial {display: flex;flex-direction: column;align-items: center;background-color: white;padding-right: 0.2em;padding-left: 0.2em;position: relative;}#sk-container-id-1 div.sk-item {position: relative;z-index: 1;}#sk-container-id-1 div.sk-parallel {display: flex;align-items: stretch;justify-content: center;background-color: white;position: relative;}#sk-container-id-1 div.sk-item::before, #sk-container-id-1 div.sk-parallel-item::before {content: \"\";position: absolute;border-left: 1px solid gray;box-sizing: border-box;top: 0;bottom: 0;left: 50%;z-index: -1;}#sk-container-id-1 div.sk-parallel-item {display: flex;flex-direction: column;z-index: 1;position: relative;background-color: white;}#sk-container-id-1 div.sk-parallel-item:first-child::after {align-self: flex-end;width: 50%;}#sk-container-id-1 div.sk-parallel-item:last-child::after {align-self: flex-start;width: 50%;}#sk-container-id-1 div.sk-parallel-item:only-child::after {width: 0;}#sk-container-id-1 div.sk-dashed-wrapped {border: 1px dashed gray;margin: 0 0.4em 0.5em 0.4em;box-sizing: border-box;padding-bottom: 0.4em;background-color: white;}#sk-container-id-1 div.sk-label label {font-family: monospace;font-weight: bold;display: inline-block;line-height: 1.2em;}#sk-container-id-1 div.sk-label-container {text-align: center;}#sk-container-id-1 div.sk-container {/* jupyter's `normalize.less` sets `[hidden] { display: none; }` but bootstrap.min.css set `[hidden] { display: none !important; }` so we also need the `!important` here to be able to override the default hidden behavior on the sphinx rendered scikit-learn.org. See: https://github.com/scikit-learn/scikit-learn/issues/21755 */display: inline-block !important;position: relative;}#sk-container-id-1 div.sk-text-repr-fallback {display: none;}</style><div id=\"sk-container-id-1\" class=\"sk-top-container\"><div class=\"sk-text-repr-fallback\"><pre>RandomForestClassifier(max_depth=10)</pre><b>In a Jupyter environment, please rerun this cell to show the HTML representation or trust the notebook. <br />On GitHub, the HTML representation is unable to render, please try loading this page with nbviewer.org.</b></div><div class=\"sk-container\" hidden><div class=\"sk-item\"><div class=\"sk-estimator sk-toggleable\"><input class=\"sk-toggleable__control sk-hidden--visually\" id=\"sk-estimator-id-1\" type=\"checkbox\" checked><label for=\"sk-estimator-id-1\" class=\"sk-toggleable__label sk-toggleable__label-arrow\">RandomForestClassifier</label><div class=\"sk-toggleable__content\"><pre>RandomForestClassifier(max_depth=10)</pre></div></div></div></div></div>"
      ],
      "text/plain": [
       "RandomForestClassifier(max_depth=10)"
      ]
     },
     "execution_count": 53,
     "metadata": {},
     "output_type": "execute_result"
    }
   ],
   "source": [
    "from sklearn.model_selection import GridSearchCV\n",
    "\n",
    "param_grid = {\n",
    "    'n_estimators': [50, 100, 200],\n",
    "    'max_depth': [None, 10, 20, 30],\n",
    "    # Add more hyperparameters to tune\n",
    "}\n",
    "\n",
    "grid_search = GridSearchCV(RandomForestClassifier(), param_grid, cv=5)\n",
    "grid_search.fit(X_train, y_train)\n",
    "\n",
    "best_params = grid_search.best_params_\n",
    "print(\"Best Hyperparameters:\", best_params)\n",
    "\n",
    "# Use the best hyperparameters to train the model\n",
    "best_model = RandomForestClassifier(**best_params)\n",
    "best_model.fit(X_train, y_train)\n"
   ]
  },
  {
   "cell_type": "code",
   "execution_count": 54,
   "metadata": {},
   "outputs": [
    {
     "data": {
      "text/plain": [
       "array([0.41379913, 0.21191253, 0.27078539, 0.10350295])"
      ]
     },
     "execution_count": 54,
     "metadata": {},
     "output_type": "execute_result"
    }
   ],
   "source": [
    "feature_importances = best_model.feature_importances_\n",
    "feature_importances"
   ]
  },
  {
   "cell_type": "code",
   "execution_count": 58,
   "metadata": {
    "scrolled": false
   },
   "outputs": [],
   "source": [
    "# from sklearn.tree import plot_tree\n",
    "# import matplotlib.pyplot as plt\n",
    "\n",
    "# # Extract one decision tree from the random forest (e.g., the first tree)\n",
    "# one_tree = model.estimators_[0]\n",
    "\n",
    "# # Plot the decision tree\n",
    "# plt.figure(figsize=(20, 10))\n",
    "# plot_tree(one_tree, feature_names=independent_variables, class_names=class_names, filled=True)\n",
    "# plt.show()"
   ]
  },
  {
   "cell_type": "markdown",
   "metadata": {},
   "source": [
    "## Sami trying here"
   ]
  },
  {
   "cell_type": "code",
   "execution_count": 56,
   "metadata": {},
   "outputs": [
    {
     "name": "stdout",
     "output_type": "stream",
     "text": [
      "Fitting 5 folds for each of 162 candidates, totalling 810 fits\n",
      "Mean Squared Error: 5520.603015\n",
      "R-squared Score: 0.011326\n",
      "Accuracy Score: 0.003350\n"
     ]
    }
   ],
   "source": [
    "from sklearn.model_selection import GridSearchCV, train_test_split\n",
    "from sklearn.ensemble import RandomForestRegressor\n",
    "from sklearn.metrics import mean_squared_error, r2_score\n",
    "\n",
    "# Your feature and target variable definitions\n",
    "selected_features = ['Primary_Color_encoded', 'Sex_encoded', 'Intake_Condition_encoded', 'Intake_Type_encoded']\n",
    "X = df[selected_features]\n",
    "y = df['days_stayed']\n",
    "\n",
    "# Split the data into training and testing sets\n",
    "X_train, X_test, y_train, y_test = train_test_split(X, y, test_size=0.2, random_state=42)\n",
    "\n",
    "# Define hyperparameter grid\n",
    "params = {\n",
    "    'n_estimators': [50, 100, 150],\n",
    "    'max_features': ['sqrt', 'log2', None],\n",
    "    'max_depth': [None, 5, 10],\n",
    "    'min_samples_split': [2, 5, 10],\n",
    "    'max_leaf_nodes': [5, 10]\n",
    "}\n",
    "\n",
    "# Initialize GridSearchCV with RandomForestRegressor\n",
    "grid_search_cv = GridSearchCV(\n",
    "    estimator=RandomForestRegressor(),\n",
    "    param_grid=params,\n",
    "    scoring='neg_mean_squared_error',\n",
    "    cv=5,\n",
    "    verbose=1\n",
    ")\n",
    "\n",
    "# Fit GridSearchCV with training data\n",
    "grid_search_cv.fit(X_train, y_train)\n",
    "\n",
    "# Get the best estimator based on mean squared error\n",
    "best_model = grid_search_cv.best_estimator_\n",
    "\n",
    "# Make predictions using the best model\n",
    "y_pred = np.round(best_model.predict(X_test))\n",
    "\n",
    "# Evaluate the model\n",
    "mse = mean_squared_error(y_true=y_test, y_pred=y_pred)\n",
    "print(\"Mean Squared Error: %f\" % mse)\n",
    "\n",
    "r2 = r2_score(y_true=y_test, y_pred=y_pred)\n",
    "print(\"R-squared Score: %f\" % r2)\n",
    "\n",
    "# Additional evaluation metrics if needed\n",
    "accuracy = accuracy_score(y_true=y_test, y_pred=y_pred)\n",
    "print(\"Accuracy Score: %f\" % accuracy)\n"
   ]
  },
  {
   "cell_type": "code",
   "execution_count": 57,
   "metadata": {
    "scrolled": false
   },
   "outputs": [
    {
     "name": "stdout",
     "output_type": "stream",
     "text": [
      "Fitting 5 folds for each of 432 candidates, totalling 2160 fits\n",
      "Fitting 5 folds for each of 432 candidates, totalling 2160 fits\n",
      "Fitting 5 folds for each of 1 candidates, totalling 5 fits\n",
      "Fitting 5 folds for each of 6 candidates, totalling 30 fits\n",
      "RandomForestRegressor - Mean Squared Error: 5515.530988274707, R-squared Score: 0.012234056157013007\n",
      "GradientBoostingRegressor - Mean Squared Error: 5595.453936348409, R-squared Score: -0.0020791924507024273\n",
      "LinearRegression - Mean Squared Error: 5487.986599664991, R-squared Score: 0.01716692827222599\n",
      "SVR - Mean Squared Error: 6299.340033500837, R-squared Score: -0.12813681348298145\n"
     ]
    }
   ],
   "source": [
    "from sklearn.ensemble import GradientBoostingRegressor\n",
    "from sklearn.linear_model import LinearRegression\n",
    "from sklearn.svm import SVR\n",
    "\n",
    "# ... (your data loading and preprocessing code)\n",
    "# Your feature and target variable definitions\n",
    "selected_features = ['Primary_Color_encoded', 'Sex_encoded', 'Intake_Condition_encoded', 'Intake_Type_encoded']\n",
    "X = df[selected_features]\n",
    "y = df['days_stayed']\n",
    "\n",
    "# Split the data into training and testing sets\n",
    "X_train, X_test, y_train, y_test = train_test_split(X, y, test_size=0.2, random_state=42)\n",
    "\n",
    "# New hyperparameter grid\n",
    "params = {\n",
    "    'n_estimators': [50, 100, 150, 200],\n",
    "    'max_features': ['sqrt', 'log2', None],\n",
    "    'max_depth': [None, 5, 10, 15],\n",
    "    'min_samples_split': [2, 5, 10],\n",
    "    'max_leaf_nodes': [5, 10, 15]\n",
    "}\n",
    "\n",
    "# GridSearchCV with RandomForestRegressor\n",
    "grid_search_cv_rf = GridSearchCV(\n",
    "    estimator=RandomForestRegressor(),\n",
    "    param_grid=params,\n",
    "    scoring='neg_mean_squared_error',\n",
    "    cv=5,\n",
    "    verbose=1\n",
    ")\n",
    "\n",
    "# GridSearchCV with GradientBoostingRegressor\n",
    "grid_search_cv_gb = GridSearchCV(\n",
    "    estimator=GradientBoostingRegressor(),\n",
    "    param_grid=params,\n",
    "    scoring='neg_mean_squared_error',\n",
    "    cv=5,\n",
    "    verbose=1\n",
    ")\n",
    "\n",
    "# GridSearchCV with LinearRegression\n",
    "grid_search_cv_lr = GridSearchCV(\n",
    "    estimator=LinearRegression(),\n",
    "    param_grid={},\n",
    "    scoring='neg_mean_squared_error',\n",
    "    cv=5,\n",
    "    verbose=1\n",
    ")\n",
    "\n",
    "# GridSearchCV with SVR\n",
    "grid_search_cv_svr = GridSearchCV(\n",
    "    estimator=SVR(),\n",
    "    param_grid={'C': [0.1, 1, 10], 'kernel': ['linear', 'rbf']},\n",
    "    scoring='neg_mean_squared_error',\n",
    "    cv=5,\n",
    "    verbose=1\n",
    ")\n",
    "\n",
    "# Fit models\n",
    "grid_search_cv_rf.fit(X_train, y_train)\n",
    "grid_search_cv_gb.fit(X_train, y_train)\n",
    "grid_search_cv_lr.fit(X_train, y_train)\n",
    "grid_search_cv_svr.fit(X_train, y_train)\n",
    "\n",
    "# Get best models\n",
    "best_rf_model = grid_search_cv_rf.best_estimator_\n",
    "best_gb_model = grid_search_cv_gb.best_estimator_\n",
    "best_lr_model = grid_search_cv_lr.best_estimator_\n",
    "best_svr_model = grid_search_cv_svr.best_estimator_\n",
    "\n",
    "# Evaluate models\n",
    "models = [best_rf_model, best_gb_model, best_lr_model, best_svr_model]\n",
    "model_names = ['RandomForestRegressor', 'GradientBoostingRegressor', 'LinearRegression', 'SVR']\n",
    "\n",
    "for model, name in zip(models, model_names):\n",
    "    y_pred = np.round(model.predict(X_test))\n",
    "    mse = mean_squared_error(y_true=y_test, y_pred=y_pred)\n",
    "    r2 = r2_score(y_true=y_test, y_pred=y_pred)\n",
    "    print(f\"{name} - Mean Squared Error: {mse}, R-squared Score: {r2}\")\n"
   ]
  },
  {
   "cell_type": "code",
   "execution_count": null,
   "metadata": {},
   "outputs": [],
   "source": []
  }
 ],
 "metadata": {
  "kernelspec": {
   "display_name": "Python 3 (ipykernel)",
   "language": "python",
   "name": "python3"
  },
  "language_info": {
   "codemirror_mode": {
    "name": "ipython",
    "version": 3
   },
   "file_extension": ".py",
   "mimetype": "text/x-python",
   "name": "python",
   "nbconvert_exporter": "python",
   "pygments_lexer": "ipython3",
   "version": "3.8.18"
  }
 },
 "nbformat": 4,
 "nbformat_minor": 2
}
